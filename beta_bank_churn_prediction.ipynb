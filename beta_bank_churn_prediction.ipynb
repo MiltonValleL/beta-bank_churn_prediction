{
 "cells": [
  {
   "cell_type": "markdown",
   "metadata": {},
   "source": [
    "# ¡Hola Milton! 😊\n",
    "\n",
    "Mi nombre es **Alejandro Castellanos** y hoy tengo el placer de ser el revisor de tu proyecto.\n",
    "\n",
    "Voy a revisar todo tu código con detalle, buscando tanto los puntos fuertes como aquellos en los que podrías mejorar. Te dejaré comentarios a lo largo del notebook, destacando lo que has hecho bien y sugiriendo ajustes donde sea necesario. Si encuentro algún error, no te preocupes, te lo haré saber de forma clara y te daré información útil para que puedas corregirlo en la próxima. Si en algún punto tienes comentarios, siéntete libre de dejarlos también. Al final del notebook, te dejaré un comentario general con mi valoración del proyecto. **¡Mi objetivo es que sigas aprendiendo y mejorando con cada paso!**\n",
    "\n",
    "\n",
    "Encontrarás mis comentarios dentro de cajas verdes, amarillas o rojas, es muy importante que no muevas, modifiques o borres mis comentarios, con el fin de tener un seguimiento adecuado de tu proceso.:\n",
    "\n",
    "\n",
    "<div class=\"alert alert-block alert-success\">\n",
    "<b>Comentario del revisor</b> <a class=“tocSkip”></a>\n",
    "Si todo está perfecto.\n",
    "</div>\n",
    "\n",
    "<div class=\"alert alert-block alert-warning\">\n",
    "<b>Comentario del revisor</b> <a class=“tocSkip”></a>\n",
    "Si tu código está bien pero se puede mejorar o hay algún detalle que le hace falta.\n",
    "</div>\n",
    "\n",
    "<div class=\"alert alert-block alert-danger\">\n",
    "<b>Comentario del revisor</b> <a class=“tocSkip”></a>\n",
    "Si de pronto hace falta algo o existe algún problema con tu código o conclusiones.\n",
    "</div>\n",
    "\n",
    "Puedes responderme de esta forma:\n",
    "<div class=\"alert alert-block alert-info\">\n",
    "<b>Respuesta del estudiante</b> <a class=“tocSkip”></a>\n",
    "</div>"
   ]
  },
  {
   "cell_type": "markdown",
   "metadata": {},
   "source": [
    "# CONTENIDO<a id='back'></a>\n",
    "\n",
    "---\n",
    "\n",
    "<div style='background-color:rgba(12, 120, 210, 0.09); padding:30px;'>\n",
    "\n",
    " * [**DESCRIPCIÓN DEL PROYECTO**](#'intro')\n",
    "    \n",
    "    \n",
    " * [**ETAPA 1:** Examinando el Archivo y Preparación de los Datos. ](#dataset)\n",
    "\n",
    "     - [Librerias del Proyecto](#lib) \n",
    "        \n",
    "     - [DataFrame del Proyecto](#df)\n",
    "    \n",
    "     - [Examinando los Datos](#examinar)\n",
    "    \n",
    "     - [Tratamiento de Valores Ausentes](#na)\n",
    "    \n",
    "     - [Eliminación de Columnas No Relevantes](#no_val)\n",
    "    \n",
    "     - [Codificación de Variables Categóricas (*One Hot Encoding*)](#cat_var)\n",
    "    \n",
    "     - [Separación de Características y Variable Objetivo (*X, y*)](#feat_tar)\n",
    "    \n",
    "     - [División de los Datos (*60-20-20*)](#div_data)\n",
    "    \n",
    "     - [Escalado de Características (*StandardScaler*)](#ss)\n",
    "    \n",
    "    \n",
    " * [**ETAPA 2:** Entrenando el Modelo con Desequilibrio de Clases. ](#train1)\n",
    "    \n",
    "     - [Examinando el Equilibrio de Clases](#equilibrio)\n",
    "    \n",
    "     - [Entrenamiento Inicial de los Modelos del Proyecto](#fit1)\n",
    "    \n",
    "    \n",
    " * [**ETAPA 3:** Corrección del Desequilibrio de Clases](#etapa3)\n",
    "    \n",
    "     - [Condiciones Iniciales del Conjunto de Entrenamiento](#condini)\n",
    "    \n",
    "     - [Conjunto de Entrenamiento con Submuestreo](#submuestreo)\n",
    "    \n",
    "     - [Conjunto de Entrenamiento con Sobremuestreo](#sobremuestreo)\n",
    "    \n",
    "     - [Implementación de la Técnica de Submuestreo](#tecnicasub)\n",
    "    \n",
    "     - [Implementación de la Técnica de Sobremuestreo](#tecnicasob)\n",
    "    \n",
    "     - [Comparación de Resultados (Submuestreo VS. Sobremuestreo)](#vs.)\n",
    "    \n",
    "    \n",
    " * [**ETAPA 4:** Prueba Final del Proyecto con el Conjunto de Prueba](#etapa4)\n",
    "    \n",
    "     - [Ajuste de Hiperparámetros con Submuestreo](#tunesub)\n",
    "    \n",
    "         - [Entrenamiento Final Modelo  -  Gradient Boosting](#final_subgb)\n",
    "    \n",
    "         - [Entrenamiento Final Modelo  -  Random Forest](#final_subrf)\n",
    "    \n",
    "     - [Ajuste de Hiperparámetros con Sobremuestreo](#tuneover)\n",
    "    \n",
    "         - [Entrenamiento Final  Modelo  -  Gradient Boosting](#final_overgb)\n",
    "    \n",
    "         - [Entrenamiento Final Modelo  -  Random Forest](#final_overrf)\n",
    "    \n",
    "     - [Selección del Mejor Modelo y Ajuste de Hiperparámetros](#select)\n",
    "    \n",
    "     - [Curva ROC del Mejor Modelo del Proyecto](#curva)\n",
    "    \n",
    "    \n",
    " * [**ETAPA 5:** Comentarios Finales del Proyecto](#end4)\n",
    "    \n",
    "    "
   ]
  },
  {
   "cell_type": "markdown",
   "metadata": {},
   "source": [
    "---\n",
    "\n",
    "---"
   ]
  },
  {
   "cell_type": "markdown",
   "metadata": {},
   "source": [
    "<span style='color:blue'>\n",
    "\n",
    "# DESCRIPCIÓN DEL PROYECTO<a id='intro'></a>\n",
    "    \n",
    "</span>"
   ]
  },
  {
   "cell_type": "markdown",
   "metadata": {},
   "source": [
    "---\n",
    "\n",
    "Los clientes de `Beta Bank` se están yendo cada mes, poco a poco. Los banqueros descubrieron que **es más barato salvar a los clientes existentes que atraer nuevos**.\n",
    "\n",
    "`Necesitamos predecir si un cliente dejará el banco pronto`. Tú tienes los datos sobre el comportamiento pasado de los clientes y la terminación de contratos con el banco.\n",
    "\n",
    "**Crea un modelo con el `máximo valor F1 posible`**. \n",
    "\n",
    " - Para aprobar la revisión, **necesitas un valor F1 de al menos 0.59**.\n",
    "\n",
    " - Verifica F1 para el conjunto de prueba.\n",
    "\n",
    " - Además, debes medir la métrica AUC-ROC y compararla con el valor F1.\n",
    " \n",
    " \n",
    " La información que contiene el Dataset del proyeto es la siguiente:\n",
    " \n",
    "---"
   ]
  },
  {
   "cell_type": "markdown",
   "metadata": {},
   "source": [
    "<div style='background-color:rgba(60, 180, 90, 0.3); padding:21px';>\n",
    "\n",
    " **CARACTERÍSTICAS**\n",
    "\n",
    " - **`RowNumber`**: índice de cadena de datos.\n",
    " \n",
    "    \n",
    " - **`CustomerId`**: identificador de cliente único.\n",
    " \n",
    "    \n",
    " - **`Surname`**: apellido.\n",
    " \n",
    "    \n",
    " - **`CreditScore`**: valor de crédito.\n",
    " \n",
    "    \n",
    " - **`Geography`**: país de residencia.\n",
    " \n",
    "    \n",
    " - **`Gender`**: sexo.\n",
    " \n",
    "    \n",
    " - **`Age`**: edad.\n",
    " \n",
    "    \n",
    " - **`Tenure`**: período durante el cual ha madurado el depósito a plazo fijo de un cliente (años).\n",
    " \n",
    "    \n",
    " - **`Balance`**: saldo de la cuenta.\n",
    " \n",
    "    \n",
    " - **`NumOfProducts`**: número de productos bancarios utilizados por el cliente.\n",
    " \n",
    "    \n",
    " - **`HasCrCard`**: el cliente tiene una tarjeta de crédito (*`1` - sí; `0` - no*).\n",
    " \n",
    "    \n",
    " - **`IsActiveMember`**: actividad del cliente (*`1` - sí; `0` - no*).\n",
    " \n",
    "    \n",
    " - **`EstimatedSalary`**: salario estimado.\n",
    "    \n",
    "</div>\n",
    "\n",
    "---"
   ]
  },
  {
   "cell_type": "markdown",
   "metadata": {},
   "source": [
    "<div style='background-color:rgba(60, 180, 90, 0.3); padding:21px';>\n",
    "    \n",
    "**OBJETIVO**\n",
    "\n",
    " * **`Exited`**: El cliente se ha ido (1 - sí; 0 - no).\n",
    " \n",
    "</div>\n",
    "    "
   ]
  },
  {
   "cell_type": "markdown",
   "metadata": {},
   "source": [
    "---\n",
    " "
   ]
  },
  {
   "cell_type": "markdown",
   "metadata": {},
   "source": [
    "<div style='background-color:rgba(60, 180, 90, 0.6); padding:21px';>\n",
    "    \n",
    "    \n",
    "**Los criterios de evaluación definidos para este proyecto son los que se detallan a continuación:**\n",
    "\n",
    "\n",
    "    \n",
    " * ¿Cómo preparaste los datos para el entrenamiento? ¿Procesaste todos los tipos de características?.\n",
    "\n",
    "\n",
    " * ¿Explicaste los pasos de preprocesamiento lo suficientemente bien?.\n",
    "\n",
    "\n",
    " * ¿Cómo investigaste el equilibrio de clases?.\n",
    "\n",
    "\n",
    " * ¿Estudiaste el modelo sin tener en cuenta el desequilibrio de clases?.\n",
    "\n",
    "\n",
    " * ¿Qué descubriste sobre la investigación del ejercicio?.\n",
    "\n",
    "\n",
    " * ¿Dividiste correctamente los datos en conjuntos?.\n",
    "\n",
    "\n",
    " * ¿Cómo trabajaste con el desequilibrio de clases?.\n",
    "\n",
    "\n",
    " * ¿Utilizaste al menos dos técnicas para corregir el desequilibrio?.\n",
    "\n",
    "\n",
    " * ¿Realizaste correctamente el entrenamiento, la validación y las pruebas finales del modelo?.\n",
    "\n",
    "\n",
    " * ¿Qué tan alto es tu valor F1?.\n",
    "\n",
    "\n",
    " * ¿Examinaste los valores AUC-ROC?.\n",
    "\n",
    "\n",
    " * ¿Mantuviste la estructura del proyecto y el código limpio?.\n",
    " \n",
    " </div>\n",
    " "
   ]
  },
  {
   "cell_type": "markdown",
   "metadata": {},
   "source": [
    "---"
   ]
  },
  {
   "cell_type": "markdown",
   "metadata": {},
   "source": [
    "---\n",
    "\n",
    "[Volver a Contenido](#back)\n",
    "\n",
    "---"
   ]
  },
  {
   "cell_type": "markdown",
   "metadata": {},
   "source": [
    "<span style='color:brown'>\n",
    "\n",
    "# ETAPA 1: Examinando el Archivo y Preparación de los Datos<a id=dataset></a>\n",
    "\n",
    "</span>"
   ]
  },
  {
   "cell_type": "markdown",
   "metadata": {},
   "source": [
    "<span style='color:blue'>\n",
    "    \n",
    "## 1.1. Librerías del Proyecto<a id='lib'></a>\n",
    "    \n",
    "</span>"
   ]
  },
  {
   "cell_type": "code",
   "execution_count": 1,
   "metadata": {},
   "outputs": [],
   "source": [
    "import pandas as pd\n",
    "import numpy as np\n",
    "import matplotlib.pyplot as plt\n",
    "import seaborn as sns\n",
    "# --------------------------------------------------------------------------------------------------------------------------------------------------------\n",
    "from sklearn.impute import SimpleImputer\n",
    "from sklearn.model_selection import train_test_split, GridSearchCV, RandomizedSearchCV, cross_val_score\n",
    "from sklearn.preprocessing import StandardScaler\n",
    "from sklearn.linear_model import LogisticRegression\n",
    "from sklearn.tree import DecisionTreeClassifier\n",
    "from sklearn.ensemble import RandomForestClassifier, GradientBoostingClassifier\n",
    "from sklearn.metrics import accuracy_score, f1_score, roc_auc_score, roc_curve, auc\n",
    "# --------------------------------------------------------------------------------------------------------------------------------------------------------\n"
   ]
  },
  {
   "cell_type": "markdown",
   "metadata": {},
   "source": [
    "<span style='color:blue'>\n",
    "    \n",
    "## 1.2. DataFrame del Proyecto <a id='df'></a>\n",
    "    \n",
    "</span>"
   ]
  },
  {
   "cell_type": "code",
   "execution_count": 2,
   "metadata": {},
   "outputs": [
    {
     "data": {
      "text/html": [
       "<div>\n",
       "<style scoped>\n",
       "    .dataframe tbody tr th:only-of-type {\n",
       "        vertical-align: middle;\n",
       "    }\n",
       "\n",
       "    .dataframe tbody tr th {\n",
       "        vertical-align: top;\n",
       "    }\n",
       "\n",
       "    .dataframe thead th {\n",
       "        text-align: right;\n",
       "    }\n",
       "</style>\n",
       "<table border=\"1\" class=\"dataframe\">\n",
       "  <thead>\n",
       "    <tr style=\"text-align: right;\">\n",
       "      <th></th>\n",
       "      <th>RowNumber</th>\n",
       "      <th>CustomerId</th>\n",
       "      <th>Surname</th>\n",
       "      <th>CreditScore</th>\n",
       "      <th>Geography</th>\n",
       "      <th>Gender</th>\n",
       "      <th>Age</th>\n",
       "      <th>Tenure</th>\n",
       "      <th>Balance</th>\n",
       "      <th>NumOfProducts</th>\n",
       "      <th>HasCrCard</th>\n",
       "      <th>IsActiveMember</th>\n",
       "      <th>EstimatedSalary</th>\n",
       "      <th>Exited</th>\n",
       "    </tr>\n",
       "  </thead>\n",
       "  <tbody>\n",
       "    <tr>\n",
       "      <th>0</th>\n",
       "      <td>1</td>\n",
       "      <td>15634602</td>\n",
       "      <td>Hargrave</td>\n",
       "      <td>619</td>\n",
       "      <td>France</td>\n",
       "      <td>Female</td>\n",
       "      <td>42</td>\n",
       "      <td>2.0</td>\n",
       "      <td>0.00</td>\n",
       "      <td>1</td>\n",
       "      <td>1</td>\n",
       "      <td>1</td>\n",
       "      <td>101348.88</td>\n",
       "      <td>1</td>\n",
       "    </tr>\n",
       "    <tr>\n",
       "      <th>1</th>\n",
       "      <td>2</td>\n",
       "      <td>15647311</td>\n",
       "      <td>Hill</td>\n",
       "      <td>608</td>\n",
       "      <td>Spain</td>\n",
       "      <td>Female</td>\n",
       "      <td>41</td>\n",
       "      <td>1.0</td>\n",
       "      <td>83807.86</td>\n",
       "      <td>1</td>\n",
       "      <td>0</td>\n",
       "      <td>1</td>\n",
       "      <td>112542.58</td>\n",
       "      <td>0</td>\n",
       "    </tr>\n",
       "    <tr>\n",
       "      <th>2</th>\n",
       "      <td>3</td>\n",
       "      <td>15619304</td>\n",
       "      <td>Onio</td>\n",
       "      <td>502</td>\n",
       "      <td>France</td>\n",
       "      <td>Female</td>\n",
       "      <td>42</td>\n",
       "      <td>8.0</td>\n",
       "      <td>159660.80</td>\n",
       "      <td>3</td>\n",
       "      <td>1</td>\n",
       "      <td>0</td>\n",
       "      <td>113931.57</td>\n",
       "      <td>1</td>\n",
       "    </tr>\n",
       "    <tr>\n",
       "      <th>3</th>\n",
       "      <td>4</td>\n",
       "      <td>15701354</td>\n",
       "      <td>Boni</td>\n",
       "      <td>699</td>\n",
       "      <td>France</td>\n",
       "      <td>Female</td>\n",
       "      <td>39</td>\n",
       "      <td>1.0</td>\n",
       "      <td>0.00</td>\n",
       "      <td>2</td>\n",
       "      <td>0</td>\n",
       "      <td>0</td>\n",
       "      <td>93826.63</td>\n",
       "      <td>0</td>\n",
       "    </tr>\n",
       "    <tr>\n",
       "      <th>4</th>\n",
       "      <td>5</td>\n",
       "      <td>15737888</td>\n",
       "      <td>Mitchell</td>\n",
       "      <td>850</td>\n",
       "      <td>Spain</td>\n",
       "      <td>Female</td>\n",
       "      <td>43</td>\n",
       "      <td>2.0</td>\n",
       "      <td>125510.82</td>\n",
       "      <td>1</td>\n",
       "      <td>1</td>\n",
       "      <td>1</td>\n",
       "      <td>79084.10</td>\n",
       "      <td>0</td>\n",
       "    </tr>\n",
       "  </tbody>\n",
       "</table>\n",
       "</div>"
      ],
      "text/plain": [
       "   RowNumber  CustomerId   Surname  CreditScore Geography  Gender  Age  \\\n",
       "0          1    15634602  Hargrave          619    France  Female   42   \n",
       "1          2    15647311      Hill          608     Spain  Female   41   \n",
       "2          3    15619304      Onio          502    France  Female   42   \n",
       "3          4    15701354      Boni          699    France  Female   39   \n",
       "4          5    15737888  Mitchell          850     Spain  Female   43   \n",
       "\n",
       "   Tenure    Balance  NumOfProducts  HasCrCard  IsActiveMember  \\\n",
       "0     2.0       0.00              1          1               1   \n",
       "1     1.0   83807.86              1          0               1   \n",
       "2     8.0  159660.80              3          1               0   \n",
       "3     1.0       0.00              2          0               0   \n",
       "4     2.0  125510.82              1          1               1   \n",
       "\n",
       "   EstimatedSalary  Exited  \n",
       "0        101348.88       1  \n",
       "1        112542.58       0  \n",
       "2        113931.57       1  \n",
       "3         93826.63       0  \n",
       "4         79084.10       0  "
      ]
     },
     "execution_count": 2,
     "metadata": {},
     "output_type": "execute_result"
    }
   ],
   "source": [
    "# Importo el Dataset del proyecto al DataFrame 'df' y luego veo las primeras cinco filas\n",
    "df = pd.read_csv('/datasets/Churn.csv')\n",
    "df.head()"
   ]
  },
  {
   "cell_type": "markdown",
   "metadata": {},
   "source": [
    "---"
   ]
  },
  {
   "cell_type": "markdown",
   "metadata": {},
   "source": [
    "<div style='background-color:rgba(12, 120, 210, 0.3); padding:30px;'><span style='color:darkblue'>\n",
    "                         \n",
    "(**Comentarios del Alumno - Milton Valle**)\n",
    "    \n",
    "\n",
    "\n",
    "---\n",
    "\n",
    "Ahora que ya hemos cargado el Dataset del proyecto y hemos visto las cinco primeras filas de nuestra DataFrame, he podido apreciar lo siguiente:\n",
    "\n",
    " 1. La columna `Exited` indica con el valor `1` que **el cliente ha dejado de solicitar los servicios de banco**, por el contrario el valor `0` nos indica que **el cliente continua solicitando los servicios** de `Beta Bank`.\n",
    "    \n",
    "    \n",
    " 2. Cómo en la descripción del proyecto se nos ha indicado que debemos predecir si es que un cliente abandonará el banco o no, estaremos lidiando claramente con un **problema de clasificación**, ya que debemos predecir para cada cliente a cual de esas dos categorías pertenece.\n",
    "    \n",
    "    \n",
    " 3. Las columnas `RowNumber`, `CustomerId` y `Surname` no presentan información que sea de valor para este proyecto de Machine Learning, por lo que podríamos eliminar las mismas sin llegar a perjudicar a futuro a alguno de nuestros modelos que entrenaremos.\n",
    "    \n",
    "    \n",
    "</div>\n",
    "    "
   ]
  },
  {
   "cell_type": "markdown",
   "metadata": {},
   "source": [
    "---"
   ]
  },
  {
   "cell_type": "markdown",
   "metadata": {},
   "source": [
    "<div class=\"alert alert-block alert-success\">\n",
    "<b>Comentario del revisor (1ra Iteración)</b> <a class=“tocSkip”></a>\n",
    "    \n",
    "Milton muy buen trabajo importando las liberías necesarias y el dataset del proyecto. Tu análisis preliminar es bastante pertinente.\n",
    "\n",
    "</div>"
   ]
  },
  {
   "cell_type": "markdown",
   "metadata": {},
   "source": [
    "---\n",
    "\n",
    "[Volver a Contenido](#back)\n",
    "\n",
    "---"
   ]
  },
  {
   "cell_type": "markdown",
   "metadata": {},
   "source": [
    "<span style='color:blue'>\n",
    "    \n",
    "## 1.3. Examinando los Datos<a id='examinar'></a>\n",
    "    \n",
    "</span>"
   ]
  },
  {
   "cell_type": "code",
   "execution_count": 3,
   "metadata": {},
   "outputs": [
    {
     "name": "stdout",
     "output_type": "stream",
     "text": [
      "<class 'pandas.core.frame.DataFrame'>\n",
      "RangeIndex: 10000 entries, 0 to 9999\n",
      "Data columns (total 14 columns):\n",
      " #   Column           Non-Null Count  Dtype  \n",
      "---  ------           --------------  -----  \n",
      " 0   RowNumber        10000 non-null  int64  \n",
      " 1   CustomerId       10000 non-null  int64  \n",
      " 2   Surname          10000 non-null  object \n",
      " 3   CreditScore      10000 non-null  int64  \n",
      " 4   Geography        10000 non-null  object \n",
      " 5   Gender           10000 non-null  object \n",
      " 6   Age              10000 non-null  int64  \n",
      " 7   Tenure           9091 non-null   float64\n",
      " 8   Balance          10000 non-null  float64\n",
      " 9   NumOfProducts    10000 non-null  int64  \n",
      " 10  HasCrCard        10000 non-null  int64  \n",
      " 11  IsActiveMember   10000 non-null  int64  \n",
      " 12  EstimatedSalary  10000 non-null  float64\n",
      " 13  Exited           10000 non-null  int64  \n",
      "dtypes: float64(3), int64(8), object(3)\n",
      "memory usage: 1.1+ MB\n"
     ]
    }
   ],
   "source": [
    "# A continuación voy a revisar la información del Dataset del proyecto, para identificar valores nulos y los tipos de datos que tiene cada columna\n",
    "df.info()"
   ]
  },
  {
   "cell_type": "code",
   "execution_count": 4,
   "metadata": {},
   "outputs": [
    {
     "data": {
      "text/plain": [
       "0"
      ]
     },
     "execution_count": 4,
     "metadata": {},
     "output_type": "execute_result"
    }
   ],
   "source": [
    "# Veamos si es que existen Valores Duplicados en nuestro DataFrame\n",
    "\n",
    "df.duplicated().sum()"
   ]
  },
  {
   "cell_type": "code",
   "execution_count": 5,
   "metadata": {},
   "outputs": [
    {
     "data": {
      "text/plain": [
       "RowNumber            0\n",
       "CustomerId           0\n",
       "Surname              0\n",
       "CreditScore          0\n",
       "Geography            0\n",
       "Gender               0\n",
       "Age                  0\n",
       "Tenure             909\n",
       "Balance              0\n",
       "NumOfProducts        0\n",
       "HasCrCard            0\n",
       "IsActiveMember       0\n",
       "EstimatedSalary      0\n",
       "Exited               0\n",
       "dtype: int64"
      ]
     },
     "execution_count": 5,
     "metadata": {},
     "output_type": "execute_result"
    }
   ],
   "source": [
    "# Veremos la cantidad de datos ausentes por columna\n",
    "df.isna().sum()"
   ]
  },
  {
   "cell_type": "code",
   "execution_count": 6,
   "metadata": {},
   "outputs": [
    {
     "data": {
      "text/plain": [
       "0    0.7963\n",
       "1    0.2037\n",
       "Name: Exited, dtype: float64"
      ]
     },
     "execution_count": 6,
     "metadata": {},
     "output_type": "execute_result"
    }
   ],
   "source": [
    "# Veremos la distribución de las clases de la variable objetivo\n",
    "y_distribution = df['Exited'].value_counts(normalize=True)\n",
    "y_distribution"
   ]
  },
  {
   "cell_type": "markdown",
   "metadata": {},
   "source": [
    "---"
   ]
  },
  {
   "cell_type": "markdown",
   "metadata": {},
   "source": [
    "<div style='background-color:rgba(12, 120, 210, 0.3); padding:30px;'><span style='color:darkblue'>\n",
    "                         \n",
    "(**Comentarios del Alumno - Milton Valle**)\n",
    "    \n",
    "A partir de la información presentada en las celdas anteriores podemos establecer los siguiente:\n",
    "    \n",
    " 1. SE ha podido constatar que **no existen valores duplicados en nuestro DataFrame**.\n",
    "    \n",
    " 2. El DataFrame del proyecto contiene 14 columnas, de las cuales únicamente la columna `Tenure` tiene **909 datos ausentes**.\n",
    "    \n",
    "    \n",
    " 3. La variable objetivo `Tenure` está desequilibrada ya que presenta que:\n",
    "    \n",
    "     - Un **79.63%** de clientes del total que se tiene en el DataFrame `todavía no se han ido del banco`.\n",
    "    \n",
    "     - Un **20.37%** de clientes que `ya se ha ido del banco`.\n",
    "    \n",
    "</div>\n",
    "    "
   ]
  },
  {
   "cell_type": "markdown",
   "metadata": {},
   "source": [
    "---"
   ]
  },
  {
   "cell_type": "markdown",
   "metadata": {},
   "source": [
    "<div class=\"alert alert-block alert-success\">\n",
    "<b>Comentario del revisor (1ra Iteración)</b> <a class=“tocSkip”></a>\n",
    "    \n",
    "Muy buen uso de la función `info()`, has identificado los valores faltantes. También has identificado el desbalance en las clases de la columna **Exited**\n",
    "\n",
    "</div>"
   ]
  },
  {
   "cell_type": "markdown",
   "metadata": {},
   "source": [
    "---\n",
    "\n",
    "[Volver a Contenido](#back)\n",
    "\n",
    "---"
   ]
  },
  {
   "cell_type": "markdown",
   "metadata": {},
   "source": [
    "<span style='color:blue'>\n",
    "    \n",
    "## 1.4. Tratamiento de Valores Ausentes<a id='na'></a>\n",
    "    \n",
    "</span>"
   ]
  },
  {
   "cell_type": "code",
   "execution_count": 7,
   "metadata": {},
   "outputs": [
    {
     "data": {
      "text/plain": [
       "1.0     952\n",
       "2.0     950\n",
       "8.0     933\n",
       "3.0     928\n",
       "5.0     927\n",
       "7.0     925\n",
       "4.0     885\n",
       "9.0     882\n",
       "6.0     881\n",
       "10.0    446\n",
       "0.0     382\n",
       "Name: Tenure, dtype: int64"
      ]
     },
     "execution_count": 7,
     "metadata": {},
     "output_type": "execute_result"
    }
   ],
   "source": [
    "# Inicialmente veremos la cantidad de datos que tiene esta columna por cada categoría\n",
    "tenure1 = df['Tenure']\n",
    "tenure1.value_counts()"
   ]
  },
  {
   "cell_type": "code",
   "execution_count": 8,
   "metadata": {},
   "outputs": [
    {
     "data": {
      "image/png": "[encoded data removed]",
      "text/plain": [
       "<Figure size 700x300 with 1 Axes>"
      ]
     },
     "metadata": {},
     "output_type": "display_data"
    }
   ],
   "source": [
    "# Ahora reralizaré un histograma de la misma columna \"Tenure\"\n",
    "tenure1.plot(kind='hist', bins=30, grid=True, figsize=(7,3), xlim=(0, 10))\n",
    "plt.show()"
   ]
  },
  {
   "cell_type": "markdown",
   "metadata": {},
   "source": [
    "---\n",
    "\n",
    "<div style='background-color:rgba(210, 30, 90, 0.3); padding:30px';><span style='color:darkred'>\n",
    "    \n",
    "**NOTA IMPORTANTE**:  \n",
    "    \n",
    "Para rellenar los datos voy a utilizar un recurso que he encontrado en la página oficial de Scikit_Learn, el cual se llama **`SimpleImputer`** y trabajaré únicamente con dos hiperparámetros (**`missing_values`** y **`strategy`**) de esta clase que pertenece al **módulo impute**.\n",
    "</div>    \n",
    "\n",
    "---"
   ]
  },
  {
   "cell_type": "code",
   "execution_count": 9,
   "metadata": {},
   "outputs": [
    {
     "data": {
      "text/plain": [
       "RowNumber          0\n",
       "CustomerId         0\n",
       "Surname            0\n",
       "CreditScore        0\n",
       "Geography          0\n",
       "Gender             0\n",
       "Age                0\n",
       "Tenure             0\n",
       "Balance            0\n",
       "NumOfProducts      0\n",
       "HasCrCard          0\n",
       "IsActiveMember     0\n",
       "EstimatedSalary    0\n",
       "Exited             0\n",
       "dtype: int64"
      ]
     },
     "execution_count": 9,
     "metadata": {},
     "output_type": "execute_result"
    }
   ],
   "source": [
    "# A continuaci'on voy a imputar los valores ausentes con la mediana de los datos que contiene la columna `Tenure`\n",
    "\n",
    "# NOTA: El valor por defecto de \"missing_values\" es np.nan, pero lo escribo de todas maneras para que quede claro\n",
    "imputer = SimpleImputer(missing_values=np.nan, strategy='median')  \n",
    "\n",
    "df['Tenure'] = imputer.fit_transform(df[['Tenure']])\n",
    "df.isna().sum()"
   ]
  },
  {
   "cell_type": "code",
   "execution_count": 10,
   "metadata": {},
   "outputs": [
    {
     "name": "stdout",
     "output_type": "stream",
     "text": [
      "<class 'pandas.core.frame.DataFrame'>\n",
      "RangeIndex: 10000 entries, 0 to 9999\n",
      "Data columns (total 14 columns):\n",
      " #   Column           Non-Null Count  Dtype  \n",
      "---  ------           --------------  -----  \n",
      " 0   RowNumber        10000 non-null  int64  \n",
      " 1   CustomerId       10000 non-null  int64  \n",
      " 2   Surname          10000 non-null  object \n",
      " 3   CreditScore      10000 non-null  int64  \n",
      " 4   Geography        10000 non-null  object \n",
      " 5   Gender           10000 non-null  object \n",
      " 6   Age              10000 non-null  int64  \n",
      " 7   Tenure           10000 non-null  float64\n",
      " 8   Balance          10000 non-null  float64\n",
      " 9   NumOfProducts    10000 non-null  int64  \n",
      " 10  HasCrCard        10000 non-null  int64  \n",
      " 11  IsActiveMember   10000 non-null  int64  \n",
      " 12  EstimatedSalary  10000 non-null  float64\n",
      " 13  Exited           10000 non-null  int64  \n",
      "dtypes: float64(3), int64(8), object(3)\n",
      "memory usage: 1.1+ MB\n"
     ]
    }
   ],
   "source": [
    "# Verificamos que no hayamos perdido información con la imputación realizada\n",
    "df.info()"
   ]
  },
  {
   "cell_type": "code",
   "execution_count": 11,
   "metadata": {},
   "outputs": [
    {
     "name": "stdout",
     "output_type": "stream",
     "text": [
      "5.0     1836\n",
      "1.0      952\n",
      "2.0      950\n",
      "8.0      933\n",
      "3.0      928\n",
      "7.0      925\n",
      "4.0      885\n",
      "9.0      882\n",
      "6.0      881\n",
      "10.0     446\n",
      "0.0      382\n",
      "Name: Tenure, dtype: int64\n"
     ]
    },
    {
     "data": {
      "image/png": "[encoded data removed]",
      "text/plain": [
       "<Figure size 700x300 with 1 Axes>"
      ]
     },
     "metadata": {},
     "output_type": "display_data"
    }
   ],
   "source": [
    "# Finalmente graficaré una vez más la columna \"Tenure\" para ver como han quedado los datos después de la imputación.\n",
    "# --------------------------------------------------------------------------------------------------------------------------------------------------------\n",
    "tenure2 = df['Tenure']\n",
    "print(tenure2.value_counts())\n",
    "# --------------------------------------------------------------------------------------------------------------------------------------------------------\n",
    "tenure1.plot(kind='hist', bins=30, grid=True, figsize=(7,3), xlim=(0, 10))\n",
    "plt.show()"
   ]
  },
  {
   "cell_type": "markdown",
   "metadata": {},
   "source": [
    "---\n",
    "\n",
    "<div style='background-color:rgba(12, 120, 210, 0.3); padding:30px;'><span style='color:darkblue'>\n",
    "                         \n",
    "(**Comentarios del Alumno - Milton Valle**)\n",
    "    \n",
    "Observamos que la columna `Tenure` (*tiempo de permanencia del depósito a plazo fijo de un cliente en el banco*) contenía algunos valores nulos, mientras que las demás columnas no presentaban valores ausentes.\n",
    "    \n",
    "Para resolver los valores faltantes en la columna `Tenure`, se realizó una **imputación utilizando la mediana de los datos que se encuentran contenidos en esta columna**.  \n",
    "    \n",
    " * **Se ha elegido a la mediana ya que es menos sensible a los valores extremos y, en general, es una buena opción para `datos que no siguen una distribución normal`, tal como es el caso de los datos que tiene esta columna.**\n",
    "    \n",
    "    \n",
    " * **Se puede apreciar en la gráfica superior que los 909 valores ausentes se han rellenado con el valor 5 (*mediana*), motivo por el cual esta categoría ha crecido de 927 datos a 1836**. \n",
    "    \n",
    "</div>\n",
    "\n",
    "---"
   ]
  },
  {
   "cell_type": "markdown",
   "metadata": {},
   "source": [
    "---\n",
    "\n",
    "[Volver a Contenido](#back)\n",
    "\n",
    "---"
   ]
  },
  {
   "cell_type": "markdown",
   "metadata": {},
   "source": [
    "<div class=\"alert alert-block alert-success\">\n",
    "<b>Comentario del revisor (1ra Iteración)</b> <a class=“tocSkip”></a>\n",
    "    \n",
    "Muy buena estrategía usar un método de imputación. Te invito a revisar métodos avanzados como `KNNImputer` o `IterativeImputer`. Acá puedes ver más información [Link](https://ishanjainoffical.medium.com/missing-value-treatment-advanced-methods-f7fa05ec0f39)\n",
    "\n",
    "</div>"
   ]
  },
  {
   "cell_type": "markdown",
   "metadata": {},
   "source": [
    "<span style='color:blue'>\n",
    "    \n",
    "## 1.5. Eliminación de Columnas No Relevantes<a id='no_val'></a>\n",
    "    \n",
    "</span>"
   ]
  },
  {
   "cell_type": "code",
   "execution_count": 12,
   "metadata": {},
   "outputs": [
    {
     "data": {
      "text/html": [
       "<div>\n",
       "<style scoped>\n",
       "    .dataframe tbody tr th:only-of-type {\n",
       "        vertical-align: middle;\n",
       "    }\n",
       "\n",
       "    .dataframe tbody tr th {\n",
       "        vertical-align: top;\n",
       "    }\n",
       "\n",
       "    .dataframe thead th {\n",
       "        text-align: right;\n",
       "    }\n",
       "</style>\n",
       "<table border=\"1\" class=\"dataframe\">\n",
       "  <thead>\n",
       "    <tr style=\"text-align: right;\">\n",
       "      <th></th>\n",
       "      <th>CreditScore</th>\n",
       "      <th>Geography</th>\n",
       "      <th>Gender</th>\n",
       "      <th>Age</th>\n",
       "      <th>Tenure</th>\n",
       "      <th>Balance</th>\n",
       "      <th>NumOfProducts</th>\n",
       "      <th>HasCrCard</th>\n",
       "      <th>IsActiveMember</th>\n",
       "      <th>EstimatedSalary</th>\n",
       "      <th>Exited</th>\n",
       "    </tr>\n",
       "  </thead>\n",
       "  <tbody>\n",
       "    <tr>\n",
       "      <th>0</th>\n",
       "      <td>619</td>\n",
       "      <td>France</td>\n",
       "      <td>Female</td>\n",
       "      <td>42</td>\n",
       "      <td>2.0</td>\n",
       "      <td>0.00</td>\n",
       "      <td>1</td>\n",
       "      <td>1</td>\n",
       "      <td>1</td>\n",
       "      <td>101348.88</td>\n",
       "      <td>1</td>\n",
       "    </tr>\n",
       "    <tr>\n",
       "      <th>1</th>\n",
       "      <td>608</td>\n",
       "      <td>Spain</td>\n",
       "      <td>Female</td>\n",
       "      <td>41</td>\n",
       "      <td>1.0</td>\n",
       "      <td>83807.86</td>\n",
       "      <td>1</td>\n",
       "      <td>0</td>\n",
       "      <td>1</td>\n",
       "      <td>112542.58</td>\n",
       "      <td>0</td>\n",
       "    </tr>\n",
       "    <tr>\n",
       "      <th>2</th>\n",
       "      <td>502</td>\n",
       "      <td>France</td>\n",
       "      <td>Female</td>\n",
       "      <td>42</td>\n",
       "      <td>8.0</td>\n",
       "      <td>159660.80</td>\n",
       "      <td>3</td>\n",
       "      <td>1</td>\n",
       "      <td>0</td>\n",
       "      <td>113931.57</td>\n",
       "      <td>1</td>\n",
       "    </tr>\n",
       "    <tr>\n",
       "      <th>3</th>\n",
       "      <td>699</td>\n",
       "      <td>France</td>\n",
       "      <td>Female</td>\n",
       "      <td>39</td>\n",
       "      <td>1.0</td>\n",
       "      <td>0.00</td>\n",
       "      <td>2</td>\n",
       "      <td>0</td>\n",
       "      <td>0</td>\n",
       "      <td>93826.63</td>\n",
       "      <td>0</td>\n",
       "    </tr>\n",
       "    <tr>\n",
       "      <th>4</th>\n",
       "      <td>850</td>\n",
       "      <td>Spain</td>\n",
       "      <td>Female</td>\n",
       "      <td>43</td>\n",
       "      <td>2.0</td>\n",
       "      <td>125510.82</td>\n",
       "      <td>1</td>\n",
       "      <td>1</td>\n",
       "      <td>1</td>\n",
       "      <td>79084.10</td>\n",
       "      <td>0</td>\n",
       "    </tr>\n",
       "  </tbody>\n",
       "</table>\n",
       "</div>"
      ],
      "text/plain": [
       "   CreditScore Geography  Gender  Age  Tenure    Balance  NumOfProducts  \\\n",
       "0          619    France  Female   42     2.0       0.00              1   \n",
       "1          608     Spain  Female   41     1.0   83807.86              1   \n",
       "2          502    France  Female   42     8.0  159660.80              3   \n",
       "3          699    France  Female   39     1.0       0.00              2   \n",
       "4          850     Spain  Female   43     2.0  125510.82              1   \n",
       "\n",
       "   HasCrCard  IsActiveMember  EstimatedSalary  Exited  \n",
       "0          1               1        101348.88       1  \n",
       "1          0               1        112542.58       0  \n",
       "2          1               0        113931.57       1  \n",
       "3          0               0         93826.63       0  \n",
       "4          1               1         79084.10       0  "
      ]
     },
     "execution_count": 12,
     "metadata": {},
     "output_type": "execute_result"
    }
   ],
   "source": [
    "# Ahora realizaré la eliminación de las columnas no relevantes, las cuales he mencionado anteriormente.\n",
    "df = df.drop(['RowNumber', 'CustomerId', 'Surname'], axis=1)\n",
    "df.head()"
   ]
  },
  {
   "cell_type": "code",
   "execution_count": 13,
   "metadata": {},
   "outputs": [
    {
     "name": "stdout",
     "output_type": "stream",
     "text": [
      "<class 'pandas.core.frame.DataFrame'>\n",
      "RangeIndex: 10000 entries, 0 to 9999\n",
      "Data columns (total 11 columns):\n",
      " #   Column           Non-Null Count  Dtype  \n",
      "---  ------           --------------  -----  \n",
      " 0   CreditScore      10000 non-null  int64  \n",
      " 1   Geography        10000 non-null  object \n",
      " 2   Gender           10000 non-null  object \n",
      " 3   Age              10000 non-null  int64  \n",
      " 4   Tenure           10000 non-null  float64\n",
      " 5   Balance          10000 non-null  float64\n",
      " 6   NumOfProducts    10000 non-null  int64  \n",
      " 7   HasCrCard        10000 non-null  int64  \n",
      " 8   IsActiveMember   10000 non-null  int64  \n",
      " 9   EstimatedSalary  10000 non-null  float64\n",
      " 10  Exited           10000 non-null  int64  \n",
      "dtypes: float64(3), int64(6), object(2)\n",
      "memory usage: 859.5+ KB\n"
     ]
    }
   ],
   "source": [
    "df.info()"
   ]
  },
  {
   "cell_type": "markdown",
   "metadata": {},
   "source": [
    "---\n",
    "\n",
    "<div style='background-color:rgba(12, 120, 210, 0.3); padding:30px;'><span style='color:darkblue'>\n",
    "                         \n",
    "(**Comentarios del Alumno - Milton Valle**)\n",
    "    \n",
    "En este apartado he eliminado las columnas `RowNumber`, `CustomerId`y finalmente la columna `Surname`, debido a que la información que se encuentra contenida en esas tres columnas no llegará ha aportar valor durante el entrenamiento de los modelos de Machine Learning que realizaremos en este proyecto.\n",
    "    \n",
    "</div>\n",
    "    \n",
    "---"
   ]
  },
  {
   "cell_type": "markdown",
   "metadata": {},
   "source": [
    "<div class=\"alert alert-block alert-success\">\n",
    "<b>Comentario del revisor (1ra Iteración)</b> <a class=“tocSkip”></a>\n",
    "    \n",
    "Muy bien Milton, has eliminado las columnas que no aportan información al modelo predicitivo.\n",
    "\n",
    "</div>"
   ]
  },
  {
   "cell_type": "markdown",
   "metadata": {},
   "source": [
    "---\n",
    "\n",
    "[Volver a Contenido](#back)\n",
    "\n",
    "---"
   ]
  },
  {
   "cell_type": "markdown",
   "metadata": {},
   "source": [
    "<span style='color:blue'>\n",
    "    \n",
    "## 1.6. Codificación de Variables Categóricas (*One Hot Encoding*)<a id='cat_var'></a>\n",
    "    \n",
    "</span>"
   ]
  },
  {
   "cell_type": "code",
   "execution_count": 14,
   "metadata": {},
   "outputs": [
    {
     "data": {
      "text/html": [
       "<div>\n",
       "<style scoped>\n",
       "    .dataframe tbody tr th:only-of-type {\n",
       "        vertical-align: middle;\n",
       "    }\n",
       "\n",
       "    .dataframe tbody tr th {\n",
       "        vertical-align: top;\n",
       "    }\n",
       "\n",
       "    .dataframe thead th {\n",
       "        text-align: right;\n",
       "    }\n",
       "</style>\n",
       "<table border=\"1\" class=\"dataframe\">\n",
       "  <thead>\n",
       "    <tr style=\"text-align: right;\">\n",
       "      <th></th>\n",
       "      <th>CreditScore</th>\n",
       "      <th>Age</th>\n",
       "      <th>Tenure</th>\n",
       "      <th>Balance</th>\n",
       "      <th>NumOfProducts</th>\n",
       "      <th>HasCrCard</th>\n",
       "      <th>IsActiveMember</th>\n",
       "      <th>EstimatedSalary</th>\n",
       "      <th>Exited</th>\n",
       "      <th>Geography_Germany</th>\n",
       "      <th>Geography_Spain</th>\n",
       "      <th>Gender_Male</th>\n",
       "    </tr>\n",
       "  </thead>\n",
       "  <tbody>\n",
       "    <tr>\n",
       "      <th>0</th>\n",
       "      <td>619</td>\n",
       "      <td>42</td>\n",
       "      <td>2.0</td>\n",
       "      <td>0.00</td>\n",
       "      <td>1</td>\n",
       "      <td>1</td>\n",
       "      <td>1</td>\n",
       "      <td>101348.88</td>\n",
       "      <td>1</td>\n",
       "      <td>0</td>\n",
       "      <td>0</td>\n",
       "      <td>0</td>\n",
       "    </tr>\n",
       "    <tr>\n",
       "      <th>1</th>\n",
       "      <td>608</td>\n",
       "      <td>41</td>\n",
       "      <td>1.0</td>\n",
       "      <td>83807.86</td>\n",
       "      <td>1</td>\n",
       "      <td>0</td>\n",
       "      <td>1</td>\n",
       "      <td>112542.58</td>\n",
       "      <td>0</td>\n",
       "      <td>0</td>\n",
       "      <td>1</td>\n",
       "      <td>0</td>\n",
       "    </tr>\n",
       "    <tr>\n",
       "      <th>2</th>\n",
       "      <td>502</td>\n",
       "      <td>42</td>\n",
       "      <td>8.0</td>\n",
       "      <td>159660.80</td>\n",
       "      <td>3</td>\n",
       "      <td>1</td>\n",
       "      <td>0</td>\n",
       "      <td>113931.57</td>\n",
       "      <td>1</td>\n",
       "      <td>0</td>\n",
       "      <td>0</td>\n",
       "      <td>0</td>\n",
       "    </tr>\n",
       "    <tr>\n",
       "      <th>3</th>\n",
       "      <td>699</td>\n",
       "      <td>39</td>\n",
       "      <td>1.0</td>\n",
       "      <td>0.00</td>\n",
       "      <td>2</td>\n",
       "      <td>0</td>\n",
       "      <td>0</td>\n",
       "      <td>93826.63</td>\n",
       "      <td>0</td>\n",
       "      <td>0</td>\n",
       "      <td>0</td>\n",
       "      <td>0</td>\n",
       "    </tr>\n",
       "    <tr>\n",
       "      <th>4</th>\n",
       "      <td>850</td>\n",
       "      <td>43</td>\n",
       "      <td>2.0</td>\n",
       "      <td>125510.82</td>\n",
       "      <td>1</td>\n",
       "      <td>1</td>\n",
       "      <td>1</td>\n",
       "      <td>79084.10</td>\n",
       "      <td>0</td>\n",
       "      <td>0</td>\n",
       "      <td>1</td>\n",
       "      <td>0</td>\n",
       "    </tr>\n",
       "  </tbody>\n",
       "</table>\n",
       "</div>"
      ],
      "text/plain": [
       "   CreditScore  Age  Tenure    Balance  NumOfProducts  HasCrCard  \\\n",
       "0          619   42     2.0       0.00              1          1   \n",
       "1          608   41     1.0   83807.86              1          0   \n",
       "2          502   42     8.0  159660.80              3          1   \n",
       "3          699   39     1.0       0.00              2          0   \n",
       "4          850   43     2.0  125510.82              1          1   \n",
       "\n",
       "   IsActiveMember  EstimatedSalary  Exited  Geography_Germany  \\\n",
       "0               1        101348.88       1                  0   \n",
       "1               1        112542.58       0                  0   \n",
       "2               0        113931.57       1                  0   \n",
       "3               0         93826.63       0                  0   \n",
       "4               1         79084.10       0                  0   \n",
       "\n",
       "   Geography_Spain  Gender_Male  \n",
       "0                0            0  \n",
       "1                1            0  \n",
       "2                0            0  \n",
       "3                0            0  \n",
       "4                1            0  "
      ]
     },
     "execution_count": 14,
     "metadata": {},
     "output_type": "execute_result"
    }
   ],
   "source": [
    "# A continuación voy a realizar la codificación de las variables categoricas que tenemos en el DataFrame del proyecto\n",
    "\n",
    "# Primero crearé una lista con los nombres de las columnas que tiene datos categóricos\n",
    "categorical_features = ['Geography', 'Gender']\n",
    "\n",
    "# Luego codifico las variables categóricas\n",
    "df = pd.get_dummies(df, columns=categorical_features, drop_first=True, dtype='int')\n",
    "df.head()\n"
   ]
  },
  {
   "cell_type": "markdown",
   "metadata": {},
   "source": [
    "---\n",
    "\n",
    "<div style='background-color:rgba(12, 120, 210, 0.3); padding:30px;'><span style='color:darkblue'>\n",
    "                         \n",
    "(**Comentarios del Alumno - Milton Valle**)\n",
    "    \n",
    "El dataset del proyecto contiene variables categóricas en las columnas `Geography` (*país de residencia*) y `Gender` (*sexo*). Estas variables las he transformado utilizando la técnica **One-Hot Encoding** mediante el uso del método **`get.dummies()`**, esto con la finalidad de que el futuro puedan ser utilizadas por los modelos de machine learning que entrenaremos. \n",
    "\n",
    "Es importante mencionar que se ha activado con **True** al parámetro `drop_first`, debido a que **se quiere evitar que exista una alta correlación entre las variables independientes de nuestros modelos**, ya que este hecho puede causar problemas en los modelos que asumen independencia entre las variables predictoras, esta características se la conoce también como `multicolinealidad`.\n",
    "    \n",
    "    \n",
    "</div>\n",
    "    \n",
    "---"
   ]
  },
  {
   "cell_type": "markdown",
   "metadata": {},
   "source": [
    "<div class=\"alert alert-block alert-success\">\n",
    "<b>Comentario del revisor (1ra Iteración)</b> <a class=“tocSkip”></a>\n",
    "\n",
    "Magnífico, has usado de manera correcta la función `get_dummies`. Esto te permitirá tener todas las variables de forma numérica, lo cual es escencial para entrenar los modelos predictivos.\n",
    "    \n",
    "\n",
    "\n",
    "</div>"
   ]
  },
  {
   "cell_type": "markdown",
   "metadata": {},
   "source": [
    "---\n",
    "\n",
    "[Volver a Contenido](#back)\n",
    "\n",
    "---"
   ]
  },
  {
   "cell_type": "markdown",
   "metadata": {},
   "source": [
    "<span style='color:blue'>\n",
    "    \n",
    "## 1.7. Separación de Características y Variable Objetivo (*X, y*)<a id='feat_tar'></a>\n",
    "    \n",
    "</span>"
   ]
  },
  {
   "cell_type": "code",
   "execution_count": 15,
   "metadata": {},
   "outputs": [],
   "source": [
    "# Creamos nuestro dataset de Caracteristicas\n",
    "X = df.drop(labels='Exited', axis=1)\n",
    "\n",
    "# Ahora creamos nuestro Series de la Variable Objetivo\n",
    "y = df['Exited']"
   ]
  },
  {
   "cell_type": "code",
   "execution_count": 16,
   "metadata": {},
   "outputs": [
    {
     "data": {
      "text/plain": [
       "(10000, 11)"
      ]
     },
     "execution_count": 16,
     "metadata": {},
     "output_type": "execute_result"
    }
   ],
   "source": [
    "X.shape"
   ]
  },
  {
   "cell_type": "code",
   "execution_count": 17,
   "metadata": {},
   "outputs": [
    {
     "data": {
      "text/plain": [
       "(10000,)"
      ]
     },
     "execution_count": 17,
     "metadata": {},
     "output_type": "execute_result"
    }
   ],
   "source": [
    "y.shape"
   ]
  },
  {
   "cell_type": "markdown",
   "metadata": {},
   "source": [
    "---\n",
    "\n",
    "<div style='background-color:rgba(12, 120, 210, 0.3); padding:30px;'><span style='color:darkblue'>\n",
    "                         \n",
    "(**Comentarios del Alumno - Milton Valle**)\n",
    "    \n",
    "Hemos dividido el Dataset principal del proyecto en dos grupos de datasets:\n",
    "    \n",
    " * **X**: Es el Dataset de **Características** del proyecto, también conocido como **target**. Este dataset está formado por todas las columnas de información que ofrecerán la retroalimentación necesaria a los modelos que utilizarémos más adelante, esto con el objetivo de poder obtener predicciones de cada uno de los modelos utilizados.\n",
    "    \n",
    "    \n",
    " * **y**: Es el Dataset **Objetivo**  Este es el dataset que contiene la información de si los clientes continúan solicitando los servicios de `Beta Bank` o no. Este Dataset es el que le brinda las respuestas a cada modelo, a partir de los datos contenidos en el dataset de **Características**.\n",
    "    \n",
    "    \n",
    "</div>\n",
    "    \n",
    "---"
   ]
  },
  {
   "cell_type": "markdown",
   "metadata": {},
   "source": [
    "---\n",
    "\n",
    "[Volver a Contenido](#back)\n",
    "\n",
    "---"
   ]
  },
  {
   "cell_type": "markdown",
   "metadata": {},
   "source": [
    "<span style='color:blue'>\n",
    "    \n",
    "## 1.8. División de los Datos (60-20-20)<a id='div_data'></a>\n",
    "    \n",
    "</span>"
   ]
  },
  {
   "cell_type": "code",
   "execution_count": 18,
   "metadata": {},
   "outputs": [],
   "source": [
    "# Realizaré la 1ra división del Dataset del proyecto en un Conjunto de Entrenamiento (60%) y otro Conjunto Temporal(40%)\n",
    "X_train, X_temp, y_train, y_temp = train_test_split(X, y, random_state=12345, test_size=0.4, stratify=y)\n",
    "\n",
    "# Luego realizo una 2da división del Conjunto Temporal en un Conjunto de Validación (20% del dataset original) y un Conjunto de Prueba (20% del dataset original)\n",
    "X_valid, X_test, y_valid, y_test = train_test_split(X_temp, y_temp, random_state=12345, test_size=0.5, stratify=y_temp)"
   ]
  },
  {
   "cell_type": "markdown",
   "metadata": {},
   "source": [
    "---\n",
    "\n",
    "<div style='background-color:rgba(210, 30, 90, 0.3); padding:30px;'><span style='color:darkred'>\n",
    "                         \n",
    "    \n",
    "En la celda superior he utilizado por primera vez el parámetro **`stratify`**,  tanto en la primera división de datos con `stratify=y` y `stratify=y_temp` en la segunda división de datos. Esto debido a que según una breve investigación que he realizado en internet, he podido recabar los siguientes puntos a favor que me ayudan a dar sustento a esta decisión:\n",
    "\n",
    " 1. **Mantiene la distribución de clases**: Asegura que cada conjunto (*entrenamiento, validación y prueba*) tenga aproximadamente la misma proporción de clases que el conjunto de datos original.\n",
    "    \n",
    "    \n",
    " 2. **Reduce el sesgo de muestreo**: Ayuda a prevenir situaciones donde un conjunto pueda tener una representación desproporcionada de una clase.\n",
    "    \n",
    "    \n",
    " 3. **Mejora la robustez del modelo**: Al mantener la distribución en todos los conjuntos, se asegura que el modelo se entrene, valide y pruebe en datos representativos.\n",
    "    \n",
    "    \n",
    " 4. **Especialmente útil para clases desequilibradas**: En casos como el nuestro, donde es probable que tengamos más clientes que se quedan que los que se van, esto es crucial.\n",
    "    \n",
    "    \n",
    "5. **Consistencia en la evaluación**: Proporciona una base más consistente para la evaluación del rendimiento del modelo en diferentes etapas.\n",
    "\n",
    " - [**Fuente de Información 1**](https://deepai.tn/glossary/what-does-stratify-mean-in-train-test-split/)\n",
    "\n",
    " - [**Fuente de Información 2**](https://medium.com/@becaye-balde/why-you-should-use-stratified-split-bddb6dadd34e)\n",
    "    \n",
    "    \n",
    "---"
   ]
  },
  {
   "cell_type": "markdown",
   "metadata": {},
   "source": [
    "---\n",
    "\n",
    "<div style='background-color:rgba(12, 120, 210, 0.3); padding:30px;'><span style='color:darkblue'>\n",
    "                         \n",
    "(**Comentarios del Alumno - Milton Valle**)\n",
    "    \n",
    "La división de los conjuntos de datos para este proyecto, ha sido realizada de la siguiente manera:\n",
    "    \n",
    " 1. **Conjunto de Entrenamiento**: Se ha asignado un `60%`, para ajustar el modelo y aprender patrones a partir de los datos.\n",
    "    \n",
    "    \n",
    " 2. **Conjunto de Validación**: Se ha asignado un `20%`, para ajustar hiperparámetros y comparar modelos antes de elegir el mejor.\n",
    "    \n",
    "    \n",
    " 3.  **Conjunto de Prueba**: Se ha asignado el restante `20%`, para evaluar la calidad del modelo final en datos no vistos.\n",
    "    \n",
    "</div>\n",
    "    \n",
    "---"
   ]
  },
  {
   "cell_type": "markdown",
   "metadata": {},
   "source": [
    "<div class=\"alert alert-block alert-success\">\n",
    "<b>Comentario del revisor (1ra Iteración)</b> <a class=“tocSkip”></a>\n",
    "    \n",
    "Milton debo felicitarte. Has realizado una segmentación de los datos de una manera excepcional. El uso de la función `stratify` es una muy buena práctica, sobretodo cuando se tiene un desbalance de los datos. \n",
    "\n",
    "</div>"
   ]
  },
  {
   "cell_type": "markdown",
   "metadata": {},
   "source": [
    "---\n",
    "\n",
    "[Volver a Contenido](#back)\n",
    "\n",
    "---"
   ]
  },
  {
   "cell_type": "markdown",
   "metadata": {},
   "source": [
    "<span style='color:blue'>\n",
    "    \n",
    "## 1.9. Escalado de Características (*StandardScaler*)<a id='ss'></a>\n",
    "    \n",
    "</span>"
   ]
  },
  {
   "cell_type": "code",
   "execution_count": 19,
   "metadata": {},
   "outputs": [
    {
     "data": {
      "text/html": [
       "<div>\n",
       "<style scoped>\n",
       "    .dataframe tbody tr th:only-of-type {\n",
       "        vertical-align: middle;\n",
       "    }\n",
       "\n",
       "    .dataframe tbody tr th {\n",
       "        vertical-align: top;\n",
       "    }\n",
       "\n",
       "    .dataframe thead th {\n",
       "        text-align: right;\n",
       "    }\n",
       "</style>\n",
       "<table border=\"1\" class=\"dataframe\">\n",
       "  <thead>\n",
       "    <tr style=\"text-align: right;\">\n",
       "      <th></th>\n",
       "      <th>CreditScore</th>\n",
       "      <th>Age</th>\n",
       "      <th>Tenure</th>\n",
       "      <th>Balance</th>\n",
       "      <th>NumOfProducts</th>\n",
       "      <th>HasCrCard</th>\n",
       "      <th>IsActiveMember</th>\n",
       "      <th>EstimatedSalary</th>\n",
       "      <th>Geography_Germany</th>\n",
       "      <th>Geography_Spain</th>\n",
       "      <th>Gender_Male</th>\n",
       "    </tr>\n",
       "  </thead>\n",
       "  <tbody>\n",
       "    <tr>\n",
       "      <th>2837</th>\n",
       "      <td>549</td>\n",
       "      <td>49</td>\n",
       "      <td>6.0</td>\n",
       "      <td>124829.16</td>\n",
       "      <td>1</td>\n",
       "      <td>0</td>\n",
       "      <td>1</td>\n",
       "      <td>93551.36</td>\n",
       "      <td>1</td>\n",
       "      <td>0</td>\n",
       "      <td>0</td>\n",
       "    </tr>\n",
       "    <tr>\n",
       "      <th>9925</th>\n",
       "      <td>694</td>\n",
       "      <td>38</td>\n",
       "      <td>5.0</td>\n",
       "      <td>195926.39</td>\n",
       "      <td>1</td>\n",
       "      <td>1</td>\n",
       "      <td>1</td>\n",
       "      <td>85522.84</td>\n",
       "      <td>0</td>\n",
       "      <td>0</td>\n",
       "      <td>0</td>\n",
       "    </tr>\n",
       "    <tr>\n",
       "      <th>8746</th>\n",
       "      <td>660</td>\n",
       "      <td>34</td>\n",
       "      <td>8.0</td>\n",
       "      <td>106486.66</td>\n",
       "      <td>2</td>\n",
       "      <td>0</td>\n",
       "      <td>1</td>\n",
       "      <td>182262.66</td>\n",
       "      <td>0</td>\n",
       "      <td>0</td>\n",
       "      <td>1</td>\n",
       "    </tr>\n",
       "    <tr>\n",
       "      <th>660</th>\n",
       "      <td>632</td>\n",
       "      <td>41</td>\n",
       "      <td>5.0</td>\n",
       "      <td>81877.38</td>\n",
       "      <td>1</td>\n",
       "      <td>1</td>\n",
       "      <td>1</td>\n",
       "      <td>33642.21</td>\n",
       "      <td>1</td>\n",
       "      <td>0</td>\n",
       "      <td>0</td>\n",
       "    </tr>\n",
       "    <tr>\n",
       "      <th>3610</th>\n",
       "      <td>580</td>\n",
       "      <td>56</td>\n",
       "      <td>1.0</td>\n",
       "      <td>131368.30</td>\n",
       "      <td>1</td>\n",
       "      <td>1</td>\n",
       "      <td>0</td>\n",
       "      <td>106918.67</td>\n",
       "      <td>0</td>\n",
       "      <td>0</td>\n",
       "      <td>0</td>\n",
       "    </tr>\n",
       "  </tbody>\n",
       "</table>\n",
       "</div>"
      ],
      "text/plain": [
       "      CreditScore  Age  Tenure    Balance  NumOfProducts  HasCrCard  \\\n",
       "2837          549   49     6.0  124829.16              1          0   \n",
       "9925          694   38     5.0  195926.39              1          1   \n",
       "8746          660   34     8.0  106486.66              2          0   \n",
       "660           632   41     5.0   81877.38              1          1   \n",
       "3610          580   56     1.0  131368.30              1          1   \n",
       "\n",
       "      IsActiveMember  EstimatedSalary  Geography_Germany  Geography_Spain  \\\n",
       "2837               1         93551.36                  1                0   \n",
       "9925               1         85522.84                  0                0   \n",
       "8746               1        182262.66                  0                0   \n",
       "660                1         33642.21                  1                0   \n",
       "3610               0        106918.67                  0                0   \n",
       "\n",
       "      Gender_Male  \n",
       "2837            0  \n",
       "9925            0  \n",
       "8746            1  \n",
       "660             0  \n",
       "3610            0  "
      ]
     },
     "execution_count": 19,
     "metadata": {},
     "output_type": "execute_result"
    }
   ],
   "source": [
    "# primeramente veremos las cinco primeras filas de los tres Conjuntos de Datos, antes de realizar el Escaldo de Características...\n",
    "X_train.head()"
   ]
  },
  {
   "cell_type": "markdown",
   "metadata": {},
   "source": [
    "---\n",
    "\n",
    "<div style='background-color:rgba(210, 30, 90, 0.3); padding:30px;'><span style='color:darkred'>\n",
    "                         \n",
    "(**Comentarios del Alumno - Milton Valle**)\n",
    "    \n",
    "En la celda inferior se está utilizando el método `.copy()`, debido a que sin la inclusión de esas tres líneas de código me desplegaba el siguiente mensaje de error:\n",
    "\n",
    "---\n",
    "    \n",
    "`/opt/conda/envs/python3/lib/python3.9/site-packages/pandas/core/indexing.py:1738: SettingWithCopyWarning: A value is trying to be set on a copy of a slice from a DataFrame. Try using .loc[row_indexer,col_indexer] = value instead`\n",
    "\n",
    "---\n",
    "    \n",
    "Pandas ha detectado que `X_train` podría ser una vista de otro DataFrame, lo cual a pasado a partir de la **Separación de los Datos que he realizado, mediante `train_test_split`**. Esto significa que cuando estoy intentando modificar `X_train`, `X_valid` o `X_test`, como estoy trabajando con una copia derivada de un conjunto de datos original, Pandas no puede garantizar que esos cambios se propaguen adecuadamente. "
   ]
  },
  {
   "cell_type": "code",
   "execution_count": 20,
   "metadata": {},
   "outputs": [],
   "source": [
    "# Ahora estandarizaré las características numéricas utilizando \"StandardScaler\"\n",
    "\n",
    "# NOTA: ha sido neceario realizar una copia de los 3 Conjuntos de Datos, debido a que Pandas ha detectado que todos ellos eran una vista de otro DataFrame\n",
    "# que en este caso sería el Dataset Original\n",
    "X_train = X_train.copy()\n",
    "X_valid = X_valid.copy()\n",
    "X_test = X_test.copy()\n",
    "\n",
    "numeric = ['CreditScore', 'Age', 'Balance', 'EstimatedSalary']\n",
    "\n",
    "scaler = StandardScaler()\n",
    "scaler.fit(X_train[numeric])\n",
    "\n",
    "X_train.loc[:, numeric] = scaler.transform(X_train[numeric])\n",
    "X_valid.loc[:, numeric] = scaler.transform(X_valid[numeric])\n",
    "X_test.loc[:, numeric] = scaler.transform(X_test[numeric])\n"
   ]
  },
  {
   "cell_type": "markdown",
   "metadata": {},
   "source": [
    "---\n",
    "\n",
    "<div style='background-color:rgba(12, 120, 210, 0.3); padding:30px;'><span style='color:darkblue'>\n",
    "                         \n",
    "(**Comentarios del Alumno - Milton Valle**)\n",
    "    \n",
    "He considerado hacer un **escalado de características** mediante la clase `StandardScaler`, pero únicamente a las columnas que tienen valores numéricos que superan al rango de números que se encuentran entre 1 y el 10, esto debido a que `considero que todas las columnas que tienen valores dentro del rango mencionado, no deberían presentar una alta correlación  y por lo tanto tampoco deberían perjudicar al modelo si mantenemos sus valores originales`. Por lo que considero que las ventajas de este enfoque son las que presento a continuación: \n",
    "\n",
    " 1. **Flexibilidad**: Permite un escalado selectivo basado en las características del dataset.\n",
    "    \n",
    "    \n",
    " 2. **Eficiencia**: Evita el procesamiento innecesario de características que no lo requieren.\n",
    "    \n",
    "    \n",
    " 3. **Interpretabilidad**: Mantiene algunas características en su escala original, lo que puede ser útil para la interpretación del modelo.\n",
    "    \n",
    "    \n",
    " 4. **Compatibilidad**: Funciona bien con todos los modelos propuestos, optimizando para la regresión logística sin afectar negativamente a los modelos basados en árboles.\n",
    "    \n",
    "    \n",
    "</div>\n",
    "    \n",
    "---"
   ]
  },
  {
   "cell_type": "markdown",
   "metadata": {},
   "source": [
    "---\n",
    "\n",
    "[Volver a Contenido](#back)\n",
    "\n",
    "---"
   ]
  },
  {
   "cell_type": "code",
   "execution_count": 21,
   "metadata": {},
   "outputs": [
    {
     "data": {
      "text/html": [
       "<div>\n",
       "<style scoped>\n",
       "    .dataframe tbody tr th:only-of-type {\n",
       "        vertical-align: middle;\n",
       "    }\n",
       "\n",
       "    .dataframe tbody tr th {\n",
       "        vertical-align: top;\n",
       "    }\n",
       "\n",
       "    .dataframe thead th {\n",
       "        text-align: right;\n",
       "    }\n",
       "</style>\n",
       "<table border=\"1\" class=\"dataframe\">\n",
       "  <thead>\n",
       "    <tr style=\"text-align: right;\">\n",
       "      <th></th>\n",
       "      <th>CreditScore</th>\n",
       "      <th>Age</th>\n",
       "      <th>Tenure</th>\n",
       "      <th>Balance</th>\n",
       "      <th>NumOfProducts</th>\n",
       "      <th>HasCrCard</th>\n",
       "      <th>IsActiveMember</th>\n",
       "      <th>EstimatedSalary</th>\n",
       "      <th>Geography_Germany</th>\n",
       "      <th>Geography_Spain</th>\n",
       "      <th>Gender_Male</th>\n",
       "    </tr>\n",
       "  </thead>\n",
       "  <tbody>\n",
       "    <tr>\n",
       "      <th>2837</th>\n",
       "      <td>-1.040434</td>\n",
       "      <td>0.953312</td>\n",
       "      <td>6.0</td>\n",
       "      <td>0.774657</td>\n",
       "      <td>1</td>\n",
       "      <td>0</td>\n",
       "      <td>1</td>\n",
       "      <td>-0.119110</td>\n",
       "      <td>1</td>\n",
       "      <td>0</td>\n",
       "      <td>0</td>\n",
       "    </tr>\n",
       "    <tr>\n",
       "      <th>9925</th>\n",
       "      <td>0.454006</td>\n",
       "      <td>-0.095244</td>\n",
       "      <td>5.0</td>\n",
       "      <td>1.910540</td>\n",
       "      <td>1</td>\n",
       "      <td>1</td>\n",
       "      <td>1</td>\n",
       "      <td>-0.258658</td>\n",
       "      <td>0</td>\n",
       "      <td>0</td>\n",
       "      <td>0</td>\n",
       "    </tr>\n",
       "    <tr>\n",
       "      <th>8746</th>\n",
       "      <td>0.103585</td>\n",
       "      <td>-0.476537</td>\n",
       "      <td>8.0</td>\n",
       "      <td>0.481608</td>\n",
       "      <td>2</td>\n",
       "      <td>0</td>\n",
       "      <td>1</td>\n",
       "      <td>1.422836</td>\n",
       "      <td>0</td>\n",
       "      <td>0</td>\n",
       "      <td>1</td>\n",
       "    </tr>\n",
       "  </tbody>\n",
       "</table>\n",
       "</div>"
      ],
      "text/plain": [
       "      CreditScore       Age  Tenure   Balance  NumOfProducts  HasCrCard  \\\n",
       "2837    -1.040434  0.953312     6.0  0.774657              1          0   \n",
       "9925     0.454006 -0.095244     5.0  1.910540              1          1   \n",
       "8746     0.103585 -0.476537     8.0  0.481608              2          0   \n",
       "\n",
       "      IsActiveMember  EstimatedSalary  Geography_Germany  Geography_Spain  \\\n",
       "2837               1        -0.119110                  1                0   \n",
       "9925               1        -0.258658                  0                0   \n",
       "8746               1         1.422836                  0                0   \n",
       "\n",
       "      Gender_Male  \n",
       "2837            0  \n",
       "9925            0  \n",
       "8746            1  "
      ]
     },
     "execution_count": 21,
     "metadata": {},
     "output_type": "execute_result"
    }
   ],
   "source": [
    "X_train.head(3)"
   ]
  },
  {
   "cell_type": "code",
   "execution_count": 22,
   "metadata": {},
   "outputs": [
    {
     "name": "stdout",
     "output_type": "stream",
     "text": [
      "<class 'pandas.core.frame.DataFrame'>\n",
      "Int64Index: 6000 entries, 2837 to 700\n",
      "Data columns (total 11 columns):\n",
      " #   Column             Non-Null Count  Dtype  \n",
      "---  ------             --------------  -----  \n",
      " 0   CreditScore        6000 non-null   float64\n",
      " 1   Age                6000 non-null   float64\n",
      " 2   Tenure             6000 non-null   float64\n",
      " 3   Balance            6000 non-null   float64\n",
      " 4   NumOfProducts      6000 non-null   int64  \n",
      " 5   HasCrCard          6000 non-null   int64  \n",
      " 6   IsActiveMember     6000 non-null   int64  \n",
      " 7   EstimatedSalary    6000 non-null   float64\n",
      " 8   Geography_Germany  6000 non-null   int64  \n",
      " 9   Geography_Spain    6000 non-null   int64  \n",
      " 10  Gender_Male        6000 non-null   int64  \n",
      "dtypes: float64(5), int64(6)\n",
      "memory usage: 562.5 KB\n"
     ]
    }
   ],
   "source": [
    "X_train.info()"
   ]
  },
  {
   "cell_type": "markdown",
   "metadata": {},
   "source": [
    "---\n",
    "\n",
    "<div style='background-color:rgba(12, 120, 210, 0.15); padding:30px;'><span style='color:darkblue'>\n",
    "                         \n",
    "(**Comentarios Secundarios del Alumno - Milton Valle**)\n",
    "    \n",
    " * Se puede apreciar en las dos celdas superiores que hemos logrado escalar exitosamente las columnas `CreditScore`, `Age`, `Balance', 'EstimatedSalary` para el Conjunto de Entrenamiento.\n",
    "    \n",
    "    \n",
    " * Por otro lado podemos constatar también que este conjunto de datos está conformado por **6000 filas de datos, lo que equivale al 60% del dataset del proyecto**.\n",
    "    \n",
    "</div>\n",
    "    \n",
    "---"
   ]
  },
  {
   "cell_type": "code",
   "execution_count": 23,
   "metadata": {},
   "outputs": [
    {
     "data": {
      "text/html": [
       "<div>\n",
       "<style scoped>\n",
       "    .dataframe tbody tr th:only-of-type {\n",
       "        vertical-align: middle;\n",
       "    }\n",
       "\n",
       "    .dataframe tbody tr th {\n",
       "        vertical-align: top;\n",
       "    }\n",
       "\n",
       "    .dataframe thead th {\n",
       "        text-align: right;\n",
       "    }\n",
       "</style>\n",
       "<table border=\"1\" class=\"dataframe\">\n",
       "  <thead>\n",
       "    <tr style=\"text-align: right;\">\n",
       "      <th></th>\n",
       "      <th>CreditScore</th>\n",
       "      <th>Age</th>\n",
       "      <th>Tenure</th>\n",
       "      <th>Balance</th>\n",
       "      <th>NumOfProducts</th>\n",
       "      <th>HasCrCard</th>\n",
       "      <th>IsActiveMember</th>\n",
       "      <th>EstimatedSalary</th>\n",
       "      <th>Geography_Germany</th>\n",
       "      <th>Geography_Spain</th>\n",
       "      <th>Gender_Male</th>\n",
       "    </tr>\n",
       "  </thead>\n",
       "  <tbody>\n",
       "    <tr>\n",
       "      <th>6612</th>\n",
       "      <td>-1.524838</td>\n",
       "      <td>2.383160</td>\n",
       "      <td>3.0</td>\n",
       "      <td>1.011655</td>\n",
       "      <td>1</td>\n",
       "      <td>0</td>\n",
       "      <td>1</td>\n",
       "      <td>0.010275</td>\n",
       "      <td>0</td>\n",
       "      <td>0</td>\n",
       "      <td>0</td>\n",
       "    </tr>\n",
       "    <tr>\n",
       "      <th>519</th>\n",
       "      <td>0.587990</td>\n",
       "      <td>1.811221</td>\n",
       "      <td>6.0</td>\n",
       "      <td>0.213192</td>\n",
       "      <td>1</td>\n",
       "      <td>0</td>\n",
       "      <td>1</td>\n",
       "      <td>0.453089</td>\n",
       "      <td>0</td>\n",
       "      <td>0</td>\n",
       "      <td>1</td>\n",
       "    </tr>\n",
       "    <tr>\n",
       "      <th>1609</th>\n",
       "      <td>-0.318980</td>\n",
       "      <td>-0.381213</td>\n",
       "      <td>8.0</td>\n",
       "      <td>0.893896</td>\n",
       "      <td>1</td>\n",
       "      <td>1</td>\n",
       "      <td>0</td>\n",
       "      <td>-0.603508</td>\n",
       "      <td>0</td>\n",
       "      <td>0</td>\n",
       "      <td>0</td>\n",
       "    </tr>\n",
       "  </tbody>\n",
       "</table>\n",
       "</div>"
      ],
      "text/plain": [
       "      CreditScore       Age  Tenure   Balance  NumOfProducts  HasCrCard  \\\n",
       "6612    -1.524838  2.383160     3.0  1.011655              1          0   \n",
       "519      0.587990  1.811221     6.0  0.213192              1          0   \n",
       "1609    -0.318980 -0.381213     8.0  0.893896              1          1   \n",
       "\n",
       "      IsActiveMember  EstimatedSalary  Geography_Germany  Geography_Spain  \\\n",
       "6612               1         0.010275                  0                0   \n",
       "519                1         0.453089                  0                0   \n",
       "1609               0        -0.603508                  0                0   \n",
       "\n",
       "      Gender_Male  \n",
       "6612            0  \n",
       "519             1  \n",
       "1609            0  "
      ]
     },
     "execution_count": 23,
     "metadata": {},
     "output_type": "execute_result"
    }
   ],
   "source": [
    "X_valid.head(3)"
   ]
  },
  {
   "cell_type": "code",
   "execution_count": 24,
   "metadata": {},
   "outputs": [
    {
     "name": "stdout",
     "output_type": "stream",
     "text": [
      "<class 'pandas.core.frame.DataFrame'>\n",
      "Int64Index: 2000 entries, 6612 to 828\n",
      "Data columns (total 11 columns):\n",
      " #   Column             Non-Null Count  Dtype  \n",
      "---  ------             --------------  -----  \n",
      " 0   CreditScore        2000 non-null   float64\n",
      " 1   Age                2000 non-null   float64\n",
      " 2   Tenure             2000 non-null   float64\n",
      " 3   Balance            2000 non-null   float64\n",
      " 4   NumOfProducts      2000 non-null   int64  \n",
      " 5   HasCrCard          2000 non-null   int64  \n",
      " 6   IsActiveMember     2000 non-null   int64  \n",
      " 7   EstimatedSalary    2000 non-null   float64\n",
      " 8   Geography_Germany  2000 non-null   int64  \n",
      " 9   Geography_Spain    2000 non-null   int64  \n",
      " 10  Gender_Male        2000 non-null   int64  \n",
      "dtypes: float64(5), int64(6)\n",
      "memory usage: 187.5 KB\n"
     ]
    }
   ],
   "source": [
    "X_valid.info()"
   ]
  },
  {
   "cell_type": "markdown",
   "metadata": {},
   "source": [
    "---\n",
    "\n",
    "<div style='background-color:rgba(12, 120, 210, 0.15); padding:30px;'><span style='color:darkblue'>\n",
    "                         \n",
    "(**Comentarios Secundarios del Alumno - Milton Valle**)\n",
    "    \n",
    " * Se puede apreciar en las dos celdas superiores que hemos logrado escalar exitosamente las columnas `CreditScore`, `Age`, `Balance', 'EstimatedSalary` para el Conjunto de Validación.\n",
    "    \n",
    "    \n",
    " * Por otro lado podemos constatar también que este conjunto de datos está conformado por **2000 filas de datos, lo que equivale al 20% del dataset del proyecto**.\n",
    "    \n",
    "</div>\n",
    "    \n",
    "---"
   ]
  },
  {
   "cell_type": "code",
   "execution_count": 25,
   "metadata": {},
   "outputs": [
    {
     "data": {
      "text/html": [
       "<div>\n",
       "<style scoped>\n",
       "    .dataframe tbody tr th:only-of-type {\n",
       "        vertical-align: middle;\n",
       "    }\n",
       "\n",
       "    .dataframe tbody tr th {\n",
       "        vertical-align: top;\n",
       "    }\n",
       "\n",
       "    .dataframe thead th {\n",
       "        text-align: right;\n",
       "    }\n",
       "</style>\n",
       "<table border=\"1\" class=\"dataframe\">\n",
       "  <thead>\n",
       "    <tr style=\"text-align: right;\">\n",
       "      <th></th>\n",
       "      <th>CreditScore</th>\n",
       "      <th>Age</th>\n",
       "      <th>Tenure</th>\n",
       "      <th>Balance</th>\n",
       "      <th>NumOfProducts</th>\n",
       "      <th>HasCrCard</th>\n",
       "      <th>IsActiveMember</th>\n",
       "      <th>EstimatedSalary</th>\n",
       "      <th>Geography_Germany</th>\n",
       "      <th>Geography_Spain</th>\n",
       "      <th>Gender_Male</th>\n",
       "    </tr>\n",
       "  </thead>\n",
       "  <tbody>\n",
       "    <tr>\n",
       "      <th>657</th>\n",
       "      <td>-0.504497</td>\n",
       "      <td>1.429928</td>\n",
       "      <td>1.0</td>\n",
       "      <td>0.873883</td>\n",
       "      <td>2</td>\n",
       "      <td>1</td>\n",
       "      <td>1</td>\n",
       "      <td>1.725255</td>\n",
       "      <td>1</td>\n",
       "      <td>0</td>\n",
       "      <td>0</td>\n",
       "    </tr>\n",
       "    <tr>\n",
       "      <th>2083</th>\n",
       "      <td>-1.195031</td>\n",
       "      <td>-1.429769</td>\n",
       "      <td>1.0</td>\n",
       "      <td>-1.219673</td>\n",
       "      <td>1</td>\n",
       "      <td>1</td>\n",
       "      <td>1</td>\n",
       "      <td>1.203665</td>\n",
       "      <td>0</td>\n",
       "      <td>0</td>\n",
       "      <td>1</td>\n",
       "    </tr>\n",
       "    <tr>\n",
       "      <th>3234</th>\n",
       "      <td>-1.267176</td>\n",
       "      <td>0.762665</td>\n",
       "      <td>1.0</td>\n",
       "      <td>-1.219673</td>\n",
       "      <td>1</td>\n",
       "      <td>1</td>\n",
       "      <td>0</td>\n",
       "      <td>-1.374743</td>\n",
       "      <td>0</td>\n",
       "      <td>0</td>\n",
       "      <td>1</td>\n",
       "    </tr>\n",
       "  </tbody>\n",
       "</table>\n",
       "</div>"
      ],
      "text/plain": [
       "      CreditScore       Age  Tenure   Balance  NumOfProducts  HasCrCard  \\\n",
       "657     -0.504497  1.429928     1.0  0.873883              2          1   \n",
       "2083    -1.195031 -1.429769     1.0 -1.219673              1          1   \n",
       "3234    -1.267176  0.762665     1.0 -1.219673              1          1   \n",
       "\n",
       "      IsActiveMember  EstimatedSalary  Geography_Germany  Geography_Spain  \\\n",
       "657                1         1.725255                  1                0   \n",
       "2083               1         1.203665                  0                0   \n",
       "3234               0        -1.374743                  0                0   \n",
       "\n",
       "      Gender_Male  \n",
       "657             0  \n",
       "2083            1  \n",
       "3234            1  "
      ]
     },
     "execution_count": 25,
     "metadata": {},
     "output_type": "execute_result"
    }
   ],
   "source": [
    "X_test.head(3)"
   ]
  },
  {
   "cell_type": "code",
   "execution_count": 26,
   "metadata": {},
   "outputs": [
    {
     "name": "stdout",
     "output_type": "stream",
     "text": [
      "<class 'pandas.core.frame.DataFrame'>\n",
      "Int64Index: 2000 entries, 657 to 8832\n",
      "Data columns (total 11 columns):\n",
      " #   Column             Non-Null Count  Dtype  \n",
      "---  ------             --------------  -----  \n",
      " 0   CreditScore        2000 non-null   float64\n",
      " 1   Age                2000 non-null   float64\n",
      " 2   Tenure             2000 non-null   float64\n",
      " 3   Balance            2000 non-null   float64\n",
      " 4   NumOfProducts      2000 non-null   int64  \n",
      " 5   HasCrCard          2000 non-null   int64  \n",
      " 6   IsActiveMember     2000 non-null   int64  \n",
      " 7   EstimatedSalary    2000 non-null   float64\n",
      " 8   Geography_Germany  2000 non-null   int64  \n",
      " 9   Geography_Spain    2000 non-null   int64  \n",
      " 10  Gender_Male        2000 non-null   int64  \n",
      "dtypes: float64(5), int64(6)\n",
      "memory usage: 187.5 KB\n"
     ]
    }
   ],
   "source": [
    "X_test.info()"
   ]
  },
  {
   "cell_type": "markdown",
   "metadata": {},
   "source": [
    "---\n",
    "\n",
    "<div style='background-color:rgba(12, 120, 210, 0.15); padding:30px;'><span style='color:darkblue'>\n",
    "                         \n",
    "(**Comentarios Secundarios del Alumno - Milton Valle**)\n",
    "    \n",
    " * Se puede apreciar en las dos celdas superiores que hemos logrado escalar exitosamente las columnas `CreditScore`, `Age`, `Balance', 'EstimatedSalary` para el Conjunto de Prueba.\n",
    "    \n",
    "    \n",
    " * Por otro lado podemos constatar también que este conjunto de datos está conformado por **2000 filas de datos, lo que equivale al 20% restante del dataset del proyecto**.\n",
    "    \n",
    "</div>\n",
    "    \n",
    "---"
   ]
  },
  {
   "cell_type": "markdown",
   "metadata": {},
   "source": [
    "<div class=\"alert alert-block alert-success\">\n",
    "<b>Comentario del revisor (1ra Iteración)</b> <a class=“tocSkip”></a>\n",
    "    \n",
    "Excelente Milton, escalar/normalizar los datos numéricos es fundamental para tener un buen rendimiento en los modelos predictivos. Por otro lado, el uso de la función `copy` es muy buena practica, sobretodo si se hacen varias operaciones sobre los datos.\n",
    "\n",
    "</div>"
   ]
  },
  {
   "cell_type": "markdown",
   "metadata": {},
   "source": [
    "---\n",
    "\n",
    "[Volver a Contenido](#back)\n",
    "\n",
    "---"
   ]
  },
  {
   "cell_type": "markdown",
   "metadata": {},
   "source": [
    "<span style='color:brown'>\n",
    "\n",
    "# ETAPA 2: Entrenando el Modelo con Desequilibrio de Clases<a id=train1></a>\n",
    "\n",
    "</span>\n"
   ]
  },
  {
   "cell_type": "markdown",
   "metadata": {},
   "source": [
    "<span style='color:blue'>\n",
    "    \n",
    "## 2.1. Examinando el Equilibrio de Clases<a id='equilibrio'></a>\n",
    "    \n",
    "</span>"
   ]
  },
  {
   "cell_type": "code",
   "execution_count": 27,
   "metadata": {},
   "outputs": [
    {
     "name": "stdout",
     "output_type": "stream",
     "text": [
      "Distribución de clases en el conjunto de entrenamiento:\n",
      "0    79.633333\n",
      "1    20.366667\n",
      "Name: Exited, dtype: float64\n"
     ]
    },
    {
     "data": {
      "image/png": "[encoded data removed]",
      "text/plain": [
       "<Figure size 500x400 with 1 Axes>"
      ]
     },
     "metadata": {},
     "output_type": "display_data"
    }
   ],
   "source": [
    "# Inicialmente voy a examinar el grado de equilibrio de clases que presenta la variable objetivo, correspondiente al conjunto de datos de entrenamiento\n",
    "class_distribution = y_train.value_counts(normalize=True)\n",
    "print(\"Distribución de clases en el conjunto de entrenamiento:\")\n",
    "print(class_distribution*100)\n",
    "\n",
    "# Ahora graficaré los resultados obtenidos, para apoyarme en un soporte visual\n",
    "plt.figure(figsize=(5, 4))\n",
    "sns.barplot(x=class_distribution.index, y=class_distribution.values*100)\n",
    "plt.title(\"Distribución de Clases\")\n",
    "plt.xlabel(\"Clase\")\n",
    "plt.ylabel(\"Porcentaje [%]\")\n",
    "plt.show()"
   ]
  },
  {
   "cell_type": "markdown",
   "metadata": {},
   "source": [
    "---"
   ]
  },
  {
   "cell_type": "markdown",
   "metadata": {},
   "source": [
    "<div style='background-color:rgba(12, 120, 210, 0.3); padding:30px;'><span style='color:darkblue'>\n",
    "                         \n",
    "(**Comentarios del Alumno - Milton Valle**)\n",
    "    \n",
    "Con la ayuda de la gráfica superior se puede apreciar que en el Conjunto de Entrenamiento con el cual entrenaremos nuestro modelo presenta:\n",
    "    \n",
    " - **79.63%** de los datos corresponden a **clientes que aún continúan solicitando los servicios** de `Beta Bank`.\n",
    "    \n",
    " - **20.37%** de los datos corresponden a **clientes que ya han dejado de requerir los servicios** ofrecidos por `Beta Bank`.\n",
    "    \n",
    "</div>"
   ]
  },
  {
   "cell_type": "markdown",
   "metadata": {},
   "source": [
    "---"
   ]
  },
  {
   "cell_type": "markdown",
   "metadata": {},
   "source": [
    "<div class=\"alert alert-block alert-success\">\n",
    "<b>Comentario del revisor (1ra Iteración)</b> <a class=“tocSkip”></a>\n",
    "    \n",
    "Perfecto. El uso de visualizaciones nos ayuda a tener un mejor entendimiento de los datos.\n",
    "\n",
    "</div>"
   ]
  },
  {
   "cell_type": "markdown",
   "metadata": {},
   "source": [
    "---\n",
    "\n",
    "[Volver a Contenido](#back)\n",
    "\n",
    "---"
   ]
  },
  {
   "cell_type": "markdown",
   "metadata": {},
   "source": [
    "<span style='color:blue'>\n",
    "    \n",
    "## 2.2. Entrenamiento Inicial de los Modelos del Proyecto<a id='fit1'></a>\n",
    "    \n",
    "</span>"
   ]
  },
  {
   "cell_type": "code",
   "execution_count": 28,
   "metadata": {},
   "outputs": [],
   "source": [
    "# Primeramente voy a inicializar los modelos que utilizaré en este proyecto, con sus hiperparámetros configurados POR DEFECTO\n",
    "\n",
    "models = {\n",
    "    'Logistic Regression': LogisticRegression(random_state=12345),\n",
    "    'Decision Tree': DecisionTreeClassifier(random_state=12345),\n",
    "    'Random Forest': RandomForestClassifier(random_state=12345),\n",
    "    'Gradient Boosting': GradientBoostingClassifier(random_state=12345)\n",
    "}\n",
    "\n",
    "# Voy a crear un Diccionario VACÍO que almacenará los resultados de las métricas F1 y AUC-ROC, obtenidos con cada modelo\n",
    "results = {}\n",
    "\n",
    "# --------------------------------------------------------------------------------------------------------------------------------------------------------------\n",
    "# Seguidamente voy a utilizar un bucle FOR para  entrenar, predecir y mostrar los resultados obtenidos con cada uno de los modelos\n",
    "for model_name, model in models.items():\n",
    "    # Entrenamiento del modelo\n",
    "    model.fit(X_train, y_train)\n",
    "    # Realizamos las predicciones con el Conjunto de Validación\n",
    "    y_valid_pred = model.predict(X_valid)\n",
    "    # Calculamos la métrica F1\n",
    "    f1 = f1_score(y_valid, y_valid_pred)\n",
    "    # Ahora calculamos la métrica AUC-ROC\n",
    "    auc_roc = roc_auc_score(y_valid, model.predict_proba(X_valid)[:, 1])\n",
    "    # Guardamos los resultados de los cálculos en nuestro DICCIONARIO DE RESULTADOS\n",
    "    results[model_name] = {'F1 Score': f1, 'AUC-ROC': auc_roc}\n",
    "# --------------------------------------------------------------------------------------------------------------------------------------------------------------"
   ]
  },
  {
   "cell_type": "code",
   "execution_count": 29,
   "metadata": {},
   "outputs": [
    {
     "data": {
      "image/png": "[encoded data removed]",
      "text/plain": [
       "<Figure size 800x500 with 1 Axes>"
      ]
     },
     "metadata": {},
     "output_type": "display_data"
    }
   ],
   "source": [
    "# Ahora realizaremos una gráfica que ilustrará de mejor manera los resultados que recientemente hemos obtenido\n",
    "f1_scores = [metrics['F1 Score'] for metrics in results.values()]\n",
    "auc_scores = [metrics['AUC-ROC'] for metrics in results.values()]\n",
    "\n",
    "# Configuramos el tamaño que tendrá nuestra gráfica\n",
    "plt.figure(figsize=(8, 5))\n",
    "\n",
    "# Definimos y configuramos las caracteristicas de las dos barras  (F1 Score y la otra para AUC-ROC)\n",
    "x = range(len(models))\n",
    "width = 0.39\n",
    "plt.bar([i - width/2 for i in x], f1_scores, width, label='F1 Score', color='skyblue')\n",
    "plt.bar([i + width/2 for i in x], auc_scores, width, label='AUC-ROC', color='lightgreen')\n",
    "\n",
    "# Añadimos una línea de referencia para F1 Score = 0.59\n",
    "plt.axhline(y=0.59, color='red', linestyle='--', label='F1 Score Objetivo (0.59)')\n",
    "\n",
    "# Configurarmos los datos que tendrá nuestra visualización\n",
    "plt.xlabel('MODELOS')\n",
    "plt.ylabel('Puntuación')\n",
    "plt.title('Comparación de Modelos - F1 Score y AUC-ROC')\n",
    "plt.xticks(x, models.keys(), rotation=45)\n",
    "plt.legend()\n",
    "plt.ylim(0, 1.2)  # Establecemos límites del eje \"y\" de 0 a 1.2 para un amejor visualización del LEGEND\n",
    "plt.tight_layout()\n",
    "plt.show()\n"
   ]
  },
  {
   "cell_type": "code",
   "execution_count": 30,
   "metadata": {},
   "outputs": [
    {
     "name": "stdout",
     "output_type": "stream",
     "text": [
      "---------------------------------------------------\n",
      "Resultados    -    LOGISTIC REGRESSION\n",
      "---------------------------------------------------\n",
      "F1 Score:  0.3046      -      AUC-ROC:  0.7876\n",
      "Objetivo Cumplido (F1 > 0.59):   NO \n",
      "\n",
      "---------------------------------------------------\n",
      "Resultados    -    DECISION TREE\n",
      "---------------------------------------------------\n",
      "F1 Score:  0.5054      -      AUC-ROC:  0.6907\n",
      "Objetivo Cumplido (F1 > 0.59):   NO \n",
      "\n",
      "---------------------------------------------------\n",
      "Resultados    -    RANDOM FOREST\n",
      "---------------------------------------------------\n",
      "F1 Score:  0.6127      -      AUC-ROC:  0.8623\n",
      "Objetivo Cumplido (F1 > 0.59):   SI \n",
      "\n",
      "---------------------------------------------------\n",
      "Resultados    -    GRADIENT BOOSTING\n",
      "---------------------------------------------------\n",
      "F1 Score:  0.6021      -      AUC-ROC:  0.8763\n",
      "Objetivo Cumplido (F1 > 0.59):   SI \n",
      "\n"
     ]
    }
   ],
   "source": [
    "# Finalmente con la ayuda de un bucle FOR presento los resultados numéricos obtenidos en nuestros cálculos anteriores\n",
    "for name, metrics in results.items():\n",
    "    print('-'*51)\n",
    "    print(f\"Resultados    -    {name.upper()}\")\n",
    "    print('-'*51)\n",
    "    print(f\"F1 Score:  {metrics['F1 Score']:.4f}      -      AUC-ROC:  {metrics['AUC-ROC']:.4f}\")\n",
    "    print(f\"Objetivo Cumplido (F1 > 0.59):  {' SI ' if metrics['F1 Score'] > 0.59 else ' NO '}\\n\")\n"
   ]
  },
  {
   "cell_type": "markdown",
   "metadata": {},
   "source": [
    "---"
   ]
  },
  {
   "cell_type": "markdown",
   "metadata": {},
   "source": [
    "<div style='background-color:rgba(12, 120, 210, 0.3); padding:30px;'><span style='color:darkblue'>\n",
    "                         \n",
    "(**Comentarios del Alumno - Milton Valle**)\n",
    "    \n",
    "A partir de los resultados iniciales obtenidos de F1 Score y AUC-ROC, para los cuatro modelos que hemos considerado en esta parte del proyecto, se puede apreciar que: \n",
    "    \n",
    " 1. El Modelo **`Logistic Regression`** ha alcanzado un valor de **`F1 = 0.3046`**, esto se debe principalmente al desequilibrio que se tiene en las clases, lo cual ha ocasionado que no se tenga un buen balance entre **Precisión** y **Sensibilidad** con este modelo en particular. Teniéndo como resultado que **no se ha podido cumplir con el objetivo** de alcanzar un valor de **F1 &ge; 0.59**.  \n",
    "    \n",
    "    \n",
    " 2. Por otro lado el modelo **`Logistic Regression`** a obtenido un **`AUC-ROC = 0.7876`**, lo cual es un indicador positivo de que este modelo si ha tenido una buena capacidad para poder discriminar los clientes que se irán y los que no se irán de **`Beta Bank`**.\n",
    "\n",
    " 3. El modelo **`Decision Tree`** ha alcanzado un valor de **`F1 = 0.5054`**, lo cual nos indica que con este modelo el desbalance existente de las clases en la variable `Exited` ha obtenido un mejor balance entre **Precisión** y **Sensibilidad**,  sin embargo en terminos generales **tampoco ha podido cumplir con el objetivo** de alcanzar un **F1 &ge; 0.59**.\n",
    "    \n",
    "    \n",
    " 4. En lo que respecta a la métrica del *Área Bajo la Curva de la Caractarística Operativa del Receptor* con el modelo **`Decision Tree`** este modelo ha obtenido un **`AUC-ROC = 0.6907`** lo que nos indica que este modelo **no ha logrado tener una buena capacidad para poder discrimiar entre los clientes que se van y los que no del banco**, o al menos no una tan buena como el modelo Logistic Regression.\n",
    "\n",
    " 5. El modelo**`Decision Tree`** ha alcanzado un valor de **`F1 = 0.5054`**, lo cual nos indica que con este modelo el desbalance existente de las clases en la variable `Exited` ha obtenido un mejor balance entre **Precisión** y **Sensibilidad**,  sin embargo en terminos generales **tampoco ha podido cumplir con el objetivo** de alcanzar un **F1 &ge; 0.59**.\n",
    "    \n",
    "    \n",
    " 6. En lo que respecta a la métrica del *Área Bajo la Curva de la Caractarística Operativa del Receptor* con el modelo **`Decision Tree`** este modelo ha obtenido un **`AUC-ROC = 0.6907`** lo que nos indica que este modelo **no ha logrado tener una buena capacidad para poder discrimiar entre los clientes que se van y los que no del banco**, o al menos no una tan buena como el modelo Logistic Regression.\n",
    "\n",
    " 7. El modelo **`Random Forest`** ha obtenido un valor de **`0.6127 para F1`**, lo cual nos indica que este modelo ha obtenido el mejor balance (*hasta ahora*) entre **Precisión** y **Sensibilidad** y además de ello **SI HA CUMPLIDO CON EL OBJETIVO DE SUPERAR EL UMBRAL de 0.59 para F1**.\n",
    "    \n",
    "    \n",
    " 8. Ahora tomando encuenta la metrica del *AUC-ROC* con el modelo **`Random Forest`**, este modelo ha obtenido un **`AUC-ROC = 0.8623`**. Lo cual es un indicador que este modelo ha tenido **la mejor capacidad para poder discriminar entre los clientes que se van y los que se quedarán en el banco**.\n",
    "\n",
    " 9. El modelo **`Gradient Boosting`** ha obtenido un valor de **0.6021 para F1**,  habiendo **pasado  también el umbral propuesto de F1 &ge; 0.59**, aunque no por mucho, pero ha cumplido con ese requisito inicial. Mostrando numéricamente también que este modelo ha tenido un buen balance entre **Precisión** y **Sensibilidad**.\n",
    "\n",
    " 10. En lo que respecta a la métrica AUC-ROC con el modelo **`Gradient Boosting`**, este modelo ha obtenido un **`AUC-ROC = 0.8763`**. Demostrando que **este modelo es el que mejor ha sabido discriminar entre los clientes que se van y los que se quedan en el banco**, considerando que los *hiperparámetros se han dejado con sus ajustes por defecto* y además *no hemos realizado ningún trabajo de balanceo de las clases*.\n",
    "\n",
    "\n",
    "    \n",
    "    \n",
    "</div>\n",
    "    "
   ]
  },
  {
   "cell_type": "markdown",
   "metadata": {},
   "source": [
    "<div class=\"alert alert-block alert-success\">\n",
    "<b>Comentario del revisor (1ra Iteración)</b> <a class=“tocSkip”></a>\n",
    "    \n",
    "Gran trabajo Milton, has desarrollado un proceso de entrenamiento y validación correcta. Tu presentación de resultados es excelente.\n",
    "\n",
    "</div>"
   ]
  },
  {
   "cell_type": "markdown",
   "metadata": {},
   "source": [
    "---\n",
    "\n",
    "[Volver a Contenido](#back)\n",
    "\n",
    "---"
   ]
  },
  {
   "cell_type": "markdown",
   "metadata": {},
   "source": [
    "<span style='color:brown'>\n",
    "\n",
    "# ETAPA 3: Corrección del Desequilibrio de Clases<a id=etapa3></a>\n",
    "\n",
    "</span>\n"
   ]
  },
  {
   "cell_type": "markdown",
   "metadata": {},
   "source": [
    "<span style='color:blue'>\n",
    "    \n",
    "## 3.1. Condiciones Iniciales del Conjunto de Entrenamiento<a id='condini'></a>\n",
    "    \n",
    "</span>"
   ]
  },
  {
   "cell_type": "code",
   "execution_count": 31,
   "metadata": {},
   "outputs": [
    {
     "name": "stdout",
     "output_type": "stream",
     "text": [
      "Distribución Original de Clases en el Conjunto de Entrenamiento:\n",
      "0    79.633333\n",
      "1    20.366667\n",
      "Name: Exited, dtype: float64\n",
      "\n",
      "Numero Total de Ceros y Unos\n",
      "0    4778\n",
      "1    1222\n",
      "Name: Exited, dtype: int64\n"
     ]
    },
    {
     "data": {
      "image/png": "[encoded data removed]",
      "text/plain": [
       "<Figure size 500x400 with 1 Axes>"
      ]
     },
     "metadata": {},
     "output_type": "display_data"
    }
   ],
   "source": [
    "# Inicialmente voy a examinar el grado de equilibrio de clases que presenta la variable objetivo, correspondiente al conjunto de datos de entrenamiento\n",
    "ini_distribution = y_train.value_counts(normalize=True)\n",
    "print(\"Distribución Original de Clases en el Conjunto de Entrenamiento:\")\n",
    "print(ini_distribution*100)\n",
    "print('\\nNumero Total de Ceros y Unos')\n",
    "print(y_train.value_counts())\n",
    "\n",
    "# Ahora graficaré los resultados obtenidos, para apoyarme en un soporte visual\n",
    "plt.figure(figsize=(5, 4))\n",
    "sns.barplot(x=ini_distribution.index, y=ini_distribution.values*100)\n",
    "plt.title(\"Distribución de Clases\")\n",
    "plt.xlabel(\"Clase\")\n",
    "plt.ylabel(\"Porcentaje [%]\")\n",
    "plt.show()"
   ]
  },
  {
   "cell_type": "markdown",
   "metadata": {},
   "source": [
    "---\n",
    "\n",
    "<div style='background-color:rgba(12, 120, 210, 0.3); padding:30px;'><span style='color:darkblue'>\n",
    "                         \n",
    "(**Comentarios del Alumno - Milton Valle**)\n",
    "    \n",
    "Con ayuda de las celdas superiores se puede apreciar lo siguiente:\n",
    "    \n",
    " - La `variable objetivo` del **Conjunto de Entrenamiento** esta conformada por **4778 datos** con valor `1` y **1222 datos** con valor `0`. Alcanzndo un total de 6000 datos.\n",
    "    \n",
    "    \n",
    " - La `variable objetivo` del **Conjunto de Entrenamiento** tiene un 79.63% de valores positivos o `1`, y un restante 20.37% de valores negativos o `0`.\n",
    "    \n",
    "</div>\n",
    "    \n",
    "---"
   ]
  },
  {
   "cell_type": "markdown",
   "metadata": {},
   "source": [
    "<span style='color:blue'>\n",
    "    \n",
    "## 3.2. Conjunto de Entrenamiento con Submuestreo<a id='submuestreo'></a>\n",
    "    \n",
    "</span>"
   ]
  },
  {
   "cell_type": "code",
   "execution_count": 32,
   "metadata": {},
   "outputs": [],
   "source": [
    "# Implementación de la función de Submuestreo \n",
    "def undersample(X, y):\n",
    "    # Dividimos entre clases mayoritaria y minoritaria\n",
    "    X_majority = X[y == 0]\n",
    "    y_majority = y[y == 0]\n",
    "    X_minority = X[y == 1]\n",
    "    y_minority = y[y == 1]\n",
    "    \n",
    "    # Realizamos el submuestreo aleatorio de la clase mayoritaria para igualar la clase minoritaria\n",
    "    X_majority_undersampled = X_majority.sample(len(y_minority), random_state=42)\n",
    "    y_majority_undersampled = y_majority.sample(len(y_minority), random_state=42)\n",
    "    \n",
    "    # Ahora realizo la combinación de ambas clases\n",
    "    X_undersampled = pd.concat([X_majority_undersampled, X_minority], axis=0)\n",
    "    y_undersampled = pd.concat([y_majority_undersampled, y_minority], axis=0)\n",
    "    \n",
    "    # Finalmente retorno ambos DataFrames de submuestreo\n",
    "    return X_undersampled, y_undersampled"
   ]
  },
  {
   "cell_type": "code",
   "execution_count": 33,
   "metadata": {},
   "outputs": [
    {
     "data": {
      "text/plain": [
       "((2444, 11), (2444,))"
      ]
     },
     "execution_count": 33,
     "metadata": {},
     "output_type": "execute_result"
    }
   ],
   "source": [
    "# Ahora aplicamos nuestra función de submuestreo\n",
    "X_train_under, y_train_under = undersample(X_train, y_train)\n",
    "\n",
    "# Finalmente ahora muestro las formas de los conjuntos generados\n",
    "(X_train_under.shape, y_train_under.shape)"
   ]
  },
  {
   "cell_type": "code",
   "execution_count": 34,
   "metadata": {},
   "outputs": [
    {
     "name": "stdout",
     "output_type": "stream",
     "text": [
      "Distribución de clases en el conjunto de entrenamiento:\n",
      "0    50.0\n",
      "1    50.0\n",
      "Name: Exited, dtype: float64\n",
      "\n",
      "Numero Total de Ceros y Unos\n",
      "0    1222\n",
      "1    1222\n",
      "Name: Exited, dtype: int64\n"
     ]
    },
    {
     "data": {
      "image/png": "[encoded data removed]",
      "text/plain": [
       "<Figure size 500x400 with 1 Axes>"
      ]
     },
     "metadata": {},
     "output_type": "display_data"
    }
   ],
   "source": [
    "# Inicialmente voy a examinar el grado de equilibrio de clases que presenta la variable objetivo, correspondiente al conjunto de datos de entrenamiento\n",
    "sub_distribution = y_train_under.value_counts(normalize=True)\n",
    "print(\"Distribución de clases en el conjunto de entrenamiento:\")\n",
    "print(sub_distribution*100)\n",
    "print('\\nNumero Total de Ceros y Unos')\n",
    "print(y_train_under.value_counts())\n",
    "\n",
    "# Ahora graficaré los resultados obtenidos, para apoyarme en un soporte visual\n",
    "plt.figure(figsize=(5, 4))\n",
    "sns.barplot(x=sub_distribution.index, y=sub_distribution.values*100)\n",
    "plt.title(\"Distribución de Clases\")\n",
    "plt.xlabel(\"Clase\")\n",
    "plt.ylabel(\"Porcentaje [%]\")\n",
    "plt.show()"
   ]
  },
  {
   "cell_type": "markdown",
   "metadata": {},
   "source": [
    "---"
   ]
  },
  {
   "cell_type": "markdown",
   "metadata": {},
   "source": [
    "<div style='background-color:rgba(12, 120, 210, 0.3); padding:30px;'><span style='color:darkblue'>\n",
    "                         \n",
    "(**Comentarios del Alumno - Milton Valle**)\n",
    "    \n",
    "Con la implementación de la `Técnica de Submuestreo` hemos realizado los siguientes cambios:\n",
    "    \n",
    " 1. Con la implementación de esta técnica se ha reducido el Conjunto de Entrenamiento de 6000 filas de datos a 2444 filas de datos. \n",
    "    \n",
    "    \n",
    " 2. Esto quiere decir que con la implementación de la Técnica de Submuestreo **el dataset de entrenamiento resultante se ha reducido a un 40.73% de su cantidad de datos original**.\n",
    "    \n",
    "    \n",
    " 3. Siendo por lo tanto que 1222 datos corresponden a la clase `1` y otros 1222 datos corresponden a la clase `0`.\n",
    "    \n",
    "    \n",
    " - Con ayuda de la gráfica superior se puede apreciar que **se ha llegado a equilibrar el nuevo dataset de entrenamiento con un 50% de valores de la clase `0`** y el 50% restante corresponde a los valores de la clase `1`.\n",
    "    \n",
    "</div>"
   ]
  },
  {
   "cell_type": "markdown",
   "metadata": {},
   "source": [
    "---"
   ]
  },
  {
   "cell_type": "markdown",
   "metadata": {},
   "source": [
    "---\n",
    "\n",
    "[Volver a Contenido](#back)\n",
    "\n",
    "---"
   ]
  },
  {
   "cell_type": "markdown",
   "metadata": {},
   "source": [
    "<span style='color:blue'>\n",
    "    \n",
    "## 3.3. Conjunto de Entrenamiento con Sobremuestreo<a id='sobremuestreo'></a>\n",
    "    \n",
    "</span>"
   ]
  },
  {
   "cell_type": "code",
   "execution_count": 35,
   "metadata": {},
   "outputs": [],
   "source": [
    "# Implementación de la función de Sobremuestreo\n",
    "def oversample(X, y):\n",
    "    # Luego Dividimos entre clases mayoritaria y minoritaria\n",
    "    X_majority = X[y == 0]\n",
    "    y_majority = y[y == 0]\n",
    "    X_minority = X[y == 1]\n",
    "    y_minority = y[y == 1]\n",
    "    \n",
    "    # Seguidamente realizamos el sobremuestreo aleatorio de la clase minoritaria para igualar la clase mayoritaria\n",
    "    X_minority_oversampled = X_minority.sample(len(y_majority), replace=True, random_state=42)\n",
    "    y_minority_oversampled = y_minority.sample(len(y_majority), replace=True, random_state=42)\n",
    "    \n",
    "    # Ahora realizo la combinar ambas clases\n",
    "    X_oversampled = pd.concat([X_majority, X_minority_oversampled], axis=0)\n",
    "    y_oversampled = pd.concat([y_majority, y_minority_oversampled], axis=0)\n",
    "    \n",
    "    # Finalmente retorno ambos dataframes de sobremuestreo\n",
    "    return X_oversampled, y_oversampled"
   ]
  },
  {
   "cell_type": "code",
   "execution_count": 36,
   "metadata": {},
   "outputs": [
    {
     "data": {
      "text/plain": [
       "((9556, 11), (9556,))"
      ]
     },
     "execution_count": 36,
     "metadata": {},
     "output_type": "execute_result"
    }
   ],
   "source": [
    "# Ahora ya es hora de que apliquemos nuestra función de sobremuestreo\n",
    "X_train_over, y_train_over = oversample(X_train, y_train)\n",
    "\n",
    "# Como último paso muestro las formas de los conjuntos generados\n",
    "X_train_over.shape, y_train_over.shape"
   ]
  },
  {
   "cell_type": "code",
   "execution_count": 37,
   "metadata": {},
   "outputs": [
    {
     "name": "stdout",
     "output_type": "stream",
     "text": [
      "Distribución de clases en el conjunto de entrenamiento:\n",
      "0    50.0\n",
      "1    50.0\n",
      "Name: Exited, dtype: float64\n",
      "\n",
      "Numero Total de Ceros y Unos\n",
      "0    4778\n",
      "1    4778\n",
      "Name: Exited, dtype: int64\n"
     ]
    },
    {
     "data": {
      "image/png": "[encoded data removed]",
      "text/plain": [
       "<Figure size 500x400 with 1 Axes>"
      ]
     },
     "metadata": {},
     "output_type": "display_data"
    }
   ],
   "source": [
    "# Inicialmente voy a examinar el grado de equilibrio de clases que presenta la variable objetivo, correspondiente al conjunto de datos de entrenamiento\n",
    "over_distribution = y_train_over.value_counts(normalize=True)\n",
    "print(\"Distribución de clases en el conjunto de entrenamiento:\")\n",
    "print(over_distribution*100)\n",
    "print('\\nNumero Total de Ceros y Unos')\n",
    "print(y_train_over.value_counts())\n",
    "\n",
    "# Ahora graficaré los resultados obtenidos, para apoyarme en un soporte visual\n",
    "plt.figure(figsize=(5, 4))\n",
    "sns.barplot(x=over_distribution.index, y=over_distribution.values*100)\n",
    "plt.title(\"Distribución de Clases\")\n",
    "plt.xlabel(\"Clase\")\n",
    "plt.ylabel(\"Porcentaje [%]\")\n",
    "plt.show()"
   ]
  },
  {
   "cell_type": "markdown",
   "metadata": {},
   "source": [
    "---\n",
    "\n",
    "<div style='background-color:rgba(12, 120, 210, 0.3); padding:30px;'><span style='color:darkblue'>\n",
    "                         \n",
    "(**Comentarios del Alumno - Milton Valle**)\n",
    "    \n",
    "Con la implementación de la `Técnica de Sobremuestreo` hemos realizado los siguientes cambios:\n",
    "    \n",
    " 1. Con la implementación de esta técnica se ha incrementado el Conjunto de Entrenamiento de 6000 filas de datos a 9556 filas de datos. \n",
    "    \n",
    "    \n",
    " 2. Esto quiere decir que con la implementación de la Técnica de Sobremuestreo **el dataset de entrenamiento resultante se ha incrementado a un 159.26% de su cantidad de datos original**.\n",
    "    \n",
    "    \n",
    " 3. Siendo por lo tanto que 4778 datos corresponden a la clase `1` y otros 4778 datos corresponden a la clase `0`.\n",
    "    \n",
    "    \n",
    " 4. Con ayuda de la gráfica superior se puede apreciar que **se ha llegado a equilibrar el nuevo dataset de entrenamiento con un 50% de valores de la clase `0`** y el 50% restante corresponde a los valores de la clase `1`.\n",
    "    \n",
    "</div>\n",
    "    \n",
    "---"
   ]
  },
  {
   "cell_type": "markdown",
   "metadata": {},
   "source": [
    "---\n",
    "\n",
    "[Volver a Contenido](#back)\n",
    "\n",
    "---"
   ]
  },
  {
   "cell_type": "markdown",
   "metadata": {},
   "source": [
    "<span style='color:blue'>\n",
    "    \n",
    "## 3.4. Implementación de la Técnica de Submuestreo<a id='tecnicasub'></a>\n",
    "    \n",
    "</span>"
   ]
  },
  {
   "cell_type": "code",
   "execution_count": 38,
   "metadata": {},
   "outputs": [],
   "source": [
    "# Creamos un diccionario que contiene los resultados de los modelos utilizando el submuestreo\n",
    "undersampled_results = {}\n",
    "\n",
    "# Creamos un bucle FOR que nos ayudará a entrenar los modelos con datos del submuestreo\n",
    "for model_name, model in models.items():\n",
    "    # Entrenamos un modelo a la vez, con el conjunto submuestreado\n",
    "    model.fit(X_train_under, y_train_under)\n",
    "    \n",
    "    # Ahora realizamos las predicciones en el conjunto de validación\n",
    "    y_val_pred = model.predict(X_valid)\n",
    "    \n",
    "    # Calculamos las métricas F1 y AUC-ROC\n",
    "    f1 = f1_score(y_valid, y_val_pred)\n",
    "    auc_roc = roc_auc_score(y_valid, model.predict_proba(X_valid)[:, 1])\n",
    "    \n",
    "    # Seguidamente guardamos los resultados F1 y AUC-ROC\n",
    "    undersampled_results[model_name] = {\"F1 Score\": f1, \"AUC-ROC\": auc_roc}\n",
    "    "
   ]
  },
  {
   "cell_type": "markdown",
   "metadata": {},
   "source": [
    "---\n",
    "\n",
    "[Volver a Contenido](#back)\n",
    "\n",
    "---"
   ]
  },
  {
   "cell_type": "markdown",
   "metadata": {},
   "source": [
    "<span style='color:blue'>\n",
    "    \n",
    "## 3.5. Implementación de la Técnica de Sobremuestreo<a id='tecnicasob'></a>\n",
    "    \n",
    "</span>"
   ]
  },
  {
   "cell_type": "code",
   "execution_count": 39,
   "metadata": {},
   "outputs": [],
   "source": [
    "# Creamos un diccionario que contiene los resultados de los modelos utilizando el sobremuestreo\n",
    "oversampled_results = {}\n",
    "\n",
    "# Creamos un bucle FOR que nos ayudará a entrenar los modelos con datos del sobremuestreo\n",
    "for model_name, model in models.items():\n",
    "    # Entrenamos un modelo a la vez, con el conjunto sobremuestreado\n",
    "    model.fit(X_train_over, y_train_over)\n",
    "    \n",
    "    # Seguidamente realizamos las predicciones en el conjunto de validación\n",
    "    y_val_pred = model.predict(X_valid)\n",
    "    \n",
    "    # Calculamos las métricas F1 y AUC-ROC\n",
    "    f1 = f1_score(y_valid, y_val_pred)\n",
    "    auc_roc = roc_auc_score(y_valid, model.predict_proba(X_valid)[:, 1])\n",
    "    \n",
    "    # A continuación guardamos los resultados de F1 y AUC-ROC\n",
    "    oversampled_results[model_name] = {\"F1 Score\": f1, \"AUC-ROC\": auc_roc}"
   ]
  },
  {
   "cell_type": "markdown",
   "metadata": {},
   "source": [
    "---\n",
    "\n",
    "[Volver a Contenido](#back)\n",
    "\n",
    "---"
   ]
  },
  {
   "cell_type": "markdown",
   "metadata": {},
   "source": [
    "<span style='color:blue'>\n",
    "    \n",
    "## 3.6. Comparación de Resultados (Submuestreo VS. Sobremuestreo)<a id='vs.'></a>\n",
    "    \n",
    "</span>"
   ]
  },
  {
   "cell_type": "code",
   "execution_count": 40,
   "metadata": {},
   "outputs": [],
   "source": [
    "# En la siguiente función:\n",
    "#    - ´dic1´corresponde a los resultados del entrenamiento desbalanceado\n",
    "#    - `dic2´ corresponde a los resultados del entrenamiento con submuestreo\n",
    "#    - `dic3` corresponde a los resultados del entrenamiento con sobremuestreo\n",
    "\n",
    "def compare_metrics(dict1, dict2, dict3):\n",
    "    # Itera sobre los modelos presentes en los diccionarios de entrenamiento desbalanceado, submuestreo y sobremuestreo\n",
    "    for model in dict1.keys():\n",
    "        print(\"-\" * 114)\n",
    "        print(f\"{model.upper():>90}\")\n",
    "        print(\"-\" * 114)\n",
    "        # Iterar sobre las métricas disponibles ('F1 Score' y 'AUC-ROC')\n",
    "        for metric in dict1[model].keys():\n",
    "            value_dict1 = dict1[model][metric]\n",
    "            value_dict2 = dict2[model][metric]\n",
    "            value_dict3 = dict3[model][metric]\n",
    "            # Imprime una comparativa entre los valores de los tres diccionarios\n",
    "            print(f\"{metric:<10}:      Desbalanceado: {value_dict1:.4f}   |   Submuestreo: {value_dict2:.4f}   |   Sobremuestreo: {value_dict3:.4f}\")\n",
    "        print()"
   ]
  },
  {
   "cell_type": "code",
   "execution_count": 41,
   "metadata": {},
   "outputs": [
    {
     "name": "stdout",
     "output_type": "stream",
     "text": [
      "------------------------------------------------------------------------------------------------------------------\n",
      "                                                                       LOGISTIC REGRESSION\n",
      "------------------------------------------------------------------------------------------------------------------\n",
      "F1 Score  :      Desbalanceado: 0.3046   |   Submuestreo: 0.5375   |   Sobremuestreo: 0.5259\n",
      "AUC-ROC   :      Desbalanceado: 0.7876   |   Submuestreo: 0.7956   |   Sobremuestreo: 0.7933\n",
      "\n",
      "------------------------------------------------------------------------------------------------------------------\n",
      "                                                                             DECISION TREE\n",
      "------------------------------------------------------------------------------------------------------------------\n",
      "F1 Score  :      Desbalanceado: 0.5054   |   Submuestreo: 0.4957   |   Sobremuestreo: 0.5174\n",
      "AUC-ROC   :      Desbalanceado: 0.6907   |   Submuestreo: 0.7066   |   Sobremuestreo: 0.6959\n",
      "\n",
      "------------------------------------------------------------------------------------------------------------------\n",
      "                                                                             RANDOM FOREST\n",
      "------------------------------------------------------------------------------------------------------------------\n",
      "F1 Score  :      Desbalanceado: 0.6127   |   Submuestreo: 0.6000   |   Sobremuestreo: 0.6075\n",
      "AUC-ROC   :      Desbalanceado: 0.8623   |   Submuestreo: 0.8639   |   Sobremuestreo: 0.8646\n",
      "\n",
      "------------------------------------------------------------------------------------------------------------------\n",
      "                                                                         GRADIENT BOOSTING\n",
      "------------------------------------------------------------------------------------------------------------------\n",
      "F1 Score  :      Desbalanceado: 0.6021   |   Submuestreo: 0.6281   |   Sobremuestreo: 0.6265\n",
      "AUC-ROC   :      Desbalanceado: 0.8763   |   Submuestreo: 0.8743   |   Sobremuestreo: 0.8740\n",
      "\n"
     ]
    }
   ],
   "source": [
    "compare_metrics(results, undersampled_results, oversampled_results)"
   ]
  },
  {
   "cell_type": "markdown",
   "metadata": {},
   "source": [
    "---\n",
    "\n",
    "<div style='background-color:rgba(12, 120, 210, 0.3); padding:30px;'><span style='color:darkblue'>\n",
    "                         \n",
    "(**Comentarios del Alumno - Milton Valle**)\n",
    "    \n",
    "Con ayuda de la pequeña tabla comparativa que se encuentra en la parte superior se pueden validar fácilmente los siguientes puntos:\n",
    "    \n",
    " * Los modelos que ha presentado los **mejores resultados de** **`F1`**, tanto con la implementación de la técnica de **Submuestreo**, como para la técnica de **Sobremuestreo**; han sido los modelos **`Random Forest`** y **`Gradient Boosting`**. Motivo por el cual voy a seleccionar ambos modelos para pasar a la siguiente etapa de nuestro proyecto.\n",
    "    \n",
    "    \n",
    " * Los resultados obtenidos tanto para la técnica de **Submuestreo** como para la técnica de **Sobremuestreo** con los modelos de **Gradient Boosting**  y **Random Forest** presentan valores de **`F1`** muy similares, **por lo que he decidido elegir tanto la técnica de **`Sobremuestreo`** ,como la técnica de **`Submuestreo`, para pasar a la siguiente etapa de este proyecto.\n",
    "    \n",
    "</div>\n",
    "    \n",
    "---"
   ]
  },
  {
   "cell_type": "markdown",
   "metadata": {},
   "source": [
    "<div class=\"alert alert-block alert-success\">\n",
    "<b>Comentario del revisor (1ra Iteración)</b> <a class=“tocSkip”></a>\n",
    "    \n",
    "Muy buena implementación de las técnicas de submuestreo y sobremuestreo.\n",
    "\n",
    "</div>"
   ]
  },
  {
   "cell_type": "markdown",
   "metadata": {},
   "source": [
    "<span style='color:brown'>\n",
    "\n",
    "# ETAPA 4: Prueba Final del Proyecto con el Conjunto de Prueba<a id=etapa4></a>\n",
    "\n",
    "</span>\n"
   ]
  },
  {
   "cell_type": "markdown",
   "metadata": {},
   "source": [
    "---"
   ]
  },
  {
   "cell_type": "markdown",
   "metadata": {},
   "source": [
    "<span style='color:blue'>\n",
    "    \n",
    "## 4.1. Ajuste de Hiperparámetros con Submuestreo<a id='tunesub'></a>\n",
    "    \n",
    "</span>"
   ]
  },
  {
   "cell_type": "markdown",
   "metadata": {},
   "source": [
    "<span style='color:blue'>\n",
    "    \n",
    "### 4.1.1. Entrenamiento Final  -  Modelo Gradient Boosting<a id='final_subgb'></a>\n",
    "    \n",
    "</span>"
   ]
  },
  {
   "cell_type": "markdown",
   "metadata": {},
   "source": [
    "---\n",
    "\n",
    "<div style = 'background-color:orange; padding:30px;'><span style='color:black'>\n",
    "    \n",
    "**PRECAUCIÓN:** La siguiente celda toma **`aproximadamente 4 minutos en ejecutarse`**, esto debido a que estamos buscando configurar los hiperparámetros más óptimos para el modelo **`Gradient Boosting`** con Submuestreo.\n",
    "    \n",
    "</span></div>\n",
    "\n",
    "---"
   ]
  },
  {
   "cell_type": "markdown",
   "metadata": {},
   "source": [
    "---"
   ]
  },
  {
   "cell_type": "markdown",
   "metadata": {},
   "source": [
    "<span style='color:blue'>\n",
    "    \n",
    "**PASO 1:Configuramos el Optimizador de Hiperparámetros - `RandomizedSearchCV`**\n",
    "\n",
    "</span>"
   ]
  },
  {
   "cell_type": "code",
   "execution_count": 43,
   "metadata": {},
   "outputs": [
    {
     "name": "stdout",
     "output_type": "stream",
     "text": [
      "Fitting 3 folds for each of 20 candidates, totalling 60 fits\n",
      "0.7600192219808711\n",
      "{'n_estimators': 200, 'min_samples_split': 10, 'min_samples_leaf': 6, 'max_depth': 400, 'learning_rate': 0.1}\n"
     ]
    }
   ],
   "source": [
    "# Definimos el rango de hiperparámetros para el ajuste con el modelo Gradient Boosting\n",
    "params_grid = {\n",
    "    'n_estimators': [100, 200, 300, 400, 500],\n",
    "    'learning_rate': [0.1, 0.2, 0.4, 0.8],\n",
    "    'max_depth': [50, 100, 200, 300, 400, 500],\n",
    "    'min_samples_split': [5,10, 15, 20, 25, 30],\n",
    "    'min_samples_leaf': [2, 4, 6, 8]\n",
    "}\n",
    "\n",
    "# Inicializar el modelo Gradient Boosting\n",
    "gb = GradientBoostingClassifier(random_state=12345)\n",
    "\n",
    "# Configuramos la búsqueda de hiperparámetros con validación cruzada (3 folds)\n",
    "random_search = RandomizedSearchCV(estimator=gb, param_distributions=params_grid, cv=3, n_jobs=-1, n_iter=20, \n",
    "                                                                                               scoring='f1', verbose=1, random_state=12345)\n",
    "\n",
    "# Ajustamos el modelo con el conjunto submuestreado\n",
    "random_search.fit(X_train_under, y_train_under)\n",
    "\n",
    "# Obtenemos los mejores hiperparámetros y resultados\n",
    "results_sub_gb = random_search.cv_results_\n",
    "best_params_sub_gb = random_search.best_params_\n",
    "best_score_sub_gb = random_search.best_score_\n",
    "\n",
    "# Mostramos los mejores hiperparámetros y el puntaje F1 correspondiente\n",
    "print(best_score_sub_gb)\n",
    "print(best_params_sub_gb)\n"
   ]
  },
  {
   "cell_type": "markdown",
   "metadata": {},
   "source": [
    "---"
   ]
  },
  {
   "cell_type": "markdown",
   "metadata": {},
   "source": [
    "<span style='color:blue'>\n",
    "    \n",
    "**PASO 2: Mostramos por Pantalla las 20 Iteraciones que ha realizado `RandomizedSearchCV`**\n",
    "\n",
    "</span>"
   ]
  },
  {
   "cell_type": "code",
   "execution_count": 47,
   "metadata": {},
   "outputs": [
    {
     "data": {
      "text/html": [
       "<div>\n",
       "<style scoped>\n",
       "    .dataframe tbody tr th:only-of-type {\n",
       "        vertical-align: middle;\n",
       "    }\n",
       "\n",
       "    .dataframe tbody tr th {\n",
       "        vertical-align: top;\n",
       "    }\n",
       "\n",
       "    .dataframe thead th {\n",
       "        text-align: right;\n",
       "    }\n",
       "</style>\n",
       "<table border=\"1\" class=\"dataframe\">\n",
       "  <thead>\n",
       "    <tr style=\"text-align: right;\">\n",
       "      <th></th>\n",
       "      <th>params</th>\n",
       "      <th>mean_test_score</th>\n",
       "      <th>rank_test_score</th>\n",
       "    </tr>\n",
       "  </thead>\n",
       "  <tbody>\n",
       "    <tr>\n",
       "      <th>3</th>\n",
       "      <td>{'n_estimators': 200, 'min_samples_split': 10, 'min_samples_leaf': 6, 'max_depth': 400, 'learning_rate': 0.1}</td>\n",
       "      <td>0.760019</td>\n",
       "      <td>1</td>\n",
       "    </tr>\n",
       "    <tr>\n",
       "      <th>19</th>\n",
       "      <td>{'n_estimators': 400, 'min_samples_split': 25, 'min_samples_leaf': 2, 'max_depth': 50, 'learning_rate': 0.1}</td>\n",
       "      <td>0.756672</td>\n",
       "      <td>2</td>\n",
       "    </tr>\n",
       "    <tr>\n",
       "      <th>2</th>\n",
       "      <td>{'n_estimators': 300, 'min_samples_split': 25, 'min_samples_leaf': 2, 'max_depth': 300, 'learning_rate': 0.1}</td>\n",
       "      <td>0.755519</td>\n",
       "      <td>3</td>\n",
       "    </tr>\n",
       "    <tr>\n",
       "      <th>13</th>\n",
       "      <td>{'n_estimators': 200, 'min_samples_split': 25, 'min_samples_leaf': 6, 'max_depth': 50, 'learning_rate': 0.1}</td>\n",
       "      <td>0.754596</td>\n",
       "      <td>4</td>\n",
       "    </tr>\n",
       "    <tr>\n",
       "      <th>17</th>\n",
       "      <td>{'n_estimators': 400, 'min_samples_split': 15, 'min_samples_leaf': 4, 'max_depth': 50, 'learning_rate': 0.1}</td>\n",
       "      <td>0.753517</td>\n",
       "      <td>5</td>\n",
       "    </tr>\n",
       "    <tr>\n",
       "      <th>8</th>\n",
       "      <td>{'n_estimators': 400, 'min_samples_split': 20, 'min_samples_leaf': 6, 'max_depth': 500, 'learning_rate': 0.2}</td>\n",
       "      <td>0.749446</td>\n",
       "      <td>6</td>\n",
       "    </tr>\n",
       "    <tr>\n",
       "      <th>9</th>\n",
       "      <td>{'n_estimators': 300, 'min_samples_split': 15, 'min_samples_leaf': 4, 'max_depth': 100, 'learning_rate': 0.2}</td>\n",
       "      <td>0.749025</td>\n",
       "      <td>7</td>\n",
       "    </tr>\n",
       "    <tr>\n",
       "      <th>0</th>\n",
       "      <td>{'n_estimators': 300, 'min_samples_split': 5, 'min_samples_leaf': 2, 'max_depth': 400, 'learning_rate': 0.1}</td>\n",
       "      <td>0.748431</td>\n",
       "      <td>8</td>\n",
       "    </tr>\n",
       "    <tr>\n",
       "      <th>18</th>\n",
       "      <td>{'n_estimators': 200, 'min_samples_split': 25, 'min_samples_leaf': 8, 'max_depth': 100, 'learning_rate': 0.1}</td>\n",
       "      <td>0.748282</td>\n",
       "      <td>9</td>\n",
       "    </tr>\n",
       "    <tr>\n",
       "      <th>11</th>\n",
       "      <td>{'n_estimators': 300, 'min_samples_split': 30, 'min_samples_leaf': 2, 'max_depth': 200, 'learning_rate': 0.1}</td>\n",
       "      <td>0.745746</td>\n",
       "      <td>10</td>\n",
       "    </tr>\n",
       "    <tr>\n",
       "      <th>10</th>\n",
       "      <td>{'n_estimators': 400, 'min_samples_split': 25, 'min_samples_leaf': 8, 'max_depth': 500, 'learning_rate': 0.1}</td>\n",
       "      <td>0.744906</td>\n",
       "      <td>11</td>\n",
       "    </tr>\n",
       "    <tr>\n",
       "      <th>14</th>\n",
       "      <td>{'n_estimators': 200, 'min_samples_split': 10, 'min_samples_leaf': 6, 'max_depth': 200, 'learning_rate': 0.4}</td>\n",
       "      <td>0.741688</td>\n",
       "      <td>12</td>\n",
       "    </tr>\n",
       "    <tr>\n",
       "      <th>6</th>\n",
       "      <td>{'n_estimators': 400, 'min_samples_split': 25, 'min_samples_leaf': 8, 'max_depth': 500, 'learning_rate': 0.4}</td>\n",
       "      <td>0.717176</td>\n",
       "      <td>13</td>\n",
       "    </tr>\n",
       "    <tr>\n",
       "      <th>12</th>\n",
       "      <td>{'n_estimators': 500, 'min_samples_split': 25, 'min_samples_leaf': 8, 'max_depth': 100, 'learning_rate': 0.4}</td>\n",
       "      <td>0.704892</td>\n",
       "      <td>14</td>\n",
       "    </tr>\n",
       "    <tr>\n",
       "      <th>4</th>\n",
       "      <td>{'n_estimators': 300, 'min_samples_split': 30, 'min_samples_leaf': 4, 'max_depth': 500, 'learning_rate': 0.8}</td>\n",
       "      <td>0.696324</td>\n",
       "      <td>15</td>\n",
       "    </tr>\n",
       "    <tr>\n",
       "      <th>7</th>\n",
       "      <td>{'n_estimators': 300, 'min_samples_split': 20, 'min_samples_leaf': 4, 'max_depth': 500, 'learning_rate': 0.8}</td>\n",
       "      <td>0.670390</td>\n",
       "      <td>16</td>\n",
       "    </tr>\n",
       "    <tr>\n",
       "      <th>1</th>\n",
       "      <td>{'n_estimators': 300, 'min_samples_split': 20, 'min_samples_leaf': 2, 'max_depth': 50, 'learning_rate': 0.8}</td>\n",
       "      <td>0.661717</td>\n",
       "      <td>17</td>\n",
       "    </tr>\n",
       "    <tr>\n",
       "      <th>16</th>\n",
       "      <td>{'n_estimators': 200, 'min_samples_split': 5, 'min_samples_leaf': 4, 'max_depth': 100, 'learning_rate': 0.8}</td>\n",
       "      <td>0.659813</td>\n",
       "      <td>18</td>\n",
       "    </tr>\n",
       "    <tr>\n",
       "      <th>5</th>\n",
       "      <td>{'n_estimators': 300, 'min_samples_split': 5, 'min_samples_leaf': 6, 'max_depth': 400, 'learning_rate': 0.8}</td>\n",
       "      <td>0.643409</td>\n",
       "      <td>19</td>\n",
       "    </tr>\n",
       "    <tr>\n",
       "      <th>15</th>\n",
       "      <td>{'n_estimators': 500, 'min_samples_split': 25, 'min_samples_leaf': 4, 'max_depth': 50, 'learning_rate': 0.8}</td>\n",
       "      <td>0.638566</td>\n",
       "      <td>20</td>\n",
       "    </tr>\n",
       "  </tbody>\n",
       "</table>\n",
       "</div>"
      ],
      "text/plain": [
       "                                                                                                           params  \\\n",
       "3   {'n_estimators': 200, 'min_samples_split': 10, 'min_samples_leaf': 6, 'max_depth': 400, 'learning_rate': 0.1}   \n",
       "19   {'n_estimators': 400, 'min_samples_split': 25, 'min_samples_leaf': 2, 'max_depth': 50, 'learning_rate': 0.1}   \n",
       "2   {'n_estimators': 300, 'min_samples_split': 25, 'min_samples_leaf': 2, 'max_depth': 300, 'learning_rate': 0.1}   \n",
       "13   {'n_estimators': 200, 'min_samples_split': 25, 'min_samples_leaf': 6, 'max_depth': 50, 'learning_rate': 0.1}   \n",
       "17   {'n_estimators': 400, 'min_samples_split': 15, 'min_samples_leaf': 4, 'max_depth': 50, 'learning_rate': 0.1}   \n",
       "8   {'n_estimators': 400, 'min_samples_split': 20, 'min_samples_leaf': 6, 'max_depth': 500, 'learning_rate': 0.2}   \n",
       "9   {'n_estimators': 300, 'min_samples_split': 15, 'min_samples_leaf': 4, 'max_depth': 100, 'learning_rate': 0.2}   \n",
       "0    {'n_estimators': 300, 'min_samples_split': 5, 'min_samples_leaf': 2, 'max_depth': 400, 'learning_rate': 0.1}   \n",
       "18  {'n_estimators': 200, 'min_samples_split': 25, 'min_samples_leaf': 8, 'max_depth': 100, 'learning_rate': 0.1}   \n",
       "11  {'n_estimators': 300, 'min_samples_split': 30, 'min_samples_leaf': 2, 'max_depth': 200, 'learning_rate': 0.1}   \n",
       "10  {'n_estimators': 400, 'min_samples_split': 25, 'min_samples_leaf': 8, 'max_depth': 500, 'learning_rate': 0.1}   \n",
       "14  {'n_estimators': 200, 'min_samples_split': 10, 'min_samples_leaf': 6, 'max_depth': 200, 'learning_rate': 0.4}   \n",
       "6   {'n_estimators': 400, 'min_samples_split': 25, 'min_samples_leaf': 8, 'max_depth': 500, 'learning_rate': 0.4}   \n",
       "12  {'n_estimators': 500, 'min_samples_split': 25, 'min_samples_leaf': 8, 'max_depth': 100, 'learning_rate': 0.4}   \n",
       "4   {'n_estimators': 300, 'min_samples_split': 30, 'min_samples_leaf': 4, 'max_depth': 500, 'learning_rate': 0.8}   \n",
       "7   {'n_estimators': 300, 'min_samples_split': 20, 'min_samples_leaf': 4, 'max_depth': 500, 'learning_rate': 0.8}   \n",
       "1    {'n_estimators': 300, 'min_samples_split': 20, 'min_samples_leaf': 2, 'max_depth': 50, 'learning_rate': 0.8}   \n",
       "16   {'n_estimators': 200, 'min_samples_split': 5, 'min_samples_leaf': 4, 'max_depth': 100, 'learning_rate': 0.8}   \n",
       "5    {'n_estimators': 300, 'min_samples_split': 5, 'min_samples_leaf': 6, 'max_depth': 400, 'learning_rate': 0.8}   \n",
       "15   {'n_estimators': 500, 'min_samples_split': 25, 'min_samples_leaf': 4, 'max_depth': 50, 'learning_rate': 0.8}   \n",
       "\n",
       "    mean_test_score  rank_test_score  \n",
       "3          0.760019                1  \n",
       "19         0.756672                2  \n",
       "2          0.755519                3  \n",
       "13         0.754596                4  \n",
       "17         0.753517                5  \n",
       "8          0.749446                6  \n",
       "9          0.749025                7  \n",
       "0          0.748431                8  \n",
       "18         0.748282                9  \n",
       "11         0.745746               10  \n",
       "10         0.744906               11  \n",
       "14         0.741688               12  \n",
       "6          0.717176               13  \n",
       "12         0.704892               14  \n",
       "4          0.696324               15  \n",
       "7          0.670390               16  \n",
       "1          0.661717               17  \n",
       "16         0.659813               18  \n",
       "5          0.643409               19  \n",
       "15         0.638566               20  "
      ]
     },
     "execution_count": 47,
     "metadata": {},
     "output_type": "execute_result"
    }
   ],
   "source": [
    "# Habilito la opción de ajuste automático de columnas, para que se vean los datos de \"params\"\n",
    "pd.set_option('display.max_colwidth', None)\n",
    "\n",
    "# creo un DataFrame para poder visualizar los 6 mejores ajustes que ha obtenido \"RamdomizedSearchCV\"\n",
    "df_sub_gb = pd.DataFrame(results_sub_gb, columns=['params', 'mean_test_score', 'rank_test_score']).sort_values(by='mean_test_score', ascending=False)\n",
    "df_sub_gb"
   ]
  },
  {
   "cell_type": "code",
   "execution_count": 45,
   "metadata": {},
   "outputs": [],
   "source": [
    "# Deshabilito la opción de ajuste automático de columnas\n",
    "pd.reset_option('display.max_colwidth')"
   ]
  },
  {
   "cell_type": "markdown",
   "metadata": {},
   "source": [
    "---"
   ]
  },
  {
   "cell_type": "markdown",
   "metadata": {},
   "source": [
    "<span style='color:blue'>\n",
    "\n",
    "**PASO 3: Elegimos los Hiperparámetros de los Rangos de Iteración 1, 10 y 20 (*`puntuación más Alta, Media y más Baja`*)**\n",
    "\n",
    "</span>"
   ]
  },
  {
   "cell_type": "code",
   "execution_count": 53,
   "metadata": {},
   "outputs": [],
   "source": [
    "# He creado una función que me permita ajustar los hiperparámetros que deseo evaluar y que además me permita tener más un sólo resultado\n",
    "def hyperparams(ranks, data):\n",
    "    results = []\n",
    "    for rank in ranks:\n",
    "        index = None\n",
    "        for i, rank_value in enumerate(data['rank_test_score']):\n",
    "            if rank_value == rank:\n",
    "                index = i\n",
    "                break\n",
    "                \n",
    "        if index is None:\n",
    "            print(f\"No se encontró el valor {rank} en el diccionario.\")\n",
    "            \n",
    "        params = data['params'][index]\n",
    "        rank_test_score = data['rank_test_score'][index]\n",
    "        \n",
    "        # --------------------------------------------------------------------------------------------------------------------------------------------------------------------------------------\n",
    "        # Selección del Modelo a entrenar\n",
    "        model = GradientBoostingClassifier(n_estimators=params['n_estimators'], min_samples_split=params['min_samples_split'], \n",
    "                                    min_samples_leaf=params['min_samples_leaf'],max_depth=params['max_depth'], learning_rate=params['learning_rate'], random_state=12345)\n",
    "        # Entrenamos el modelo seleccionado con el Conjunto de Entrenamiento submuestreado\n",
    "        model.fit(X_train_under, y_train_under)\n",
    "        \n",
    "        # Ahora realizo la predicción con el Conjunto de Prueba\n",
    "        y_sub_gb_pred = model.predict(X_test)\n",
    "        \n",
    "        # Seguidamente calculamos las métricas F1 y AUC-ROC\n",
    "        f1_gb_sub = f1_score(y_test, y_sub_gb_pred)\n",
    "        auc_roc_gb_sub = roc_auc_score(y_test, model.predict_proba(X_test)[:, 1])\n",
    "\n",
    "        # Muestro los resultados por pantalla\n",
    "        print(f\"RANK:{rank }  -->  F1 Score(Submuestreo-Gradient Boosting):{f1_gb_sub:.4f}   -   AUC-ROC(Submuestreo-Gradient Boosting):{auc_roc_gb_sub:.4f}\")\n",
    "        "
   ]
  },
  {
   "cell_type": "code",
   "execution_count": 56,
   "metadata": {},
   "outputs": [
    {
     "name": "stdout",
     "output_type": "stream",
     "text": [
      "RANK:1  -->  F1 Score(Submuestreo-Gradient Boosting):0.5305   -   AUC-ROC(Submuestreo-Gradient Boosting):0.8222\n",
      "RANK:10  -->  F1 Score(Submuestreo-Gradient Boosting):0.5412   -   AUC-ROC(Submuestreo-Gradient Boosting):0.8238\n",
      "RANK:20  -->  F1 Score(Submuestreo-Gradient Boosting):0.5274   -   AUC-ROC(Submuestreo-Gradient Boosting):0.8181\n"
     ]
    }
   ],
   "source": [
    "hyperparams([1, 10, 20], results_sub_gb)"
   ]
  },
  {
   "cell_type": "markdown",
   "metadata": {},
   "source": [
    "---"
   ]
  },
  {
   "cell_type": "markdown",
   "metadata": {},
   "source": [
    "<div style='background-color:rgba(12, 120, 210, 0.3); padding:30px;'><span style='color:darkblue'>\n",
    "                         \n",
    "(**Comentarios del Alumno - Milton Valle**)\n",
    "    \n",
    " 1. El **Paso 1** me ha ayudado a configurar el **optimizador de hiperparámetros `RandomizedSearchCV`**, a partir de la designación de valores para los hiperparámetros `n_estimators`, `min_samples_split`, `min_samples_leaf`, `max_depth` y `learning_rate`.\n",
    "        \n",
    "    \n",
    " 2. He configurado este optimizador para que trabaje con una **validación cruzada de 3 pliegues**, realice **20 iteraciones** y he solicitado que **utilice todos los nucleos disponibles de la máquina**, para máximizar el uso de los recursos del sistema.\n",
    "    \n",
    "    \n",
    " 3. Con el **Paso 2** he buscado poder visualizar los ajustes de los hiperparámetros en las 20 iteraciones que ha realizado el optimizador `RandomizedSearchCV`, esto con la finalidad de poder utilizar luego esa información y así tratar de ver si se puede mejorar más aún la métrica F1.\n",
    "    \n",
    "    \n",
    " 4. Con el **Paso 3** he decidido **evaluar al modelo `Gradient Boosting` con el `mean_test_score` más alto que hemos obtenido**, que es lo ideal de realizar para poder obtener los mejores resultados con la `métrica F1`. Sin embargo como estoy en la etapa de aprendizaje he decidido ver también cuales son los resultados que obtengo en la métrica F1 si es que además entreno el modelo con el resultado más bajo y el del centro del `mean_test_score` es decir el **`rank_test_score = 1, 10 y 20`**."
   ]
  },
  {
   "cell_type": "markdown",
   "metadata": {},
   "source": [
    "---"
   ]
  },
  {
   "cell_type": "markdown",
   "metadata": {},
   "source": [
    "<div style='background-color:rgba(12, 120, 210, 0.3); padding:30px;'><span style='color:darkblue'>\n",
    "    \n",
    "**CONCLUSIÓN:**\n",
    "    \n",
    " * Inclusive a pesar que he intentado dar dos opciones adicionales de ajustes para el modelo de `Gradient Boosting` con **Submuestreo**, **ninguna de las tres alternativas que han sido entrenadas con el Conjunto de Prueba han superado el umbral** de **`F1 Score = 0.59`**. \n",
    "    \n",
    "    \n",
    " * Debido a los comentarios emitidos anteriormente, estamos en condiciones de poder afirmar que el modelo `Gradient Boosting` con Submuestreado, **NO CUMPLE con la métrica **`F1 > 0.59`**. Por lo tanto **ESTE MODELO NO HA SUPERADO LA PRUEBA**."
   ]
  },
  {
   "cell_type": "markdown",
   "metadata": {},
   "source": [
    "---"
   ]
  },
  {
   "cell_type": "markdown",
   "metadata": {},
   "source": [
    "    \n",
    "<div style='background-color:rgba(60, 180, 90, 0.3); padding:15px;'>\n",
    "    \n",
    " * **APRENDIZAJE IMPORTANTE:** Como se puede ver en la celda superior el ajuste del **`rank_test_score`** que pertenece a la **posición 10** me ofrece el mejor resultado para la métrica F1, este resultado ha sido inclusive mejor que el que he obtenido con el `mean_test_score` más alto de todo el grupo de las 20 iteraciones.\n",
    "    \n",
    "</div>"
   ]
  },
  {
   "cell_type": "markdown",
   "metadata": {},
   "source": [
    "---"
   ]
  },
  {
   "cell_type": "markdown",
   "metadata": {},
   "source": [
    "---\n",
    "\n",
    "[Volver a Contenido](#back)\n",
    "\n",
    "---"
   ]
  },
  {
   "cell_type": "markdown",
   "metadata": {},
   "source": [
    "<span style='color:blue'>\n",
    "    \n",
    "### 4.1.2. Entrenamiento Final  -  Modelo Random Forest<a id='final_subrf'></a>\n",
    "    \n",
    "</span>"
   ]
  },
  {
   "cell_type": "markdown",
   "metadata": {},
   "source": [
    "---\n",
    "\n",
    "<div style = 'background-color:orange; padding:30px;'><span style='color:black'>\n",
    "    \n",
    "**PRECAUCIÓN:** La siguiente celda toma **`aproximadamente 2 minutos en ejecutarse`**, esto debido a que estamos buscando configurar los hiperparámetros más óptimos para el modelo **`Random Forest`** con Submuestreo.\n",
    "    \n",
    "</span></div>\n",
    "\n",
    "---"
   ]
  },
  {
   "cell_type": "markdown",
   "metadata": {},
   "source": [
    "---"
   ]
  },
  {
   "cell_type": "markdown",
   "metadata": {},
   "source": [
    "<span style='color:blue'>\n",
    "    \n",
    "**PASO 1:Configuramos el Optimizador de Hiperparámetros - `RandomizedSearchCV`**\n",
    "\n",
    "</span>"
   ]
  },
  {
   "cell_type": "code",
   "execution_count": 58,
   "metadata": {},
   "outputs": [
    {
     "name": "stdout",
     "output_type": "stream",
     "text": [
      "Fitting 3 folds for each of 20 candidates, totalling 60 fits\n",
      "0.7699963130954776\n",
      "{'n_estimators': 200, 'min_samples_split': 25, 'min_samples_leaf': 6, 'max_features': 'sqrt', 'max_depth': 50, 'class_weight': None}\n"
     ]
    }
   ],
   "source": [
    "# Definimos el rango de hiperparámetros para el ajuste con el modelo Random Forest\n",
    "params_grid = {\n",
    "    'n_estimators': [100, 200, 300, 400, 500],\n",
    "    'max_depth': [50, 100, 200, 300, 400, 500],\n",
    "    'min_samples_split': [5, 10, 15, 20, 25, 30, 40],\n",
    "    'min_samples_leaf': [2, 4, 6, 8],\n",
    "    'max_features': [None, 'sqrt', 'log2'],\n",
    "    'class_weight': [None, 'balanced']\n",
    "}\n",
    "\n",
    "# Inicializar el modelo Gradient Boosting\n",
    "rf = RandomForestClassifier(random_state=12345)\n",
    "\n",
    "# Configuramos la búsqueda de hiperparámetros con validación cruzada (3 folds)\n",
    "random_search = RandomizedSearchCV(estimator=rf, param_distributions=params_grid, cv=3, n_jobs=-1, n_iter=20, \n",
    "                                                                                               scoring='f1', verbose=1, random_state=12345)\n",
    "\n",
    "# Ajustamos el modelo con el conjunto submuestreado\n",
    "random_search.fit(X_train_under,  y_train_under)\n",
    "\n",
    "# Obtenemos los mejores hiperparámetros y resultados\n",
    "results_sub_rf = random_search.cv_results_\n",
    "best_params_sub_rf = random_search.best_params_\n",
    "best_score_sub_rf = random_search.best_score_\n",
    "\n",
    "# Mostramos los mejores hiperparámetros y el puntaje F1 correspondiente\n",
    "print(best_score_sub_rf)\n",
    "print(best_params_sub_rf)\n"
   ]
  },
  {
   "cell_type": "markdown",
   "metadata": {},
   "source": [
    "---"
   ]
  },
  {
   "cell_type": "markdown",
   "metadata": {},
   "source": [
    "<span style='color:blue'>\n",
    "    \n",
    "**PASO 2: Mostramos por Pantalla las 20 Iteraciones que ha realizado `RandomizedSearchCV`**\n",
    "\n",
    "</span>"
   ]
  },
  {
   "cell_type": "code",
   "execution_count": 60,
   "metadata": {},
   "outputs": [
    {
     "data": {
      "text/html": [
       "<div>\n",
       "<style scoped>\n",
       "    .dataframe tbody tr th:only-of-type {\n",
       "        vertical-align: middle;\n",
       "    }\n",
       "\n",
       "    .dataframe tbody tr th {\n",
       "        vertical-align: top;\n",
       "    }\n",
       "\n",
       "    .dataframe thead th {\n",
       "        text-align: right;\n",
       "    }\n",
       "</style>\n",
       "<table border=\"1\" class=\"dataframe\">\n",
       "  <thead>\n",
       "    <tr style=\"text-align: right;\">\n",
       "      <th></th>\n",
       "      <th>params</th>\n",
       "      <th>mean_test_score</th>\n",
       "      <th>rank_test_score</th>\n",
       "    </tr>\n",
       "  </thead>\n",
       "  <tbody>\n",
       "    <tr>\n",
       "      <th>18</th>\n",
       "      <td>{'n_estimators': 200, 'min_samples_split': 25, 'min_samples_leaf': 6, 'max_features': 'sqrt', 'max_depth': 50, 'class_weight': None}</td>\n",
       "      <td>0.769996</td>\n",
       "      <td>1</td>\n",
       "    </tr>\n",
       "    <tr>\n",
       "      <th>1</th>\n",
       "      <td>{'n_estimators': 300, 'min_samples_split': 25, 'min_samples_leaf': 4, 'max_features': 'sqrt', 'max_depth': 200, 'class_weight': 'balanced'}</td>\n",
       "      <td>0.768773</td>\n",
       "      <td>2</td>\n",
       "    </tr>\n",
       "    <tr>\n",
       "      <th>0</th>\n",
       "      <td>{'n_estimators': 400, 'min_samples_split': 30, 'min_samples_leaf': 6, 'max_features': 'log2', 'max_depth': 400, 'class_weight': 'balanced'}</td>\n",
       "      <td>0.768542</td>\n",
       "      <td>3</td>\n",
       "    </tr>\n",
       "    <tr>\n",
       "      <th>14</th>\n",
       "      <td>{'n_estimators': 400, 'min_samples_split': 25, 'min_samples_leaf': 2, 'max_features': 'sqrt', 'max_depth': 400, 'class_weight': 'balanced'}</td>\n",
       "      <td>0.767957</td>\n",
       "      <td>4</td>\n",
       "    </tr>\n",
       "    <tr>\n",
       "      <th>19</th>\n",
       "      <td>{'n_estimators': 400, 'min_samples_split': 25, 'min_samples_leaf': 2, 'max_features': None, 'max_depth': 50, 'class_weight': None}</td>\n",
       "      <td>0.767956</td>\n",
       "      <td>5</td>\n",
       "    </tr>\n",
       "    <tr>\n",
       "      <th>3</th>\n",
       "      <td>{'n_estimators': 300, 'min_samples_split': 30, 'min_samples_leaf': 8, 'max_features': None, 'max_depth': 200, 'class_weight': 'balanced'}</td>\n",
       "      <td>0.767818</td>\n",
       "      <td>6</td>\n",
       "    </tr>\n",
       "    <tr>\n",
       "      <th>15</th>\n",
       "      <td>{'n_estimators': 500, 'min_samples_split': 30, 'min_samples_leaf': 8, 'max_features': 'log2', 'max_depth': 300, 'class_weight': None}</td>\n",
       "      <td>0.767189</td>\n",
       "      <td>7</td>\n",
       "    </tr>\n",
       "    <tr>\n",
       "      <th>5</th>\n",
       "      <td>{'n_estimators': 500, 'min_samples_split': 40, 'min_samples_leaf': 2, 'max_features': 'log2', 'max_depth': 300, 'class_weight': 'balanced'}</td>\n",
       "      <td>0.767110</td>\n",
       "      <td>8</td>\n",
       "    </tr>\n",
       "    <tr>\n",
       "      <th>8</th>\n",
       "      <td>{'n_estimators': 200, 'min_samples_split': 25, 'min_samples_leaf': 8, 'max_features': None, 'max_depth': 100, 'class_weight': None}</td>\n",
       "      <td>0.765825</td>\n",
       "      <td>9</td>\n",
       "    </tr>\n",
       "    <tr>\n",
       "      <th>6</th>\n",
       "      <td>{'n_estimators': 400, 'min_samples_split': 40, 'min_samples_leaf': 8, 'max_features': 'sqrt', 'max_depth': 400, 'class_weight': 'balanced'}</td>\n",
       "      <td>0.765139</td>\n",
       "      <td>10</td>\n",
       "    </tr>\n",
       "    <tr>\n",
       "      <th>16</th>\n",
       "      <td>{'n_estimators': 300, 'min_samples_split': 15, 'min_samples_leaf': 8, 'max_features': 'log2', 'max_depth': 300, 'class_weight': 'balanced'}</td>\n",
       "      <td>0.764448</td>\n",
       "      <td>11</td>\n",
       "    </tr>\n",
       "    <tr>\n",
       "      <th>7</th>\n",
       "      <td>{'n_estimators': 500, 'min_samples_split': 40, 'min_samples_leaf': 4, 'max_features': None, 'max_depth': 200, 'class_weight': 'balanced'}</td>\n",
       "      <td>0.764397</td>\n",
       "      <td>12</td>\n",
       "    </tr>\n",
       "    <tr>\n",
       "      <th>17</th>\n",
       "      <td>{'n_estimators': 500, 'min_samples_split': 10, 'min_samples_leaf': 6, 'max_features': 'log2', 'max_depth': 300, 'class_weight': 'balanced'}</td>\n",
       "      <td>0.764193</td>\n",
       "      <td>13</td>\n",
       "    </tr>\n",
       "    <tr>\n",
       "      <th>4</th>\n",
       "      <td>{'n_estimators': 300, 'min_samples_split': 40, 'min_samples_leaf': 8, 'max_features': None, 'max_depth': 200, 'class_weight': 'balanced'}</td>\n",
       "      <td>0.763903</td>\n",
       "      <td>14</td>\n",
       "    </tr>\n",
       "    <tr>\n",
       "      <th>13</th>\n",
       "      <td>{'n_estimators': 500, 'min_samples_split': 15, 'min_samples_leaf': 4, 'max_features': 'sqrt', 'max_depth': 500, 'class_weight': 'balanced'}</td>\n",
       "      <td>0.763824</td>\n",
       "      <td>15</td>\n",
       "    </tr>\n",
       "    <tr>\n",
       "      <th>2</th>\n",
       "      <td>{'n_estimators': 300, 'min_samples_split': 10, 'min_samples_leaf': 6, 'max_features': None, 'max_depth': 500, 'class_weight': None}</td>\n",
       "      <td>0.763383</td>\n",
       "      <td>16</td>\n",
       "    </tr>\n",
       "    <tr>\n",
       "      <th>12</th>\n",
       "      <td>{'n_estimators': 300, 'min_samples_split': 10, 'min_samples_leaf': 4, 'max_features': None, 'max_depth': 200, 'class_weight': None}</td>\n",
       "      <td>0.761601</td>\n",
       "      <td>17</td>\n",
       "    </tr>\n",
       "    <tr>\n",
       "      <th>9</th>\n",
       "      <td>{'n_estimators': 100, 'min_samples_split': 10, 'min_samples_leaf': 8, 'max_features': 'sqrt', 'max_depth': 100, 'class_weight': 'balanced'}</td>\n",
       "      <td>0.761425</td>\n",
       "      <td>18</td>\n",
       "    </tr>\n",
       "    <tr>\n",
       "      <th>10</th>\n",
       "      <td>{'n_estimators': 200, 'min_samples_split': 15, 'min_samples_leaf': 6, 'max_features': None, 'max_depth': 200, 'class_weight': 'balanced'}</td>\n",
       "      <td>0.761228</td>\n",
       "      <td>19</td>\n",
       "    </tr>\n",
       "    <tr>\n",
       "      <th>11</th>\n",
       "      <td>{'n_estimators': 400, 'min_samples_split': 15, 'min_samples_leaf': 6, 'max_features': 'sqrt', 'max_depth': 100, 'class_weight': 'balanced'}</td>\n",
       "      <td>0.761173</td>\n",
       "      <td>20</td>\n",
       "    </tr>\n",
       "  </tbody>\n",
       "</table>\n",
       "</div>"
      ],
      "text/plain": [
       "                                                                                                                                         params  \\\n",
       "18         {'n_estimators': 200, 'min_samples_split': 25, 'min_samples_leaf': 6, 'max_features': 'sqrt', 'max_depth': 50, 'class_weight': None}   \n",
       "1   {'n_estimators': 300, 'min_samples_split': 25, 'min_samples_leaf': 4, 'max_features': 'sqrt', 'max_depth': 200, 'class_weight': 'balanced'}   \n",
       "0   {'n_estimators': 400, 'min_samples_split': 30, 'min_samples_leaf': 6, 'max_features': 'log2', 'max_depth': 400, 'class_weight': 'balanced'}   \n",
       "14  {'n_estimators': 400, 'min_samples_split': 25, 'min_samples_leaf': 2, 'max_features': 'sqrt', 'max_depth': 400, 'class_weight': 'balanced'}   \n",
       "19           {'n_estimators': 400, 'min_samples_split': 25, 'min_samples_leaf': 2, 'max_features': None, 'max_depth': 50, 'class_weight': None}   \n",
       "3     {'n_estimators': 300, 'min_samples_split': 30, 'min_samples_leaf': 8, 'max_features': None, 'max_depth': 200, 'class_weight': 'balanced'}   \n",
       "15        {'n_estimators': 500, 'min_samples_split': 30, 'min_samples_leaf': 8, 'max_features': 'log2', 'max_depth': 300, 'class_weight': None}   \n",
       "5   {'n_estimators': 500, 'min_samples_split': 40, 'min_samples_leaf': 2, 'max_features': 'log2', 'max_depth': 300, 'class_weight': 'balanced'}   \n",
       "8           {'n_estimators': 200, 'min_samples_split': 25, 'min_samples_leaf': 8, 'max_features': None, 'max_depth': 100, 'class_weight': None}   \n",
       "6   {'n_estimators': 400, 'min_samples_split': 40, 'min_samples_leaf': 8, 'max_features': 'sqrt', 'max_depth': 400, 'class_weight': 'balanced'}   \n",
       "16  {'n_estimators': 300, 'min_samples_split': 15, 'min_samples_leaf': 8, 'max_features': 'log2', 'max_depth': 300, 'class_weight': 'balanced'}   \n",
       "7     {'n_estimators': 500, 'min_samples_split': 40, 'min_samples_leaf': 4, 'max_features': None, 'max_depth': 200, 'class_weight': 'balanced'}   \n",
       "17  {'n_estimators': 500, 'min_samples_split': 10, 'min_samples_leaf': 6, 'max_features': 'log2', 'max_depth': 300, 'class_weight': 'balanced'}   \n",
       "4     {'n_estimators': 300, 'min_samples_split': 40, 'min_samples_leaf': 8, 'max_features': None, 'max_depth': 200, 'class_weight': 'balanced'}   \n",
       "13  {'n_estimators': 500, 'min_samples_split': 15, 'min_samples_leaf': 4, 'max_features': 'sqrt', 'max_depth': 500, 'class_weight': 'balanced'}   \n",
       "2           {'n_estimators': 300, 'min_samples_split': 10, 'min_samples_leaf': 6, 'max_features': None, 'max_depth': 500, 'class_weight': None}   \n",
       "12          {'n_estimators': 300, 'min_samples_split': 10, 'min_samples_leaf': 4, 'max_features': None, 'max_depth': 200, 'class_weight': None}   \n",
       "9   {'n_estimators': 100, 'min_samples_split': 10, 'min_samples_leaf': 8, 'max_features': 'sqrt', 'max_depth': 100, 'class_weight': 'balanced'}   \n",
       "10    {'n_estimators': 200, 'min_samples_split': 15, 'min_samples_leaf': 6, 'max_features': None, 'max_depth': 200, 'class_weight': 'balanced'}   \n",
       "11  {'n_estimators': 400, 'min_samples_split': 15, 'min_samples_leaf': 6, 'max_features': 'sqrt', 'max_depth': 100, 'class_weight': 'balanced'}   \n",
       "\n",
       "    mean_test_score  rank_test_score  \n",
       "18         0.769996                1  \n",
       "1          0.768773                2  \n",
       "0          0.768542                3  \n",
       "14         0.767957                4  \n",
       "19         0.767956                5  \n",
       "3          0.767818                6  \n",
       "15         0.767189                7  \n",
       "5          0.767110                8  \n",
       "8          0.765825                9  \n",
       "6          0.765139               10  \n",
       "16         0.764448               11  \n",
       "7          0.764397               12  \n",
       "17         0.764193               13  \n",
       "4          0.763903               14  \n",
       "13         0.763824               15  \n",
       "2          0.763383               16  \n",
       "12         0.761601               17  \n",
       "9          0.761425               18  \n",
       "10         0.761228               19  \n",
       "11         0.761173               20  "
      ]
     },
     "execution_count": 60,
     "metadata": {},
     "output_type": "execute_result"
    }
   ],
   "source": [
    "# Habilito la opción de ajuste automático de columnas, para que se vean los datos de \"params\"\n",
    "pd.set_option('display.max_colwidth', None)\n",
    "\n",
    "# creo un DataFrame para poder visualizar los 6 mejores ajustes que ha obtenido \"RamdomizedSearchCV\"\n",
    "df_sub_rf = pd.DataFrame(results_sub_rf, columns=['params', 'mean_test_score', 'rank_test_score']).sort_values(by='mean_test_score', ascending=False)\n",
    "df_sub_rf"
   ]
  },
  {
   "cell_type": "code",
   "execution_count": 61,
   "metadata": {},
   "outputs": [],
   "source": [
    "# Deshabilito la opción de ajuste automático de columnas\n",
    "pd.reset_option('display.max_colwidth')"
   ]
  },
  {
   "cell_type": "markdown",
   "metadata": {},
   "source": [
    "---"
   ]
  },
  {
   "cell_type": "markdown",
   "metadata": {},
   "source": [
    "<span style='color:blue'>\n",
    "\n",
    "**PASO 3: Elegimos los Hiperparámetros de los Rangos de Iteración 1, 10 y 20 (*`puntuación más Alta, Media y más Baja`*)**\n",
    "\n",
    "</span>"
   ]
  },
  {
   "cell_type": "code",
   "execution_count": 62,
   "metadata": {},
   "outputs": [],
   "source": [
    "# He creado una función que me permita ajustar los hiperparámetros que deseo evaluar y que además me permita tener más un sólo resultado\n",
    "def hyperparams(ranks, data):\n",
    "    results = []\n",
    "    for rank in ranks:\n",
    "        index = None\n",
    "        for i, rank_value in enumerate(data['rank_test_score']):\n",
    "            if rank_value == rank:\n",
    "                index = i\n",
    "                break\n",
    "                \n",
    "        if index is None:\n",
    "            print(f\"No se encontró el valor {rank} en el diccionario.\")\n",
    "            \n",
    "        params = data['params'][index]\n",
    "        rank_test_score = data['rank_test_score'][index]\n",
    "        \n",
    "        # --------------------------------------------------------------------------------------------------------------------------------------------------------------------------------------\n",
    "        # Selección del Modelo a entrenar\n",
    "        model = RandomForestClassifier(n_estimators=params['n_estimators'], min_samples_split=params['min_samples_split'], \n",
    "                            min_samples_leaf=params['min_samples_leaf'],max_features=params['max_features'], \n",
    "                            max_depth=params['max_depth'], class_weight=params['class_weight'], random_state=12345)\n",
    "        \n",
    "        # Entrenamos el modelo seleccionado con el Conjunto de Entrenamiento submuestreado\n",
    "        model.fit(X_train_under, y_train_under)\n",
    "        \n",
    "        # Ahora realizo la predicción con el Conjunto de Prueba\n",
    "        y_sub_rf_pred = model.predict(X_test)\n",
    "        \n",
    "        # Seguidamente calculamos las métricas F1 y AUC-ROC\n",
    "        f1_rf_sub = f1_score(y_test, y_sub_rf_pred)\n",
    "        auc_roc_rf_sub = roc_auc_score(y_test, model.predict_proba(X_test)[:, 1])\n",
    "\n",
    "        # Muestro los resultados por pantalla\n",
    "        print(f\"RANK:{rank }  -->  F1 Score(Submuestreo-Random Forest):{f1_rf_sub:.4f}   -   AUC-ROC(Submuestreo-Random Forest):{auc_roc_rf_sub:.4f}\")\n",
    "        "
   ]
  },
  {
   "cell_type": "code",
   "execution_count": 86,
   "metadata": {},
   "outputs": [
    {
     "name": "stdout",
     "output_type": "stream",
     "text": [
      "RANK:1  -->  F1 Score(Sobremuestreo-Random Forest):0.6030   -   AUC-ROC(Sobremuestreo-Random Forest):0.8555\n",
      "RANK:10  -->  F1 Score(Sobremuestreo-Random Forest):0.6085   -   AUC-ROC(Sobremuestreo-Random Forest):0.8562\n",
      "RANK:20  -->  F1 Score(Sobremuestreo-Random Forest):0.6127   -   AUC-ROC(Sobremuestreo-Random Forest):0.8528\n"
     ]
    }
   ],
   "source": [
    "hyperparams([1, 10, 20], results_sub_rf)"
   ]
  },
  {
   "cell_type": "markdown",
   "metadata": {},
   "source": [
    "---"
   ]
  },
  {
   "cell_type": "markdown",
   "metadata": {},
   "source": [
    "<div style='background-color:rgba(12, 120, 210, 0.3); padding:30px;'><span style='color:darkblue'>\n",
    "                         \n",
    "(**Comentarios del Alumno - Milton Valle**)\n",
    "    \n",
    " 1. El **Paso 1** me ha ayudado a configurar el **optimizador de hiperparámetros `RandomizedSearchCV`**, a partir de la designación de valores para los hiperparámetros `n_estimators`, `min_samples_split`, `min_samples_leaf`, `max_features`, `max_depth` y `class_weight`, que correspondel al modelo **`RandomForestClassifier`**.\n",
    "        \n",
    "    \n",
    " 2. He configurado este optimizador para que trabaje con una **validación cruzada de 3 pliegues**, realice **20 iteraciones** y he solicitado que **utilice todos los nucleos disponibles de la máquina**, para máximizar el uso de los recursos del sistema.\n",
    "    \n",
    "    \n",
    " 3. Con el **Paso 2** he buscado poder visualizar los ajustes de los hiperparámetros en las 20 iteraciones que ha realizado el optimizador `RandomizedSearchCV`, esto con la finalidad de poder utilizar luego esa información y así tratar de ver si se puede mejorar más aún la métrica F1.\n",
    "    \n",
    "    \n",
    " 4. Con el **Paso 3** he decidido **evaluar al modelo `Random Forest` con el `mean_test_score` más alto que hemos obtenido**, que es lo ideal de realizar para poder obtener los mejores resultados con la `métrica F1`. Sin embargo he decidido ver también cuales son los resultados que obtengo en la métrica F1 si es que además entreno el modelo con el resultado más bajo y el del centro del **`mean_test_score`** es decir el **`rank_test_score = 1, 10 y 20`**."
   ]
  },
  {
   "cell_type": "markdown",
   "metadata": {},
   "source": [
    "---"
   ]
  },
  {
   "cell_type": "markdown",
   "metadata": {},
   "source": [
    "<div style='background-color:rgba(12, 120, 210, 0.3); padding:30px;'><span style='color:darkblue'>    \n",
    "\n",
    "    \n",
    "**CONCLUSIÓN:**\n",
    "    \n",
    " * Con este modelo se ha podido ver que hemos pasado el umbral de la métrica F1 > 0.59, únicamente con el mejor ajuste de **`mean_test_score`**, que es lo que la teoría nos indica que debe de suceder siempre. Las otras dos alternativas elegidas no han logrado superar el umbral propuesto para este proyecto.\n",
    "    \n",
    "    \n",
    " * Debido a los comentarios emitidos anteriormente, estamos en condiciones de poder afirmar que el modelo `Random Forest` con Submuestreado, **SI CUMPLE SATISFACTORIA MENTE con la métrica **`F1 > 0.59`**. Por lo tanto **ESTE MODELO SI HA SUPERADO LA PRUEBA FINAL DE ESTE PROYECTO**."
   ]
  },
  {
   "cell_type": "markdown",
   "metadata": {},
   "source": [
    "---"
   ]
  },
  {
   "cell_type": "markdown",
   "metadata": {},
   "source": [
    "    \n",
    "<div style='background-color:rgba(60, 180, 90, 0.3); padding:15px;'>\n",
    "    \n",
    " * **APRENDIZAJE IMPORTANTE:** Con el modelo `Random Forest` si se obtiene el valor más alto para la métrica F1, cuando se configuran los hiperparámetros que nos han brindado la mayor precisión del **`mean_test_score`**, es decir el que se encuentra numerado con el **`rank_test_score`** número 1.\n",
    "    \n",
    "    \n",
    "</div>"
   ]
  },
  {
   "cell_type": "markdown",
   "metadata": {},
   "source": [
    "---"
   ]
  },
  {
   "cell_type": "markdown",
   "metadata": {},
   "source": [
    "---\n",
    "\n",
    "[Volver a Contenido](#back)\n",
    "\n",
    "---"
   ]
  },
  {
   "cell_type": "markdown",
   "metadata": {},
   "source": [
    "<span style='color:blue'>\n",
    "    \n",
    "## 4.2. Ajuste de Hiperparámetros con Sobremuestreo<a id='tuneover'></a>\n",
    "    \n",
    "</span>"
   ]
  },
  {
   "cell_type": "markdown",
   "metadata": {},
   "source": [
    "<span style='color:blue'>\n",
    "    \n",
    "### 4.2.1. Entrenamiento Final - Modelo Gradient Boosting<a id='final_overgb'></a>\n",
    "    \n",
    "</span>"
   ]
  },
  {
   "cell_type": "markdown",
   "metadata": {},
   "source": [
    "---\n",
    "\n",
    "<div style = 'background-color:red; padding:30px;'><span style='color:white'>\n",
    "    \n",
    "**PRECAUCIÓN:** La siguiente celda toma **`aproximadamente 20 minutos en ejecutarse`**, esto debido a que estamos buscando configurar los hiperparámetros más óptimos para el modelo **`Gradient Boosting`** con Sobremuestreo.\n",
    "    \n",
    "</span></div>\n",
    "\n",
    "---"
   ]
  },
  {
   "cell_type": "code",
   "execution_count": 67,
   "metadata": {},
   "outputs": [
    {
     "name": "stdout",
     "output_type": "stream",
     "text": [
      "Fitting 3 folds for each of 20 candidates, totalling 60 fits\n",
      "0.9599632884655461\n",
      "{'n_estimators': 200, 'min_samples_split': 5, 'min_samples_leaf': 4, 'max_depth': 100, 'learning_rate': 0.8}\n"
     ]
    }
   ],
   "source": [
    "# Definimos el rango de hiperparámetros para el ajuste con el modelo Gradient Boosting\n",
    "params_grid = {\n",
    "    'n_estimators': [100, 200, 300, 400, 500],\n",
    "    'learning_rate': [0.1, 0.2, 0.4, 0.8],\n",
    "    'max_depth': [50, 100, 200, 300, 400, 500],\n",
    "    'min_samples_split': [5,10, 15, 20, 25, 30],\n",
    "    'min_samples_leaf': [2, 4, 6, 8]\n",
    "}\n",
    "\n",
    "# Inicializar el modelo Gradient Boosting\n",
    "gb = GradientBoostingClassifier(random_state=12345)\n",
    "\n",
    "# Configuramos la búsqueda de hiperparámetros con validación cruzada (3 folds)\n",
    "random_search = RandomizedSearchCV(estimator=gb, param_distributions=params_grid, cv=3, n_jobs=-1, \n",
    "                                                                                               n_iter=20, scoring='f1', verbose=1, random_state=12345)\n",
    "\n",
    "# Ajustamos el modelo con el conjunto sobremuestreado\n",
    "random_search.fit(X_train_over, y_train_over)\n",
    "\n",
    "# Obtenemos los mejores hiperparámetros y resultados\n",
    "results_over_gb = random_search.cv_results_\n",
    "best_params_over_gb = random_search.best_params_\n",
    "best_score_over_gb = random_search.best_score_\n",
    "\n",
    "# Mostramos los mejores hiperparámetros y el puntaje F1 correspondiente\n",
    "print(best_score_over_gb)\n",
    "print(best_params_over_gb)\n"
   ]
  },
  {
   "cell_type": "code",
   "execution_count": 68,
   "metadata": {},
   "outputs": [
    {
     "data": {
      "text/html": [
       "<div>\n",
       "<style scoped>\n",
       "    .dataframe tbody tr th:only-of-type {\n",
       "        vertical-align: middle;\n",
       "    }\n",
       "\n",
       "    .dataframe tbody tr th {\n",
       "        vertical-align: top;\n",
       "    }\n",
       "\n",
       "    .dataframe thead th {\n",
       "        text-align: right;\n",
       "    }\n",
       "</style>\n",
       "<table border=\"1\" class=\"dataframe\">\n",
       "  <thead>\n",
       "    <tr style=\"text-align: right;\">\n",
       "      <th></th>\n",
       "      <th>params</th>\n",
       "      <th>mean_test_score</th>\n",
       "      <th>rank_test_score</th>\n",
       "    </tr>\n",
       "  </thead>\n",
       "  <tbody>\n",
       "    <tr>\n",
       "      <th>16</th>\n",
       "      <td>{'n_estimators': 200, 'min_samples_split': 5, 'min_samples_leaf': 4, 'max_depth': 100, 'learning_rate': 0.8}</td>\n",
       "      <td>0.959963</td>\n",
       "      <td>1</td>\n",
       "    </tr>\n",
       "    <tr>\n",
       "      <th>5</th>\n",
       "      <td>{'n_estimators': 300, 'min_samples_split': 5, 'min_samples_leaf': 6, 'max_depth': 400, 'learning_rate': 0.8}</td>\n",
       "      <td>0.957847</td>\n",
       "      <td>2</td>\n",
       "    </tr>\n",
       "    <tr>\n",
       "      <th>1</th>\n",
       "      <td>{'n_estimators': 300, 'min_samples_split': 20, 'min_samples_leaf': 2, 'max_depth': 50, 'learning_rate': 0.8}</td>\n",
       "      <td>0.957330</td>\n",
       "      <td>3</td>\n",
       "    </tr>\n",
       "    <tr>\n",
       "      <th>4</th>\n",
       "      <td>{'n_estimators': 300, 'min_samples_split': 30, 'min_samples_leaf': 4, 'max_depth': 500, 'learning_rate': 0.8}</td>\n",
       "      <td>0.955226</td>\n",
       "      <td>4</td>\n",
       "    </tr>\n",
       "    <tr>\n",
       "      <th>7</th>\n",
       "      <td>{'n_estimators': 300, 'min_samples_split': 20, 'min_samples_leaf': 4, 'max_depth': 500, 'learning_rate': 0.8}</td>\n",
       "      <td>0.954238</td>\n",
       "      <td>5</td>\n",
       "    </tr>\n",
       "    <tr>\n",
       "      <th>15</th>\n",
       "      <td>{'n_estimators': 500, 'min_samples_split': 25, 'min_samples_leaf': 4, 'max_depth': 50, 'learning_rate': 0.8}</td>\n",
       "      <td>0.954178</td>\n",
       "      <td>6</td>\n",
       "    </tr>\n",
       "    <tr>\n",
       "      <th>12</th>\n",
       "      <td>{'n_estimators': 500, 'min_samples_split': 25, 'min_samples_leaf': 8, 'max_depth': 100, 'learning_rate': 0.4}</td>\n",
       "      <td>0.954090</td>\n",
       "      <td>7</td>\n",
       "    </tr>\n",
       "    <tr>\n",
       "      <th>6</th>\n",
       "      <td>{'n_estimators': 400, 'min_samples_split': 25, 'min_samples_leaf': 8, 'max_depth': 500, 'learning_rate': 0.4}</td>\n",
       "      <td>0.951972</td>\n",
       "      <td>8</td>\n",
       "    </tr>\n",
       "    <tr>\n",
       "      <th>14</th>\n",
       "      <td>{'n_estimators': 200, 'min_samples_split': 10, 'min_samples_leaf': 6, 'max_depth': 200, 'learning_rate': 0.4}</td>\n",
       "      <td>0.949271</td>\n",
       "      <td>9</td>\n",
       "    </tr>\n",
       "    <tr>\n",
       "      <th>8</th>\n",
       "      <td>{'n_estimators': 400, 'min_samples_split': 20, 'min_samples_leaf': 6, 'max_depth': 500, 'learning_rate': 0.2}</td>\n",
       "      <td>0.945420</td>\n",
       "      <td>10</td>\n",
       "    </tr>\n",
       "    <tr>\n",
       "      <th>9</th>\n",
       "      <td>{'n_estimators': 300, 'min_samples_split': 15, 'min_samples_leaf': 4, 'max_depth': 100, 'learning_rate': 0.2}</td>\n",
       "      <td>0.944157</td>\n",
       "      <td>11</td>\n",
       "    </tr>\n",
       "    <tr>\n",
       "      <th>2</th>\n",
       "      <td>{'n_estimators': 300, 'min_samples_split': 25, 'min_samples_leaf': 2, 'max_depth': 300, 'learning_rate': 0.1}</td>\n",
       "      <td>0.938957</td>\n",
       "      <td>12</td>\n",
       "    </tr>\n",
       "    <tr>\n",
       "      <th>11</th>\n",
       "      <td>{'n_estimators': 300, 'min_samples_split': 30, 'min_samples_leaf': 2, 'max_depth': 200, 'learning_rate': 0.1}</td>\n",
       "      <td>0.938947</td>\n",
       "      <td>13</td>\n",
       "    </tr>\n",
       "    <tr>\n",
       "      <th>19</th>\n",
       "      <td>{'n_estimators': 400, 'min_samples_split': 25, 'min_samples_leaf': 2, 'max_depth': 50, 'learning_rate': 0.1}</td>\n",
       "      <td>0.938586</td>\n",
       "      <td>14</td>\n",
       "    </tr>\n",
       "    <tr>\n",
       "      <th>0</th>\n",
       "      <td>{'n_estimators': 300, 'min_samples_split': 5, 'min_samples_leaf': 2, 'max_depth': 400, 'learning_rate': 0.1}</td>\n",
       "      <td>0.938393</td>\n",
       "      <td>15</td>\n",
       "    </tr>\n",
       "    <tr>\n",
       "      <th>17</th>\n",
       "      <td>{'n_estimators': 400, 'min_samples_split': 15, 'min_samples_leaf': 4, 'max_depth': 50, 'learning_rate': 0.1}</td>\n",
       "      <td>0.938345</td>\n",
       "      <td>16</td>\n",
       "    </tr>\n",
       "    <tr>\n",
       "      <th>3</th>\n",
       "      <td>{'n_estimators': 200, 'min_samples_split': 10, 'min_samples_leaf': 6, 'max_depth': 400, 'learning_rate': 0.1}</td>\n",
       "      <td>0.937780</td>\n",
       "      <td>17</td>\n",
       "    </tr>\n",
       "    <tr>\n",
       "      <th>13</th>\n",
       "      <td>{'n_estimators': 200, 'min_samples_split': 25, 'min_samples_leaf': 6, 'max_depth': 50, 'learning_rate': 0.1}</td>\n",
       "      <td>0.937465</td>\n",
       "      <td>18</td>\n",
       "    </tr>\n",
       "    <tr>\n",
       "      <th>18</th>\n",
       "      <td>{'n_estimators': 200, 'min_samples_split': 25, 'min_samples_leaf': 8, 'max_depth': 100, 'learning_rate': 0.1}</td>\n",
       "      <td>0.936189</td>\n",
       "      <td>19</td>\n",
       "    </tr>\n",
       "    <tr>\n",
       "      <th>10</th>\n",
       "      <td>{'n_estimators': 400, 'min_samples_split': 25, 'min_samples_leaf': 8, 'max_depth': 500, 'learning_rate': 0.1}</td>\n",
       "      <td>0.935563</td>\n",
       "      <td>20</td>\n",
       "    </tr>\n",
       "  </tbody>\n",
       "</table>\n",
       "</div>"
      ],
      "text/plain": [
       "                                                                                                           params  \\\n",
       "16   {'n_estimators': 200, 'min_samples_split': 5, 'min_samples_leaf': 4, 'max_depth': 100, 'learning_rate': 0.8}   \n",
       "5    {'n_estimators': 300, 'min_samples_split': 5, 'min_samples_leaf': 6, 'max_depth': 400, 'learning_rate': 0.8}   \n",
       "1    {'n_estimators': 300, 'min_samples_split': 20, 'min_samples_leaf': 2, 'max_depth': 50, 'learning_rate': 0.8}   \n",
       "4   {'n_estimators': 300, 'min_samples_split': 30, 'min_samples_leaf': 4, 'max_depth': 500, 'learning_rate': 0.8}   \n",
       "7   {'n_estimators': 300, 'min_samples_split': 20, 'min_samples_leaf': 4, 'max_depth': 500, 'learning_rate': 0.8}   \n",
       "15   {'n_estimators': 500, 'min_samples_split': 25, 'min_samples_leaf': 4, 'max_depth': 50, 'learning_rate': 0.8}   \n",
       "12  {'n_estimators': 500, 'min_samples_split': 25, 'min_samples_leaf': 8, 'max_depth': 100, 'learning_rate': 0.4}   \n",
       "6   {'n_estimators': 400, 'min_samples_split': 25, 'min_samples_leaf': 8, 'max_depth': 500, 'learning_rate': 0.4}   \n",
       "14  {'n_estimators': 200, 'min_samples_split': 10, 'min_samples_leaf': 6, 'max_depth': 200, 'learning_rate': 0.4}   \n",
       "8   {'n_estimators': 400, 'min_samples_split': 20, 'min_samples_leaf': 6, 'max_depth': 500, 'learning_rate': 0.2}   \n",
       "9   {'n_estimators': 300, 'min_samples_split': 15, 'min_samples_leaf': 4, 'max_depth': 100, 'learning_rate': 0.2}   \n",
       "2   {'n_estimators': 300, 'min_samples_split': 25, 'min_samples_leaf': 2, 'max_depth': 300, 'learning_rate': 0.1}   \n",
       "11  {'n_estimators': 300, 'min_samples_split': 30, 'min_samples_leaf': 2, 'max_depth': 200, 'learning_rate': 0.1}   \n",
       "19   {'n_estimators': 400, 'min_samples_split': 25, 'min_samples_leaf': 2, 'max_depth': 50, 'learning_rate': 0.1}   \n",
       "0    {'n_estimators': 300, 'min_samples_split': 5, 'min_samples_leaf': 2, 'max_depth': 400, 'learning_rate': 0.1}   \n",
       "17   {'n_estimators': 400, 'min_samples_split': 15, 'min_samples_leaf': 4, 'max_depth': 50, 'learning_rate': 0.1}   \n",
       "3   {'n_estimators': 200, 'min_samples_split': 10, 'min_samples_leaf': 6, 'max_depth': 400, 'learning_rate': 0.1}   \n",
       "13   {'n_estimators': 200, 'min_samples_split': 25, 'min_samples_leaf': 6, 'max_depth': 50, 'learning_rate': 0.1}   \n",
       "18  {'n_estimators': 200, 'min_samples_split': 25, 'min_samples_leaf': 8, 'max_depth': 100, 'learning_rate': 0.1}   \n",
       "10  {'n_estimators': 400, 'min_samples_split': 25, 'min_samples_leaf': 8, 'max_depth': 500, 'learning_rate': 0.1}   \n",
       "\n",
       "    mean_test_score  rank_test_score  \n",
       "16         0.959963                1  \n",
       "5          0.957847                2  \n",
       "1          0.957330                3  \n",
       "4          0.955226                4  \n",
       "7          0.954238                5  \n",
       "15         0.954178                6  \n",
       "12         0.954090                7  \n",
       "6          0.951972                8  \n",
       "14         0.949271                9  \n",
       "8          0.945420               10  \n",
       "9          0.944157               11  \n",
       "2          0.938957               12  \n",
       "11         0.938947               13  \n",
       "19         0.938586               14  \n",
       "0          0.938393               15  \n",
       "17         0.938345               16  \n",
       "3          0.937780               17  \n",
       "13         0.937465               18  \n",
       "18         0.936189               19  \n",
       "10         0.935563               20  "
      ]
     },
     "execution_count": 68,
     "metadata": {},
     "output_type": "execute_result"
    }
   ],
   "source": [
    "# Habilito la opción de ajuste automático de columnas, para que se vean los datos de \"params\"\n",
    "pd.set_option('display.max_colwidth', None)\n",
    "\n",
    "# creo un DataFrame para poder visualizar los 6 mejores ajustes que ha obtenido \"RamdomizedSearchCV\"\n",
    "df_over_gb = pd.DataFrame(results_over_gb, columns=['params', 'mean_test_score', 'rank_test_score']).sort_values(by='mean_test_score', ascending=False)\n",
    "df_over_gb"
   ]
  },
  {
   "cell_type": "code",
   "execution_count": 69,
   "metadata": {},
   "outputs": [],
   "source": [
    "# Deshabilito la opción de ajuste automático de columnas\n",
    "pd.reset_option('display.max_colwidth')"
   ]
  },
  {
   "cell_type": "code",
   "execution_count": 70,
   "metadata": {},
   "outputs": [],
   "source": [
    "# He creado una función que me permita ajustar los hiperparámetros que deseo evaluar y que además me permita tener más un sólo resultado\n",
    "def hyperparams(ranks, data):\n",
    "    results = []\n",
    "    for rank in ranks:\n",
    "        index = None\n",
    "        for i, rank_value in enumerate(data['rank_test_score']):\n",
    "            if rank_value == rank:\n",
    "                index = i\n",
    "                break\n",
    "                \n",
    "        if index is None:\n",
    "            print(f\"No se encontró el valor {rank} en el diccionario.\")\n",
    "            \n",
    "        params = data['params'][index]\n",
    "        rank_test_score = data['rank_test_score'][index]\n",
    "        \n",
    "        # --------------------------------------------------------------------------------------------------------------------------------------------------------------------------------------\n",
    "        # Selección del Modelo a entrenar\n",
    "        model = GradientBoostingClassifier(n_estimators=params['n_estimators'], min_samples_split=params['min_samples_split'], \n",
    "                                            min_samples_leaf=params['min_samples_leaf'],max_depth=params['max_depth'], \n",
    "                                           learning_rate=params['learning_rate'], random_state=12345)\n",
    "        # Entrenamos el modelo seleccionado con el Conjunto de Entrenamiento submuestreado\n",
    "        model.fit(X_train_over, y_train_over)\n",
    "        \n",
    "        # Ahora realizo la predicción con el Conjunto de Prueba\n",
    "        y_over_gb_pred = model.predict(X_test)\n",
    "        \n",
    "        # Seguidamente calculamos las métricas F1 y AUC-ROC\n",
    "        f1_gb_over = f1_score(y_test, y_over_gb_pred)\n",
    "        auc_roc_gb_over = roc_auc_score(y_test, model.predict_proba(X_test)[:, 1])\n",
    "\n",
    "        # Muestro los resultados por pantalla\n",
    "        print(f\"RANK:{rank }  -->  F1 Score(Sobremuestreo-Gradient Boosting):{f1_gb_over:.4f}   -   AUC-ROC(Sobremuestreo-Gradient Boosting):{auc_roc_gb_over:.4f}\")\n",
    "        "
   ]
  },
  {
   "cell_type": "code",
   "execution_count": 71,
   "metadata": {},
   "outputs": [
    {
     "name": "stdout",
     "output_type": "stream",
     "text": [
      "RANK:1  -->  F1 Score(Sobremuestreo-Gradient Boosting):0.3615   -   AUC-ROC(Sobremuestreo-Gradient Boosting):0.8449\n",
      "RANK:10  -->  F1 Score(Sobremuestreo-Gradient Boosting):0.4959   -   AUC-ROC(Sobremuestreo-Gradient Boosting):0.8379\n",
      "RANK:20  -->  F1 Score(Sobremuestreo-Gradient Boosting):0.5284   -   AUC-ROC(Sobremuestreo-Gradient Boosting):0.8240\n"
     ]
    }
   ],
   "source": [
    "hyperparams([1, 10, 20], results_over_gb)"
   ]
  },
  {
   "cell_type": "markdown",
   "metadata": {},
   "source": [
    "---"
   ]
  },
  {
   "cell_type": "markdown",
   "metadata": {},
   "source": [
    "<div style='background-color:rgba(12, 120, 210, 0.3); padding:30px;'><span style='color:darkblue'>\n",
    "                         \n",
    "(**Comentarios del Alumno - Milton Valle**)\n",
    "    \n",
    " 1. El **Paso 1** me ha ayudado a configurar el **optimizador de hiperparámetros `RandomizedSearchCV`**, a partir de la designación de valores para los hiperparámetros `n_estimators`, `min_samples_split`, `min_samples_leaf`, `max_depth` y `learning_rate`.\n",
    "        \n",
    "    \n",
    " 2. He configurado este optimizador para que trabaje con una **validación cruzada de 3 pliegues**, realice **20 iteraciones** y he solicitado además que **utilice todos los nucleos disponibles de la máquina**, para máximizar el uso de los recursos del sistema.\n",
    "    \n",
    "    \n",
    " 3. Con el **Paso 2** he buscado poder visualizar los ajustes de los hiperparámetros en las 20 iteraciones que ha realizado el optimizador `RandomizedSearchCV`, esto con la finalidad de poder utilizar luego esa información y así tratar de ver si se puede mejorar aún más la **métrica F1**.\n",
    "    \n",
    "    \n",
    " 4. Con el **Paso 3** he decidido **evaluar al modelo `Gradient Boosting` con el `mean_test_score` más alto que hemos obtenido**, que es lo ideal de realizar para poder obtener los mejores resultados con la `métrica F1`. Sin embargo he decidido ver también cuales son los resultados que obtengo en la métrica F1 si es que además entreno el modelo con el resultado más bajo y el del centro del `mean_test_score` es decir el **`rank_test_score = 1, 10 y 20`**."
   ]
  },
  {
   "cell_type": "markdown",
   "metadata": {},
   "source": [
    "---"
   ]
  },
  {
   "cell_type": "markdown",
   "metadata": {},
   "source": [
    "<div style='background-color:rgba(12, 120, 210, 0.3); padding:30px;'><span style='color:darkblue'>\n",
    "    \n",
    "**CONCLUSIÓN:**\n",
    "    \n",
    " * Inclusive a pesar que he intentado dar dos opciones adicionales de ajustes para el modelo de `Gradient Boosting` con **Sobremuestreo**, **ninguna de las tres alternativas (*que han sido entrenadas con el Conjunto de Prueba*) han superado el umbral** de **`F1 Score = 0.59`**. \n",
    "    \n",
    "    \n",
    " * Debido a los comentarios emitidos anteriormente, estoy en condiciones de poder afirmar que el modelo `Gradient Boosting` con Sobremuestreado, **NO CUMPLE con la métrica **`F1 > 0.59`**. Por lo tanto **ESTE MODELO NO HA SUPERADO LA PRUEBA Y NO SERÁ TOMADO EN CUENTA COMO PARTE DEL RESULTADO FINAL**."
   ]
  },
  {
   "cell_type": "markdown",
   "metadata": {},
   "source": [
    "---"
   ]
  },
  {
   "cell_type": "markdown",
   "metadata": {},
   "source": [
    "    \n",
    "<div style='background-color:rgba(60, 180, 90, 0.3); padding:15px;'>\n",
    "    \n",
    " * **APRENDIZAJE IMPORTANTE:** Como se puede ver en la celda superior el ajuste del **`rank_test_score`** que pertenece a la **posición 20** me ofrece el mejor resultado para la métrica F1, este resultado ha sido inclusive mejor que el que he obtenido con el `mean_test_score` más alto de todo el grupo de las 20 iteraciones. \n",
    "    \n",
    "    \n",
    " * **En Resumen he aprendido que con el Modelo de Gradient Boosting es necesario realizar pruebas adicionales para mejorar las métricas de este modelo**.\n",
    "    \n",
    "</div>"
   ]
  },
  {
   "cell_type": "markdown",
   "metadata": {},
   "source": [
    "---"
   ]
  },
  {
   "cell_type": "markdown",
   "metadata": {},
   "source": [
    "---\n",
    "\n",
    "[Volver a Contenido](#back)\n",
    "\n",
    "---"
   ]
  },
  {
   "cell_type": "markdown",
   "metadata": {},
   "source": [
    "<span style='color:blue'>\n",
    "    \n",
    "### 4.2.2. Entrenamiento Final - Modelo Random Forest<a id='final_overrf'></a>\n",
    "    \n",
    "</span>"
   ]
  },
  {
   "cell_type": "markdown",
   "metadata": {},
   "source": [
    "---\n",
    "\n",
    "<div style = 'background-color:orange; padding:30px;'><span style='color:black'>\n",
    "    \n",
    "**PRECAUCIÓN:** La siguiente celda toma **`aproximadamente 4 minutos en ejecutarse`**, esto debido a que estamos buscando configurar los hiperparámetros más óptimos para el modelo **`Random Forest`** con Sobremuestreo.\n",
    "    \n",
    "</span></div>\n",
    "\n",
    "---"
   ]
  },
  {
   "cell_type": "code",
   "execution_count": 74,
   "metadata": {},
   "outputs": [
    {
     "name": "stdout",
     "output_type": "stream",
     "text": [
      "Fitting 3 folds for each of 20 candidates, totalling 60 fits\n",
      "0.8955599102851955\n",
      "{'n_estimators': 300, 'min_samples_split': 10, 'min_samples_leaf': 4, 'max_features': None, 'max_depth': 200, 'class_weight': None}\n"
     ]
    }
   ],
   "source": [
    "# Definimos el rango de hiperparámetros para el ajuste con el modelo Random Forest\n",
    "params_grid = {\n",
    "    'n_estimators': [100, 200, 300, 400, 500],\n",
    "    'max_depth': [50, 100, 200, 300, 400, 500],\n",
    "    'min_samples_split': [5, 10, 15, 20, 25, 30, 40],\n",
    "    'min_samples_leaf': [2, 4, 6, 8],\n",
    "    'max_features': [None, 'sqrt', 'log2'],\n",
    "    'class_weight': [None, 'balanced']\n",
    "}\n",
    "\n",
    "# Inicializar el modelo Gradient Boosting\n",
    "rf = RandomForestClassifier(random_state=12345)\n",
    "\n",
    "# Configuramos la búsqueda de hiperparámetros con validación cruzada (3 folds)\n",
    "random_search = RandomizedSearchCV(estimator=rf, param_distributions=params_grid, cv=3, n_jobs=-1, n_iter=20, \n",
    "                                                                                            scoring='f1', verbose=1, random_state=12345)\n",
    "\n",
    "# Ajustamos el modelo con el conjunto sobremuestreado\n",
    "random_search.fit(X_train_over,  y_train_over)\n",
    "\n",
    "# Obtenemos los mejores hiperparámetros y resultados\n",
    "results_over_rf = random_search.cv_results_\n",
    "best_params_over_rf = random_search.best_params_\n",
    "best_score_over_rf = random_search.best_score_\n",
    "\n",
    "# Mostramos los mejores hiperparámetros y el puntaje F1 correspondiente\n",
    "print(best_score_over_rf)\n",
    "print(best_params_over_rf)\n"
   ]
  },
  {
   "cell_type": "code",
   "execution_count": 76,
   "metadata": {},
   "outputs": [
    {
     "data": {
      "text/html": [
       "<div>\n",
       "<style scoped>\n",
       "    .dataframe tbody tr th:only-of-type {\n",
       "        vertical-align: middle;\n",
       "    }\n",
       "\n",
       "    .dataframe tbody tr th {\n",
       "        vertical-align: top;\n",
       "    }\n",
       "\n",
       "    .dataframe thead th {\n",
       "        text-align: right;\n",
       "    }\n",
       "</style>\n",
       "<table border=\"1\" class=\"dataframe\">\n",
       "  <thead>\n",
       "    <tr style=\"text-align: right;\">\n",
       "      <th></th>\n",
       "      <th>params</th>\n",
       "      <th>mean_test_score</th>\n",
       "      <th>rank_test_score</th>\n",
       "    </tr>\n",
       "  </thead>\n",
       "  <tbody>\n",
       "    <tr>\n",
       "      <th>12</th>\n",
       "      <td>{'n_estimators': 300, 'min_samples_split': 10, 'min_samples_leaf': 4, 'max_features': None, 'max_depth': 200, 'class_weight': None}</td>\n",
       "      <td>0.895560</td>\n",
       "      <td>1</td>\n",
       "    </tr>\n",
       "    <tr>\n",
       "      <th>2</th>\n",
       "      <td>{'n_estimators': 300, 'min_samples_split': 10, 'min_samples_leaf': 6, 'max_features': None, 'max_depth': 500, 'class_weight': None}</td>\n",
       "      <td>0.883927</td>\n",
       "      <td>2</td>\n",
       "    </tr>\n",
       "    <tr>\n",
       "      <th>13</th>\n",
       "      <td>{'n_estimators': 500, 'min_samples_split': 15, 'min_samples_leaf': 4, 'max_features': 'sqrt', 'max_depth': 500, 'class_weight': 'balanced'}</td>\n",
       "      <td>0.882899</td>\n",
       "      <td>3</td>\n",
       "    </tr>\n",
       "    <tr>\n",
       "      <th>17</th>\n",
       "      <td>{'n_estimators': 500, 'min_samples_split': 10, 'min_samples_leaf': 6, 'max_features': 'log2', 'max_depth': 300, 'class_weight': 'balanced'}</td>\n",
       "      <td>0.880588</td>\n",
       "      <td>4</td>\n",
       "    </tr>\n",
       "    <tr>\n",
       "      <th>10</th>\n",
       "      <td>{'n_estimators': 200, 'min_samples_split': 15, 'min_samples_leaf': 6, 'max_features': None, 'max_depth': 200, 'class_weight': 'balanced'}</td>\n",
       "      <td>0.877931</td>\n",
       "      <td>5</td>\n",
       "    </tr>\n",
       "    <tr>\n",
       "      <th>11</th>\n",
       "      <td>{'n_estimators': 400, 'min_samples_split': 15, 'min_samples_leaf': 6, 'max_features': 'sqrt', 'max_depth': 100, 'class_weight': 'balanced'}</td>\n",
       "      <td>0.875254</td>\n",
       "      <td>6</td>\n",
       "    </tr>\n",
       "    <tr>\n",
       "      <th>14</th>\n",
       "      <td>{'n_estimators': 400, 'min_samples_split': 25, 'min_samples_leaf': 2, 'max_features': 'sqrt', 'max_depth': 400, 'class_weight': 'balanced'}</td>\n",
       "      <td>0.868566</td>\n",
       "      <td>7</td>\n",
       "    </tr>\n",
       "    <tr>\n",
       "      <th>19</th>\n",
       "      <td>{'n_estimators': 400, 'min_samples_split': 25, 'min_samples_leaf': 2, 'max_features': None, 'max_depth': 50, 'class_weight': None}</td>\n",
       "      <td>0.866943</td>\n",
       "      <td>8</td>\n",
       "    </tr>\n",
       "    <tr>\n",
       "      <th>9</th>\n",
       "      <td>{'n_estimators': 100, 'min_samples_split': 10, 'min_samples_leaf': 8, 'max_features': 'sqrt', 'max_depth': 100, 'class_weight': 'balanced'}</td>\n",
       "      <td>0.864058</td>\n",
       "      <td>9</td>\n",
       "    </tr>\n",
       "    <tr>\n",
       "      <th>1</th>\n",
       "      <td>{'n_estimators': 300, 'min_samples_split': 25, 'min_samples_leaf': 4, 'max_features': 'sqrt', 'max_depth': 200, 'class_weight': 'balanced'}</td>\n",
       "      <td>0.863772</td>\n",
       "      <td>10</td>\n",
       "    </tr>\n",
       "    <tr>\n",
       "      <th>16</th>\n",
       "      <td>{'n_estimators': 300, 'min_samples_split': 15, 'min_samples_leaf': 8, 'max_features': 'log2', 'max_depth': 300, 'class_weight': 'balanced'}</td>\n",
       "      <td>0.863019</td>\n",
       "      <td>11</td>\n",
       "    </tr>\n",
       "    <tr>\n",
       "      <th>18</th>\n",
       "      <td>{'n_estimators': 200, 'min_samples_split': 25, 'min_samples_leaf': 6, 'max_features': 'sqrt', 'max_depth': 50, 'class_weight': None}</td>\n",
       "      <td>0.857627</td>\n",
       "      <td>12</td>\n",
       "    </tr>\n",
       "    <tr>\n",
       "      <th>8</th>\n",
       "      <td>{'n_estimators': 200, 'min_samples_split': 25, 'min_samples_leaf': 8, 'max_features': None, 'max_depth': 100, 'class_weight': None}</td>\n",
       "      <td>0.854112</td>\n",
       "      <td>13</td>\n",
       "    </tr>\n",
       "    <tr>\n",
       "      <th>0</th>\n",
       "      <td>{'n_estimators': 400, 'min_samples_split': 30, 'min_samples_leaf': 6, 'max_features': 'log2', 'max_depth': 400, 'class_weight': 'balanced'}</td>\n",
       "      <td>0.849365</td>\n",
       "      <td>14</td>\n",
       "    </tr>\n",
       "    <tr>\n",
       "      <th>5</th>\n",
       "      <td>{'n_estimators': 500, 'min_samples_split': 40, 'min_samples_leaf': 2, 'max_features': 'log2', 'max_depth': 300, 'class_weight': 'balanced'}</td>\n",
       "      <td>0.844640</td>\n",
       "      <td>15</td>\n",
       "    </tr>\n",
       "    <tr>\n",
       "      <th>3</th>\n",
       "      <td>{'n_estimators': 300, 'min_samples_split': 30, 'min_samples_leaf': 8, 'max_features': None, 'max_depth': 200, 'class_weight': 'balanced'}</td>\n",
       "      <td>0.844433</td>\n",
       "      <td>16</td>\n",
       "    </tr>\n",
       "    <tr>\n",
       "      <th>15</th>\n",
       "      <td>{'n_estimators': 500, 'min_samples_split': 30, 'min_samples_leaf': 8, 'max_features': 'log2', 'max_depth': 300, 'class_weight': None}</td>\n",
       "      <td>0.843585</td>\n",
       "      <td>17</td>\n",
       "    </tr>\n",
       "    <tr>\n",
       "      <th>7</th>\n",
       "      <td>{'n_estimators': 500, 'min_samples_split': 40, 'min_samples_leaf': 4, 'max_features': None, 'max_depth': 200, 'class_weight': 'balanced'}</td>\n",
       "      <td>0.836927</td>\n",
       "      <td>18</td>\n",
       "    </tr>\n",
       "    <tr>\n",
       "      <th>4</th>\n",
       "      <td>{'n_estimators': 300, 'min_samples_split': 40, 'min_samples_leaf': 8, 'max_features': None, 'max_depth': 200, 'class_weight': 'balanced'}</td>\n",
       "      <td>0.832808</td>\n",
       "      <td>19</td>\n",
       "    </tr>\n",
       "    <tr>\n",
       "      <th>6</th>\n",
       "      <td>{'n_estimators': 400, 'min_samples_split': 40, 'min_samples_leaf': 8, 'max_features': 'sqrt', 'max_depth': 400, 'class_weight': 'balanced'}</td>\n",
       "      <td>0.827422</td>\n",
       "      <td>20</td>\n",
       "    </tr>\n",
       "  </tbody>\n",
       "</table>\n",
       "</div>"
      ],
      "text/plain": [
       "                                                                                                                                         params  \\\n",
       "12          {'n_estimators': 300, 'min_samples_split': 10, 'min_samples_leaf': 4, 'max_features': None, 'max_depth': 200, 'class_weight': None}   \n",
       "2           {'n_estimators': 300, 'min_samples_split': 10, 'min_samples_leaf': 6, 'max_features': None, 'max_depth': 500, 'class_weight': None}   \n",
       "13  {'n_estimators': 500, 'min_samples_split': 15, 'min_samples_leaf': 4, 'max_features': 'sqrt', 'max_depth': 500, 'class_weight': 'balanced'}   \n",
       "17  {'n_estimators': 500, 'min_samples_split': 10, 'min_samples_leaf': 6, 'max_features': 'log2', 'max_depth': 300, 'class_weight': 'balanced'}   \n",
       "10    {'n_estimators': 200, 'min_samples_split': 15, 'min_samples_leaf': 6, 'max_features': None, 'max_depth': 200, 'class_weight': 'balanced'}   \n",
       "11  {'n_estimators': 400, 'min_samples_split': 15, 'min_samples_leaf': 6, 'max_features': 'sqrt', 'max_depth': 100, 'class_weight': 'balanced'}   \n",
       "14  {'n_estimators': 400, 'min_samples_split': 25, 'min_samples_leaf': 2, 'max_features': 'sqrt', 'max_depth': 400, 'class_weight': 'balanced'}   \n",
       "19           {'n_estimators': 400, 'min_samples_split': 25, 'min_samples_leaf': 2, 'max_features': None, 'max_depth': 50, 'class_weight': None}   \n",
       "9   {'n_estimators': 100, 'min_samples_split': 10, 'min_samples_leaf': 8, 'max_features': 'sqrt', 'max_depth': 100, 'class_weight': 'balanced'}   \n",
       "1   {'n_estimators': 300, 'min_samples_split': 25, 'min_samples_leaf': 4, 'max_features': 'sqrt', 'max_depth': 200, 'class_weight': 'balanced'}   \n",
       "16  {'n_estimators': 300, 'min_samples_split': 15, 'min_samples_leaf': 8, 'max_features': 'log2', 'max_depth': 300, 'class_weight': 'balanced'}   \n",
       "18         {'n_estimators': 200, 'min_samples_split': 25, 'min_samples_leaf': 6, 'max_features': 'sqrt', 'max_depth': 50, 'class_weight': None}   \n",
       "8           {'n_estimators': 200, 'min_samples_split': 25, 'min_samples_leaf': 8, 'max_features': None, 'max_depth': 100, 'class_weight': None}   \n",
       "0   {'n_estimators': 400, 'min_samples_split': 30, 'min_samples_leaf': 6, 'max_features': 'log2', 'max_depth': 400, 'class_weight': 'balanced'}   \n",
       "5   {'n_estimators': 500, 'min_samples_split': 40, 'min_samples_leaf': 2, 'max_features': 'log2', 'max_depth': 300, 'class_weight': 'balanced'}   \n",
       "3     {'n_estimators': 300, 'min_samples_split': 30, 'min_samples_leaf': 8, 'max_features': None, 'max_depth': 200, 'class_weight': 'balanced'}   \n",
       "15        {'n_estimators': 500, 'min_samples_split': 30, 'min_samples_leaf': 8, 'max_features': 'log2', 'max_depth': 300, 'class_weight': None}   \n",
       "7     {'n_estimators': 500, 'min_samples_split': 40, 'min_samples_leaf': 4, 'max_features': None, 'max_depth': 200, 'class_weight': 'balanced'}   \n",
       "4     {'n_estimators': 300, 'min_samples_split': 40, 'min_samples_leaf': 8, 'max_features': None, 'max_depth': 200, 'class_weight': 'balanced'}   \n",
       "6   {'n_estimators': 400, 'min_samples_split': 40, 'min_samples_leaf': 8, 'max_features': 'sqrt', 'max_depth': 400, 'class_weight': 'balanced'}   \n",
       "\n",
       "    mean_test_score  rank_test_score  \n",
       "12         0.895560                1  \n",
       "2          0.883927                2  \n",
       "13         0.882899                3  \n",
       "17         0.880588                4  \n",
       "10         0.877931                5  \n",
       "11         0.875254                6  \n",
       "14         0.868566                7  \n",
       "19         0.866943                8  \n",
       "9          0.864058                9  \n",
       "1          0.863772               10  \n",
       "16         0.863019               11  \n",
       "18         0.857627               12  \n",
       "8          0.854112               13  \n",
       "0          0.849365               14  \n",
       "5          0.844640               15  \n",
       "3          0.844433               16  \n",
       "15         0.843585               17  \n",
       "7          0.836927               18  \n",
       "4          0.832808               19  \n",
       "6          0.827422               20  "
      ]
     },
     "execution_count": 76,
     "metadata": {},
     "output_type": "execute_result"
    }
   ],
   "source": [
    "# Habilito la opción de ajuste automático de columnas, para que se vean los datos de \"params\"\n",
    "pd.set_option('display.max_colwidth', None)\n",
    "\n",
    "# creo un DataFrame para poder visualizar los 6 mejores ajustes que ha obtenido \"RamdomizedSearchCV\"\n",
    "df_over_rf = pd.DataFrame(results_over_rf, columns=['params', 'mean_test_score', 'rank_test_score']).sort_values(by='mean_test_score', ascending=False)\n",
    "df_over_rf"
   ]
  },
  {
   "cell_type": "code",
   "execution_count": 77,
   "metadata": {},
   "outputs": [],
   "source": [
    "# Deshabilito la opción de ajuste automático de columnas\n",
    "pd.reset_option('display.max_colwidth')"
   ]
  },
  {
   "cell_type": "code",
   "execution_count": 78,
   "metadata": {},
   "outputs": [],
   "source": [
    "# He creado una función que me permita ajustar los hiperparámetros que deseo evaluar y que además me permita tener más un sólo resultado\n",
    "def hyperparams(ranks, data):\n",
    "    results = []\n",
    "    for rank in ranks:\n",
    "        index = None\n",
    "        for i, rank_value in enumerate(data['rank_test_score']):\n",
    "            if rank_value == rank:\n",
    "                index = i\n",
    "                break\n",
    "                \n",
    "        if index is None:\n",
    "            print(f\"No se encontró el valor {rank} en el diccionario.\")\n",
    "            \n",
    "        params = data['params'][index]\n",
    "        rank_test_score = data['rank_test_score'][index]\n",
    "        \n",
    "        # --------------------------------------------------------------------------------------------------------------------------------------------------------------------------------------\n",
    "        # Selección del Modelo a entrenar\n",
    "        model = RandomForestClassifier(n_estimators=params['n_estimators'], min_samples_split=params['min_samples_split'], \n",
    "                            min_samples_leaf=params['min_samples_leaf'],max_features=params['max_features'], \n",
    "                            max_depth=params['max_depth'], class_weight=params['class_weight'], random_state=12345)\n",
    "        \n",
    "        # Entrenamos el modelo seleccionado con el Conjunto de Entrenamiento submuestreado\n",
    "        model.fit(X_train_over, y_train_over)\n",
    "        \n",
    "        # Ahora realizo la predicción con el Conjunto de Prueba\n",
    "        y_over_rf_pred = model.predict(X_test)\n",
    "        \n",
    "        # Seguidamente calculamos las métricas F1 y AUC-ROC\n",
    "        f1_rf_over = f1_score(y_test, y_over_rf_pred)\n",
    "        auc_roc_rf_over = roc_auc_score(y_test, model.predict_proba(X_test)[:, 1])\n",
    "\n",
    "        # Muestro los resultados por pantalla\n",
    "        print(f\"RANK:{rank }  -->  F1 Score(Sobremuestreo-Random Forest):{f1_rf_over:.4f}   -   AUC-ROC(Sobremuestreo-Random Forest):{auc_roc_rf_over:.4f}\")\n",
    "        "
   ]
  },
  {
   "cell_type": "code",
   "execution_count": 87,
   "metadata": {},
   "outputs": [
    {
     "name": "stdout",
     "output_type": "stream",
     "text": [
      "RANK:1  -->  F1 Score(Sobremuestreo-Random Forest):0.5704   -   AUC-ROC(Sobremuestreo-Random Forest):0.8363\n",
      "RANK:10  -->  F1 Score(Sobremuestreo-Random Forest):0.6105   -   AUC-ROC(Sobremuestreo-Random Forest):0.8550\n",
      "RANK:20  -->  F1 Score(Sobremuestreo-Random Forest):0.6085   -   AUC-ROC(Sobremuestreo-Random Forest):0.8562\n"
     ]
    }
   ],
   "source": [
    "hyperparams([1, 10, 20], results_over_rf)"
   ]
  },
  {
   "cell_type": "markdown",
   "metadata": {},
   "source": [
    "---"
   ]
  },
  {
   "cell_type": "markdown",
   "metadata": {},
   "source": [
    "<div style='background-color:rgba(12, 120, 210, 0.3); padding:30px;'><span style='color:darkblue'>\n",
    "                         \n",
    "(**Comentarios del Alumno - Milton Valle**)\n",
    "    \n",
    " 1. El **Paso 1** me ha ayudado a configurar el **optimizador de hiperparámetros `RandomizedSearchCV`**, a partir de la designación de valores para los hiperparámetros `n_estimators`, `min_samples_split`, `min_samples_leaf`, `max_features`, `max_depth` y `class_weight`, que correspondel al modelo **`RandomForestClassifier`**.\n",
    "        \n",
    "    \n",
    " 2. He configurado este optimizador para que trabaje con una **validación cruzada de 3 pliegues**, realice **20 iteraciones** y he solicitado que **utilice todos los nucleos disponibles de la máquina**, para máximizar el uso de los recursos del sistema.\n",
    "    \n",
    "    \n",
    " 3. Con el **Paso 2** he buscado poder visualizar los ajustes de los hiperparámetros en las 20 iteraciones que ha realizado el optimizador `RandomizedSearchCV`, esto con la finalidad de poder utilizar luego esa información y así tratar de ver si se puede mejorar aún más la métrica F1.\n",
    "    \n",
    "    \n",
    " 4. Con el **Paso 3** he decidido **evaluar al modelo `Random Forest` con el `mean_test_score` más alto que hemos obtenido**, que es lo ideal de realizar para poder obtener los mejores resultados con la `métrica F1`. Sin embargo me he propuesto ver también cuales son los resultados que obtengo en la métrica F1 si es que además entreno el modelo con el resultado más bajo y el del precisión intermedia del **`mean_test_score`** es decir el **`rank_test_score = 1, 10 y 20`**."
   ]
  },
  {
   "cell_type": "markdown",
   "metadata": {},
   "source": [
    "---"
   ]
  },
  {
   "cell_type": "markdown",
   "metadata": {},
   "source": [
    "<div style='background-color:rgba(12, 120, 210, 0.3); padding:30px;'><span style='color:darkblue'>\n",
    "    \n",
    "**CONCLUSIÓN:**\n",
    "    \n",
    " * Con este modelo se ha podido ver que hemos pasado el umbral de la métrica F1 > 0.59, con los dos grupos de ajustes que presentaban las precisiones más baja y la de la media del rango. Lo interesante de ver es que el Conjunto de Entrenamiento ha obtenido el valor más bajo para F1 con el ajuste ideal que nos propone el Optimizador RandomizedSearchCV.\n",
    "    \n",
    "    \n",
    " * Debido a los comentarios emitidos anteriormente, estamos en condiciones de poder afirmar que el modelo `Random Forest` con Sobremuestreado, **SI CUMPLE SATISFACTORIA MENTE con la métrica **`F1 > 0.59`**. Por lo tanto **ESTE MODELO SI HA SUPERADO LA PRUEBA FINAL DE ESTE PROYECTO**."
   ]
  },
  {
   "cell_type": "markdown",
   "metadata": {},
   "source": [
    "---"
   ]
  },
  {
   "cell_type": "markdown",
   "metadata": {},
   "source": [
    "    \n",
    "<div style='background-color:rgba(60, 180, 90, 0.3); padding:15px;'>\n",
    "    \n",
    " * **APRENDIZAJE IMPORTANTE:** Con el modelo `Random Forest` también es necesaro, así como con el `Gradiendt Boosting`, realizar el entrenado del modelo con los grupos de ajustes para los hiperparámetros que no han presentado la mayor precisión o el mejor resultado, para de esta manera poder ver su comportamiento con el Conjunto de Prueba.\n",
    "      \n",
    "    \n",
    "</div>"
   ]
  },
  {
   "cell_type": "markdown",
   "metadata": {},
   "source": [
    "---"
   ]
  },
  {
   "cell_type": "markdown",
   "metadata": {},
   "source": [
    "<div class=\"alert alert-block alert-success\">\n",
    "<b>Comentario del revisor (1ra Iteración)</b> <a class=“tocSkip”></a>\n",
    "    \n",
    "Milton lo que has hecho es excepcional. LLevaste el proyecto un paso más allá, realizando una optimización de hiperpámetros. Esto evidencia un conocimiento avanzado para la creación de modelos predictivos. Felicitaciones. (Gracias por las advertencias sobre el tiempo de ejecución)\n",
    "\n",
    "</div>"
   ]
  },
  {
   "cell_type": "markdown",
   "metadata": {},
   "source": [
    "---\n",
    "\n",
    "[Volver a Contenido](#back)\n",
    "\n",
    "---"
   ]
  },
  {
   "cell_type": "markdown",
   "metadata": {},
   "source": [
    "<span style='color:blue'>\n",
    "    \n",
    "## 4.3. Selección del Mejor Modelo y Ajuste de Hiperparámetros<a id='select'></a>\n",
    "    \n",
    "</span>"
   ]
  },
  {
   "cell_type": "markdown",
   "metadata": {},
   "source": [
    "---\n",
    "\n",
    "Hemos podido identificar con ayuda de los apartados anterioresque el modelo que ha tenido la mejor respuesta con el **Conjunto de Prueba**, ha sido en modelo **`Random Forest Classifier`**, utilizando tanto la técnica de **Sobremuestreado**, como la técnica de **Submuestreado**. \n",
    "    \n",
    "A continuación presentamos nuevamente los resultados obtenidos en los apartados anteriores:\n",
    "    \n",
    "| **rank_test_score** | **Modelo** | **Técnica** | **F1_Score** | **AUC-ROC** | **Mejor Modelo** |\n",
    "|:----------------:|:------:|:-------:|:--------:|:--------:|:------------:|\n",
    "| Rank 1 | Random Forest | Submuestreo | 0.6063 | 0.8555 | NO |\n",
    "| Rank 10 | Random Forest | Submuestreo | 0.6085 | 0.8562 | NO |\n",
    "| **Rank 20** | **Random Forest** | **Submuestreo** | **0.6127** | **0.8528** | **SI** ✔️|\n",
    "| Rank 10 | Random Forest | Sobremuestreo | 0.6105 | 0.8550 | NO |\n",
    "| Rank 20 | Random Forest | Sobremuestreo | 0.6085 | 0.8562 | NO |\n",
    "    \n",
    "---\n",
    "\n",
    "Como se puede apreciar el **mejor resultado de `F1_score` ha sido de 0.6127**, que ha superado lo mínimamente aceptable para la aprobación de este proyecto.\n",
    "\n",
    "---"
   ]
  },
  {
   "cell_type": "markdown",
   "metadata": {},
   "source": [
    "---\n",
    "\n",
    "[Volver a Contenido](#back)\n",
    "\n",
    "---"
   ]
  },
  {
   "cell_type": "markdown",
   "metadata": {},
   "source": [
    "<span style='color:blue'>\n",
    "    \n",
    "## 4.4. Curva ROC del Mejor Modelo del Proyecto<a id='curva'></a>\n",
    "    \n",
    "</span>"
   ]
  },
  {
   "cell_type": "code",
   "execution_count": 90,
   "metadata": {},
   "outputs": [
    {
     "data": {
      "text/html": [
       "<div>\n",
       "<style scoped>\n",
       "    .dataframe tbody tr th:only-of-type {\n",
       "        vertical-align: middle;\n",
       "    }\n",
       "\n",
       "    .dataframe tbody tr th {\n",
       "        vertical-align: top;\n",
       "    }\n",
       "\n",
       "    .dataframe thead th {\n",
       "        text-align: right;\n",
       "    }\n",
       "</style>\n",
       "<table border=\"1\" class=\"dataframe\">\n",
       "  <thead>\n",
       "    <tr style=\"text-align: right;\">\n",
       "      <th></th>\n",
       "      <th>params</th>\n",
       "      <th>rank_test_score</th>\n",
       "    </tr>\n",
       "  </thead>\n",
       "  <tbody>\n",
       "    <tr>\n",
       "      <th>11</th>\n",
       "      <td>{'n_estimators': 400, 'min_samples_split': 15, 'min_samples_leaf': 6, 'max_features': 'sqrt', 'max_depth': 100, 'class_weight': 'balanced'}</td>\n",
       "      <td>20</td>\n",
       "    </tr>\n",
       "  </tbody>\n",
       "</table>\n",
       "</div>"
      ],
      "text/plain": [
       "                                                                                                                                         params  \\\n",
       "11  {'n_estimators': 400, 'min_samples_split': 15, 'min_samples_leaf': 6, 'max_features': 'sqrt', 'max_depth': 100, 'class_weight': 'balanced'}   \n",
       "\n",
       "    rank_test_score  \n",
       "11               20  "
      ]
     },
     "execution_count": 90,
     "metadata": {},
     "output_type": "execute_result"
    }
   ],
   "source": [
    "# Obtengo la configuración de los Hiperparámetros que corresponden al Modelo Ganador de este proyecto..\n",
    "df_sub_rf[df_sub_rf['rank_test_score'] == 20][['params', 'rank_test_score']]\n"
   ]
  },
  {
   "cell_type": "code",
   "execution_count": 112,
   "metadata": {},
   "outputs": [
    {
     "data": {
      "image/png": "[encoded data removed]",
      "text/plain": [
       "<Figure size 600x600 with 1 Axes>"
      ]
     },
     "metadata": {},
     "output_type": "display_data"
    }
   ],
   "source": [
    "# Configuramos nuevamente el modelo Ganador de este proyecto...\n",
    "final_model = RandomForestClassifier(n_estimators=400, min_samples_split=15, min_samples_leaf=6,\n",
    "                                                   max_features='sqrt', max_depth=100, class_weight='balanced', random_state=12345)\n",
    "final_model.fit(X_train_under, y_train_under)\n",
    "proba_test1 = final_model.predict_proba(X_test)[:, 1]\n",
    "fpr1, tpr1, thresholds1 = roc_curve(y_test, proba_test1)\n",
    "roc_auc1 = auc(fpr1, tpr1)\n",
    "\n",
    "# Configuramos el modelo original  con el que comenzamos a trabajar\n",
    "orig_model = RandomForestClassifier(random_state=12345)\n",
    "orig_model.fit(X_train, y_train)\n",
    "proba_test2 = orig_model.predict_proba(X_test)[:, 1]\n",
    "fpr2, tpr2, thresholds2 = roc_curve(y_test, proba_test2)\n",
    "roc_auc2= auc(fpr2, tpr2)\n",
    "\n",
    "# Graficamos nuestra Curva ROC\n",
    "plt.figure(figsize=(6,6))\n",
    "plt.plot(fpr1, tpr1, color='blue', lw=2, label=f'RandomForest  Final (AUC = {roc_auc1:.2f})')\n",
    "plt.plot(fpr2, tpr2, color='orange', lw=1, label=f'RandomForest Inicial (AUC = {roc_auc2:.2f})')\n",
    "plt.plot([0, 1], [0, 1], color='red', linestyle='--')\n",
    "plt.ylim(0.0, 1.05)\n",
    "plt.xlim(0.0, 1.0)\n",
    "plt.xlabel('Tasa de Falsos Positivos')\n",
    "plt.ylabel('Tasa de Verdaderos Positivos')\n",
    "plt.title('Curva ROC')\n",
    "plt.legend(loc='lower right')\n",
    "plt.grid()\n",
    "plt.show()"
   ]
  },
  {
   "cell_type": "markdown",
   "metadata": {},
   "source": [
    "---\n",
    "\n",
    "<div style='background-color:rgba(12, 120, 210, 0.3); padding:30px;'><span style='color:darkblue'>\n",
    "                         \n",
    "(**Comentarios Finales del Alumno - Milton Valle**)\n",
    "    \n",
    " * La figura superior nos muestra que ambas curvas tienen una tasa alta de Verdaderos positivos, al menos al principio de la curva hasta llegar a 0.3 aproximadamente de la Tasa de Falsos Positivos.\n",
    "    \n",
    "* Como ambas curvas se encuentran alejadas de la diagonal, podemos asegurar que tienen una buena capacidad para discriminar las clases de la variable objetivo.\n",
    "    \n",
    "</div>\n",
    "    \n",
    "---"
   ]
  },
  {
   "cell_type": "markdown",
   "metadata": {},
   "source": [
    "<div class=\"alert alert-block alert-success\">\n",
    "<b>Comentario del revisor (1ra Iteración)</b> <a class=“tocSkip”></a>\n",
    "    \n",
    "Perfecto Milton\n",
    "\n",
    "</div>"
   ]
  },
  {
   "cell_type": "markdown",
   "metadata": {},
   "source": [
    "---\n",
    "\n",
    "[Volver a Contenido](#back)\n",
    "\n",
    "---"
   ]
  },
  {
   "cell_type": "markdown",
   "metadata": {},
   "source": [
    "<span style='color:brown'>\n",
    "\n",
    "# ETAPA 5: Comentarios Finales del Proyecto<a id=end></a>\n",
    "\n",
    "</span>"
   ]
  },
  {
   "cell_type": "markdown",
   "metadata": {},
   "source": [
    "---"
   ]
  },
  {
   "cell_type": "markdown",
   "metadata": {},
   "source": [
    "<div style='background-color:rgba(12, 120, 210, 0.3); padding:10px;'><span style='color:darkblue'>\n",
    "                         \n",
    "(**Comentarios Finales del Alumno - Milton Valle**)\n",
    "\n",
    " 1. **Examinando los Datos**\n",
    "     * SE ha podido constatar que **no existen valores duplicados en nuestro DataFrame**.\n",
    "    \n",
    "     * El DataFrame del proyecto contiene 14 columnas, de las cuales únicamente la columna `Tenure` tiene **909 datos ausentes**.\n",
    "    \n",
    "     * La variable objetivo `Tenure` está desequilibrada ya que presenta que:\n",
    "    \n",
    "         - Un **79.63%** de clientes del total que se tiene en el DataFrame `todavía no se han ido del banco`.\n",
    "    \n",
    "         - Un **20.37%** de clientes que `ya se ha ido del banco`."
   ]
  },
  {
   "cell_type": "markdown",
   "metadata": {},
   "source": [
    "<div style='background-color:rgba(12, 120, 210, 0.3); padding:10px;'><span style='color:darkblue'>\n",
    "    \n",
    " 2. **Tratamiento de los Valores Ausentes**\n",
    "     * Observamos que la columna `Tenure` contenía algunos valores nulos, mientras que las demás columnas no presentaban valores ausentes. Para resolver los valores faltantes en la columna `Tenure`, se realizó una **imputación utilizando la mediana de los datos que se encuentran contenidos en esta columna**.  \n",
    "    \n",
    "     * **Se ha elegido a la mediana ya que es menos sensible a los valores extremos y, en general, es una buena opción para `datos que no siguen una distribución normal`, tal como es el caso de los datos que tiene esta columna.**\n",
    "    \n",
    "     * **Se puede apreciar en la gráfica superior que los 909 valores ausentes se han rellenado con el valor 5 (*mediana*), motivo por el cual esta categoría ha crecido de 927 datos a 1836**. "
   ]
  },
  {
   "cell_type": "markdown",
   "metadata": {},
   "source": [
    "<div style='background-color:rgba(12, 120, 210, 0.3); padding:10px;'><span style='color:darkblue'>\n",
    "    \n",
    " 3. **Eliminación de Columnas No Relevantes**\n",
    "     * He eliminado las columnas `RowNumber`, `CustomerId`y finalmente la columna `Surname`, debido a que la información que se encuentra contenida en esas tres columnas no llegará ha aportar valor durante el entrenamiento de los modelos de Machine Learning que realizaremos en este proyecto.\n",
    "    "
   ]
  },
  {
   "cell_type": "markdown",
   "metadata": {},
   "source": [
    "<div style='background-color:rgba(12, 120, 210, 0.3); padding:10px;'><span style='color:darkblue'>\n",
    " \n",
    " 4. **Codificación One Hot Encoding**\n",
    "     * El dataset del proyecto contiene variables categóricas en las columnas `Geography` (*país de residencia*) y `Gender` (*sexo*). Estas variables las he transformado utilizando la técnica **One-Hot Encoding** mediante el uso del método **`get.dummies()`**, esto con la finalidad de que el futuro puedan ser utilizadas por los modelos de machine learning que entrenaremos. \n",
    "\n",
    "     * Es importante mencionar que se ha activado con **True** al parámetro `drop_first`, debido a que **se quiere evitar que exista una alta correlación entre las variables independientes de nuestros modelos**, ya que este hecho puede causar problemas en los modelos que asumen independencia entre las variables predictoras, esta características se la conoce también como `multicolinealidad`."
   ]
  },
  {
   "cell_type": "markdown",
   "metadata": {},
   "source": [
    "<div style='background-color:rgba(12, 120, 210, 0.3); padding:10px;'><span style='color:darkblue'>\n",
    "    \n",
    " 5. **Separación de Características y Variables Objetivo**\n",
    "     * **X**: Es el Dataset de **Características** del proyecto, también conocido como **target**. Este dataset está formado por todas las columnas de información que ofrecerán la retroalimentación necesaria a los modelos que utilizarémos más adelante, esto con el objetivo de poder obtener predicciones de cada uno de los modelos utilizados.\n",
    "    \n",
    "     * **y**: Es el Dataset **Objetivo**  Este es el dataset que contiene la información de si los clientes continúan solicitando los servicios de `Beta Bank` o no. Este Dataset es el que le brinda las respuestas a cada modelo, a partir de los datos contenidos en el dataset de **Características**.\n",
    "    "
   ]
  },
  {
   "cell_type": "markdown",
   "metadata": {},
   "source": [
    "<div style='background-color:rgba(12, 120, 210, 0.3); padding:10px;'><span style='color:darkblue'>\n",
    "    \n",
    " 6. **División de Datos**\n",
    "     * En la celda superior he utilizado por primera vez el parámetro **`stratify`**,  tanto en la primera división de datos con `stratify=y` y `stratify=y_temp` en la segunda división de datos. Esto debido a que según una breve investigación que he realizado en internet, he podido recabar los siguientes puntos a favor que me ayudan a dar sustento a esta decisión:\n",
    "\n",
    "     * La división de los conjuntos de datos para este proyecto, ha sido realizada de la siguiente manera:\n",
    "    \n",
    "         * **Conjunto de Entrenamiento**: Se ha asignado un `60%`, para ajustar el modelo y aprender patrones a partir de los datos.\n",
    "    \n",
    "         * **Conjunto de Validación**: Se ha asignado un `20%`, para ajustar hiperparámetros y comparar modelos antes de elegir el mejor.\n",
    "    \n",
    "         *  **Conjunto de Prueba**: Se ha asignado el restante `20%`, para evaluar la calidad del modelo final en datos no vistos."
   ]
  },
  {
   "cell_type": "markdown",
   "metadata": {},
   "source": [
    "<div style='background-color:rgba(12, 120, 210, 0.3); padding:10px;'><span style='color:darkblue'>\n",
    " \n",
    " 7. **Escalado de Características - StandardScaler**\n",
    "     * He considerado hacer un **escalado de características** mediante la clase `StandardScaler`, pero únicamente a las columnas que tienen valores numéricos que superan al rango de números que se encuentran entre 1 y el 10, esto debido a que `considero que todas las columnas que tienen valores dentro del rango mencionado, no deberían presentar una alta correlación  y por lo tanto tampoco deberían perjudicar al modelo si mantenemos sus valores originales`. Por lo que considero que las ventajas de este enfoque son las que presento a continuación: \n",
    "\n",
    "         * **Flexibilidad**: Permite un escalado selectivo basado en las características del dataset.\n",
    "    \n",
    "         * **Eficiencia**: Evita el procesamiento innecesario de características que no lo requieren.\n",
    "    \n",
    "         * **Interpretabilidad**: Mantiene algunas características en su escala original, lo que puede ser útil para la interpretación del modelo.\n",
    "    \n",
    "         * **Compatibilidad**: Funciona bien con todos los modelos propuestos, optimizando para la regresión logística sin afectar negativamente a los modelos basados en árboles."
   ]
  },
  {
   "cell_type": "markdown",
   "metadata": {},
   "source": [
    "<div style='background-color:rgba(12, 120, 210, 0.3); padding:10px;'><span style='color:darkblue'>\n",
    " \n",
    " 8. **Examinando el Equilibrio de Clases**\n",
    "     * El Conjunto de Entrenamiento con el cual entrenaremos nuestro modelo presenta:\n",
    "    \n",
    "         - **79.63%** de los datos corresponden a **clientes que aún continúan solicitando los servicios** de `Beta Bank`.\n",
    "    \n",
    "         - **20.37%** de los datos corresponden a **clientes que ya han dejado de requerir los servicios** ofrecidos por `Beta Bank`."
   ]
  },
  {
   "cell_type": "markdown",
   "metadata": {},
   "source": [
    "<div style='background-color:rgba(12, 120, 210, 0.3); padding:10px;'><span style='color:darkblue'>\n",
    " \n",
    " 9. **Entrenamiento Inicial de los Modelos del Proyecto**\n",
    "     \n",
    "    1. El Modelo **`Logistic Regression`** ha alcanzado un valor de **`F1 = 0.3046`**, esto se debe principalmente al desequilibrio que se tiene en las clases, lo cual ha ocasionado que no se tenga un buen balance entre **Precisión** y **Sensibilidad** con este modelo en particular. Teniéndo como resultado que **no se ha podido cumplir con el objetivo** de alcanzar un valor de **F1 &ge; 0.59**.  \n",
    "    \n",
    "    2. Por otro lado el modelo **`Logistic Regression`** a obtenido un **`AUC-ROC = 0.7876`**, lo cual es un indicador positivo de que este modelo si ha tenido una buena capacidad para poder discriminar los clientes que se irán y los que no se irán de **`Beta Bank`**.  \n",
    "    \n",
    "    \n",
    "    3. El modelo **`Decision Tree`** ha alcanzado un valor de **`F1 = 0.5054`**, lo cual nos indica que con este modelo el desbalance existente de las clases en la variable `Exited` ha obtenido un mejor balance entre **Precisión** y **Sensibilidad**,  sin embargo en terminos generales **tampoco ha podido cumplir con el objetivo** de alcanzar un **F1 &ge; 0.59**.\n",
    "    \n",
    "    \n",
    "    4. En lo que respecta a la métrica del *Área Bajo la Curva de la Caractarística Operativa del Receptor* con el modelo **`Decision Tree`** este modelo ha obtenido un **`AUC-ROC = 0.6907`** lo que nos indica que este modelo **no ha logrado tener una buena capacidad para poder discrimiar entre los clientes que se van y los que no del banco**, o al menos no una tan buena como el modelo Logistic Regression.\n",
    "    \n",
    "    \n",
    "    5. El modelo **`Random Forest`** ha obtenido un valor de **`0.6127 para F1`**, lo cual nos indica que este modelo ha obtenido el mejor balance (*hasta ahora*) entre **Precisión** y **Sensibilidad** y además de ello **SI HA CUMPLIDO CON EL OBJETIVO DE SUPERAR EL UMBRAL de 0.59 para F1**.\n",
    "    \n",
    "    \n",
    "    6. Ahora tomando encuenta la metrica del *AUC-ROC* con el modelo **`Random Forest`**, este modelo ha obtenido un **`AUC-ROC = 0.8623`**. Lo cual es un indicador que este modelo ha tenido **la mejor capacidad para poder discriminar entre los clientes que se van y los que se quedarán en el banco**. \n",
    "    \n",
    "    \n",
    "    7. El modelo **`Gradient Boosting`** ha obtenido un valor de **0.6021 para F1**,  habiendo **pasado  también el umbral propuesto de F1 &ge; 0.59**, aunque no por mucho, pero ha cumplido con ese requisito inicial. Mostrando numéricamente también que este modelo ha tenido un buen balance entre **Precisión** y **Sensibilidad**.\n",
    "    \n",
    "    \n",
    "    8. En lo que respecta a la métrica AUC-ROC con el modelo **`Gradient Boosting`**, este modelo ha obtenido un **`AUC-ROC = 0.8763`**. Demostrando que **este modelo es el que mejor ha sabido discriminar entre los clientes que se van y los que se quedan en el banco**, considerando que los *hiperparámetros se han dejado con sus ajustes por defecto* y además *no hemos realizado ningún trabajo de balanceo de las clases*."
   ]
  },
  {
   "cell_type": "markdown",
   "metadata": {},
   "source": [
    "<div style='background-color:rgba(12, 120, 210, 0.3); padding:10px;'><span style='color:darkblue'>\n",
    "    \n",
    " 10. **Comparación de Resultados (Submuestreo VS. Sobremuestreo)**\n",
    "\n",
    "   * Los modelos que ha presentado los **mejores resultados de** **`F1`**, tanto con la implementación de la técnica de **Submuestreo**, como para la técnica de **Sobremuestreo**; han sido los modelos **`Random Forest`** y **`Gradient Boosting`**. Motivo por el cual voy a seleccionar ambos modelos para pasar a la siguiente etapa de nuestro proyecto.\n",
    "    \n",
    "    \n",
    "   * Los resultados obtenidos tanto para la técnica de **Submuestreo** como para la técnica de **Sobremuestreo** con los modelos de **Gradient Boosting**  y **Random Forest** presentan valores de **`F1`** muy similares, **por lo que he decidido elegir tanto la técnica de **`Sobremuestreo`** ,como la técnica de **`Submuestreo`, para pasar a la siguiente etapa de este proyecto."
   ]
  },
  {
   "cell_type": "markdown",
   "metadata": {},
   "source": [
    "<div style='background-color:rgba(12, 120, 210, 0.3); padding:10px;'><span style='color:darkblue'>\n",
    "    \n",
    " 11. **Selección del Mejor Modelo y Ajuste de Hiperparámetros**\n",
    "     \n",
    "     * Hemos podido identificar con ayuda de los apartados anterioresque el modelo que ha tenido la mejor respuesta con el **Conjunto de Prueba**, ha sido en modelo **`Random Forest Classifier`**, utilizando tanto la técnica de **Sobremuestreado**, como la técnica de **Submuestreado**. \n",
    "    \n",
    "     * A continuación presentamos nuevamente los resultados obtenidos en los apartados anteriores:\n",
    "    \n",
    "| **rank_test_score** | **Modelo** | **Técnica** | **F1_Score** | **AUC-ROC** | **Mejor Modelo** |\n",
    "|:----------------:|:------:|:-------:|:--------:|:--------:|:------------:|\n",
    "| Rank 1 | Random Forest | Submuestreo | 0.6063 | 0.8555 | NO |\n",
    "| Rank 10 | Random Forest | Submuestreo | 0.6085 | 0.8562 | NO |\n",
    "| **Rank 20** | **Random Forest** | **Submuestreo** | **0.6127** | **0.8528** | **SI** ✔️|\n",
    "| Rank 10 | Random Forest | Sobremuestreo | 0.6105 | 0.8550 | NO |\n",
    "| Rank 20 | Random Forest | Sobremuestreo | 0.6085 | 0.8562 | NO |\n",
    "\n",
    "  * Como se puede apreciar el **mejor resultado de `F1_score` ha sido de 0.6127**, que ha superado lo mínimamente aceptable para la aprobación de este proyecto.\n",
    "\n",
    "</div>\n",
    "\n",
    "---    "
   ]
  },
  {
   "cell_type": "markdown",
   "metadata": {},
   "source": [
    "<div style='background-color:darkblue; padding:30px;'><span style='color:white'>\n",
    "\n",
    "# FIN DEL PROYECTO\n",
    "    \n",
    "</span></div>"
   ]
  },
  {
   "cell_type": "markdown",
   "metadata": {},
   "source": [
    "<div class=\"alert alert-block alert-success\">\n",
    "<b>Comentario del revisor (1ra Iteración)</b> <a class=“tocSkip”></a>\n",
    "    \n",
    "Milton has obtenido un modelo que cumple con los requisitos del proyecto. Pero más allá de eso, has relizado todo el proceso de validación y justificación de una manera excepcional.\n",
    "    \n",
    "    \n",
    "</div>"
   ]
  },
  {
   "cell_type": "markdown",
   "metadata": {},
   "source": [
    "-----"
   ]
  }
 ],
 "metadata": {
  "ExecuteTimeLog": [
   {
    "duration": 2154,
    "start_time": "2024-10-13T00:37:13.284Z"
   },
   {
    "duration": 657,
    "start_time": "2024-10-13T00:41:35.230Z"
   },
   {
    "duration": 34,
    "start_time": "2024-10-13T00:41:43.032Z"
   },
   {
    "duration": 157,
    "start_time": "2024-10-13T21:58:32.133Z"
   },
   {
    "duration": 2603,
    "start_time": "2024-10-13T21:58:38.606Z"
   },
   {
    "duration": 38,
    "start_time": "2024-10-13T21:58:41.211Z"
   },
   {
    "duration": 12,
    "start_time": "2024-10-13T21:58:41.874Z"
   },
   {
    "duration": 7,
    "start_time": "2024-10-13T22:06:31.614Z"
   },
   {
    "duration": 2633,
    "start_time": "2024-10-14T00:17:20.464Z"
   },
   {
    "duration": 28,
    "start_time": "2024-10-14T00:17:23.099Z"
   },
   {
    "duration": 12,
    "start_time": "2024-10-14T00:17:25.450Z"
   },
   {
    "duration": 3323,
    "start_time": "2024-10-14T16:19:44.759Z"
   },
   {
    "duration": 49,
    "start_time": "2024-10-14T16:19:54.127Z"
   },
   {
    "duration": 19,
    "start_time": "2024-10-14T16:20:14.420Z"
   },
   {
    "duration": 6,
    "start_time": "2024-10-14T16:20:16.304Z"
   },
   {
    "duration": 252,
    "start_time": "2024-10-14T16:44:13.595Z"
   },
   {
    "duration": 8,
    "start_time": "2024-10-14T16:44:25.813Z"
   },
   {
    "duration": 6,
    "start_time": "2024-10-14T16:44:43.095Z"
   },
   {
    "duration": 5,
    "start_time": "2024-10-14T16:45:25.352Z"
   },
   {
    "duration": 6,
    "start_time": "2024-10-14T16:45:38.515Z"
   },
   {
    "duration": 1105,
    "start_time": "2024-10-14T17:39:44.671Z"
   },
   {
    "duration": 25,
    "start_time": "2024-10-14T17:39:45.778Z"
   },
   {
    "duration": 11,
    "start_time": "2024-10-14T17:42:29.375Z"
   },
   {
    "duration": 6,
    "start_time": "2024-10-14T17:42:31.480Z"
   },
   {
    "duration": 14,
    "start_time": "2024-10-14T17:42:33.636Z"
   },
   {
    "duration": 487,
    "start_time": "2024-10-14T17:45:05.556Z"
   },
   {
    "duration": 11,
    "start_time": "2024-10-14T17:45:28.464Z"
   },
   {
    "duration": 9,
    "start_time": "2024-10-14T17:51:18.892Z"
   },
   {
    "duration": 14,
    "start_time": "2024-10-14T17:53:55.150Z"
   },
   {
    "duration": 1005,
    "start_time": "2024-10-14T17:54:12.883Z"
   },
   {
    "duration": 49,
    "start_time": "2024-10-14T17:54:19.007Z"
   },
   {
    "duration": 1078,
    "start_time": "2024-10-14T17:54:33.647Z"
   },
   {
    "duration": 25,
    "start_time": "2024-10-14T17:54:34.727Z"
   },
   {
    "duration": 11,
    "start_time": "2024-10-14T17:54:36.242Z"
   },
   {
    "duration": 6,
    "start_time": "2024-10-14T17:54:36.760Z"
   },
   {
    "duration": 7,
    "start_time": "2024-10-14T17:54:37.415Z"
   },
   {
    "duration": 13,
    "start_time": "2024-10-14T17:54:39.163Z"
   },
   {
    "duration": 11,
    "start_time": "2024-10-14T17:54:41.446Z"
   },
   {
    "duration": 10,
    "start_time": "2024-10-14T17:54:44.479Z"
   },
   {
    "duration": 2943,
    "start_time": "2024-10-14T18:50:26.105Z"
   },
   {
    "duration": 39,
    "start_time": "2024-10-14T18:50:29.051Z"
   },
   {
    "duration": 16,
    "start_time": "2024-10-14T18:50:29.092Z"
   },
   {
    "duration": 8,
    "start_time": "2024-10-14T18:50:29.978Z"
   },
   {
    "duration": 7,
    "start_time": "2024-10-14T18:50:30.221Z"
   },
   {
    "duration": 11,
    "start_time": "2024-10-14T18:52:54.805Z"
   },
   {
    "duration": 10,
    "start_time": "2024-10-14T18:52:56.775Z"
   },
   {
    "duration": 251,
    "start_time": "2024-10-14T18:53:54.880Z"
   },
   {
    "duration": 236,
    "start_time": "2024-10-14T18:54:02.899Z"
   },
   {
    "duration": 43,
    "start_time": "2024-10-14T18:54:17.334Z"
   },
   {
    "duration": 0,
    "start_time": "2024-10-14T18:56:00.698Z"
   },
   {
    "duration": 211,
    "start_time": "2024-10-14T18:56:57.619Z"
   },
   {
    "duration": 102,
    "start_time": "2024-10-14T18:57:45.442Z"
   },
   {
    "duration": 7,
    "start_time": "2024-10-14T18:57:57.618Z"
   },
   {
    "duration": 4,
    "start_time": "2024-10-14T18:58:29.206Z"
   },
   {
    "duration": 4,
    "start_time": "2024-10-14T18:58:50.960Z"
   },
   {
    "duration": 15,
    "start_time": "2024-10-14T18:59:34.206Z"
   },
   {
    "duration": 101,
    "start_time": "2024-10-14T18:59:42.662Z"
   },
   {
    "duration": 116,
    "start_time": "2024-10-14T19:00:09.550Z"
   },
   {
    "duration": 134,
    "start_time": "2024-10-14T19:00:18.295Z"
   },
   {
    "duration": 137,
    "start_time": "2024-10-14T19:00:41.102Z"
   },
   {
    "duration": 159,
    "start_time": "2024-10-14T19:00:55.464Z"
   },
   {
    "duration": 131,
    "start_time": "2024-10-14T19:01:05.364Z"
   },
   {
    "duration": 128,
    "start_time": "2024-10-14T19:01:12.524Z"
   },
   {
    "duration": 126,
    "start_time": "2024-10-14T19:01:16.834Z"
   },
   {
    "duration": 137,
    "start_time": "2024-10-14T19:01:27.536Z"
   },
   {
    "duration": 129,
    "start_time": "2024-10-14T19:01:35.143Z"
   },
   {
    "duration": 131,
    "start_time": "2024-10-14T19:01:42.290Z"
   },
   {
    "duration": 135,
    "start_time": "2024-10-14T19:01:46.394Z"
   },
   {
    "duration": 117,
    "start_time": "2024-10-14T19:02:28.156Z"
   },
   {
    "duration": 122,
    "start_time": "2024-10-14T19:02:44.482Z"
   },
   {
    "duration": 120,
    "start_time": "2024-10-14T19:02:48.855Z"
   },
   {
    "duration": 1040,
    "start_time": "2024-10-14T19:03:13.041Z"
   },
   {
    "duration": 39,
    "start_time": "2024-10-14T19:03:14.083Z"
   },
   {
    "duration": 12,
    "start_time": "2024-10-14T19:03:14.382Z"
   },
   {
    "duration": 8,
    "start_time": "2024-10-14T19:03:14.703Z"
   },
   {
    "duration": 8,
    "start_time": "2024-10-14T19:03:14.881Z"
   },
   {
    "duration": 124,
    "start_time": "2024-10-14T19:03:17.541Z"
   },
   {
    "duration": 113,
    "start_time": "2024-10-14T19:03:55.513Z"
   },
   {
    "duration": 125,
    "start_time": "2024-10-14T19:04:02.047Z"
   },
   {
    "duration": 115,
    "start_time": "2024-10-14T19:04:09.652Z"
   },
   {
    "duration": 116,
    "start_time": "2024-10-14T19:04:35.326Z"
   },
   {
    "duration": 122,
    "start_time": "2024-10-14T19:04:40.327Z"
   },
   {
    "duration": 105,
    "start_time": "2024-10-14T19:04:43.850Z"
   },
   {
    "duration": 125,
    "start_time": "2024-10-14T19:04:46.920Z"
   },
   {
    "duration": 121,
    "start_time": "2024-10-14T19:04:51.623Z"
   },
   {
    "duration": 190,
    "start_time": "2024-10-14T19:04:55.379Z"
   },
   {
    "duration": 118,
    "start_time": "2024-10-14T19:05:23.683Z"
   },
   {
    "duration": 116,
    "start_time": "2024-10-14T19:05:28.102Z"
   },
   {
    "duration": 115,
    "start_time": "2024-10-14T19:05:33.145Z"
   },
   {
    "duration": 128,
    "start_time": "2024-10-14T19:05:47.664Z"
   },
   {
    "duration": 139,
    "start_time": "2024-10-14T19:05:55.052Z"
   },
   {
    "duration": 129,
    "start_time": "2024-10-14T19:05:58.994Z"
   },
   {
    "duration": 114,
    "start_time": "2024-10-14T19:06:09.230Z"
   },
   {
    "duration": 123,
    "start_time": "2024-10-14T19:06:14.758Z"
   },
   {
    "duration": 3,
    "start_time": "2024-10-14T19:07:17.137Z"
   },
   {
    "duration": 323,
    "start_time": "2024-10-14T19:07:55.844Z"
   },
   {
    "duration": 5,
    "start_time": "2024-10-14T19:08:06.989Z"
   },
   {
    "duration": 4,
    "start_time": "2024-10-14T19:08:14.364Z"
   },
   {
    "duration": 5,
    "start_time": "2024-10-14T19:08:29.319Z"
   },
   {
    "duration": 6,
    "start_time": "2024-10-14T19:08:43.703Z"
   },
   {
    "duration": 4,
    "start_time": "2024-10-14T19:10:26.937Z"
   },
   {
    "duration": 4,
    "start_time": "2024-10-14T19:10:37.353Z"
   },
   {
    "duration": 134,
    "start_time": "2024-10-14T19:11:16.797Z"
   },
   {
    "duration": 163,
    "start_time": "2024-10-14T19:11:23.182Z"
   },
   {
    "duration": 7,
    "start_time": "2024-10-14T19:12:07.704Z"
   },
   {
    "duration": 7,
    "start_time": "2024-10-14T19:12:20.500Z"
   },
   {
    "duration": 6,
    "start_time": "2024-10-14T19:13:00.662Z"
   },
   {
    "duration": 1082,
    "start_time": "2024-10-14T19:14:58.732Z"
   },
   {
    "duration": 41,
    "start_time": "2024-10-14T19:14:59.820Z"
   },
   {
    "duration": 10,
    "start_time": "2024-10-14T19:14:59.863Z"
   },
   {
    "duration": 12,
    "start_time": "2024-10-14T19:14:59.875Z"
   },
   {
    "duration": 8,
    "start_time": "2024-10-14T19:15:00.081Z"
   },
   {
    "duration": 6,
    "start_time": "2024-10-14T19:15:01.454Z"
   },
   {
    "duration": 150,
    "start_time": "2024-10-14T19:15:04.002Z"
   },
   {
    "duration": 13,
    "start_time": "2024-10-14T19:15:09.825Z"
   },
   {
    "duration": 9,
    "start_time": "2024-10-14T19:15:12.967Z"
   },
   {
    "duration": 135,
    "start_time": "2024-10-14T19:16:07.670Z"
   },
   {
    "duration": 146,
    "start_time": "2024-10-14T19:16:26.075Z"
   },
   {
    "duration": 1111,
    "start_time": "2024-10-14T19:26:25.012Z"
   },
   {
    "duration": 26,
    "start_time": "2024-10-14T19:26:26.125Z"
   },
   {
    "duration": 10,
    "start_time": "2024-10-14T19:26:26.153Z"
   },
   {
    "duration": 7,
    "start_time": "2024-10-14T19:26:27.634Z"
   },
   {
    "duration": 8,
    "start_time": "2024-10-14T19:26:28.195Z"
   },
   {
    "duration": 5,
    "start_time": "2024-10-14T19:26:31.646Z"
   },
   {
    "duration": 141,
    "start_time": "2024-10-14T19:26:32.376Z"
   },
   {
    "duration": 11,
    "start_time": "2024-10-14T19:27:02.972Z"
   },
   {
    "duration": 10,
    "start_time": "2024-10-14T19:27:04.147Z"
   },
   {
    "duration": 211,
    "start_time": "2024-10-14T19:27:04.462Z"
   },
   {
    "duration": 1111,
    "start_time": "2024-10-14T19:27:22.453Z"
   },
   {
    "duration": 34,
    "start_time": "2024-10-14T19:27:23.566Z"
   },
   {
    "duration": 14,
    "start_time": "2024-10-14T19:27:23.604Z"
   },
   {
    "duration": 8,
    "start_time": "2024-10-14T19:27:23.620Z"
   },
   {
    "duration": 5,
    "start_time": "2024-10-14T19:27:23.630Z"
   },
   {
    "duration": 5,
    "start_time": "2024-10-14T19:27:23.637Z"
   },
   {
    "duration": 163,
    "start_time": "2024-10-14T19:27:23.643Z"
   },
   {
    "duration": 326,
    "start_time": "2024-10-14T19:27:23.808Z"
   },
   {
    "duration": 0,
    "start_time": "2024-10-14T19:27:24.136Z"
   },
   {
    "duration": 0,
    "start_time": "2024-10-14T19:27:24.137Z"
   },
   {
    "duration": 0,
    "start_time": "2024-10-14T19:27:24.138Z"
   },
   {
    "duration": 11,
    "start_time": "2024-10-14T19:30:14.173Z"
   },
   {
    "duration": 10,
    "start_time": "2024-10-14T19:30:18.458Z"
   },
   {
    "duration": 118,
    "start_time": "2024-10-14T19:30:19.730Z"
   },
   {
    "duration": 11,
    "start_time": "2024-10-14T19:49:52.028Z"
   },
   {
    "duration": 10,
    "start_time": "2024-10-14T19:59:30.114Z"
   },
   {
    "duration": 2791,
    "start_time": "2024-10-15T00:07:58.634Z"
   },
   {
    "duration": 37,
    "start_time": "2024-10-15T00:08:01.428Z"
   },
   {
    "duration": 11,
    "start_time": "2024-10-15T00:08:01.466Z"
   },
   {
    "duration": 5,
    "start_time": "2024-10-15T00:08:01.480Z"
   },
   {
    "duration": 5,
    "start_time": "2024-10-15T00:08:01.487Z"
   },
   {
    "duration": 21,
    "start_time": "2024-10-15T00:08:01.494Z"
   },
   {
    "duration": 129,
    "start_time": "2024-10-15T00:08:01.517Z"
   },
   {
    "duration": 11,
    "start_time": "2024-10-15T00:08:01.649Z"
   },
   {
    "duration": 10,
    "start_time": "2024-10-15T00:08:01.661Z"
   },
   {
    "duration": 151,
    "start_time": "2024-10-15T00:08:01.674Z"
   },
   {
    "duration": 13,
    "start_time": "2024-10-15T00:08:01.827Z"
   },
   {
    "duration": 10,
    "start_time": "2024-10-15T00:08:01.842Z"
   },
   {
    "duration": 23,
    "start_time": "2024-10-15T00:38:46.027Z"
   },
   {
    "duration": 18,
    "start_time": "2024-10-15T00:39:34.632Z"
   },
   {
    "duration": 14,
    "start_time": "2024-10-15T00:40:51.119Z"
   },
   {
    "duration": 3,
    "start_time": "2024-10-15T00:42:35.198Z"
   },
   {
    "duration": 15,
    "start_time": "2024-10-15T01:02:24.482Z"
   },
   {
    "duration": 4,
    "start_time": "2024-10-15T01:03:12.955Z"
   },
   {
    "duration": 9,
    "start_time": "2024-10-15T01:03:35.196Z"
   },
   {
    "duration": 4,
    "start_time": "2024-10-15T01:03:42.531Z"
   },
   {
    "duration": 14,
    "start_time": "2024-10-15T01:04:10.428Z"
   },
   {
    "duration": 5,
    "start_time": "2024-10-15T01:04:15.763Z"
   },
   {
    "duration": 3,
    "start_time": "2024-10-15T01:04:22.290Z"
   },
   {
    "duration": 4,
    "start_time": "2024-10-15T01:04:28.594Z"
   },
   {
    "duration": 8,
    "start_time": "2024-10-15T01:22:13.446Z"
   },
   {
    "duration": 1024,
    "start_time": "2024-10-15T01:30:00.356Z"
   },
   {
    "duration": 29,
    "start_time": "2024-10-15T01:30:01.383Z"
   },
   {
    "duration": 10,
    "start_time": "2024-10-15T01:30:01.413Z"
   },
   {
    "duration": 7,
    "start_time": "2024-10-15T01:30:01.424Z"
   },
   {
    "duration": 6,
    "start_time": "2024-10-15T01:30:01.433Z"
   },
   {
    "duration": 6,
    "start_time": "2024-10-15T01:30:01.440Z"
   },
   {
    "duration": 141,
    "start_time": "2024-10-15T01:30:01.448Z"
   },
   {
    "duration": 22,
    "start_time": "2024-10-15T01:30:01.591Z"
   },
   {
    "duration": 9,
    "start_time": "2024-10-15T01:30:01.614Z"
   },
   {
    "duration": 129,
    "start_time": "2024-10-15T01:30:01.625Z"
   },
   {
    "duration": 10,
    "start_time": "2024-10-15T01:30:01.756Z"
   },
   {
    "duration": 10,
    "start_time": "2024-10-15T01:30:01.767Z"
   },
   {
    "duration": 34,
    "start_time": "2024-10-15T01:30:01.778Z"
   },
   {
    "duration": 4,
    "start_time": "2024-10-15T01:30:01.815Z"
   },
   {
    "duration": 3,
    "start_time": "2024-10-15T01:30:01.821Z"
   },
   {
    "duration": 4,
    "start_time": "2024-10-15T01:30:01.825Z"
   },
   {
    "duration": 9,
    "start_time": "2024-10-15T01:30:01.830Z"
   },
   {
    "duration": 12,
    "start_time": "2024-10-15T02:15:20.875Z"
   },
   {
    "duration": 9,
    "start_time": "2024-10-15T02:15:30.390Z"
   },
   {
    "duration": 243,
    "start_time": "2024-10-15T02:15:42.304Z"
   },
   {
    "duration": 8,
    "start_time": "2024-10-15T02:15:49.055Z"
   },
   {
    "duration": 17,
    "start_time": "2024-10-15T02:16:27.840Z"
   },
   {
    "duration": 12,
    "start_time": "2024-10-15T02:18:27.162Z"
   },
   {
    "duration": 31,
    "start_time": "2024-10-15T02:18:46.616Z"
   },
   {
    "duration": 23,
    "start_time": "2024-10-15T02:22:42.604Z"
   },
   {
    "duration": 1182,
    "start_time": "2024-10-15T02:22:54.463Z"
   },
   {
    "duration": 33,
    "start_time": "2024-10-15T02:22:55.648Z"
   },
   {
    "duration": 12,
    "start_time": "2024-10-15T02:22:55.683Z"
   },
   {
    "duration": 20,
    "start_time": "2024-10-15T02:22:55.696Z"
   },
   {
    "duration": 12,
    "start_time": "2024-10-15T02:22:55.721Z"
   },
   {
    "duration": 15,
    "start_time": "2024-10-15T02:22:55.737Z"
   },
   {
    "duration": 141,
    "start_time": "2024-10-15T02:22:55.756Z"
   },
   {
    "duration": 20,
    "start_time": "2024-10-15T02:22:55.899Z"
   },
   {
    "duration": 15,
    "start_time": "2024-10-15T02:22:55.922Z"
   },
   {
    "duration": 155,
    "start_time": "2024-10-15T02:22:55.939Z"
   },
   {
    "duration": 21,
    "start_time": "2024-10-15T02:22:56.096Z"
   },
   {
    "duration": 15,
    "start_time": "2024-10-15T02:22:56.120Z"
   },
   {
    "duration": 17,
    "start_time": "2024-10-15T02:22:56.138Z"
   },
   {
    "duration": 4,
    "start_time": "2024-10-15T02:22:56.159Z"
   },
   {
    "duration": 4,
    "start_time": "2024-10-15T02:22:56.165Z"
   },
   {
    "duration": 4,
    "start_time": "2024-10-15T02:22:56.170Z"
   },
   {
    "duration": 48,
    "start_time": "2024-10-15T02:22:56.175Z"
   },
   {
    "duration": 17,
    "start_time": "2024-10-15T02:22:56.226Z"
   },
   {
    "duration": 10,
    "start_time": "2024-10-15T02:22:56.246Z"
   },
   {
    "duration": 10,
    "start_time": "2024-10-15T02:22:56.258Z"
   },
   {
    "duration": 17,
    "start_time": "2024-10-15T02:22:56.269Z"
   },
   {
    "duration": 37,
    "start_time": "2024-10-15T02:22:56.288Z"
   },
   {
    "duration": 3,
    "start_time": "2024-10-15T02:24:46.495Z"
   },
   {
    "duration": 1135,
    "start_time": "2024-10-15T02:25:04.151Z"
   },
   {
    "duration": 27,
    "start_time": "2024-10-15T02:25:05.288Z"
   },
   {
    "duration": 17,
    "start_time": "2024-10-15T02:25:05.319Z"
   },
   {
    "duration": 14,
    "start_time": "2024-10-15T02:25:05.338Z"
   },
   {
    "duration": 6,
    "start_time": "2024-10-15T02:25:05.355Z"
   },
   {
    "duration": 5,
    "start_time": "2024-10-15T02:25:05.363Z"
   },
   {
    "duration": 183,
    "start_time": "2024-10-15T02:25:05.370Z"
   },
   {
    "duration": 11,
    "start_time": "2024-10-15T02:25:05.556Z"
   },
   {
    "duration": 11,
    "start_time": "2024-10-15T02:25:05.568Z"
   },
   {
    "duration": 160,
    "start_time": "2024-10-15T02:25:05.581Z"
   },
   {
    "duration": 12,
    "start_time": "2024-10-15T02:25:05.745Z"
   },
   {
    "duration": 9,
    "start_time": "2024-10-15T02:25:05.759Z"
   },
   {
    "duration": 13,
    "start_time": "2024-10-15T02:25:05.769Z"
   },
   {
    "duration": 28,
    "start_time": "2024-10-15T02:25:05.785Z"
   },
   {
    "duration": 4,
    "start_time": "2024-10-15T02:25:05.815Z"
   },
   {
    "duration": 5,
    "start_time": "2024-10-15T02:25:05.822Z"
   },
   {
    "duration": 15,
    "start_time": "2024-10-15T02:25:05.828Z"
   },
   {
    "duration": 12,
    "start_time": "2024-10-15T02:25:05.845Z"
   },
   {
    "duration": 9,
    "start_time": "2024-10-15T02:25:05.859Z"
   },
   {
    "duration": 8,
    "start_time": "2024-10-15T02:25:05.870Z"
   },
   {
    "duration": 288,
    "start_time": "2024-10-15T02:26:45.308Z"
   },
   {
    "duration": 13,
    "start_time": "2024-10-15T02:26:56.175Z"
   },
   {
    "duration": 18,
    "start_time": "2024-10-15T02:27:11.331Z"
   },
   {
    "duration": 8,
    "start_time": "2024-10-15T02:27:16.668Z"
   },
   {
    "duration": 30,
    "start_time": "2024-10-15T02:27:26.114Z"
   },
   {
    "duration": 14,
    "start_time": "2024-10-15T02:27:46.224Z"
   },
   {
    "duration": 4,
    "start_time": "2024-10-15T02:27:49.555Z"
   },
   {
    "duration": 4,
    "start_time": "2024-10-15T02:38:25.686Z"
   },
   {
    "duration": 29,
    "start_time": "2024-10-15T02:40:16.339Z"
   },
   {
    "duration": 31,
    "start_time": "2024-10-15T02:40:24.418Z"
   },
   {
    "duration": 36,
    "start_time": "2024-10-15T02:41:03.199Z"
   },
   {
    "duration": 18,
    "start_time": "2024-10-15T02:43:15.995Z"
   },
   {
    "duration": 16,
    "start_time": "2024-10-15T02:44:08.185Z"
   },
   {
    "duration": 612,
    "start_time": "2024-10-15T02:47:01.015Z"
   },
   {
    "duration": 8,
    "start_time": "2024-10-15T02:48:24.725Z"
   },
   {
    "duration": 25,
    "start_time": "2024-10-15T02:48:53.323Z"
   },
   {
    "duration": 1079,
    "start_time": "2024-10-15T02:54:55.100Z"
   },
   {
    "duration": 25,
    "start_time": "2024-10-15T02:54:56.181Z"
   },
   {
    "duration": 24,
    "start_time": "2024-10-15T02:54:56.208Z"
   },
   {
    "duration": 8,
    "start_time": "2024-10-15T02:54:56.238Z"
   },
   {
    "duration": 6,
    "start_time": "2024-10-15T02:54:56.248Z"
   },
   {
    "duration": 5,
    "start_time": "2024-10-15T02:54:56.256Z"
   },
   {
    "duration": 149,
    "start_time": "2024-10-15T02:54:56.262Z"
   },
   {
    "duration": 15,
    "start_time": "2024-10-15T02:54:56.417Z"
   },
   {
    "duration": 17,
    "start_time": "2024-10-15T02:54:56.433Z"
   },
   {
    "duration": 143,
    "start_time": "2024-10-15T02:54:56.453Z"
   },
   {
    "duration": 15,
    "start_time": "2024-10-15T02:54:56.598Z"
   },
   {
    "duration": 13,
    "start_time": "2024-10-15T02:54:56.615Z"
   },
   {
    "duration": 18,
    "start_time": "2024-10-15T02:54:56.630Z"
   },
   {
    "duration": 5,
    "start_time": "2024-10-15T02:54:56.650Z"
   },
   {
    "duration": 4,
    "start_time": "2024-10-15T02:54:56.656Z"
   },
   {
    "duration": 4,
    "start_time": "2024-10-15T02:54:56.661Z"
   },
   {
    "duration": 9,
    "start_time": "2024-10-15T02:54:56.666Z"
   },
   {
    "duration": 49,
    "start_time": "2024-10-15T02:54:56.677Z"
   },
   {
    "duration": 12,
    "start_time": "2024-10-15T02:54:56.728Z"
   },
   {
    "duration": 9,
    "start_time": "2024-10-15T02:54:56.742Z"
   },
   {
    "duration": 18,
    "start_time": "2024-10-15T02:54:56.753Z"
   },
   {
    "duration": 8,
    "start_time": "2024-10-15T02:54:56.773Z"
   },
   {
    "duration": 40,
    "start_time": "2024-10-15T02:54:56.783Z"
   },
   {
    "duration": 14,
    "start_time": "2024-10-15T02:54:56.825Z"
   },
   {
    "duration": 1075,
    "start_time": "2024-10-15T02:56:26.380Z"
   },
   {
    "duration": 25,
    "start_time": "2024-10-15T02:56:27.458Z"
   },
   {
    "duration": 9,
    "start_time": "2024-10-15T02:56:27.486Z"
   },
   {
    "duration": 20,
    "start_time": "2024-10-15T02:56:27.497Z"
   },
   {
    "duration": 15,
    "start_time": "2024-10-15T02:56:27.520Z"
   },
   {
    "duration": 8,
    "start_time": "2024-10-15T02:56:27.537Z"
   },
   {
    "duration": 139,
    "start_time": "2024-10-15T02:56:27.546Z"
   },
   {
    "duration": 10,
    "start_time": "2024-10-15T02:56:27.687Z"
   },
   {
    "duration": 25,
    "start_time": "2024-10-15T02:56:27.699Z"
   },
   {
    "duration": 143,
    "start_time": "2024-10-15T02:56:27.730Z"
   },
   {
    "duration": 13,
    "start_time": "2024-10-15T02:56:27.875Z"
   },
   {
    "duration": 28,
    "start_time": "2024-10-15T02:56:27.891Z"
   },
   {
    "duration": 17,
    "start_time": "2024-10-15T02:56:27.932Z"
   },
   {
    "duration": 5,
    "start_time": "2024-10-15T02:56:27.952Z"
   },
   {
    "duration": 4,
    "start_time": "2024-10-15T02:56:27.958Z"
   },
   {
    "duration": 4,
    "start_time": "2024-10-15T02:56:27.963Z"
   },
   {
    "duration": 9,
    "start_time": "2024-10-15T02:56:27.968Z"
   },
   {
    "duration": 9,
    "start_time": "2024-10-15T02:56:27.979Z"
   },
   {
    "duration": 51,
    "start_time": "2024-10-15T02:56:27.989Z"
   },
   {
    "duration": 14,
    "start_time": "2024-10-15T02:56:28.043Z"
   },
   {
    "duration": 1102,
    "start_time": "2024-10-15T02:57:41.278Z"
   },
   {
    "duration": 37,
    "start_time": "2024-10-15T02:57:42.382Z"
   },
   {
    "duration": 16,
    "start_time": "2024-10-15T02:57:42.422Z"
   },
   {
    "duration": 9,
    "start_time": "2024-10-15T02:57:42.441Z"
   },
   {
    "duration": 6,
    "start_time": "2024-10-15T02:57:42.452Z"
   },
   {
    "duration": 5,
    "start_time": "2024-10-15T02:57:42.460Z"
   },
   {
    "duration": 155,
    "start_time": "2024-10-15T02:57:42.466Z"
   },
   {
    "duration": 19,
    "start_time": "2024-10-15T02:57:42.624Z"
   },
   {
    "duration": 10,
    "start_time": "2024-10-15T02:57:42.646Z"
   },
   {
    "duration": 154,
    "start_time": "2024-10-15T02:57:42.660Z"
   },
   {
    "duration": 15,
    "start_time": "2024-10-15T02:57:42.818Z"
   },
   {
    "duration": 12,
    "start_time": "2024-10-15T02:57:42.835Z"
   },
   {
    "duration": 16,
    "start_time": "2024-10-15T02:57:42.849Z"
   },
   {
    "duration": 4,
    "start_time": "2024-10-15T02:57:42.866Z"
   },
   {
    "duration": 4,
    "start_time": "2024-10-15T02:57:42.872Z"
   },
   {
    "duration": 3,
    "start_time": "2024-10-15T02:57:42.877Z"
   },
   {
    "duration": 49,
    "start_time": "2024-10-15T02:57:42.882Z"
   },
   {
    "duration": 13,
    "start_time": "2024-10-15T02:57:42.933Z"
   },
   {
    "duration": 17,
    "start_time": "2024-10-15T02:57:42.948Z"
   },
   {
    "duration": 8,
    "start_time": "2024-10-15T02:57:42.966Z"
   },
   {
    "duration": 1101,
    "start_time": "2024-10-15T03:01:48.281Z"
   },
   {
    "duration": 41,
    "start_time": "2024-10-15T03:01:49.384Z"
   },
   {
    "duration": 15,
    "start_time": "2024-10-15T03:01:49.431Z"
   },
   {
    "duration": 6,
    "start_time": "2024-10-15T03:01:49.448Z"
   },
   {
    "duration": 6,
    "start_time": "2024-10-15T03:01:49.457Z"
   },
   {
    "duration": 5,
    "start_time": "2024-10-15T03:01:49.464Z"
   },
   {
    "duration": 136,
    "start_time": "2024-10-15T03:01:49.471Z"
   },
   {
    "duration": 23,
    "start_time": "2024-10-15T03:01:49.612Z"
   },
   {
    "duration": 14,
    "start_time": "2024-10-15T03:01:49.637Z"
   },
   {
    "duration": 143,
    "start_time": "2024-10-15T03:01:49.653Z"
   },
   {
    "duration": 23,
    "start_time": "2024-10-15T03:01:49.797Z"
   },
   {
    "duration": 14,
    "start_time": "2024-10-15T03:01:49.822Z"
   },
   {
    "duration": 16,
    "start_time": "2024-10-15T03:01:49.843Z"
   },
   {
    "duration": 4,
    "start_time": "2024-10-15T03:01:49.862Z"
   },
   {
    "duration": 3,
    "start_time": "2024-10-15T03:01:49.868Z"
   },
   {
    "duration": 5,
    "start_time": "2024-10-15T03:01:49.873Z"
   },
   {
    "duration": 46,
    "start_time": "2024-10-15T03:01:49.879Z"
   },
   {
    "duration": 15,
    "start_time": "2024-10-15T03:01:49.932Z"
   },
   {
    "duration": 24,
    "start_time": "2024-10-15T03:01:49.949Z"
   },
   {
    "duration": 8,
    "start_time": "2024-10-15T03:01:49.975Z"
   },
   {
    "duration": 16,
    "start_time": "2024-10-15T03:04:15.644Z"
   },
   {
    "duration": 1115,
    "start_time": "2024-10-15T03:04:26.459Z"
   },
   {
    "duration": 26,
    "start_time": "2024-10-15T03:04:27.577Z"
   },
   {
    "duration": 23,
    "start_time": "2024-10-15T03:04:27.604Z"
   },
   {
    "duration": 16,
    "start_time": "2024-10-15T03:04:27.632Z"
   },
   {
    "duration": 7,
    "start_time": "2024-10-15T03:04:27.650Z"
   },
   {
    "duration": 5,
    "start_time": "2024-10-15T03:04:27.659Z"
   },
   {
    "duration": 141,
    "start_time": "2024-10-15T03:04:27.665Z"
   },
   {
    "duration": 22,
    "start_time": "2024-10-15T03:04:27.808Z"
   },
   {
    "duration": 12,
    "start_time": "2024-10-15T03:04:27.832Z"
   },
   {
    "duration": 164,
    "start_time": "2024-10-15T03:04:27.848Z"
   },
   {
    "duration": 14,
    "start_time": "2024-10-15T03:04:28.024Z"
   },
   {
    "duration": 21,
    "start_time": "2024-10-15T03:04:28.040Z"
   },
   {
    "duration": 13,
    "start_time": "2024-10-15T03:04:28.064Z"
   },
   {
    "duration": 4,
    "start_time": "2024-10-15T03:04:28.079Z"
   },
   {
    "duration": 3,
    "start_time": "2024-10-15T03:04:28.085Z"
   },
   {
    "duration": 4,
    "start_time": "2024-10-15T03:04:28.090Z"
   },
   {
    "duration": 15,
    "start_time": "2024-10-15T03:04:28.112Z"
   },
   {
    "duration": 14,
    "start_time": "2024-10-15T03:04:28.129Z"
   },
   {
    "duration": 19,
    "start_time": "2024-10-15T03:04:28.145Z"
   },
   {
    "duration": 9,
    "start_time": "2024-10-15T03:04:28.165Z"
   },
   {
    "duration": 1102,
    "start_time": "2024-10-15T03:15:29.771Z"
   },
   {
    "duration": 32,
    "start_time": "2024-10-15T03:15:30.876Z"
   },
   {
    "duration": 21,
    "start_time": "2024-10-15T03:15:30.919Z"
   },
   {
    "duration": 11,
    "start_time": "2024-10-15T03:15:30.943Z"
   },
   {
    "duration": 5,
    "start_time": "2024-10-15T03:15:30.958Z"
   },
   {
    "duration": 4,
    "start_time": "2024-10-15T03:15:30.965Z"
   },
   {
    "duration": 138,
    "start_time": "2024-10-15T03:15:30.971Z"
   },
   {
    "duration": 14,
    "start_time": "2024-10-15T03:15:31.110Z"
   },
   {
    "duration": 10,
    "start_time": "2024-10-15T03:15:31.126Z"
   },
   {
    "duration": 155,
    "start_time": "2024-10-15T03:15:31.138Z"
   },
   {
    "duration": 18,
    "start_time": "2024-10-15T03:15:31.295Z"
   },
   {
    "duration": 12,
    "start_time": "2024-10-15T03:15:31.315Z"
   },
   {
    "duration": 21,
    "start_time": "2024-10-15T03:15:31.329Z"
   },
   {
    "duration": 6,
    "start_time": "2024-10-15T03:15:31.355Z"
   },
   {
    "duration": 3,
    "start_time": "2024-10-15T03:15:31.364Z"
   },
   {
    "duration": 3,
    "start_time": "2024-10-15T03:15:31.369Z"
   },
   {
    "duration": 38,
    "start_time": "2024-10-15T03:15:31.374Z"
   },
   {
    "duration": 17,
    "start_time": "2024-10-15T03:15:31.414Z"
   },
   {
    "duration": 299,
    "start_time": "2024-10-15T03:15:31.432Z"
   },
   {
    "duration": 0,
    "start_time": "2024-10-15T03:15:31.733Z"
   },
   {
    "duration": 1141,
    "start_time": "2024-10-15T03:16:18.826Z"
   },
   {
    "duration": 26,
    "start_time": "2024-10-15T03:16:19.969Z"
   },
   {
    "duration": 11,
    "start_time": "2024-10-15T03:16:19.997Z"
   },
   {
    "duration": 10,
    "start_time": "2024-10-15T03:16:20.015Z"
   },
   {
    "duration": 6,
    "start_time": "2024-10-15T03:16:20.027Z"
   },
   {
    "duration": 6,
    "start_time": "2024-10-15T03:16:20.043Z"
   },
   {
    "duration": 139,
    "start_time": "2024-10-15T03:16:20.050Z"
   },
   {
    "duration": 10,
    "start_time": "2024-10-15T03:16:20.191Z"
   },
   {
    "duration": 21,
    "start_time": "2024-10-15T03:16:20.214Z"
   },
   {
    "duration": 133,
    "start_time": "2024-10-15T03:16:20.239Z"
   },
   {
    "duration": 10,
    "start_time": "2024-10-15T03:16:20.373Z"
   },
   {
    "duration": 9,
    "start_time": "2024-10-15T03:16:20.385Z"
   },
   {
    "duration": 18,
    "start_time": "2024-10-15T03:16:20.411Z"
   },
   {
    "duration": 8,
    "start_time": "2024-10-15T03:16:20.431Z"
   },
   {
    "duration": 8,
    "start_time": "2024-10-15T03:16:20.442Z"
   },
   {
    "duration": 5,
    "start_time": "2024-10-15T03:16:20.454Z"
   },
   {
    "duration": 12,
    "start_time": "2024-10-15T03:16:20.464Z"
   },
   {
    "duration": 9,
    "start_time": "2024-10-15T03:16:20.478Z"
   },
   {
    "duration": 28,
    "start_time": "2024-10-15T03:16:20.513Z"
   },
   {
    "duration": 259,
    "start_time": "2024-10-15T03:16:20.547Z"
   },
   {
    "duration": 4,
    "start_time": "2024-10-15T03:16:41.502Z"
   },
   {
    "duration": 1114,
    "start_time": "2024-10-15T03:18:26.262Z"
   },
   {
    "duration": 25,
    "start_time": "2024-10-15T03:18:27.378Z"
   },
   {
    "duration": 22,
    "start_time": "2024-10-15T03:18:27.405Z"
   },
   {
    "duration": 7,
    "start_time": "2024-10-15T03:18:27.437Z"
   },
   {
    "duration": 7,
    "start_time": "2024-10-15T03:18:27.447Z"
   },
   {
    "duration": 5,
    "start_time": "2024-10-15T03:18:27.455Z"
   },
   {
    "duration": 145,
    "start_time": "2024-10-15T03:18:27.462Z"
   },
   {
    "duration": 25,
    "start_time": "2024-10-15T03:18:27.609Z"
   },
   {
    "duration": 14,
    "start_time": "2024-10-15T03:18:27.637Z"
   },
   {
    "duration": 146,
    "start_time": "2024-10-15T03:18:27.655Z"
   },
   {
    "duration": 22,
    "start_time": "2024-10-15T03:18:27.803Z"
   },
   {
    "duration": 14,
    "start_time": "2024-10-15T03:18:27.827Z"
   },
   {
    "duration": 15,
    "start_time": "2024-10-15T03:18:27.844Z"
   },
   {
    "duration": 4,
    "start_time": "2024-10-15T03:18:27.861Z"
   },
   {
    "duration": 4,
    "start_time": "2024-10-15T03:18:27.866Z"
   },
   {
    "duration": 6,
    "start_time": "2024-10-15T03:18:27.871Z"
   },
   {
    "duration": 50,
    "start_time": "2024-10-15T03:18:27.879Z"
   },
   {
    "duration": 14,
    "start_time": "2024-10-15T03:18:27.931Z"
   },
   {
    "duration": 18,
    "start_time": "2024-10-15T03:18:27.947Z"
   },
   {
    "duration": 285,
    "start_time": "2024-10-15T03:18:27.966Z"
   },
   {
    "duration": 8,
    "start_time": "2024-10-15T03:18:37.994Z"
   },
   {
    "duration": 4,
    "start_time": "2024-10-15T03:20:44.502Z"
   },
   {
    "duration": 4,
    "start_time": "2024-10-15T03:20:52.436Z"
   },
   {
    "duration": 1122,
    "start_time": "2024-10-15T03:21:44.772Z"
   },
   {
    "duration": 33,
    "start_time": "2024-10-15T03:21:45.897Z"
   },
   {
    "duration": 17,
    "start_time": "2024-10-15T03:21:45.932Z"
   },
   {
    "duration": 6,
    "start_time": "2024-10-15T03:21:45.951Z"
   },
   {
    "duration": 6,
    "start_time": "2024-10-15T03:21:45.959Z"
   },
   {
    "duration": 5,
    "start_time": "2024-10-15T03:21:45.967Z"
   },
   {
    "duration": 182,
    "start_time": "2024-10-15T03:21:45.974Z"
   },
   {
    "duration": 10,
    "start_time": "2024-10-15T03:21:46.158Z"
   },
   {
    "duration": 9,
    "start_time": "2024-10-15T03:21:46.170Z"
   },
   {
    "duration": 165,
    "start_time": "2024-10-15T03:21:46.180Z"
   },
   {
    "duration": 10,
    "start_time": "2024-10-15T03:21:46.347Z"
   },
   {
    "duration": 9,
    "start_time": "2024-10-15T03:21:46.359Z"
   },
   {
    "duration": 14,
    "start_time": "2024-10-15T03:21:46.369Z"
   },
   {
    "duration": 20,
    "start_time": "2024-10-15T03:21:46.412Z"
   },
   {
    "duration": 5,
    "start_time": "2024-10-15T03:21:46.438Z"
   },
   {
    "duration": 4,
    "start_time": "2024-10-15T03:21:46.445Z"
   },
   {
    "duration": 11,
    "start_time": "2024-10-15T03:21:46.450Z"
   },
   {
    "duration": 8,
    "start_time": "2024-10-15T03:21:46.462Z"
   },
   {
    "duration": 16,
    "start_time": "2024-10-15T03:21:46.472Z"
   },
   {
    "duration": 9,
    "start_time": "2024-10-15T03:21:46.489Z"
   },
   {
    "duration": 8,
    "start_time": "2024-10-15T03:21:46.514Z"
   },
   {
    "duration": 8,
    "start_time": "2024-10-15T03:22:08.668Z"
   },
   {
    "duration": 13,
    "start_time": "2024-10-15T03:22:27.140Z"
   },
   {
    "duration": 15,
    "start_time": "2024-10-15T03:22:49.420Z"
   },
   {
    "duration": 9,
    "start_time": "2024-10-15T03:37:29.296Z"
   },
   {
    "duration": 8,
    "start_time": "2024-10-15T03:37:41.072Z"
   },
   {
    "duration": 2729,
    "start_time": "2024-10-15T14:30:44.547Z"
   },
   {
    "duration": 30,
    "start_time": "2024-10-15T14:30:52.745Z"
   },
   {
    "duration": 10,
    "start_time": "2024-10-15T14:45:07.811Z"
   },
   {
    "duration": 6,
    "start_time": "2024-10-15T14:45:12.681Z"
   },
   {
    "duration": 12,
    "start_time": "2024-10-15T14:45:14.864Z"
   },
   {
    "duration": 5,
    "start_time": "2024-10-15T14:45:23.568Z"
   },
   {
    "duration": 166,
    "start_time": "2024-10-15T14:45:25.773Z"
   },
   {
    "duration": 13,
    "start_time": "2024-10-15T14:47:20.483Z"
   },
   {
    "duration": 11,
    "start_time": "2024-10-15T14:47:32.566Z"
   },
   {
    "duration": 130,
    "start_time": "2024-10-15T14:47:37.023Z"
   },
   {
    "duration": 12,
    "start_time": "2024-10-15T14:48:30.158Z"
   },
   {
    "duration": 11,
    "start_time": "2024-10-15T14:48:33.170Z"
   },
   {
    "duration": 17,
    "start_time": "2024-10-15T14:49:03.181Z"
   },
   {
    "duration": 5,
    "start_time": "2024-10-15T14:49:53.283Z"
   },
   {
    "duration": 3,
    "start_time": "2024-10-15T14:49:57.883Z"
   },
   {
    "duration": 3,
    "start_time": "2024-10-15T14:49:58.768Z"
   },
   {
    "duration": 12,
    "start_time": "2024-10-15T14:50:07.273Z"
   },
   {
    "duration": 9,
    "start_time": "2024-10-15T14:51:14.708Z"
   },
   {
    "duration": 21,
    "start_time": "2024-10-15T14:51:20.139Z"
   },
   {
    "duration": 10,
    "start_time": "2024-10-15T14:51:22.636Z"
   },
   {
    "duration": 9,
    "start_time": "2024-10-15T14:51:51.441Z"
   },
   {
    "duration": 11,
    "start_time": "2024-10-15T15:06:56.589Z"
   },
   {
    "duration": 12,
    "start_time": "2024-10-15T15:06:57.186Z"
   },
   {
    "duration": 11,
    "start_time": "2024-10-15T15:07:20.792Z"
   },
   {
    "duration": 10,
    "start_time": "2024-10-15T15:07:21.039Z"
   },
   {
    "duration": 1080,
    "start_time": "2024-10-15T15:23:54.951Z"
   },
   {
    "duration": 28,
    "start_time": "2024-10-15T15:23:56.034Z"
   },
   {
    "duration": 18,
    "start_time": "2024-10-15T15:23:56.063Z"
   },
   {
    "duration": 6,
    "start_time": "2024-10-15T15:23:56.085Z"
   },
   {
    "duration": 6,
    "start_time": "2024-10-15T15:23:56.093Z"
   },
   {
    "duration": 6,
    "start_time": "2024-10-15T15:23:56.101Z"
   },
   {
    "duration": 161,
    "start_time": "2024-10-15T15:23:56.109Z"
   },
   {
    "duration": 13,
    "start_time": "2024-10-15T15:23:56.272Z"
   },
   {
    "duration": 13,
    "start_time": "2024-10-15T15:23:56.287Z"
   },
   {
    "duration": 154,
    "start_time": "2024-10-15T15:23:56.306Z"
   },
   {
    "duration": 17,
    "start_time": "2024-10-15T15:23:56.462Z"
   },
   {
    "duration": 13,
    "start_time": "2024-10-15T15:23:56.481Z"
   },
   {
    "duration": 17,
    "start_time": "2024-10-15T15:23:56.495Z"
   },
   {
    "duration": 6,
    "start_time": "2024-10-15T15:23:56.514Z"
   },
   {
    "duration": 4,
    "start_time": "2024-10-15T15:23:56.522Z"
   },
   {
    "duration": 6,
    "start_time": "2024-10-15T15:23:56.530Z"
   },
   {
    "duration": 13,
    "start_time": "2024-10-15T15:23:56.571Z"
   },
   {
    "duration": 11,
    "start_time": "2024-10-15T15:23:56.586Z"
   },
   {
    "duration": 18,
    "start_time": "2024-10-15T15:23:56.598Z"
   },
   {
    "duration": 9,
    "start_time": "2024-10-15T15:23:56.618Z"
   },
   {
    "duration": 42,
    "start_time": "2024-10-15T15:23:56.630Z"
   },
   {
    "duration": 12,
    "start_time": "2024-10-15T15:23:56.674Z"
   },
   {
    "duration": 10,
    "start_time": "2024-10-15T15:23:56.689Z"
   },
   {
    "duration": 11,
    "start_time": "2024-10-15T15:23:56.701Z"
   },
   {
    "duration": 10,
    "start_time": "2024-10-15T15:23:56.714Z"
   },
   {
    "duration": 1112,
    "start_time": "2024-10-15T15:56:55.654Z"
   },
   {
    "duration": 36,
    "start_time": "2024-10-15T15:56:56.769Z"
   },
   {
    "duration": 14,
    "start_time": "2024-10-15T15:56:56.809Z"
   },
   {
    "duration": 7,
    "start_time": "2024-10-15T15:56:56.826Z"
   },
   {
    "duration": 7,
    "start_time": "2024-10-15T15:56:56.835Z"
   },
   {
    "duration": 6,
    "start_time": "2024-10-15T15:56:56.844Z"
   },
   {
    "duration": 156,
    "start_time": "2024-10-15T15:56:56.873Z"
   },
   {
    "duration": 11,
    "start_time": "2024-10-15T15:56:57.031Z"
   },
   {
    "duration": 26,
    "start_time": "2024-10-15T15:56:57.044Z"
   },
   {
    "duration": 154,
    "start_time": "2024-10-15T15:56:57.073Z"
   },
   {
    "duration": 13,
    "start_time": "2024-10-15T15:56:57.229Z"
   },
   {
    "duration": 12,
    "start_time": "2024-10-15T15:56:57.244Z"
   },
   {
    "duration": 20,
    "start_time": "2024-10-15T15:56:57.269Z"
   },
   {
    "duration": 7,
    "start_time": "2024-10-15T15:56:57.291Z"
   },
   {
    "duration": 4,
    "start_time": "2024-10-15T15:56:57.301Z"
   },
   {
    "duration": 4,
    "start_time": "2024-10-15T15:56:57.310Z"
   },
   {
    "duration": 11,
    "start_time": "2024-10-15T15:56:57.316Z"
   },
   {
    "duration": 41,
    "start_time": "2024-10-15T15:56:57.329Z"
   },
   {
    "duration": 20,
    "start_time": "2024-10-15T15:56:57.372Z"
   },
   {
    "duration": 12,
    "start_time": "2024-10-15T15:56:57.394Z"
   },
   {
    "duration": 11,
    "start_time": "2024-10-15T15:56:57.408Z"
   },
   {
    "duration": 12,
    "start_time": "2024-10-15T15:56:57.421Z"
   },
   {
    "duration": 34,
    "start_time": "2024-10-15T15:56:57.436Z"
   },
   {
    "duration": 10,
    "start_time": "2024-10-15T15:56:57.472Z"
   },
   {
    "duration": 9,
    "start_time": "2024-10-15T15:56:57.484Z"
   },
   {
    "duration": 1126,
    "start_time": "2024-10-15T16:22:46.796Z"
   },
   {
    "duration": 27,
    "start_time": "2024-10-15T16:22:47.924Z"
   },
   {
    "duration": 23,
    "start_time": "2024-10-15T16:22:47.952Z"
   },
   {
    "duration": 7,
    "start_time": "2024-10-15T16:22:47.977Z"
   },
   {
    "duration": 7,
    "start_time": "2024-10-15T16:22:47.985Z"
   },
   {
    "duration": 6,
    "start_time": "2024-10-15T16:22:47.994Z"
   },
   {
    "duration": 155,
    "start_time": "2024-10-15T16:22:48.001Z"
   },
   {
    "duration": 22,
    "start_time": "2024-10-15T16:22:48.159Z"
   },
   {
    "duration": 11,
    "start_time": "2024-10-15T16:22:48.183Z"
   },
   {
    "duration": 172,
    "start_time": "2024-10-15T16:22:48.198Z"
   },
   {
    "duration": 12,
    "start_time": "2024-10-15T16:22:48.372Z"
   },
   {
    "duration": 11,
    "start_time": "2024-10-15T16:22:48.386Z"
   },
   {
    "duration": 15,
    "start_time": "2024-10-15T16:22:48.399Z"
   },
   {
    "duration": 6,
    "start_time": "2024-10-15T16:22:48.415Z"
   },
   {
    "duration": 5,
    "start_time": "2024-10-15T16:22:48.422Z"
   },
   {
    "duration": 3,
    "start_time": "2024-10-15T16:22:48.429Z"
   },
   {
    "duration": 10,
    "start_time": "2024-10-15T16:22:48.471Z"
   },
   {
    "duration": 11,
    "start_time": "2024-10-15T16:22:48.483Z"
   },
   {
    "duration": 18,
    "start_time": "2024-10-15T16:22:48.496Z"
   },
   {
    "duration": 10,
    "start_time": "2024-10-15T16:22:48.516Z"
   },
   {
    "duration": 8,
    "start_time": "2024-10-15T16:22:48.528Z"
   },
   {
    "duration": 38,
    "start_time": "2024-10-15T16:22:48.539Z"
   },
   {
    "duration": 10,
    "start_time": "2024-10-15T16:22:48.579Z"
   },
   {
    "duration": 13,
    "start_time": "2024-10-15T16:22:48.593Z"
   },
   {
    "duration": 8,
    "start_time": "2024-10-15T16:22:48.608Z"
   },
   {
    "duration": 8,
    "start_time": "2024-10-15T16:35:29.456Z"
   },
   {
    "duration": 9,
    "start_time": "2024-10-15T16:35:30.958Z"
   },
   {
    "duration": 9,
    "start_time": "2024-10-15T16:35:41.321Z"
   },
   {
    "duration": 9,
    "start_time": "2024-10-15T16:35:48.324Z"
   },
   {
    "duration": 1111,
    "start_time": "2024-10-15T16:35:54.219Z"
   },
   {
    "duration": 29,
    "start_time": "2024-10-15T16:35:55.333Z"
   },
   {
    "duration": 16,
    "start_time": "2024-10-15T16:35:55.364Z"
   },
   {
    "duration": 6,
    "start_time": "2024-10-15T16:35:55.381Z"
   },
   {
    "duration": 7,
    "start_time": "2024-10-15T16:35:55.390Z"
   },
   {
    "duration": 6,
    "start_time": "2024-10-15T16:35:55.399Z"
   },
   {
    "duration": 170,
    "start_time": "2024-10-15T16:35:55.407Z"
   },
   {
    "duration": 11,
    "start_time": "2024-10-15T16:35:55.579Z"
   },
   {
    "duration": 12,
    "start_time": "2024-10-15T16:35:55.593Z"
   },
   {
    "duration": 165,
    "start_time": "2024-10-15T16:35:55.609Z"
   },
   {
    "duration": 11,
    "start_time": "2024-10-15T16:35:55.777Z"
   },
   {
    "duration": 10,
    "start_time": "2024-10-15T16:35:55.791Z"
   },
   {
    "duration": 17,
    "start_time": "2024-10-15T16:35:55.803Z"
   },
   {
    "duration": 5,
    "start_time": "2024-10-15T16:35:55.823Z"
   },
   {
    "duration": 3,
    "start_time": "2024-10-15T16:35:55.830Z"
   },
   {
    "duration": 37,
    "start_time": "2024-10-15T16:35:55.835Z"
   },
   {
    "duration": 10,
    "start_time": "2024-10-15T16:35:55.874Z"
   },
   {
    "duration": 12,
    "start_time": "2024-10-15T16:35:55.886Z"
   },
   {
    "duration": 18,
    "start_time": "2024-10-15T16:35:55.901Z"
   },
   {
    "duration": 9,
    "start_time": "2024-10-15T16:35:55.921Z"
   },
   {
    "duration": 45,
    "start_time": "2024-10-15T16:35:55.932Z"
   },
   {
    "duration": 9,
    "start_time": "2024-10-15T16:35:55.979Z"
   },
   {
    "duration": 10,
    "start_time": "2024-10-15T16:35:55.990Z"
   },
   {
    "duration": 10,
    "start_time": "2024-10-15T16:35:56.002Z"
   },
   {
    "duration": 8,
    "start_time": "2024-10-15T16:35:56.015Z"
   },
   {
    "duration": 10,
    "start_time": "2024-10-15T16:36:14.089Z"
   },
   {
    "duration": 9,
    "start_time": "2024-10-15T16:36:24.612Z"
   },
   {
    "duration": 1130,
    "start_time": "2024-10-15T16:36:42.887Z"
   },
   {
    "duration": 27,
    "start_time": "2024-10-15T16:36:44.019Z"
   },
   {
    "duration": 25,
    "start_time": "2024-10-15T16:36:44.048Z"
   },
   {
    "duration": 7,
    "start_time": "2024-10-15T16:36:44.076Z"
   },
   {
    "duration": 6,
    "start_time": "2024-10-15T16:36:44.087Z"
   },
   {
    "duration": 5,
    "start_time": "2024-10-15T16:36:44.095Z"
   },
   {
    "duration": 158,
    "start_time": "2024-10-15T16:36:44.102Z"
   },
   {
    "duration": 17,
    "start_time": "2024-10-15T16:36:44.262Z"
   },
   {
    "duration": 12,
    "start_time": "2024-10-15T16:36:44.281Z"
   },
   {
    "duration": 151,
    "start_time": "2024-10-15T16:36:44.295Z"
   },
   {
    "duration": 22,
    "start_time": "2024-10-15T16:36:44.448Z"
   },
   {
    "duration": 11,
    "start_time": "2024-10-15T16:36:44.472Z"
   },
   {
    "duration": 15,
    "start_time": "2024-10-15T16:36:44.485Z"
   },
   {
    "duration": 5,
    "start_time": "2024-10-15T16:36:44.503Z"
   },
   {
    "duration": 4,
    "start_time": "2024-10-15T16:36:44.510Z"
   },
   {
    "duration": 6,
    "start_time": "2024-10-15T16:36:44.517Z"
   },
   {
    "duration": 11,
    "start_time": "2024-10-15T16:36:44.525Z"
   },
   {
    "duration": 10,
    "start_time": "2024-10-15T16:36:44.569Z"
   },
   {
    "duration": 19,
    "start_time": "2024-10-15T16:36:44.581Z"
   },
   {
    "duration": 9,
    "start_time": "2024-10-15T16:36:44.602Z"
   },
   {
    "duration": 10,
    "start_time": "2024-10-15T16:36:44.613Z"
   },
   {
    "duration": 10,
    "start_time": "2024-10-15T16:36:44.625Z"
   },
   {
    "duration": 10,
    "start_time": "2024-10-15T16:36:44.671Z"
   },
   {
    "duration": 10,
    "start_time": "2024-10-15T16:36:44.685Z"
   },
   {
    "duration": 9,
    "start_time": "2024-10-15T16:36:44.698Z"
   },
   {
    "duration": 1183,
    "start_time": "2024-10-15T16:47:36.387Z"
   },
   {
    "duration": 35,
    "start_time": "2024-10-15T16:47:37.573Z"
   },
   {
    "duration": 12,
    "start_time": "2024-10-15T16:47:37.610Z"
   },
   {
    "duration": 8,
    "start_time": "2024-10-15T16:47:37.625Z"
   },
   {
    "duration": 6,
    "start_time": "2024-10-15T16:47:37.635Z"
   },
   {
    "duration": 32,
    "start_time": "2024-10-15T16:47:37.643Z"
   },
   {
    "duration": 140,
    "start_time": "2024-10-15T16:47:37.677Z"
   },
   {
    "duration": 12,
    "start_time": "2024-10-15T16:47:37.819Z"
   },
   {
    "duration": 13,
    "start_time": "2024-10-15T16:47:37.833Z"
   },
   {
    "duration": 151,
    "start_time": "2024-10-15T16:47:37.849Z"
   },
   {
    "duration": 11,
    "start_time": "2024-10-15T16:47:38.004Z"
   },
   {
    "duration": 11,
    "start_time": "2024-10-15T16:47:38.017Z"
   },
   {
    "duration": 17,
    "start_time": "2024-10-15T16:47:38.031Z"
   },
   {
    "duration": 6,
    "start_time": "2024-10-15T16:47:38.071Z"
   },
   {
    "duration": 4,
    "start_time": "2024-10-15T16:47:38.079Z"
   },
   {
    "duration": 4,
    "start_time": "2024-10-15T16:47:38.084Z"
   },
   {
    "duration": 12,
    "start_time": "2024-10-15T16:47:38.090Z"
   },
   {
    "duration": 10,
    "start_time": "2024-10-15T16:47:38.104Z"
   },
   {
    "duration": 55,
    "start_time": "2024-10-15T16:47:38.116Z"
   },
   {
    "duration": 12,
    "start_time": "2024-10-15T16:47:38.173Z"
   },
   {
    "duration": 11,
    "start_time": "2024-10-15T16:47:38.187Z"
   },
   {
    "duration": 11,
    "start_time": "2024-10-15T16:47:38.200Z"
   },
   {
    "duration": 11,
    "start_time": "2024-10-15T16:47:38.213Z"
   },
   {
    "duration": 9,
    "start_time": "2024-10-15T16:47:38.226Z"
   },
   {
    "duration": 11,
    "start_time": "2024-10-15T16:47:38.270Z"
   },
   {
    "duration": 112,
    "start_time": "2024-10-15T16:49:50.184Z"
   },
   {
    "duration": 126,
    "start_time": "2024-10-15T16:52:06.554Z"
   },
   {
    "duration": 104,
    "start_time": "2024-10-15T16:52:19.615Z"
   },
   {
    "duration": 113,
    "start_time": "2024-10-15T16:52:39.682Z"
   },
   {
    "duration": 134,
    "start_time": "2024-10-15T16:53:51.548Z"
   },
   {
    "duration": 117,
    "start_time": "2024-10-15T16:53:59.749Z"
   },
   {
    "duration": 172,
    "start_time": "2024-10-15T16:54:04.193Z"
   },
   {
    "duration": 80,
    "start_time": "2024-10-15T16:54:12.977Z"
   },
   {
    "duration": 2783,
    "start_time": "2024-10-15T21:30:25.907Z"
   },
   {
    "duration": 32,
    "start_time": "2024-10-15T21:30:28.692Z"
   },
   {
    "duration": 12,
    "start_time": "2024-10-15T21:30:28.726Z"
   },
   {
    "duration": 6,
    "start_time": "2024-10-15T21:30:28.743Z"
   },
   {
    "duration": 7,
    "start_time": "2024-10-15T21:30:28.751Z"
   },
   {
    "duration": 6,
    "start_time": "2024-10-15T21:30:28.759Z"
   },
   {
    "duration": 222,
    "start_time": "2024-10-15T21:30:28.767Z"
   },
   {
    "duration": 13,
    "start_time": "2024-10-15T21:30:28.992Z"
   },
   {
    "duration": 10,
    "start_time": "2024-10-15T21:30:29.007Z"
   },
   {
    "duration": 144,
    "start_time": "2024-10-15T21:30:29.022Z"
   },
   {
    "duration": 11,
    "start_time": "2024-10-15T21:30:29.168Z"
   },
   {
    "duration": 9,
    "start_time": "2024-10-15T21:30:29.182Z"
   },
   {
    "duration": 15,
    "start_time": "2024-10-15T21:30:29.193Z"
   },
   {
    "duration": 34,
    "start_time": "2024-10-15T21:30:29.210Z"
   },
   {
    "duration": 5,
    "start_time": "2024-10-15T21:30:29.246Z"
   },
   {
    "duration": 4,
    "start_time": "2024-10-15T21:30:29.252Z"
   },
   {
    "duration": 12,
    "start_time": "2024-10-15T21:30:29.257Z"
   },
   {
    "duration": 9,
    "start_time": "2024-10-15T21:30:29.272Z"
   },
   {
    "duration": 21,
    "start_time": "2024-10-15T21:30:29.285Z"
   },
   {
    "duration": 42,
    "start_time": "2024-10-15T21:30:29.307Z"
   },
   {
    "duration": 12,
    "start_time": "2024-10-15T21:30:29.351Z"
   },
   {
    "duration": 21,
    "start_time": "2024-10-15T21:30:29.364Z"
   },
   {
    "duration": 20,
    "start_time": "2024-10-15T21:30:29.387Z"
   },
   {
    "duration": 10,
    "start_time": "2024-10-15T21:30:29.410Z"
   },
   {
    "duration": 10,
    "start_time": "2024-10-15T21:30:29.421Z"
   },
   {
    "duration": 80,
    "start_time": "2024-10-15T21:30:29.443Z"
   },
   {
    "duration": 76,
    "start_time": "2024-10-15T21:38:35.060Z"
   },
   {
    "duration": 79,
    "start_time": "2024-10-15T21:38:42.542Z"
   },
   {
    "duration": 134,
    "start_time": "2024-10-15T21:38:54.550Z"
   },
   {
    "duration": 8,
    "start_time": "2024-10-15T22:35:50.234Z"
   },
   {
    "duration": 1365,
    "start_time": "2024-10-15T22:37:02.996Z"
   },
   {
    "duration": 26,
    "start_time": "2024-10-15T22:37:04.363Z"
   },
   {
    "duration": 10,
    "start_time": "2024-10-15T22:37:04.391Z"
   },
   {
    "duration": 6,
    "start_time": "2024-10-15T22:37:04.402Z"
   },
   {
    "duration": 5,
    "start_time": "2024-10-15T22:37:04.410Z"
   },
   {
    "duration": 26,
    "start_time": "2024-10-15T22:37:04.417Z"
   },
   {
    "duration": 127,
    "start_time": "2024-10-15T22:37:04.445Z"
   },
   {
    "duration": 11,
    "start_time": "2024-10-15T22:37:04.575Z"
   },
   {
    "duration": 9,
    "start_time": "2024-10-15T22:37:04.588Z"
   },
   {
    "duration": 148,
    "start_time": "2024-10-15T22:37:04.598Z"
   },
   {
    "duration": 11,
    "start_time": "2024-10-15T22:37:04.748Z"
   },
   {
    "duration": 10,
    "start_time": "2024-10-15T22:37:04.761Z"
   },
   {
    "duration": 14,
    "start_time": "2024-10-15T22:37:04.773Z"
   },
   {
    "duration": 5,
    "start_time": "2024-10-15T22:37:04.792Z"
   },
   {
    "duration": 4,
    "start_time": "2024-10-15T22:37:04.799Z"
   },
   {
    "duration": 41,
    "start_time": "2024-10-15T22:37:04.805Z"
   },
   {
    "duration": 10,
    "start_time": "2024-10-15T22:37:04.848Z"
   },
   {
    "duration": 9,
    "start_time": "2024-10-15T22:37:04.860Z"
   },
   {
    "duration": 18,
    "start_time": "2024-10-15T22:37:04.870Z"
   },
   {
    "duration": 8,
    "start_time": "2024-10-15T22:37:04.889Z"
   },
   {
    "duration": 9,
    "start_time": "2024-10-15T22:37:04.899Z"
   },
   {
    "duration": 9,
    "start_time": "2024-10-15T22:37:04.942Z"
   },
   {
    "duration": 9,
    "start_time": "2024-10-15T22:37:04.953Z"
   },
   {
    "duration": 8,
    "start_time": "2024-10-15T22:37:04.964Z"
   },
   {
    "duration": 9,
    "start_time": "2024-10-15T22:37:04.974Z"
   },
   {
    "duration": 127,
    "start_time": "2024-10-15T22:37:04.985Z"
   },
   {
    "duration": 5,
    "start_time": "2024-10-15T22:37:05.114Z"
   },
   {
    "duration": 1018,
    "start_time": "2024-10-15T22:37:38.377Z"
   },
   {
    "duration": 25,
    "start_time": "2024-10-15T22:37:39.397Z"
   },
   {
    "duration": 19,
    "start_time": "2024-10-15T22:37:39.424Z"
   },
   {
    "duration": 7,
    "start_time": "2024-10-15T22:37:39.445Z"
   },
   {
    "duration": 7,
    "start_time": "2024-10-15T22:37:39.453Z"
   },
   {
    "duration": 5,
    "start_time": "2024-10-15T22:37:39.462Z"
   },
   {
    "duration": 145,
    "start_time": "2024-10-15T22:37:39.469Z"
   },
   {
    "duration": 11,
    "start_time": "2024-10-15T22:37:39.617Z"
   },
   {
    "duration": 19,
    "start_time": "2024-10-15T22:37:39.629Z"
   },
   {
    "duration": 127,
    "start_time": "2024-10-15T22:37:39.650Z"
   },
   {
    "duration": 10,
    "start_time": "2024-10-15T22:37:39.779Z"
   },
   {
    "duration": 9,
    "start_time": "2024-10-15T22:37:39.791Z"
   },
   {
    "duration": 14,
    "start_time": "2024-10-15T22:37:39.801Z"
   },
   {
    "duration": 29,
    "start_time": "2024-10-15T22:37:39.816Z"
   },
   {
    "duration": 3,
    "start_time": "2024-10-15T22:37:39.847Z"
   },
   {
    "duration": 3,
    "start_time": "2024-10-15T22:37:39.852Z"
   },
   {
    "duration": 10,
    "start_time": "2024-10-15T22:37:39.857Z"
   },
   {
    "duration": 7,
    "start_time": "2024-10-15T22:37:39.869Z"
   },
   {
    "duration": 17,
    "start_time": "2024-10-15T22:37:39.878Z"
   },
   {
    "duration": 9,
    "start_time": "2024-10-15T22:37:39.897Z"
   },
   {
    "duration": 9,
    "start_time": "2024-10-15T22:37:39.943Z"
   },
   {
    "duration": 9,
    "start_time": "2024-10-15T22:37:39.953Z"
   },
   {
    "duration": 8,
    "start_time": "2024-10-15T22:37:39.964Z"
   },
   {
    "duration": 9,
    "start_time": "2024-10-15T22:37:39.974Z"
   },
   {
    "duration": 8,
    "start_time": "2024-10-15T22:37:39.985Z"
   },
   {
    "duration": 133,
    "start_time": "2024-10-15T22:37:39.994Z"
   },
   {
    "duration": 15,
    "start_time": "2024-10-15T22:37:40.129Z"
   },
   {
    "duration": 8,
    "start_time": "2024-10-15T22:40:39.785Z"
   },
   {
    "duration": 4,
    "start_time": "2024-10-15T22:40:51.504Z"
   },
   {
    "duration": 235,
    "start_time": "2024-10-15T22:41:49.708Z"
   },
   {
    "duration": 1440,
    "start_time": "2024-10-15T22:42:15.186Z"
   },
   {
    "duration": 4,
    "start_time": "2024-10-15T22:42:24.222Z"
   },
   {
    "duration": 4,
    "start_time": "2024-10-15T22:42:59.071Z"
   },
   {
    "duration": 3,
    "start_time": "2024-10-15T22:43:02.721Z"
   },
   {
    "duration": 3,
    "start_time": "2024-10-15T22:43:43.195Z"
   },
   {
    "duration": 4,
    "start_time": "2024-10-15T22:44:06.092Z"
   },
   {
    "duration": 4,
    "start_time": "2024-10-15T22:44:17.649Z"
   },
   {
    "duration": 3,
    "start_time": "2024-10-15T22:44:49.519Z"
   },
   {
    "duration": 1452,
    "start_time": "2024-10-15T22:45:04.543Z"
   },
   {
    "duration": 3,
    "start_time": "2024-10-15T22:45:05.998Z"
   },
   {
    "duration": 1512,
    "start_time": "2024-10-15T22:45:20.920Z"
   },
   {
    "duration": 5,
    "start_time": "2024-10-15T22:45:23.160Z"
   },
   {
    "duration": 3,
    "start_time": "2024-10-15T22:45:48.698Z"
   },
   {
    "duration": 4,
    "start_time": "2024-10-15T22:46:40.835Z"
   },
   {
    "duration": 4,
    "start_time": "2024-10-15T22:46:57.537Z"
   },
   {
    "duration": 3,
    "start_time": "2024-10-15T22:47:01.470Z"
   },
   {
    "duration": 1459,
    "start_time": "2024-10-15T22:47:08.062Z"
   },
   {
    "duration": 4,
    "start_time": "2024-10-15T22:47:12.678Z"
   },
   {
    "duration": 1589,
    "start_time": "2024-10-15T22:47:23.121Z"
   },
   {
    "duration": 4,
    "start_time": "2024-10-15T22:47:25.497Z"
   },
   {
    "duration": 1204,
    "start_time": "2024-10-15T22:48:32.059Z"
   },
   {
    "duration": 28,
    "start_time": "2024-10-15T22:48:33.266Z"
   },
   {
    "duration": 12,
    "start_time": "2024-10-15T22:48:33.296Z"
   },
   {
    "duration": 8,
    "start_time": "2024-10-15T22:48:33.309Z"
   },
   {
    "duration": 8,
    "start_time": "2024-10-15T22:48:33.342Z"
   },
   {
    "duration": 5,
    "start_time": "2024-10-15T22:48:33.352Z"
   },
   {
    "duration": 143,
    "start_time": "2024-10-15T22:48:33.359Z"
   },
   {
    "duration": 13,
    "start_time": "2024-10-15T22:48:33.504Z"
   },
   {
    "duration": 24,
    "start_time": "2024-10-15T22:48:33.519Z"
   },
   {
    "duration": 133,
    "start_time": "2024-10-15T22:48:33.545Z"
   },
   {
    "duration": 12,
    "start_time": "2024-10-15T22:48:33.680Z"
   },
   {
    "duration": 10,
    "start_time": "2024-10-15T22:48:33.695Z"
   },
   {
    "duration": 37,
    "start_time": "2024-10-15T22:48:33.707Z"
   },
   {
    "duration": 5,
    "start_time": "2024-10-15T22:48:33.748Z"
   },
   {
    "duration": 5,
    "start_time": "2024-10-15T22:48:33.756Z"
   },
   {
    "duration": 4,
    "start_time": "2024-10-15T22:48:33.763Z"
   },
   {
    "duration": 10,
    "start_time": "2024-10-15T22:48:33.769Z"
   },
   {
    "duration": 8,
    "start_time": "2024-10-15T22:48:33.781Z"
   },
   {
    "duration": 56,
    "start_time": "2024-10-15T22:48:33.791Z"
   },
   {
    "duration": 13,
    "start_time": "2024-10-15T22:48:33.848Z"
   },
   {
    "duration": 13,
    "start_time": "2024-10-15T22:48:33.863Z"
   },
   {
    "duration": 11,
    "start_time": "2024-10-15T22:48:33.878Z"
   },
   {
    "duration": 9,
    "start_time": "2024-10-15T22:48:33.890Z"
   },
   {
    "duration": 10,
    "start_time": "2024-10-15T22:48:33.901Z"
   },
   {
    "duration": 36,
    "start_time": "2024-10-15T22:48:33.913Z"
   },
   {
    "duration": 130,
    "start_time": "2024-10-15T22:48:33.951Z"
   },
   {
    "duration": 1645,
    "start_time": "2024-10-15T22:48:34.082Z"
   },
   {
    "duration": 5,
    "start_time": "2024-10-15T22:48:35.735Z"
   },
   {
    "duration": 3,
    "start_time": "2024-10-15T22:48:55.920Z"
   },
   {
    "duration": 3,
    "start_time": "2024-10-15T22:49:39.430Z"
   },
   {
    "duration": 4,
    "start_time": "2024-10-15T22:53:49.761Z"
   },
   {
    "duration": 3,
    "start_time": "2024-10-15T22:53:57.580Z"
   },
   {
    "duration": 3,
    "start_time": "2024-10-15T22:54:11.571Z"
   },
   {
    "duration": 3,
    "start_time": "2024-10-15T22:54:19.886Z"
   },
   {
    "duration": 4,
    "start_time": "2024-10-15T22:54:57.730Z"
   },
   {
    "duration": 3,
    "start_time": "2024-10-15T22:55:02.913Z"
   },
   {
    "duration": 3,
    "start_time": "2024-10-15T22:55:08.322Z"
   },
   {
    "duration": 1570,
    "start_time": "2024-10-15T22:55:47.352Z"
   },
   {
    "duration": 4,
    "start_time": "2024-10-15T22:55:51.120Z"
   },
   {
    "duration": 3,
    "start_time": "2024-10-15T22:56:00.539Z"
   },
   {
    "duration": 3,
    "start_time": "2024-10-15T22:56:10.052Z"
   },
   {
    "duration": 4,
    "start_time": "2024-10-15T22:57:31.603Z"
   },
   {
    "duration": 4,
    "start_time": "2024-10-15T22:57:49.763Z"
   },
   {
    "duration": 2,
    "start_time": "2024-10-15T22:58:12.893Z"
   },
   {
    "duration": 3,
    "start_time": "2024-10-15T22:58:26.585Z"
   },
   {
    "duration": 3,
    "start_time": "2024-10-15T23:00:33.366Z"
   },
   {
    "duration": 5,
    "start_time": "2024-10-15T23:00:48.127Z"
   },
   {
    "duration": 4,
    "start_time": "2024-10-15T23:01:10.403Z"
   },
   {
    "duration": 1023,
    "start_time": "2024-10-15T23:01:33.028Z"
   },
   {
    "duration": 36,
    "start_time": "2024-10-15T23:01:34.053Z"
   },
   {
    "duration": 10,
    "start_time": "2024-10-15T23:01:34.091Z"
   },
   {
    "duration": 8,
    "start_time": "2024-10-15T23:01:34.104Z"
   },
   {
    "duration": 7,
    "start_time": "2024-10-15T23:01:34.113Z"
   },
   {
    "duration": 27,
    "start_time": "2024-10-15T23:01:34.121Z"
   },
   {
    "duration": 135,
    "start_time": "2024-10-15T23:01:34.149Z"
   },
   {
    "duration": 12,
    "start_time": "2024-10-15T23:01:34.286Z"
   },
   {
    "duration": 11,
    "start_time": "2024-10-15T23:01:34.301Z"
   },
   {
    "duration": 142,
    "start_time": "2024-10-15T23:01:34.315Z"
   },
   {
    "duration": 12,
    "start_time": "2024-10-15T23:01:34.463Z"
   },
   {
    "duration": 12,
    "start_time": "2024-10-15T23:01:34.476Z"
   },
   {
    "duration": 18,
    "start_time": "2024-10-15T23:01:34.489Z"
   },
   {
    "duration": 5,
    "start_time": "2024-10-15T23:01:34.508Z"
   },
   {
    "duration": 28,
    "start_time": "2024-10-15T23:01:34.515Z"
   },
   {
    "duration": 4,
    "start_time": "2024-10-15T23:01:34.546Z"
   },
   {
    "duration": 10,
    "start_time": "2024-10-15T23:01:34.554Z"
   },
   {
    "duration": 10,
    "start_time": "2024-10-15T23:01:34.566Z"
   },
   {
    "duration": 18,
    "start_time": "2024-10-15T23:01:34.578Z"
   },
   {
    "duration": 11,
    "start_time": "2024-10-15T23:01:34.600Z"
   },
   {
    "duration": 38,
    "start_time": "2024-10-15T23:01:34.612Z"
   },
   {
    "duration": 15,
    "start_time": "2024-10-15T23:01:34.651Z"
   },
   {
    "duration": 15,
    "start_time": "2024-10-15T23:01:34.669Z"
   },
   {
    "duration": 15,
    "start_time": "2024-10-15T23:01:34.686Z"
   },
   {
    "duration": 12,
    "start_time": "2024-10-15T23:01:34.703Z"
   },
   {
    "duration": 147,
    "start_time": "2024-10-15T23:01:34.717Z"
   },
   {
    "duration": 1511,
    "start_time": "2024-10-15T23:01:34.865Z"
   },
   {
    "duration": 7,
    "start_time": "2024-10-15T23:01:36.380Z"
   },
   {
    "duration": 100,
    "start_time": "2024-10-15T23:18:04.604Z"
   },
   {
    "duration": 114,
    "start_time": "2024-10-15T23:18:11.676Z"
   },
   {
    "duration": 1160,
    "start_time": "2024-10-16T00:36:20.988Z"
   },
   {
    "duration": 30,
    "start_time": "2024-10-16T00:36:22.150Z"
   },
   {
    "duration": 14,
    "start_time": "2024-10-16T00:36:22.182Z"
   },
   {
    "duration": 8,
    "start_time": "2024-10-16T00:36:22.199Z"
   },
   {
    "duration": 7,
    "start_time": "2024-10-16T00:36:22.209Z"
   },
   {
    "duration": 29,
    "start_time": "2024-10-16T00:36:22.217Z"
   },
   {
    "duration": 140,
    "start_time": "2024-10-16T00:36:22.248Z"
   },
   {
    "duration": 13,
    "start_time": "2024-10-16T00:36:22.390Z"
   },
   {
    "duration": 11,
    "start_time": "2024-10-16T00:36:22.405Z"
   },
   {
    "duration": 137,
    "start_time": "2024-10-16T00:36:22.442Z"
   },
   {
    "duration": 13,
    "start_time": "2024-10-16T00:36:22.582Z"
   },
   {
    "duration": 13,
    "start_time": "2024-10-16T00:36:22.597Z"
   },
   {
    "duration": 38,
    "start_time": "2024-10-16T00:36:22.612Z"
   },
   {
    "duration": 5,
    "start_time": "2024-10-16T00:36:22.652Z"
   },
   {
    "duration": 5,
    "start_time": "2024-10-16T00:36:22.659Z"
   },
   {
    "duration": 4,
    "start_time": "2024-10-16T00:36:22.665Z"
   },
   {
    "duration": 11,
    "start_time": "2024-10-16T00:36:22.670Z"
   },
   {
    "duration": 11,
    "start_time": "2024-10-16T00:36:22.684Z"
   },
   {
    "duration": 56,
    "start_time": "2024-10-16T00:36:22.697Z"
   },
   {
    "duration": 11,
    "start_time": "2024-10-16T00:36:22.757Z"
   },
   {
    "duration": 11,
    "start_time": "2024-10-16T00:36:22.770Z"
   },
   {
    "duration": 11,
    "start_time": "2024-10-16T00:36:22.782Z"
   },
   {
    "duration": 10,
    "start_time": "2024-10-16T00:36:22.795Z"
   },
   {
    "duration": 37,
    "start_time": "2024-10-16T00:36:22.807Z"
   },
   {
    "duration": 9,
    "start_time": "2024-10-16T00:36:22.846Z"
   },
   {
    "duration": 142,
    "start_time": "2024-10-16T00:36:22.857Z"
   },
   {
    "duration": 2164,
    "start_time": "2024-10-16T00:36:23.044Z"
   },
   {
    "duration": 6,
    "start_time": "2024-10-16T00:36:25.216Z"
   },
   {
    "duration": 1514,
    "start_time": "2024-10-16T00:46:36.467Z"
   },
   {
    "duration": 3,
    "start_time": "2024-10-16T00:46:38.291Z"
   },
   {
    "duration": 239,
    "start_time": "2024-10-16T00:48:59.364Z"
   },
   {
    "duration": 246,
    "start_time": "2024-10-16T00:49:28.343Z"
   },
   {
    "duration": 246,
    "start_time": "2024-10-16T00:50:01.768Z"
   },
   {
    "duration": 211,
    "start_time": "2024-10-16T00:50:12.995Z"
   },
   {
    "duration": 281,
    "start_time": "2024-10-16T01:00:04.633Z"
   },
   {
    "duration": 379,
    "start_time": "2024-10-16T01:01:03.715Z"
   },
   {
    "duration": 305,
    "start_time": "2024-10-16T01:04:33.480Z"
   },
   {
    "duration": 5,
    "start_time": "2024-10-16T01:05:00.001Z"
   },
   {
    "duration": 271,
    "start_time": "2024-10-16T01:05:38.390Z"
   },
   {
    "duration": 289,
    "start_time": "2024-10-16T01:05:46.559Z"
   },
   {
    "duration": 309,
    "start_time": "2024-10-16T01:05:54.455Z"
   },
   {
    "duration": 298,
    "start_time": "2024-10-16T01:06:10.477Z"
   },
   {
    "duration": 322,
    "start_time": "2024-10-16T01:06:21.741Z"
   },
   {
    "duration": 356,
    "start_time": "2024-10-16T01:06:59.614Z"
   },
   {
    "duration": 299,
    "start_time": "2024-10-16T01:07:10.282Z"
   },
   {
    "duration": 320,
    "start_time": "2024-10-16T01:09:46.814Z"
   },
   {
    "duration": 252,
    "start_time": "2024-10-16T01:12:49.167Z"
   },
   {
    "duration": 431,
    "start_time": "2024-10-16T01:13:25.637Z"
   },
   {
    "duration": 282,
    "start_time": "2024-10-16T01:14:04.442Z"
   },
   {
    "duration": 256,
    "start_time": "2024-10-16T01:14:25.694Z"
   },
   {
    "duration": 285,
    "start_time": "2024-10-16T01:14:31.010Z"
   },
   {
    "duration": 295,
    "start_time": "2024-10-16T01:14:46.469Z"
   },
   {
    "duration": 308,
    "start_time": "2024-10-16T01:15:19.719Z"
   },
   {
    "duration": 346,
    "start_time": "2024-10-16T01:15:36.454Z"
   },
   {
    "duration": 276,
    "start_time": "2024-10-16T01:15:52.773Z"
   },
   {
    "duration": 258,
    "start_time": "2024-10-16T01:16:00.673Z"
   },
   {
    "duration": 348,
    "start_time": "2024-10-16T01:16:14.529Z"
   },
   {
    "duration": 312,
    "start_time": "2024-10-16T01:18:02.443Z"
   },
   {
    "duration": 317,
    "start_time": "2024-10-16T01:18:50.426Z"
   },
   {
    "duration": 8,
    "start_time": "2024-10-16T01:18:58.479Z"
   },
   {
    "duration": 314,
    "start_time": "2024-10-16T01:19:03.488Z"
   },
   {
    "duration": 10,
    "start_time": "2024-10-16T01:19:11.169Z"
   },
   {
    "duration": 359,
    "start_time": "2024-10-16T01:19:15.923Z"
   },
   {
    "duration": 288,
    "start_time": "2024-10-16T01:19:23.773Z"
   },
   {
    "duration": 254,
    "start_time": "2024-10-16T01:19:41.876Z"
   },
   {
    "duration": 354,
    "start_time": "2024-10-16T01:19:52.997Z"
   },
   {
    "duration": 325,
    "start_time": "2024-10-16T01:20:12.175Z"
   },
   {
    "duration": 272,
    "start_time": "2024-10-16T01:20:21.108Z"
   },
   {
    "duration": 1043,
    "start_time": "2024-10-16T01:21:43.993Z"
   },
   {
    "duration": 28,
    "start_time": "2024-10-16T01:21:45.039Z"
   },
   {
    "duration": 11,
    "start_time": "2024-10-16T01:21:45.069Z"
   },
   {
    "duration": 7,
    "start_time": "2024-10-16T01:21:45.082Z"
   },
   {
    "duration": 6,
    "start_time": "2024-10-16T01:21:45.091Z"
   },
   {
    "duration": 5,
    "start_time": "2024-10-16T01:21:45.099Z"
   },
   {
    "duration": 158,
    "start_time": "2024-10-16T01:21:45.105Z"
   },
   {
    "duration": 12,
    "start_time": "2024-10-16T01:21:45.266Z"
   },
   {
    "duration": 10,
    "start_time": "2024-10-16T01:21:45.280Z"
   },
   {
    "duration": 151,
    "start_time": "2024-10-16T01:21:45.292Z"
   },
   {
    "duration": 10,
    "start_time": "2024-10-16T01:21:45.445Z"
   },
   {
    "duration": 9,
    "start_time": "2024-10-16T01:21:45.457Z"
   },
   {
    "duration": 13,
    "start_time": "2024-10-16T01:21:45.468Z"
   },
   {
    "duration": 4,
    "start_time": "2024-10-16T01:21:45.485Z"
   },
   {
    "duration": 4,
    "start_time": "2024-10-16T01:21:45.490Z"
   },
   {
    "duration": 3,
    "start_time": "2024-10-16T01:21:45.495Z"
   },
   {
    "duration": 49,
    "start_time": "2024-10-16T01:21:45.500Z"
   },
   {
    "duration": 12,
    "start_time": "2024-10-16T01:21:45.551Z"
   },
   {
    "duration": 20,
    "start_time": "2024-10-16T01:21:45.565Z"
   },
   {
    "duration": 9,
    "start_time": "2024-10-16T01:21:45.586Z"
   },
   {
    "duration": 11,
    "start_time": "2024-10-16T01:21:45.597Z"
   },
   {
    "duration": 35,
    "start_time": "2024-10-16T01:21:45.610Z"
   },
   {
    "duration": 11,
    "start_time": "2024-10-16T01:21:45.647Z"
   },
   {
    "duration": 9,
    "start_time": "2024-10-16T01:21:45.660Z"
   },
   {
    "duration": 9,
    "start_time": "2024-10-16T01:21:45.671Z"
   },
   {
    "duration": 124,
    "start_time": "2024-10-16T01:21:45.682Z"
   },
   {
    "duration": 1513,
    "start_time": "2024-10-16T01:21:45.808Z"
   },
   {
    "duration": 306,
    "start_time": "2024-10-16T01:21:47.324Z"
   },
   {
    "duration": 557,
    "start_time": "2024-10-16T02:16:10.034Z"
   },
   {
    "duration": 338,
    "start_time": "2024-10-16T02:16:37.748Z"
   },
   {
    "duration": 287,
    "start_time": "2024-10-16T02:19:50.880Z"
   },
   {
    "duration": 324,
    "start_time": "2024-10-16T02:21:25.246Z"
   },
   {
    "duration": 268,
    "start_time": "2024-10-16T02:29:31.518Z"
   },
   {
    "duration": 284,
    "start_time": "2024-10-16T02:34:09.983Z"
   },
   {
    "duration": 389,
    "start_time": "2024-10-16T02:35:00.036Z"
   },
   {
    "duration": 286,
    "start_time": "2024-10-16T02:36:11.639Z"
   },
   {
    "duration": 4,
    "start_time": "2024-10-16T02:38:48.575Z"
   },
   {
    "duration": 4,
    "start_time": "2024-10-16T02:46:34.665Z"
   },
   {
    "duration": 229,
    "start_time": "2024-10-16T03:15:04.589Z"
   },
   {
    "duration": 290,
    "start_time": "2024-10-16T03:15:18.532Z"
   },
   {
    "duration": 5,
    "start_time": "2024-10-16T03:20:09.694Z"
   },
   {
    "duration": 2753,
    "start_time": "2024-10-16T15:30:48.072Z"
   },
   {
    "duration": 42,
    "start_time": "2024-10-16T15:30:50.828Z"
   },
   {
    "duration": 11,
    "start_time": "2024-10-16T15:30:50.872Z"
   },
   {
    "duration": 7,
    "start_time": "2024-10-16T15:30:50.885Z"
   },
   {
    "duration": 6,
    "start_time": "2024-10-16T15:30:50.893Z"
   },
   {
    "duration": 6,
    "start_time": "2024-10-16T15:30:50.901Z"
   },
   {
    "duration": 151,
    "start_time": "2024-10-16T15:30:50.908Z"
   },
   {
    "duration": 10,
    "start_time": "2024-10-16T15:30:51.061Z"
   },
   {
    "duration": 9,
    "start_time": "2024-10-16T15:30:51.073Z"
   },
   {
    "duration": 147,
    "start_time": "2024-10-16T15:30:51.086Z"
   },
   {
    "duration": 15,
    "start_time": "2024-10-16T15:30:51.236Z"
   },
   {
    "duration": 11,
    "start_time": "2024-10-16T15:30:51.253Z"
   },
   {
    "duration": 13,
    "start_time": "2024-10-16T15:30:51.266Z"
   },
   {
    "duration": 4,
    "start_time": "2024-10-16T15:30:51.281Z"
   },
   {
    "duration": 5,
    "start_time": "2024-10-16T15:30:51.286Z"
   },
   {
    "duration": 3,
    "start_time": "2024-10-16T15:30:51.293Z"
   },
   {
    "duration": 9,
    "start_time": "2024-10-16T15:30:51.298Z"
   },
   {
    "duration": 103,
    "start_time": "2024-10-16T15:30:51.308Z"
   },
   {
    "duration": 16,
    "start_time": "2024-10-16T15:30:51.413Z"
   },
   {
    "duration": 16,
    "start_time": "2024-10-16T15:30:51.431Z"
   },
   {
    "duration": 9,
    "start_time": "2024-10-16T15:30:51.449Z"
   },
   {
    "duration": 9,
    "start_time": "2024-10-16T15:30:51.460Z"
   },
   {
    "duration": 8,
    "start_time": "2024-10-16T15:30:51.471Z"
   },
   {
    "duration": 8,
    "start_time": "2024-10-16T15:30:51.481Z"
   },
   {
    "duration": 10,
    "start_time": "2024-10-16T15:30:51.491Z"
   },
   {
    "duration": 126,
    "start_time": "2024-10-16T15:30:51.503Z"
   },
   {
    "duration": 432,
    "start_time": "2024-10-16T15:30:51.630Z"
   },
   {
    "duration": 0,
    "start_time": "2024-10-16T15:30:52.064Z"
   },
   {
    "duration": 0,
    "start_time": "2024-10-16T15:30:52.066Z"
   },
   {
    "duration": 1520,
    "start_time": "2024-10-16T16:03:40.241Z"
   },
   {
    "duration": 297,
    "start_time": "2024-10-16T16:04:01.114Z"
   },
   {
    "duration": 286,
    "start_time": "2024-10-16T16:05:17.975Z"
   },
   {
    "duration": 5,
    "start_time": "2024-10-16T16:05:25.745Z"
   },
   {
    "duration": 1037,
    "start_time": "2024-10-16T16:06:00.584Z"
   },
   {
    "duration": 27,
    "start_time": "2024-10-16T16:06:01.623Z"
   },
   {
    "duration": 11,
    "start_time": "2024-10-16T16:06:01.651Z"
   },
   {
    "duration": 8,
    "start_time": "2024-10-16T16:06:01.663Z"
   },
   {
    "duration": 6,
    "start_time": "2024-10-16T16:06:01.673Z"
   },
   {
    "duration": 5,
    "start_time": "2024-10-16T16:06:01.680Z"
   },
   {
    "duration": 147,
    "start_time": "2024-10-16T16:06:01.686Z"
   },
   {
    "duration": 16,
    "start_time": "2024-10-16T16:06:01.834Z"
   },
   {
    "duration": 11,
    "start_time": "2024-10-16T16:06:01.851Z"
   },
   {
    "duration": 137,
    "start_time": "2024-10-16T16:06:01.863Z"
   },
   {
    "duration": 10,
    "start_time": "2024-10-16T16:06:02.003Z"
   },
   {
    "duration": 9,
    "start_time": "2024-10-16T16:06:02.015Z"
   },
   {
    "duration": 13,
    "start_time": "2024-10-16T16:06:02.042Z"
   },
   {
    "duration": 4,
    "start_time": "2024-10-16T16:06:02.059Z"
   },
   {
    "duration": 3,
    "start_time": "2024-10-16T16:06:02.065Z"
   },
   {
    "duration": 4,
    "start_time": "2024-10-16T16:06:02.069Z"
   },
   {
    "duration": 10,
    "start_time": "2024-10-16T16:06:02.074Z"
   },
   {
    "duration": 8,
    "start_time": "2024-10-16T16:06:02.086Z"
   },
   {
    "duration": 49,
    "start_time": "2024-10-16T16:06:02.095Z"
   },
   {
    "duration": 8,
    "start_time": "2024-10-16T16:06:02.146Z"
   },
   {
    "duration": 10,
    "start_time": "2024-10-16T16:06:02.156Z"
   },
   {
    "duration": 9,
    "start_time": "2024-10-16T16:06:02.167Z"
   },
   {
    "duration": 8,
    "start_time": "2024-10-16T16:06:02.178Z"
   },
   {
    "duration": 8,
    "start_time": "2024-10-16T16:06:02.188Z"
   },
   {
    "duration": 8,
    "start_time": "2024-10-16T16:06:02.198Z"
   },
   {
    "duration": 103,
    "start_time": "2024-10-16T16:06:02.243Z"
   },
   {
    "duration": 1525,
    "start_time": "2024-10-16T16:06:02.348Z"
   },
   {
    "duration": 287,
    "start_time": "2024-10-16T16:06:03.876Z"
   },
   {
    "duration": 4,
    "start_time": "2024-10-16T16:06:04.166Z"
   },
   {
    "duration": 4,
    "start_time": "2024-10-16T16:06:40.048Z"
   },
   {
    "duration": 4,
    "start_time": "2024-10-16T16:07:13.952Z"
   },
   {
    "duration": 5,
    "start_time": "2024-10-16T16:07:50.260Z"
   },
   {
    "duration": 5,
    "start_time": "2024-10-16T16:08:39.664Z"
   },
   {
    "duration": 4,
    "start_time": "2024-10-16T16:09:23.005Z"
   },
   {
    "duration": 5,
    "start_time": "2024-10-16T16:09:42.443Z"
   },
   {
    "duration": 5,
    "start_time": "2024-10-16T16:10:08.267Z"
   },
   {
    "duration": 5,
    "start_time": "2024-10-16T16:10:17.796Z"
   },
   {
    "duration": 5,
    "start_time": "2024-10-16T16:10:34.103Z"
   },
   {
    "duration": 7,
    "start_time": "2024-10-16T16:11:08.077Z"
   },
   {
    "duration": 5,
    "start_time": "2024-10-16T16:11:25.188Z"
   },
   {
    "duration": 4,
    "start_time": "2024-10-16T16:12:06.420Z"
   },
   {
    "duration": 7,
    "start_time": "2024-10-16T16:13:04.224Z"
   },
   {
    "duration": 5,
    "start_time": "2024-10-16T16:13:07.779Z"
   },
   {
    "duration": 4,
    "start_time": "2024-10-16T16:13:31.640Z"
   },
   {
    "duration": 4,
    "start_time": "2024-10-16T16:14:04.256Z"
   },
   {
    "duration": 4,
    "start_time": "2024-10-16T16:14:12.841Z"
   },
   {
    "duration": 4,
    "start_time": "2024-10-16T16:14:15.980Z"
   },
   {
    "duration": 4,
    "start_time": "2024-10-16T16:14:38.323Z"
   },
   {
    "duration": 4,
    "start_time": "2024-10-16T16:14:56.179Z"
   },
   {
    "duration": 5,
    "start_time": "2024-10-16T16:15:08.511Z"
   },
   {
    "duration": 4,
    "start_time": "2024-10-16T16:15:45.361Z"
   },
   {
    "duration": 4,
    "start_time": "2024-10-16T16:15:59.824Z"
   },
   {
    "duration": 4,
    "start_time": "2024-10-16T16:16:14.401Z"
   },
   {
    "duration": 4,
    "start_time": "2024-10-16T16:16:42.617Z"
   },
   {
    "duration": 4,
    "start_time": "2024-10-16T16:16:51.866Z"
   },
   {
    "duration": 3,
    "start_time": "2024-10-16T16:17:14.781Z"
   },
   {
    "duration": 5,
    "start_time": "2024-10-16T16:17:21.044Z"
   },
   {
    "duration": 6,
    "start_time": "2024-10-16T16:17:36.681Z"
   },
   {
    "duration": 4,
    "start_time": "2024-10-16T16:17:44.536Z"
   },
   {
    "duration": 4,
    "start_time": "2024-10-16T16:18:05.300Z"
   },
   {
    "duration": 4,
    "start_time": "2024-10-16T16:18:41.247Z"
   },
   {
    "duration": 6,
    "start_time": "2024-10-16T16:19:12.213Z"
   },
   {
    "duration": 4,
    "start_time": "2024-10-16T16:19:22.558Z"
   },
   {
    "duration": 4,
    "start_time": "2024-10-16T16:19:33.952Z"
   },
   {
    "duration": 4,
    "start_time": "2024-10-16T16:19:46.920Z"
   },
   {
    "duration": 4,
    "start_time": "2024-10-16T16:19:54.655Z"
   },
   {
    "duration": 3,
    "start_time": "2024-10-16T16:20:06.427Z"
   },
   {
    "duration": 3,
    "start_time": "2024-10-16T16:20:26.201Z"
   },
   {
    "duration": 4,
    "start_time": "2024-10-16T16:20:34.209Z"
   },
   {
    "duration": 4,
    "start_time": "2024-10-16T16:20:42.765Z"
   },
   {
    "duration": 4,
    "start_time": "2024-10-16T16:20:57.977Z"
   },
   {
    "duration": 4,
    "start_time": "2024-10-16T16:21:20.850Z"
   },
   {
    "duration": 4,
    "start_time": "2024-10-16T16:21:25.023Z"
   },
   {
    "duration": 4,
    "start_time": "2024-10-16T16:21:46.577Z"
   },
   {
    "duration": 3,
    "start_time": "2024-10-16T16:22:03.089Z"
   },
   {
    "duration": 4,
    "start_time": "2024-10-16T16:22:16.204Z"
   },
   {
    "duration": 4,
    "start_time": "2024-10-16T16:22:38.887Z"
   },
   {
    "duration": 5,
    "start_time": "2024-10-16T16:22:50.480Z"
   },
   {
    "duration": 3,
    "start_time": "2024-10-16T16:23:06.173Z"
   },
   {
    "duration": 4,
    "start_time": "2024-10-16T16:23:10.373Z"
   },
   {
    "duration": 4,
    "start_time": "2024-10-16T16:23:36.085Z"
   },
   {
    "duration": 4,
    "start_time": "2024-10-16T16:23:45.574Z"
   },
   {
    "duration": 3,
    "start_time": "2024-10-16T16:23:57.604Z"
   },
   {
    "duration": 3,
    "start_time": "2024-10-16T16:24:05.192Z"
   },
   {
    "duration": 1004,
    "start_time": "2024-10-16T16:24:57.923Z"
   },
   {
    "duration": 26,
    "start_time": "2024-10-16T16:24:58.929Z"
   },
   {
    "duration": 10,
    "start_time": "2024-10-16T16:24:58.956Z"
   },
   {
    "duration": 7,
    "start_time": "2024-10-16T16:24:58.968Z"
   },
   {
    "duration": 6,
    "start_time": "2024-10-16T16:24:58.976Z"
   },
   {
    "duration": 5,
    "start_time": "2024-10-16T16:24:58.984Z"
   },
   {
    "duration": 152,
    "start_time": "2024-10-16T16:24:58.991Z"
   },
   {
    "duration": 12,
    "start_time": "2024-10-16T16:24:59.146Z"
   },
   {
    "duration": 10,
    "start_time": "2024-10-16T16:24:59.160Z"
   },
   {
    "duration": 149,
    "start_time": "2024-10-16T16:24:59.174Z"
   },
   {
    "duration": 18,
    "start_time": "2024-10-16T16:24:59.325Z"
   },
   {
    "duration": 19,
    "start_time": "2024-10-16T16:24:59.345Z"
   },
   {
    "duration": 13,
    "start_time": "2024-10-16T16:24:59.366Z"
   },
   {
    "duration": 4,
    "start_time": "2024-10-16T16:24:59.381Z"
   },
   {
    "duration": 4,
    "start_time": "2024-10-16T16:24:59.386Z"
   },
   {
    "duration": 3,
    "start_time": "2024-10-16T16:24:59.392Z"
   },
   {
    "duration": 8,
    "start_time": "2024-10-16T16:24:59.397Z"
   },
   {
    "duration": 38,
    "start_time": "2024-10-16T16:24:59.406Z"
   },
   {
    "duration": 17,
    "start_time": "2024-10-16T16:24:59.446Z"
   },
   {
    "duration": 9,
    "start_time": "2024-10-16T16:24:59.464Z"
   },
   {
    "duration": 9,
    "start_time": "2024-10-16T16:24:59.474Z"
   },
   {
    "duration": 9,
    "start_time": "2024-10-16T16:24:59.484Z"
   },
   {
    "duration": 7,
    "start_time": "2024-10-16T16:24:59.495Z"
   },
   {
    "duration": 41,
    "start_time": "2024-10-16T16:24:59.504Z"
   },
   {
    "duration": 12,
    "start_time": "2024-10-16T16:24:59.548Z"
   },
   {
    "duration": 143,
    "start_time": "2024-10-16T16:24:59.562Z"
   },
   {
    "duration": 1515,
    "start_time": "2024-10-16T16:24:59.707Z"
   },
   {
    "duration": 318,
    "start_time": "2024-10-16T16:25:01.227Z"
   },
   {
    "duration": 3,
    "start_time": "2024-10-16T16:25:01.547Z"
   },
   {
    "duration": 270,
    "start_time": "2024-10-16T16:25:37.055Z"
   },
   {
    "duration": 1061,
    "start_time": "2024-10-16T20:59:51.872Z"
   },
   {
    "duration": 30,
    "start_time": "2024-10-16T20:59:52.936Z"
   },
   {
    "duration": 14,
    "start_time": "2024-10-16T20:59:52.968Z"
   },
   {
    "duration": 6,
    "start_time": "2024-10-16T20:59:52.984Z"
   },
   {
    "duration": 6,
    "start_time": "2024-10-16T20:59:52.992Z"
   },
   {
    "duration": 6,
    "start_time": "2024-10-16T20:59:52.999Z"
   },
   {
    "duration": 154,
    "start_time": "2024-10-16T20:59:53.006Z"
   },
   {
    "duration": 11,
    "start_time": "2024-10-16T20:59:53.162Z"
   },
   {
    "duration": 10,
    "start_time": "2024-10-16T20:59:53.174Z"
   },
   {
    "duration": 141,
    "start_time": "2024-10-16T20:59:53.186Z"
   },
   {
    "duration": 20,
    "start_time": "2024-10-16T20:59:53.329Z"
   },
   {
    "duration": 11,
    "start_time": "2024-10-16T20:59:53.350Z"
   },
   {
    "duration": 14,
    "start_time": "2024-10-16T20:59:53.363Z"
   },
   {
    "duration": 5,
    "start_time": "2024-10-16T20:59:53.378Z"
   },
   {
    "duration": 3,
    "start_time": "2024-10-16T20:59:53.385Z"
   },
   {
    "duration": 3,
    "start_time": "2024-10-16T20:59:53.390Z"
   },
   {
    "duration": 8,
    "start_time": "2024-10-16T20:59:53.395Z"
   },
   {
    "duration": 9,
    "start_time": "2024-10-16T20:59:53.443Z"
   },
   {
    "duration": 18,
    "start_time": "2024-10-16T20:59:53.454Z"
   },
   {
    "duration": 8,
    "start_time": "2024-10-16T20:59:53.473Z"
   },
   {
    "duration": 8,
    "start_time": "2024-10-16T20:59:53.483Z"
   },
   {
    "duration": 8,
    "start_time": "2024-10-16T20:59:53.493Z"
   },
   {
    "duration": 41,
    "start_time": "2024-10-16T20:59:53.502Z"
   },
   {
    "duration": 8,
    "start_time": "2024-10-16T20:59:53.545Z"
   },
   {
    "duration": 9,
    "start_time": "2024-10-16T20:59:53.554Z"
   },
   {
    "duration": 106,
    "start_time": "2024-10-16T20:59:53.565Z"
   },
   {
    "duration": 1547,
    "start_time": "2024-10-16T20:59:53.672Z"
   },
   {
    "duration": 323,
    "start_time": "2024-10-16T20:59:55.223Z"
   },
   {
    "duration": 3,
    "start_time": "2024-10-16T20:59:55.549Z"
   },
   {
    "duration": 237,
    "start_time": "2024-10-16T22:47:19.781Z"
   },
   {
    "duration": 8956,
    "start_time": "2024-10-16T22:48:10.283Z"
   },
   {
    "duration": 1372,
    "start_time": "2024-10-16T22:49:13.719Z"
   },
   {
    "duration": 24,
    "start_time": "2024-10-16T22:49:21.940Z"
   },
   {
    "duration": 43130,
    "start_time": "2024-10-16T22:50:38.841Z"
   },
   {
    "duration": 25,
    "start_time": "2024-10-16T22:51:37.768Z"
   },
   {
    "duration": 3,
    "start_time": "2024-10-16T22:52:38.883Z"
   },
   {
    "duration": 1275,
    "start_time": "2024-10-16T22:53:26.947Z"
   },
   {
    "duration": 3,
    "start_time": "2024-10-16T22:53:41.379Z"
   },
   {
    "duration": 6,
    "start_time": "2024-10-16T22:54:21.709Z"
   },
   {
    "duration": 1243,
    "start_time": "2024-10-16T22:54:24.325Z"
   },
   {
    "duration": 2419,
    "start_time": "2024-10-16T22:54:52.467Z"
   },
   {
    "duration": 1029,
    "start_time": "2024-10-16T23:00:12.608Z"
   },
   {
    "duration": 28,
    "start_time": "2024-10-16T23:00:13.639Z"
   },
   {
    "duration": 10,
    "start_time": "2024-10-16T23:00:13.668Z"
   },
   {
    "duration": 6,
    "start_time": "2024-10-16T23:00:13.680Z"
   },
   {
    "duration": 6,
    "start_time": "2024-10-16T23:00:13.688Z"
   },
   {
    "duration": 6,
    "start_time": "2024-10-16T23:00:13.695Z"
   },
   {
    "duration": 151,
    "start_time": "2024-10-16T23:00:13.703Z"
   },
   {
    "duration": 12,
    "start_time": "2024-10-16T23:00:13.856Z"
   },
   {
    "duration": 9,
    "start_time": "2024-10-16T23:00:13.871Z"
   },
   {
    "duration": 141,
    "start_time": "2024-10-16T23:00:13.883Z"
   },
   {
    "duration": 17,
    "start_time": "2024-10-16T23:00:14.026Z"
   },
   {
    "duration": 9,
    "start_time": "2024-10-16T23:00:14.044Z"
   },
   {
    "duration": 15,
    "start_time": "2024-10-16T23:00:14.055Z"
   },
   {
    "duration": 5,
    "start_time": "2024-10-16T23:00:14.071Z"
   },
   {
    "duration": 3,
    "start_time": "2024-10-16T23:00:14.077Z"
   },
   {
    "duration": 3,
    "start_time": "2024-10-16T23:00:14.083Z"
   },
   {
    "duration": 9,
    "start_time": "2024-10-16T23:00:14.088Z"
   },
   {
    "duration": 43,
    "start_time": "2024-10-16T23:00:14.099Z"
   },
   {
    "duration": 18,
    "start_time": "2024-10-16T23:00:14.144Z"
   },
   {
    "duration": 9,
    "start_time": "2024-10-16T23:00:14.163Z"
   },
   {
    "duration": 8,
    "start_time": "2024-10-16T23:00:14.174Z"
   },
   {
    "duration": 8,
    "start_time": "2024-10-16T23:00:14.184Z"
   },
   {
    "duration": 8,
    "start_time": "2024-10-16T23:00:14.194Z"
   },
   {
    "duration": 40,
    "start_time": "2024-10-16T23:00:14.204Z"
   },
   {
    "duration": 9,
    "start_time": "2024-10-16T23:00:14.245Z"
   },
   {
    "duration": 104,
    "start_time": "2024-10-16T23:00:14.257Z"
   },
   {
    "duration": 1515,
    "start_time": "2024-10-16T23:00:14.363Z"
   },
   {
    "duration": 304,
    "start_time": "2024-10-16T23:00:15.882Z"
   },
   {
    "duration": 4,
    "start_time": "2024-10-16T23:00:16.188Z"
   },
   {
    "duration": 8,
    "start_time": "2024-10-16T23:26:33.809Z"
   },
   {
    "duration": 1363,
    "start_time": "2024-10-16T23:27:22.882Z"
   },
   {
    "duration": 27,
    "start_time": "2024-10-16T23:27:24.248Z"
   },
   {
    "duration": 13,
    "start_time": "2024-10-16T23:27:24.277Z"
   },
   {
    "duration": 13,
    "start_time": "2024-10-16T23:27:24.344Z"
   },
   {
    "duration": 7,
    "start_time": "2024-10-16T23:27:24.359Z"
   },
   {
    "duration": 7,
    "start_time": "2024-10-16T23:27:24.367Z"
   },
   {
    "duration": 6,
    "start_time": "2024-10-16T23:27:24.376Z"
   },
   {
    "duration": 379,
    "start_time": "2024-10-16T23:27:24.384Z"
   },
   {
    "duration": 11,
    "start_time": "2024-10-16T23:27:24.764Z"
   },
   {
    "duration": 10,
    "start_time": "2024-10-16T23:27:24.779Z"
   },
   {
    "duration": 405,
    "start_time": "2024-10-16T23:27:24.844Z"
   },
   {
    "duration": 14,
    "start_time": "2024-10-16T23:27:25.252Z"
   },
   {
    "duration": 9,
    "start_time": "2024-10-16T23:27:25.268Z"
   },
   {
    "duration": 14,
    "start_time": "2024-10-16T23:27:25.279Z"
   },
   {
    "duration": 51,
    "start_time": "2024-10-16T23:27:25.295Z"
   },
   {
    "duration": 4,
    "start_time": "2024-10-16T23:27:25.347Z"
   },
   {
    "duration": 3,
    "start_time": "2024-10-16T23:27:25.353Z"
   },
   {
    "duration": 10,
    "start_time": "2024-10-16T23:27:25.357Z"
   },
   {
    "duration": 8,
    "start_time": "2024-10-16T23:27:25.369Z"
   },
   {
    "duration": 18,
    "start_time": "2024-10-16T23:27:25.379Z"
   },
   {
    "duration": 8,
    "start_time": "2024-10-16T23:27:25.398Z"
   },
   {
    "duration": 9,
    "start_time": "2024-10-16T23:27:25.443Z"
   },
   {
    "duration": 9,
    "start_time": "2024-10-16T23:27:25.453Z"
   },
   {
    "duration": 8,
    "start_time": "2024-10-16T23:27:25.464Z"
   },
   {
    "duration": 8,
    "start_time": "2024-10-16T23:27:25.473Z"
   },
   {
    "duration": 8,
    "start_time": "2024-10-16T23:27:25.483Z"
   },
   {
    "duration": 123,
    "start_time": "2024-10-16T23:27:25.492Z"
   },
   {
    "duration": 1528,
    "start_time": "2024-10-16T23:27:25.619Z"
   },
   {
    "duration": 278,
    "start_time": "2024-10-16T23:27:27.148Z"
   },
   {
    "duration": 18,
    "start_time": "2024-10-16T23:27:27.428Z"
   },
   {
    "duration": 4,
    "start_time": "2024-10-17T00:10:26.154Z"
   },
   {
    "duration": 4,
    "start_time": "2024-10-17T00:11:59.322Z"
   },
   {
    "duration": 8,
    "start_time": "2024-10-17T00:13:07.667Z"
   },
   {
    "duration": 4,
    "start_time": "2024-10-17T00:16:35.862Z"
   },
   {
    "duration": 9,
    "start_time": "2024-10-17T00:18:10.006Z"
   },
   {
    "duration": 5,
    "start_time": "2024-10-17T00:24:24.806Z"
   },
   {
    "duration": 81,
    "start_time": "2024-10-17T00:27:20.073Z"
   },
   {
    "duration": 83,
    "start_time": "2024-10-17T00:31:13.384Z"
   },
   {
    "duration": 82,
    "start_time": "2024-10-17T00:34:46.531Z"
   },
   {
    "duration": 86,
    "start_time": "2024-10-17T00:35:47.074Z"
   },
   {
    "duration": 89,
    "start_time": "2024-10-17T00:36:39.321Z"
   },
   {
    "duration": 5,
    "start_time": "2024-10-17T00:37:10.060Z"
   },
   {
    "duration": 90,
    "start_time": "2024-10-17T00:37:19.252Z"
   },
   {
    "duration": 77,
    "start_time": "2024-10-17T00:44:10.954Z"
   },
   {
    "duration": 80,
    "start_time": "2024-10-17T00:44:29.950Z"
   },
   {
    "duration": 88,
    "start_time": "2024-10-17T00:44:55.183Z"
   },
   {
    "duration": 81,
    "start_time": "2024-10-17T00:51:20.510Z"
   },
   {
    "duration": 763,
    "start_time": "2024-10-17T01:07:55.058Z"
   },
   {
    "duration": 4,
    "start_time": "2024-10-17T01:08:24.951Z"
   },
   {
    "duration": 4,
    "start_time": "2024-10-17T01:10:06.036Z"
   },
   {
    "duration": 4,
    "start_time": "2024-10-17T01:10:49.570Z"
   },
   {
    "duration": 4,
    "start_time": "2024-10-17T01:10:59.633Z"
   },
   {
    "duration": 4,
    "start_time": "2024-10-17T01:12:11.557Z"
   },
   {
    "duration": 4,
    "start_time": "2024-10-17T01:12:31.510Z"
   },
   {
    "duration": 1934,
    "start_time": "2024-10-17T01:19:10.814Z"
   },
   {
    "duration": 4,
    "start_time": "2024-10-17T01:22:26.880Z"
   },
   {
    "duration": 4,
    "start_time": "2024-10-17T01:22:33.843Z"
   },
   {
    "duration": 4,
    "start_time": "2024-10-17T01:26:43.181Z"
   },
   {
    "duration": 3,
    "start_time": "2024-10-17T01:27:00.144Z"
   },
   {
    "duration": 4,
    "start_time": "2024-10-17T01:27:54.177Z"
   },
   {
    "duration": 3,
    "start_time": "2024-10-17T01:27:56.969Z"
   },
   {
    "duration": 3,
    "start_time": "2024-10-17T01:28:39.098Z"
   },
   {
    "duration": 3,
    "start_time": "2024-10-17T01:28:39.376Z"
   },
   {
    "duration": 3,
    "start_time": "2024-10-17T01:30:20.953Z"
   },
   {
    "duration": 4,
    "start_time": "2024-10-17T01:30:21.744Z"
   },
   {
    "duration": 3,
    "start_time": "2024-10-17T01:30:42.393Z"
   },
   {
    "duration": 3,
    "start_time": "2024-10-17T01:30:42.784Z"
   },
   {
    "duration": 3,
    "start_time": "2024-10-17T01:32:02.452Z"
   },
   {
    "duration": 3,
    "start_time": "2024-10-17T01:32:02.732Z"
   },
   {
    "duration": 3,
    "start_time": "2024-10-17T01:32:11.099Z"
   },
   {
    "duration": 3,
    "start_time": "2024-10-17T01:32:11.374Z"
   },
   {
    "duration": 4,
    "start_time": "2024-10-17T01:33:12.364Z"
   },
   {
    "duration": 3,
    "start_time": "2024-10-17T01:33:12.533Z"
   },
   {
    "duration": 1063,
    "start_time": "2024-10-17T01:34:20.666Z"
   },
   {
    "duration": 29,
    "start_time": "2024-10-17T01:34:21.732Z"
   },
   {
    "duration": 10,
    "start_time": "2024-10-17T01:34:21.763Z"
   },
   {
    "duration": 9,
    "start_time": "2024-10-17T01:34:21.775Z"
   },
   {
    "duration": 6,
    "start_time": "2024-10-17T01:34:21.786Z"
   },
   {
    "duration": 6,
    "start_time": "2024-10-17T01:34:21.793Z"
   },
   {
    "duration": 7,
    "start_time": "2024-10-17T01:34:21.800Z"
   },
   {
    "duration": 149,
    "start_time": "2024-10-17T01:34:21.808Z"
   },
   {
    "duration": 11,
    "start_time": "2024-10-17T01:34:21.961Z"
   },
   {
    "duration": 10,
    "start_time": "2024-10-17T01:34:21.973Z"
   },
   {
    "duration": 148,
    "start_time": "2024-10-17T01:34:21.984Z"
   },
   {
    "duration": 10,
    "start_time": "2024-10-17T01:34:22.133Z"
   },
   {
    "duration": 9,
    "start_time": "2024-10-17T01:34:22.145Z"
   },
   {
    "duration": 15,
    "start_time": "2024-10-17T01:34:22.159Z"
   },
   {
    "duration": 5,
    "start_time": "2024-10-17T01:34:22.175Z"
   },
   {
    "duration": 3,
    "start_time": "2024-10-17T01:34:22.182Z"
   },
   {
    "duration": 4,
    "start_time": "2024-10-17T01:34:22.186Z"
   },
   {
    "duration": 9,
    "start_time": "2024-10-17T01:34:22.191Z"
   },
   {
    "duration": 46,
    "start_time": "2024-10-17T01:34:22.201Z"
   },
   {
    "duration": 18,
    "start_time": "2024-10-17T01:34:22.249Z"
   },
   {
    "duration": 8,
    "start_time": "2024-10-17T01:34:22.269Z"
   },
   {
    "duration": 9,
    "start_time": "2024-10-17T01:34:22.279Z"
   },
   {
    "duration": 9,
    "start_time": "2024-10-17T01:34:22.289Z"
   },
   {
    "duration": 44,
    "start_time": "2024-10-17T01:34:22.300Z"
   },
   {
    "duration": 9,
    "start_time": "2024-10-17T01:34:22.346Z"
   },
   {
    "duration": 9,
    "start_time": "2024-10-17T01:34:22.358Z"
   },
   {
    "duration": 109,
    "start_time": "2024-10-17T01:34:22.369Z"
   },
   {
    "duration": 1520,
    "start_time": "2024-10-17T01:34:22.480Z"
   },
   {
    "duration": 320,
    "start_time": "2024-10-17T01:34:24.001Z"
   },
   {
    "duration": 3,
    "start_time": "2024-10-17T01:34:24.323Z"
   },
   {
    "duration": 102,
    "start_time": "2024-10-17T01:34:24.328Z"
   },
   {
    "duration": 13,
    "start_time": "2024-10-17T01:34:24.432Z"
   },
   {
    "duration": 7,
    "start_time": "2024-10-17T01:34:24.447Z"
   },
   {
    "duration": 91,
    "start_time": "2024-10-17T01:34:24.456Z"
   },
   {
    "duration": 4,
    "start_time": "2024-10-17T01:34:24.549Z"
   },
   {
    "duration": 8,
    "start_time": "2024-10-17T01:34:24.555Z"
   },
   {
    "duration": 100,
    "start_time": "2024-10-17T01:34:24.564Z"
   },
   {
    "duration": 768,
    "start_time": "2024-10-17T01:34:24.666Z"
   },
   {
    "duration": 2021,
    "start_time": "2024-10-17T01:34:25.436Z"
   },
   {
    "duration": 4,
    "start_time": "2024-10-17T01:34:27.459Z"
   },
   {
    "duration": 3,
    "start_time": "2024-10-17T01:34:27.467Z"
   },
   {
    "duration": 3,
    "start_time": "2024-10-17T01:37:14.833Z"
   },
   {
    "duration": 3,
    "start_time": "2024-10-17T01:37:15.371Z"
   },
   {
    "duration": 4,
    "start_time": "2024-10-17T01:37:23.973Z"
   },
   {
    "duration": 3,
    "start_time": "2024-10-17T01:37:25.854Z"
   },
   {
    "duration": 4,
    "start_time": "2024-10-17T01:38:47.028Z"
   },
   {
    "duration": 3,
    "start_time": "2024-10-17T01:38:47.355Z"
   },
   {
    "duration": 3,
    "start_time": "2024-10-17T01:39:13.138Z"
   },
   {
    "duration": 3,
    "start_time": "2024-10-17T01:39:14.283Z"
   },
   {
    "duration": 4,
    "start_time": "2024-10-17T01:39:23.352Z"
   },
   {
    "duration": 3,
    "start_time": "2024-10-17T01:39:24.130Z"
   },
   {
    "duration": 3,
    "start_time": "2024-10-17T01:39:38.086Z"
   },
   {
    "duration": 3,
    "start_time": "2024-10-17T01:39:38.830Z"
   },
   {
    "duration": 5,
    "start_time": "2024-10-17T01:39:51.729Z"
   },
   {
    "duration": 4,
    "start_time": "2024-10-17T01:39:51.975Z"
   },
   {
    "duration": 4,
    "start_time": "2024-10-17T01:48:30.628Z"
   },
   {
    "duration": 241,
    "start_time": "2024-10-17T01:49:51.952Z"
   },
   {
    "duration": 1495,
    "start_time": "2024-10-17T01:51:23.051Z"
   },
   {
    "duration": 4,
    "start_time": "2024-10-17T01:51:36.634Z"
   },
   {
    "duration": 3,
    "start_time": "2024-10-17T01:51:38.073Z"
   },
   {
    "duration": 3,
    "start_time": "2024-10-17T01:52:00.992Z"
   },
   {
    "duration": 3,
    "start_time": "2024-10-17T01:52:01.348Z"
   },
   {
    "duration": 4,
    "start_time": "2024-10-17T01:52:12.189Z"
   },
   {
    "duration": 4,
    "start_time": "2024-10-17T01:52:13.471Z"
   },
   {
    "duration": 4,
    "start_time": "2024-10-17T01:52:40.507Z"
   },
   {
    "duration": 3,
    "start_time": "2024-10-17T01:52:40.869Z"
   },
   {
    "duration": 1334,
    "start_time": "2024-10-17T02:33:06.516Z"
   },
   {
    "duration": 34,
    "start_time": "2024-10-17T02:33:07.853Z"
   },
   {
    "duration": 10,
    "start_time": "2024-10-17T02:33:07.889Z"
   },
   {
    "duration": 11,
    "start_time": "2024-10-17T02:33:07.943Z"
   },
   {
    "duration": 7,
    "start_time": "2024-10-17T02:33:07.956Z"
   },
   {
    "duration": 6,
    "start_time": "2024-10-17T02:33:07.964Z"
   },
   {
    "duration": 4,
    "start_time": "2024-10-17T02:33:07.972Z"
   },
   {
    "duration": 152,
    "start_time": "2024-10-17T02:33:07.978Z"
   },
   {
    "duration": 14,
    "start_time": "2024-10-17T02:33:08.132Z"
   },
   {
    "duration": 9,
    "start_time": "2024-10-17T02:33:08.148Z"
   },
   {
    "duration": 136,
    "start_time": "2024-10-17T02:33:08.159Z"
   },
   {
    "duration": 10,
    "start_time": "2024-10-17T02:33:08.297Z"
   },
   {
    "duration": 9,
    "start_time": "2024-10-17T02:33:08.309Z"
   },
   {
    "duration": 32,
    "start_time": "2024-10-17T02:33:08.322Z"
   },
   {
    "duration": 4,
    "start_time": "2024-10-17T02:33:08.356Z"
   },
   {
    "duration": 3,
    "start_time": "2024-10-17T02:33:08.362Z"
   },
   {
    "duration": 3,
    "start_time": "2024-10-17T02:33:08.367Z"
   },
   {
    "duration": 9,
    "start_time": "2024-10-17T02:33:08.373Z"
   },
   {
    "duration": 8,
    "start_time": "2024-10-17T02:33:08.383Z"
   },
   {
    "duration": 60,
    "start_time": "2024-10-17T02:33:08.393Z"
   },
   {
    "duration": 10,
    "start_time": "2024-10-17T02:33:08.454Z"
   },
   {
    "duration": 8,
    "start_time": "2024-10-17T02:33:08.465Z"
   },
   {
    "duration": 8,
    "start_time": "2024-10-17T02:33:08.477Z"
   },
   {
    "duration": 9,
    "start_time": "2024-10-17T02:33:08.486Z"
   },
   {
    "duration": 8,
    "start_time": "2024-10-17T02:33:08.496Z"
   },
   {
    "duration": 42,
    "start_time": "2024-10-17T02:33:08.506Z"
   },
   {
    "duration": 100,
    "start_time": "2024-10-17T02:33:08.549Z"
   },
   {
    "duration": 1500,
    "start_time": "2024-10-17T02:33:08.650Z"
   },
   {
    "duration": 343,
    "start_time": "2024-10-17T02:33:10.152Z"
   },
   {
    "duration": 4,
    "start_time": "2024-10-17T02:33:10.498Z"
   },
   {
    "duration": 105,
    "start_time": "2024-10-17T02:33:10.504Z"
   },
   {
    "duration": 4,
    "start_time": "2024-10-17T02:33:10.611Z"
   },
   {
    "duration": 9,
    "start_time": "2024-10-17T02:33:10.616Z"
   },
   {
    "duration": 97,
    "start_time": "2024-10-17T02:33:10.626Z"
   },
   {
    "duration": 3,
    "start_time": "2024-10-17T02:33:10.725Z"
   },
   {
    "duration": 9,
    "start_time": "2024-10-17T02:33:10.745Z"
   },
   {
    "duration": 87,
    "start_time": "2024-10-17T02:33:10.756Z"
   },
   {
    "duration": 789,
    "start_time": "2024-10-17T02:33:10.845Z"
   },
   {
    "duration": 2042,
    "start_time": "2024-10-17T02:33:11.636Z"
   },
   {
    "duration": 5,
    "start_time": "2024-10-17T02:33:13.680Z"
   },
   {
    "duration": 3,
    "start_time": "2024-10-17T02:33:13.690Z"
   },
   {
    "duration": 4,
    "start_time": "2024-10-17T03:07:03.500Z"
   },
   {
    "duration": 3,
    "start_time": "2024-10-17T03:07:05.565Z"
   },
   {
    "duration": 3,
    "start_time": "2024-10-17T03:07:18.183Z"
   },
   {
    "duration": 3,
    "start_time": "2024-10-17T03:07:18.404Z"
   },
   {
    "duration": 995,
    "start_time": "2024-10-17T03:15:11.633Z"
   },
   {
    "duration": 25,
    "start_time": "2024-10-17T03:15:12.630Z"
   },
   {
    "duration": 10,
    "start_time": "2024-10-17T03:15:12.657Z"
   },
   {
    "duration": 9,
    "start_time": "2024-10-17T03:15:12.670Z"
   },
   {
    "duration": 6,
    "start_time": "2024-10-17T03:15:12.681Z"
   },
   {
    "duration": 5,
    "start_time": "2024-10-17T03:15:12.689Z"
   },
   {
    "duration": 5,
    "start_time": "2024-10-17T03:15:12.696Z"
   },
   {
    "duration": 145,
    "start_time": "2024-10-17T03:15:12.702Z"
   },
   {
    "duration": 10,
    "start_time": "2024-10-17T03:15:12.850Z"
   },
   {
    "duration": 9,
    "start_time": "2024-10-17T03:15:12.864Z"
   },
   {
    "duration": 162,
    "start_time": "2024-10-17T03:15:12.874Z"
   },
   {
    "duration": 11,
    "start_time": "2024-10-17T03:15:13.043Z"
   },
   {
    "duration": 11,
    "start_time": "2024-10-17T03:15:13.055Z"
   },
   {
    "duration": 14,
    "start_time": "2024-10-17T03:15:13.068Z"
   },
   {
    "duration": 4,
    "start_time": "2024-10-17T03:15:13.083Z"
   },
   {
    "duration": 3,
    "start_time": "2024-10-17T03:15:13.089Z"
   },
   {
    "duration": 3,
    "start_time": "2024-10-17T03:15:13.094Z"
   },
   {
    "duration": 45,
    "start_time": "2024-10-17T03:15:13.099Z"
   },
   {
    "duration": 8,
    "start_time": "2024-10-17T03:15:13.146Z"
   },
   {
    "duration": 17,
    "start_time": "2024-10-17T03:15:13.156Z"
   },
   {
    "duration": 8,
    "start_time": "2024-10-17T03:15:13.175Z"
   },
   {
    "duration": 8,
    "start_time": "2024-10-17T03:15:13.185Z"
   },
   {
    "duration": 8,
    "start_time": "2024-10-17T03:15:13.195Z"
   },
   {
    "duration": 46,
    "start_time": "2024-10-17T03:15:13.204Z"
   },
   {
    "duration": 9,
    "start_time": "2024-10-17T03:15:13.251Z"
   },
   {
    "duration": 9,
    "start_time": "2024-10-17T03:15:13.262Z"
   },
   {
    "duration": 111,
    "start_time": "2024-10-17T03:15:13.272Z"
   },
   {
    "duration": 1511,
    "start_time": "2024-10-17T03:15:13.387Z"
   },
   {
    "duration": 322,
    "start_time": "2024-10-17T03:15:14.900Z"
   },
   {
    "duration": 4,
    "start_time": "2024-10-17T03:15:15.224Z"
   },
   {
    "duration": 99,
    "start_time": "2024-10-17T03:15:15.229Z"
   },
   {
    "duration": 13,
    "start_time": "2024-10-17T03:15:15.330Z"
   },
   {
    "duration": 8,
    "start_time": "2024-10-17T03:15:15.345Z"
   },
   {
    "duration": 96,
    "start_time": "2024-10-17T03:15:15.355Z"
   },
   {
    "duration": 4,
    "start_time": "2024-10-17T03:15:15.453Z"
   },
   {
    "duration": 8,
    "start_time": "2024-10-17T03:15:15.460Z"
   },
   {
    "duration": 101,
    "start_time": "2024-10-17T03:15:15.469Z"
   },
   {
    "duration": 774,
    "start_time": "2024-10-17T03:15:15.571Z"
   },
   {
    "duration": 2019,
    "start_time": "2024-10-17T03:15:16.346Z"
   },
   {
    "duration": 5,
    "start_time": "2024-10-17T03:15:18.367Z"
   },
   {
    "duration": 4,
    "start_time": "2024-10-17T03:15:18.373Z"
   },
   {
    "duration": 3019379,
    "start_time": "2024-10-17T03:35:50.815Z"
   },
   {
    "duration": 3,
    "start_time": "2024-10-17T04:29:19.101Z"
   },
   {
    "duration": 4,
    "start_time": "2024-10-17T04:29:43.469Z"
   },
   {
    "duration": 4,
    "start_time": "2024-10-17T04:47:22.184Z"
   },
   {
    "duration": 4,
    "start_time": "2024-10-17T04:49:00.596Z"
   },
   {
    "duration": 4,
    "start_time": "2024-10-17T04:49:16.105Z"
   },
   {
    "duration": 3,
    "start_time": "2024-10-17T04:49:31.789Z"
   },
   {
    "duration": 3,
    "start_time": "2024-10-17T04:50:12.252Z"
   },
   {
    "duration": 4,
    "start_time": "2024-10-17T04:50:23.691Z"
   },
   {
    "duration": 3,
    "start_time": "2024-10-17T04:52:15.986Z"
   },
   {
    "duration": 4,
    "start_time": "2024-10-17T04:52:56.712Z"
   },
   {
    "duration": 4,
    "start_time": "2024-10-17T04:53:01.609Z"
   },
   {
    "duration": 3,
    "start_time": "2024-10-17T04:53:05.332Z"
   },
   {
    "duration": 4,
    "start_time": "2024-10-17T04:53:15.705Z"
   },
   {
    "duration": 4,
    "start_time": "2024-10-17T04:53:19.297Z"
   },
   {
    "duration": 3,
    "start_time": "2024-10-17T04:53:23.925Z"
   },
   {
    "duration": 4,
    "start_time": "2024-10-17T04:54:47.959Z"
   },
   {
    "duration": 6,
    "start_time": "2024-10-17T05:28:31.263Z"
   },
   {
    "duration": 6,
    "start_time": "2024-10-17T05:29:38.019Z"
   },
   {
    "duration": 4,
    "start_time": "2024-10-17T05:30:08.773Z"
   },
   {
    "duration": 4,
    "start_time": "2024-10-17T05:30:27.038Z"
   },
   {
    "duration": 2015,
    "start_time": "2024-10-17T05:33:23.104Z"
   },
   {
    "duration": 3,
    "start_time": "2024-10-17T05:33:27.639Z"
   },
   {
    "duration": 3,
    "start_time": "2024-10-17T05:33:48.005Z"
   },
   {
    "duration": 1070,
    "start_time": "2024-10-17T05:34:21.356Z"
   },
   {
    "duration": 25,
    "start_time": "2024-10-17T05:34:22.428Z"
   },
   {
    "duration": 11,
    "start_time": "2024-10-17T05:34:22.455Z"
   },
   {
    "duration": 10,
    "start_time": "2024-10-17T05:34:22.468Z"
   },
   {
    "duration": 6,
    "start_time": "2024-10-17T05:34:22.479Z"
   },
   {
    "duration": 6,
    "start_time": "2024-10-17T05:34:22.487Z"
   },
   {
    "duration": 5,
    "start_time": "2024-10-17T05:34:22.494Z"
   },
   {
    "duration": 156,
    "start_time": "2024-10-17T05:34:22.500Z"
   },
   {
    "duration": 10,
    "start_time": "2024-10-17T05:34:22.658Z"
   },
   {
    "duration": 9,
    "start_time": "2024-10-17T05:34:22.672Z"
   },
   {
    "duration": 140,
    "start_time": "2024-10-17T05:34:22.683Z"
   },
   {
    "duration": 19,
    "start_time": "2024-10-17T05:34:22.825Z"
   },
   {
    "duration": 10,
    "start_time": "2024-10-17T05:34:22.846Z"
   },
   {
    "duration": 14,
    "start_time": "2024-10-17T05:34:22.858Z"
   },
   {
    "duration": 5,
    "start_time": "2024-10-17T05:34:22.873Z"
   },
   {
    "duration": 3,
    "start_time": "2024-10-17T05:34:22.879Z"
   },
   {
    "duration": 3,
    "start_time": "2024-10-17T05:34:22.884Z"
   },
   {
    "duration": 8,
    "start_time": "2024-10-17T05:34:22.890Z"
   },
   {
    "duration": 45,
    "start_time": "2024-10-17T05:34:22.900Z"
   },
   {
    "duration": 20,
    "start_time": "2024-10-17T05:34:22.946Z"
   },
   {
    "duration": 12,
    "start_time": "2024-10-17T05:34:22.967Z"
   },
   {
    "duration": 8,
    "start_time": "2024-10-17T05:34:22.981Z"
   },
   {
    "duration": 9,
    "start_time": "2024-10-17T05:34:22.991Z"
   },
   {
    "duration": 41,
    "start_time": "2024-10-17T05:34:23.002Z"
   },
   {
    "duration": 9,
    "start_time": "2024-10-17T05:34:23.044Z"
   },
   {
    "duration": 9,
    "start_time": "2024-10-17T05:34:23.055Z"
   },
   {
    "duration": 108,
    "start_time": "2024-10-17T05:34:23.065Z"
   },
   {
    "duration": 1498,
    "start_time": "2024-10-17T05:34:23.177Z"
   },
   {
    "duration": 303,
    "start_time": "2024-10-17T05:34:24.677Z"
   },
   {
    "duration": 4,
    "start_time": "2024-10-17T05:34:24.982Z"
   },
   {
    "duration": 99,
    "start_time": "2024-10-17T05:34:24.988Z"
   },
   {
    "duration": 4,
    "start_time": "2024-10-17T05:34:25.089Z"
   },
   {
    "duration": 8,
    "start_time": "2024-10-17T05:34:25.095Z"
   },
   {
    "duration": 107,
    "start_time": "2024-10-17T05:34:25.107Z"
   },
   {
    "duration": 3,
    "start_time": "2024-10-17T05:34:25.216Z"
   },
   {
    "duration": 24,
    "start_time": "2024-10-17T05:34:25.221Z"
   },
   {
    "duration": 80,
    "start_time": "2024-10-17T05:34:25.247Z"
   },
   {
    "duration": 767,
    "start_time": "2024-10-17T05:34:25.329Z"
   },
   {
    "duration": 2002,
    "start_time": "2024-10-17T05:34:26.097Z"
   },
   {
    "duration": 4,
    "start_time": "2024-10-17T05:34:28.101Z"
   },
   {
    "duration": 3,
    "start_time": "2024-10-17T05:34:28.107Z"
   },
   {
    "duration": 4,
    "start_time": "2024-10-17T05:34:28.112Z"
   },
   {
    "duration": 2127,
    "start_time": "2024-10-17T05:34:28.117Z"
   },
   {
    "duration": 6,
    "start_time": "2024-10-17T05:34:30.246Z"
   },
   {
    "duration": 2,
    "start_time": "2024-10-17T05:36:43.349Z"
   },
   {
    "duration": 6400,
    "start_time": "2024-10-17T05:36:59.706Z"
   },
   {
    "duration": 3,
    "start_time": "2024-10-17T05:37:08.838Z"
   },
   {
    "duration": 3009,
    "start_time": "2024-10-17T05:42:19.549Z"
   },
   {
    "duration": 2,
    "start_time": "2024-10-17T05:42:24.500Z"
   },
   {
    "duration": 5252,
    "start_time": "2024-10-17T05:42:57.526Z"
   },
   {
    "duration": 3,
    "start_time": "2024-10-17T05:43:04.382Z"
   },
   {
    "duration": 5156,
    "start_time": "2024-10-17T05:44:13.812Z"
   },
   {
    "duration": 3,
    "start_time": "2024-10-17T05:44:20.121Z"
   },
   {
    "duration": 5660,
    "start_time": "2024-10-17T05:44:24.007Z"
   },
   {
    "duration": 2,
    "start_time": "2024-10-17T05:44:33.674Z"
   },
   {
    "duration": 5382,
    "start_time": "2024-10-17T05:44:44.333Z"
   },
   {
    "duration": 3,
    "start_time": "2024-10-17T05:44:50.788Z"
   },
   {
    "duration": 5677,
    "start_time": "2024-10-17T05:44:55.409Z"
   },
   {
    "duration": 2,
    "start_time": "2024-10-17T05:45:01.771Z"
   },
   {
    "duration": 5935,
    "start_time": "2024-10-17T05:45:12.050Z"
   },
   {
    "duration": 3,
    "start_time": "2024-10-17T05:45:19.252Z"
   },
   {
    "duration": 7220,
    "start_time": "2024-10-17T05:45:41.292Z"
   },
   {
    "duration": 3,
    "start_time": "2024-10-17T05:45:49.904Z"
   },
   {
    "duration": 5799,
    "start_time": "2024-10-17T05:45:57.969Z"
   },
   {
    "duration": 4,
    "start_time": "2024-10-17T05:46:05.189Z"
   },
   {
    "duration": 6985,
    "start_time": "2024-10-17T05:46:15.011Z"
   },
   {
    "duration": 4,
    "start_time": "2024-10-17T05:46:23.374Z"
   },
   {
    "duration": 5021,
    "start_time": "2024-10-17T05:46:29.441Z"
   },
   {
    "duration": 3,
    "start_time": "2024-10-17T05:46:35.800Z"
   },
   {
    "duration": 3325,
    "start_time": "2024-10-17T05:46:46.940Z"
   },
   {
    "duration": 3,
    "start_time": "2024-10-17T05:46:51.312Z"
   },
   {
    "duration": 5052,
    "start_time": "2024-10-17T05:46:55.773Z"
   },
   {
    "duration": 3,
    "start_time": "2024-10-17T05:47:06.502Z"
   },
   {
    "duration": 5757,
    "start_time": "2024-10-17T05:47:13.497Z"
   },
   {
    "duration": 4,
    "start_time": "2024-10-17T05:47:20.421Z"
   },
   {
    "duration": 5059,
    "start_time": "2024-10-17T05:47:27.331Z"
   },
   {
    "duration": 4,
    "start_time": "2024-10-17T05:47:33.044Z"
   },
   {
    "duration": 5020,
    "start_time": "2024-10-17T05:47:41.528Z"
   },
   {
    "duration": 4,
    "start_time": "2024-10-17T05:47:47.234Z"
   },
   {
    "duration": 4257,
    "start_time": "2024-10-17T05:47:52.128Z"
   },
   {
    "duration": 3,
    "start_time": "2024-10-17T05:47:57.496Z"
   },
   {
    "duration": 5031,
    "start_time": "2024-10-17T05:48:01.380Z"
   },
   {
    "duration": 6,
    "start_time": "2024-10-17T05:48:08.233Z"
   },
   {
    "duration": 5010,
    "start_time": "2024-10-17T05:48:42.783Z"
   },
   {
    "duration": 3,
    "start_time": "2024-10-17T05:48:48.708Z"
   },
   {
    "duration": 4988,
    "start_time": "2024-10-17T05:48:55.286Z"
   },
   {
    "duration": 3,
    "start_time": "2024-10-17T05:49:01.548Z"
   },
   {
    "duration": 4571,
    "start_time": "2024-10-17T05:49:09.028Z"
   },
   {
    "duration": 2,
    "start_time": "2024-10-17T05:49:14.210Z"
   },
   {
    "duration": 3361,
    "start_time": "2024-10-17T05:49:30.713Z"
   },
   {
    "duration": 3,
    "start_time": "2024-10-17T05:49:35.030Z"
   },
   {
    "duration": 5047,
    "start_time": "2024-10-17T05:49:38.168Z"
   },
   {
    "duration": 3,
    "start_time": "2024-10-17T05:49:44.510Z"
   },
   {
    "duration": 5032,
    "start_time": "2024-10-17T05:49:50.946Z"
   },
   {
    "duration": 3,
    "start_time": "2024-10-17T05:49:56.758Z"
   },
   {
    "duration": 4983,
    "start_time": "2024-10-17T05:50:01.372Z"
   },
   {
    "duration": 3,
    "start_time": "2024-10-17T05:50:07.416Z"
   },
   {
    "duration": 9186,
    "start_time": "2024-10-17T05:50:26.286Z"
   },
   {
    "duration": 3,
    "start_time": "2024-10-17T05:50:36.329Z"
   },
   {
    "duration": 13881,
    "start_time": "2024-10-17T05:50:46.163Z"
   },
   {
    "duration": 3,
    "start_time": "2024-10-17T05:51:03.452Z"
   },
   {
    "duration": 9157,
    "start_time": "2024-10-17T05:51:13.524Z"
   },
   {
    "duration": 3,
    "start_time": "2024-10-17T05:51:23.844Z"
   },
   {
    "duration": 11480,
    "start_time": "2024-10-17T05:51:30.424Z"
   },
   {
    "duration": 3,
    "start_time": "2024-10-17T05:51:42.896Z"
   },
   {
    "duration": 11389,
    "start_time": "2024-10-17T05:51:52.038Z"
   },
   {
    "duration": 3,
    "start_time": "2024-10-17T05:52:04.296Z"
   },
   {
    "duration": 11484,
    "start_time": "2024-10-17T05:52:08.344Z"
   },
   {
    "duration": 3,
    "start_time": "2024-10-17T05:52:21.125Z"
   },
   {
    "duration": 9335,
    "start_time": "2024-10-17T05:52:53.816Z"
   },
   {
    "duration": 3,
    "start_time": "2024-10-17T05:53:04.422Z"
   },
   {
    "duration": 12576,
    "start_time": "2024-10-17T05:53:08.384Z"
   },
   {
    "duration": 3,
    "start_time": "2024-10-17T05:53:22.126Z"
   },
   {
    "duration": 11500,
    "start_time": "2024-10-17T05:53:30.378Z"
   },
   {
    "duration": 3,
    "start_time": "2024-10-17T05:53:42.862Z"
   },
   {
    "duration": 9859,
    "start_time": "2024-10-17T05:53:50.065Z"
   },
   {
    "duration": 4,
    "start_time": "2024-10-17T05:54:00.825Z"
   },
   {
    "duration": 9350,
    "start_time": "2024-10-17T05:54:08.410Z"
   },
   {
    "duration": 3,
    "start_time": "2024-10-17T05:54:20.872Z"
   },
   {
    "duration": 9883,
    "start_time": "2024-10-17T05:54:24.446Z"
   },
   {
    "duration": 3,
    "start_time": "2024-10-17T05:54:35.635Z"
   },
   {
    "duration": 37236,
    "start_time": "2024-10-17T05:59:14.810Z"
   },
   {
    "duration": 3,
    "start_time": "2024-10-17T05:59:58.951Z"
   },
   {
    "duration": 1083,
    "start_time": "2024-10-17T06:02:37.654Z"
   },
   {
    "duration": 26,
    "start_time": "2024-10-17T06:02:38.742Z"
   },
   {
    "duration": 10,
    "start_time": "2024-10-17T06:02:38.770Z"
   },
   {
    "duration": 10,
    "start_time": "2024-10-17T06:02:38.782Z"
   },
   {
    "duration": 7,
    "start_time": "2024-10-17T06:02:38.793Z"
   },
   {
    "duration": 5,
    "start_time": "2024-10-17T06:02:38.803Z"
   },
   {
    "duration": 34,
    "start_time": "2024-10-17T06:02:38.810Z"
   },
   {
    "duration": 140,
    "start_time": "2024-10-17T06:02:38.845Z"
   },
   {
    "duration": 12,
    "start_time": "2024-10-17T06:02:38.987Z"
   },
   {
    "duration": 10,
    "start_time": "2024-10-17T06:02:39.004Z"
   },
   {
    "duration": 142,
    "start_time": "2024-10-17T06:02:39.016Z"
   },
   {
    "duration": 10,
    "start_time": "2024-10-17T06:02:39.160Z"
   },
   {
    "duration": 10,
    "start_time": "2024-10-17T06:02:39.173Z"
   },
   {
    "duration": 15,
    "start_time": "2024-10-17T06:02:39.185Z"
   },
   {
    "duration": 5,
    "start_time": "2024-10-17T06:02:39.202Z"
   },
   {
    "duration": 35,
    "start_time": "2024-10-17T06:02:39.209Z"
   },
   {
    "duration": 4,
    "start_time": "2024-10-17T06:02:39.246Z"
   },
   {
    "duration": 11,
    "start_time": "2024-10-17T06:02:39.252Z"
   },
   {
    "duration": 9,
    "start_time": "2024-10-17T06:02:39.264Z"
   },
   {
    "duration": 17,
    "start_time": "2024-10-17T06:02:39.275Z"
   },
   {
    "duration": 8,
    "start_time": "2024-10-17T06:02:39.294Z"
   },
   {
    "duration": 46,
    "start_time": "2024-10-17T06:02:39.304Z"
   },
   {
    "duration": 10,
    "start_time": "2024-10-17T06:02:39.352Z"
   },
   {
    "duration": 9,
    "start_time": "2024-10-17T06:02:39.363Z"
   },
   {
    "duration": 8,
    "start_time": "2024-10-17T06:02:39.374Z"
   },
   {
    "duration": 8,
    "start_time": "2024-10-17T06:02:39.384Z"
   },
   {
    "duration": 130,
    "start_time": "2024-10-17T06:02:39.394Z"
   },
   {
    "duration": 1500,
    "start_time": "2024-10-17T06:02:39.529Z"
   },
   {
    "duration": 303,
    "start_time": "2024-10-17T06:02:41.031Z"
   },
   {
    "duration": 5,
    "start_time": "2024-10-17T06:02:41.343Z"
   },
   {
    "duration": 101,
    "start_time": "2024-10-17T06:02:41.350Z"
   },
   {
    "duration": 3,
    "start_time": "2024-10-17T06:02:41.454Z"
   },
   {
    "duration": 8,
    "start_time": "2024-10-17T06:02:41.459Z"
   },
   {
    "duration": 101,
    "start_time": "2024-10-17T06:02:41.469Z"
   },
   {
    "duration": 4,
    "start_time": "2024-10-17T06:02:41.572Z"
   },
   {
    "duration": 9,
    "start_time": "2024-10-17T06:02:41.577Z"
   },
   {
    "duration": 94,
    "start_time": "2024-10-17T06:02:41.589Z"
   },
   {
    "duration": 769,
    "start_time": "2024-10-17T06:02:41.685Z"
   },
   {
    "duration": 2005,
    "start_time": "2024-10-17T06:02:42.456Z"
   },
   {
    "duration": 4,
    "start_time": "2024-10-17T06:02:44.463Z"
   },
   {
    "duration": 3,
    "start_time": "2024-10-17T06:02:44.469Z"
   },
   {
    "duration": 327,
    "start_time": "2024-10-17T06:02:44.474Z"
   },
   {
    "duration": 0,
    "start_time": "2024-10-17T06:02:44.803Z"
   },
   {
    "duration": 0,
    "start_time": "2024-10-17T06:02:44.804Z"
   },
   {
    "duration": 0,
    "start_time": "2024-10-17T06:02:44.805Z"
   },
   {
    "duration": 0,
    "start_time": "2024-10-17T06:02:44.807Z"
   },
   {
    "duration": 0,
    "start_time": "2024-10-17T06:02:44.809Z"
   },
   {
    "duration": 1006,
    "start_time": "2024-10-17T06:03:27.029Z"
   },
   {
    "duration": 29,
    "start_time": "2024-10-17T06:03:28.037Z"
   },
   {
    "duration": 10,
    "start_time": "2024-10-17T06:03:28.068Z"
   },
   {
    "duration": 9,
    "start_time": "2024-10-17T06:03:28.081Z"
   },
   {
    "duration": 6,
    "start_time": "2024-10-17T06:03:28.092Z"
   },
   {
    "duration": 6,
    "start_time": "2024-10-17T06:03:28.100Z"
   },
   {
    "duration": 37,
    "start_time": "2024-10-17T06:03:28.107Z"
   },
   {
    "duration": 126,
    "start_time": "2024-10-17T06:03:28.146Z"
   },
   {
    "duration": 13,
    "start_time": "2024-10-17T06:03:28.274Z"
   },
   {
    "duration": 9,
    "start_time": "2024-10-17T06:03:28.290Z"
   },
   {
    "duration": 142,
    "start_time": "2024-10-17T06:03:28.301Z"
   },
   {
    "duration": 10,
    "start_time": "2024-10-17T06:03:28.445Z"
   },
   {
    "duration": 9,
    "start_time": "2024-10-17T06:03:28.457Z"
   },
   {
    "duration": 14,
    "start_time": "2024-10-17T06:03:28.468Z"
   },
   {
    "duration": 4,
    "start_time": "2024-10-17T06:03:28.483Z"
   },
   {
    "duration": 4,
    "start_time": "2024-10-17T06:03:28.489Z"
   },
   {
    "duration": 3,
    "start_time": "2024-10-17T06:03:28.495Z"
   },
   {
    "duration": 50,
    "start_time": "2024-10-17T06:03:28.500Z"
   },
   {
    "duration": 9,
    "start_time": "2024-10-17T06:03:28.551Z"
   },
   {
    "duration": 20,
    "start_time": "2024-10-17T06:03:28.562Z"
   },
   {
    "duration": 9,
    "start_time": "2024-10-17T06:03:28.583Z"
   },
   {
    "duration": 9,
    "start_time": "2024-10-17T06:03:28.594Z"
   },
   {
    "duration": 39,
    "start_time": "2024-10-17T06:03:28.604Z"
   },
   {
    "duration": 8,
    "start_time": "2024-10-17T06:03:28.645Z"
   },
   {
    "duration": 9,
    "start_time": "2024-10-17T06:03:28.655Z"
   },
   {
    "duration": 8,
    "start_time": "2024-10-17T06:03:28.667Z"
   },
   {
    "duration": 112,
    "start_time": "2024-10-17T06:03:28.677Z"
   },
   {
    "duration": 1844,
    "start_time": "2024-10-17T06:03:28.793Z"
   },
   {
    "duration": 323,
    "start_time": "2024-10-17T06:03:30.639Z"
   },
   {
    "duration": 4,
    "start_time": "2024-10-17T06:03:30.964Z"
   },
   {
    "duration": 101,
    "start_time": "2024-10-17T06:03:30.970Z"
   },
   {
    "duration": 4,
    "start_time": "2024-10-17T06:03:31.073Z"
   },
   {
    "duration": 8,
    "start_time": "2024-10-17T06:03:31.080Z"
   },
   {
    "duration": 101,
    "start_time": "2024-10-17T06:03:31.090Z"
   },
   {
    "duration": 5,
    "start_time": "2024-10-17T06:03:31.193Z"
   },
   {
    "duration": 9,
    "start_time": "2024-10-17T06:03:31.200Z"
   },
   {
    "duration": 102,
    "start_time": "2024-10-17T06:03:31.210Z"
   },
   {
    "duration": 770,
    "start_time": "2024-10-17T06:03:31.314Z"
   },
   {
    "duration": 2004,
    "start_time": "2024-10-17T06:03:32.086Z"
   },
   {
    "duration": 5,
    "start_time": "2024-10-17T06:03:34.091Z"
   },
   {
    "duration": 17,
    "start_time": "2024-10-17T06:03:34.097Z"
   },
   {
    "duration": 439138,
    "start_time": "2024-10-17T06:03:34.116Z"
   },
   {
    "duration": 0,
    "start_time": "2024-10-17T06:10:53.256Z"
   },
   {
    "duration": 0,
    "start_time": "2024-10-17T06:10:53.257Z"
   },
   {
    "duration": 0,
    "start_time": "2024-10-17T06:10:53.259Z"
   },
   {
    "duration": 0,
    "start_time": "2024-10-17T06:10:53.260Z"
   },
   {
    "duration": 0,
    "start_time": "2024-10-17T06:10:53.261Z"
   },
   {
    "duration": 1028557,
    "start_time": "2024-10-17T06:15:11.872Z"
   },
   {
    "duration": 5,
    "start_time": "2024-10-17T06:35:44.164Z"
   },
   {
    "duration": 9826,
    "start_time": "2024-10-17T06:35:56.550Z"
   },
   {
    "duration": 4,
    "start_time": "2024-10-17T06:36:06.378Z"
   },
   {
    "duration": 37707,
    "start_time": "2024-10-17T06:36:10.065Z"
   },
   {
    "duration": 3,
    "start_time": "2024-10-17T06:36:47.774Z"
   },
   {
    "duration": 6387,
    "start_time": "2024-10-17T06:36:57.258Z"
   },
   {
    "duration": 4,
    "start_time": "2024-10-17T06:37:11.129Z"
   },
   {
    "duration": 19805,
    "start_time": "2024-10-17T06:38:28.740Z"
   },
   {
    "duration": 3,
    "start_time": "2024-10-17T06:38:48.547Z"
   },
   {
    "duration": 4741,
    "start_time": "2024-10-17T06:40:27.063Z"
   },
   {
    "duration": 4,
    "start_time": "2024-10-17T06:40:31.806Z"
   },
   {
    "duration": 16644,
    "start_time": "2024-10-17T06:41:24.491Z"
   },
   {
    "duration": 8,
    "start_time": "2024-10-17T06:41:41.137Z"
   },
   {
    "duration": 1047,
    "start_time": "2024-10-17T07:11:20.965Z"
   },
   {
    "duration": 30,
    "start_time": "2024-10-17T07:11:22.015Z"
   },
   {
    "duration": 12,
    "start_time": "2024-10-17T07:11:22.046Z"
   },
   {
    "duration": 9,
    "start_time": "2024-10-17T07:11:22.060Z"
   },
   {
    "duration": 6,
    "start_time": "2024-10-17T07:11:22.072Z"
   },
   {
    "duration": 6,
    "start_time": "2024-10-17T07:11:22.079Z"
   },
   {
    "duration": 5,
    "start_time": "2024-10-17T07:11:22.086Z"
   },
   {
    "duration": 152,
    "start_time": "2024-10-17T07:11:22.092Z"
   },
   {
    "duration": 11,
    "start_time": "2024-10-17T07:11:22.245Z"
   },
   {
    "duration": 10,
    "start_time": "2024-10-17T07:11:22.257Z"
   },
   {
    "duration": 141,
    "start_time": "2024-10-17T07:11:22.268Z"
   },
   {
    "duration": 11,
    "start_time": "2024-10-17T07:11:22.411Z"
   },
   {
    "duration": 21,
    "start_time": "2024-10-17T07:11:22.424Z"
   },
   {
    "duration": 14,
    "start_time": "2024-10-17T07:11:22.450Z"
   },
   {
    "duration": 5,
    "start_time": "2024-10-17T07:11:22.465Z"
   },
   {
    "duration": 4,
    "start_time": "2024-10-17T07:11:22.472Z"
   },
   {
    "duration": 4,
    "start_time": "2024-10-17T07:11:22.477Z"
   },
   {
    "duration": 9,
    "start_time": "2024-10-17T07:11:22.483Z"
   },
   {
    "duration": 8,
    "start_time": "2024-10-17T07:11:22.494Z"
   },
   {
    "duration": 19,
    "start_time": "2024-10-17T07:11:22.543Z"
   },
   {
    "duration": 8,
    "start_time": "2024-10-17T07:11:22.564Z"
   },
   {
    "duration": 9,
    "start_time": "2024-10-17T07:11:22.574Z"
   },
   {
    "duration": 8,
    "start_time": "2024-10-17T07:11:22.585Z"
   },
   {
    "duration": 9,
    "start_time": "2024-10-17T07:11:22.594Z"
   },
   {
    "duration": 39,
    "start_time": "2024-10-17T07:11:22.604Z"
   },
   {
    "duration": 9,
    "start_time": "2024-10-17T07:11:22.645Z"
   },
   {
    "duration": 104,
    "start_time": "2024-10-17T07:11:22.656Z"
   },
   {
    "duration": 1489,
    "start_time": "2024-10-17T07:11:22.762Z"
   },
   {
    "duration": 275,
    "start_time": "2024-10-17T07:11:24.253Z"
   },
   {
    "duration": 3,
    "start_time": "2024-10-17T07:11:24.543Z"
   },
   {
    "duration": 101,
    "start_time": "2024-10-17T07:11:24.548Z"
   },
   {
    "duration": 4,
    "start_time": "2024-10-17T07:11:24.651Z"
   },
   {
    "duration": 8,
    "start_time": "2024-10-17T07:11:24.657Z"
   },
   {
    "duration": 100,
    "start_time": "2024-10-17T07:11:24.667Z"
   },
   {
    "duration": 4,
    "start_time": "2024-10-17T07:11:24.768Z"
   },
   {
    "duration": 8,
    "start_time": "2024-10-17T07:11:24.774Z"
   },
   {
    "duration": 99,
    "start_time": "2024-10-17T07:11:24.784Z"
   },
   {
    "duration": 744,
    "start_time": "2024-10-17T07:11:24.885Z"
   },
   {
    "duration": 2126,
    "start_time": "2024-10-17T07:11:25.631Z"
   },
   {
    "duration": 4,
    "start_time": "2024-10-17T07:11:27.759Z"
   },
   {
    "duration": 4,
    "start_time": "2024-10-17T07:11:27.767Z"
   },
   {
    "duration": 68519,
    "start_time": "2024-10-17T07:11:27.773Z"
   },
   {
    "duration": 0,
    "start_time": "2024-10-17T07:12:36.295Z"
   },
   {
    "duration": 0,
    "start_time": "2024-10-17T07:12:36.296Z"
   },
   {
    "duration": 0,
    "start_time": "2024-10-17T07:12:36.298Z"
   },
   {
    "duration": 0,
    "start_time": "2024-10-17T07:12:36.299Z"
   },
   {
    "duration": 0,
    "start_time": "2024-10-17T07:12:36.300Z"
   },
   {
    "duration": 0,
    "start_time": "2024-10-17T07:12:36.301Z"
   },
   {
    "duration": 0,
    "start_time": "2024-10-17T07:12:36.302Z"
   },
   {
    "duration": 0,
    "start_time": "2024-10-17T07:12:36.303Z"
   },
   {
    "duration": 0,
    "start_time": "2024-10-17T07:12:36.304Z"
   },
   {
    "duration": 0,
    "start_time": "2024-10-17T07:12:36.305Z"
   },
   {
    "duration": 186583,
    "start_time": "2024-10-17T07:13:20.937Z"
   },
   {
    "duration": 5881,
    "start_time": "2024-10-17T07:17:48.232Z"
   },
   {
    "duration": 3,
    "start_time": "2024-10-17T07:17:54.115Z"
   },
   {
    "duration": 877085,
    "start_time": "2024-10-17T07:21:16.082Z"
   },
   {
    "duration": 3,
    "start_time": "2024-10-17T07:42:09.690Z"
   },
   {
    "duration": 5890,
    "start_time": "2024-10-17T07:44:45.277Z"
   },
   {
    "duration": 3,
    "start_time": "2024-10-17T07:44:53.076Z"
   },
   {
    "duration": 33142,
    "start_time": "2024-10-17T07:45:53.823Z"
   },
   {
    "duration": 3,
    "start_time": "2024-10-17T07:46:26.967Z"
   },
   {
    "duration": 19965,
    "start_time": "2024-10-17T07:48:13.066Z"
   },
   {
    "duration": 3,
    "start_time": "2024-10-17T07:48:35.116Z"
   },
   {
    "duration": 5,
    "start_time": "2024-10-17T07:53:20.913Z"
   },
   {
    "duration": 37904,
    "start_time": "2024-10-17T07:54:27.052Z"
   },
   {
    "duration": 5860,
    "start_time": "2024-10-17T07:59:29.686Z"
   },
   {
    "duration": 3,
    "start_time": "2024-10-17T07:59:41.533Z"
   },
   {
    "duration": 179309,
    "start_time": "2024-10-17T08:02:40.538Z"
   },
   {
    "duration": 5902,
    "start_time": "2024-10-17T08:06:02.897Z"
   },
   {
    "duration": 3,
    "start_time": "2024-10-17T08:06:08.801Z"
   },
   {
    "duration": 787849,
    "start_time": "2024-10-17T08:06:33.212Z"
   },
   {
    "duration": 0,
    "start_time": "2024-10-17T08:19:41.070Z"
   },
   {
    "duration": 19648,
    "start_time": "2024-10-17T08:21:12.282Z"
   },
   {
    "duration": 3,
    "start_time": "2024-10-17T08:21:31.933Z"
   },
   {
    "duration": 19658,
    "start_time": "2024-10-17T08:22:01.410Z"
   },
   {
    "duration": 3,
    "start_time": "2024-10-17T08:22:21.070Z"
   },
   {
    "duration": 35583,
    "start_time": "2024-10-17T08:22:58.351Z"
   },
   {
    "duration": 3,
    "start_time": "2024-10-17T08:23:57.725Z"
   },
   {
    "duration": 3,
    "start_time": "2024-10-17T08:24:33.164Z"
   },
   {
    "duration": 5811,
    "start_time": "2024-10-17T08:24:52.033Z"
   },
   {
    "duration": 4,
    "start_time": "2024-10-17T08:24:57.846Z"
   },
   {
    "duration": 5,
    "start_time": "2024-10-17T08:26:37.071Z"
   },
   {
    "duration": 5,
    "start_time": "2024-10-17T08:26:52.343Z"
   },
   {
    "duration": 4,
    "start_time": "2024-10-17T08:27:04.090Z"
   },
   {
    "duration": 5,
    "start_time": "2024-10-17T08:27:30.386Z"
   },
   {
    "duration": 5,
    "start_time": "2024-10-17T08:30:21.534Z"
   },
   {
    "duration": 782,
    "start_time": "2024-10-17T08:31:28.763Z"
   },
   {
    "duration": 3,
    "start_time": "2024-10-17T08:31:31.968Z"
   },
   {
    "duration": 72345,
    "start_time": "2024-10-17T08:32:19.153Z"
   },
   {
    "duration": 100985,
    "start_time": "2024-10-17T08:34:36.182Z"
   },
   {
    "duration": 2355,
    "start_time": "2024-10-17T08:36:58.295Z"
   },
   {
    "duration": 3,
    "start_time": "2024-10-17T08:37:04.737Z"
   },
   {
    "duration": 31521,
    "start_time": "2024-10-17T08:39:03.944Z"
   },
   {
    "duration": 687,
    "start_time": "2024-10-17T08:40:23.753Z"
   },
   {
    "duration": 3,
    "start_time": "2024-10-17T08:40:25.381Z"
   },
   {
    "duration": 19877,
    "start_time": "2024-10-17T08:41:06.801Z"
   },
   {
    "duration": 713,
    "start_time": "2024-10-17T08:42:00.040Z"
   },
   {
    "duration": 3,
    "start_time": "2024-10-17T08:42:01.680Z"
   },
   {
    "duration": 96937,
    "start_time": "2024-10-17T08:42:36.648Z"
   },
   {
    "duration": 2255,
    "start_time": "2024-10-17T08:44:45.325Z"
   },
   {
    "duration": 3,
    "start_time": "2024-10-17T08:44:49.423Z"
   },
   {
    "duration": 2298,
    "start_time": "2024-10-17T08:44:59.795Z"
   },
   {
    "duration": 3,
    "start_time": "2024-10-17T08:45:03.500Z"
   },
   {
    "duration": 57138,
    "start_time": "2024-10-17T08:47:19.092Z"
   },
   {
    "duration": 2223,
    "start_time": "2024-10-17T08:48:38.848Z"
   },
   {
    "duration": 87841,
    "start_time": "2024-10-17T08:49:07.864Z"
   },
   {
    "duration": 1543,
    "start_time": "2024-10-17T08:51:43.054Z"
   },
   {
    "duration": 3,
    "start_time": "2024-10-17T08:51:45.546Z"
   },
   {
    "duration": 63112,
    "start_time": "2024-10-17T08:53:30.347Z"
   },
   {
    "duration": 2262,
    "start_time": "2024-10-17T08:54:53.676Z"
   },
   {
    "duration": 3,
    "start_time": "2024-10-17T08:54:55.940Z"
   },
   {
    "duration": 20970,
    "start_time": "2024-10-17T08:55:35.476Z"
   },
   {
    "duration": 701,
    "start_time": "2024-10-17T08:56:26.617Z"
   },
   {
    "duration": 3,
    "start_time": "2024-10-17T08:56:29.240Z"
   },
   {
    "duration": 63077,
    "start_time": "2024-10-17T08:56:58.760Z"
   },
   {
    "duration": 2336,
    "start_time": "2024-10-17T08:58:12.077Z"
   },
   {
    "duration": 2,
    "start_time": "2024-10-17T08:58:14.415Z"
   },
   {
    "duration": 29471,
    "start_time": "2024-10-17T08:59:34.125Z"
   },
   {
    "duration": 696,
    "start_time": "2024-10-17T09:00:17.669Z"
   },
   {
    "duration": 3,
    "start_time": "2024-10-17T09:00:18.367Z"
   },
   {
    "duration": 52947,
    "start_time": "2024-10-17T09:03:33.418Z"
   },
   {
    "duration": 2285,
    "start_time": "2024-10-17T09:05:47.626Z"
   },
   {
    "duration": 3,
    "start_time": "2024-10-17T09:05:49.913Z"
   },
   {
    "duration": 45001,
    "start_time": "2024-10-17T09:07:28.533Z"
   },
   {
    "duration": 362,
    "start_time": "2024-10-17T09:08:52.743Z"
   },
   {
    "duration": 3,
    "start_time": "2024-10-17T09:08:54.504Z"
   },
   {
    "duration": 42883,
    "start_time": "2024-10-17T09:10:09.216Z"
   },
   {
    "duration": 243,
    "start_time": "2024-10-17T09:11:23.588Z"
   },
   {
    "duration": 3,
    "start_time": "2024-10-17T09:11:26.294Z"
   },
   {
    "duration": 42947,
    "start_time": "2024-10-17T09:11:45.024Z"
   },
   {
    "duration": 241,
    "start_time": "2024-10-17T09:12:37.984Z"
   },
   {
    "duration": 3,
    "start_time": "2024-10-17T09:12:40.206Z"
   },
   {
    "duration": 153513,
    "start_time": "2024-10-17T09:12:49.837Z"
   },
   {
    "duration": 6124,
    "start_time": "2024-10-17T09:16:03.090Z"
   },
   {
    "duration": 3,
    "start_time": "2024-10-17T09:16:09.216Z"
   },
   {
    "duration": 6225,
    "start_time": "2024-10-17T09:16:20.993Z"
   },
   {
    "duration": 3,
    "start_time": "2024-10-17T09:16:27.220Z"
   },
   {
    "duration": 82038,
    "start_time": "2024-10-17T09:16:54.407Z"
   },
   {
    "duration": 6102,
    "start_time": "2024-10-17T09:18:32.316Z"
   },
   {
    "duration": 3,
    "start_time": "2024-10-17T09:18:38.420Z"
   },
   {
    "duration": 694,
    "start_time": "2024-10-17T09:19:57.864Z"
   },
   {
    "duration": 4,
    "start_time": "2024-10-17T09:20:00.256Z"
   },
   {
    "duration": 293274,
    "start_time": "2024-10-17T09:20:29.476Z"
   },
   {
    "duration": 76090,
    "start_time": "2024-10-17T09:27:54.117Z"
   },
   {
    "duration": 968,
    "start_time": "2024-10-17T09:29:51.124Z"
   },
   {
    "duration": 3,
    "start_time": "2024-10-17T09:29:54.040Z"
   },
   {
    "duration": 81464,
    "start_time": "2024-10-17T09:31:35.121Z"
   },
   {
    "duration": 516,
    "start_time": "2024-10-17T09:34:19.558Z"
   },
   {
    "duration": 3,
    "start_time": "2024-10-17T09:34:22.122Z"
   },
   {
    "duration": 42985,
    "start_time": "2024-10-17T09:34:32.917Z"
   },
   {
    "duration": 477,
    "start_time": "2024-10-17T09:35:49.426Z"
   },
   {
    "duration": 3,
    "start_time": "2024-10-17T09:35:51.654Z"
   },
   {
    "duration": 474,
    "start_time": "2024-10-17T09:36:21.861Z"
   },
   {
    "duration": 5,
    "start_time": "2024-10-17T09:36:25.392Z"
   },
   {
    "duration": 46470,
    "start_time": "2024-10-17T09:38:01.945Z"
   },
   {
    "duration": 492,
    "start_time": "2024-10-17T09:39:08.322Z"
   },
   {
    "duration": 4,
    "start_time": "2024-10-17T09:39:10.556Z"
   },
   {
    "duration": 46405,
    "start_time": "2024-10-17T09:39:24.268Z"
   },
   {
    "duration": 490,
    "start_time": "2024-10-17T09:40:23.775Z"
   },
   {
    "duration": 4,
    "start_time": "2024-10-17T09:40:25.582Z"
   },
   {
    "duration": 36182,
    "start_time": "2024-10-17T09:40:51.158Z"
   },
   {
    "duration": 164877,
    "start_time": "2024-10-17T09:41:35.862Z"
   },
   {
    "duration": 5983,
    "start_time": "2024-10-17T09:44:44.448Z"
   },
   {
    "duration": 12,
    "start_time": "2024-10-17T09:44:50.433Z"
   },
   {
    "duration": 1002,
    "start_time": "2024-10-17T09:51:29.236Z"
   },
   {
    "duration": 26,
    "start_time": "2024-10-17T09:51:30.242Z"
   },
   {
    "duration": 15,
    "start_time": "2024-10-17T09:51:30.270Z"
   },
   {
    "duration": 10,
    "start_time": "2024-10-17T09:51:30.287Z"
   },
   {
    "duration": 7,
    "start_time": "2024-10-17T09:51:30.298Z"
   },
   {
    "duration": 7,
    "start_time": "2024-10-17T09:51:30.307Z"
   },
   {
    "duration": 32,
    "start_time": "2024-10-17T09:51:30.315Z"
   },
   {
    "duration": 125,
    "start_time": "2024-10-17T09:51:30.348Z"
   },
   {
    "duration": 15,
    "start_time": "2024-10-17T09:51:30.475Z"
   },
   {
    "duration": 11,
    "start_time": "2024-10-17T09:51:30.500Z"
   },
   {
    "duration": 136,
    "start_time": "2024-10-17T09:51:30.513Z"
   },
   {
    "duration": 13,
    "start_time": "2024-10-17T09:51:30.651Z"
   },
   {
    "duration": 10,
    "start_time": "2024-10-17T09:51:30.665Z"
   },
   {
    "duration": 14,
    "start_time": "2024-10-17T09:51:30.677Z"
   },
   {
    "duration": 4,
    "start_time": "2024-10-17T09:51:30.693Z"
   },
   {
    "duration": 4,
    "start_time": "2024-10-17T09:51:30.698Z"
   },
   {
    "duration": 41,
    "start_time": "2024-10-17T09:51:30.703Z"
   },
   {
    "duration": 12,
    "start_time": "2024-10-17T09:51:30.745Z"
   },
   {
    "duration": 8,
    "start_time": "2024-10-17T09:51:30.758Z"
   },
   {
    "duration": 17,
    "start_time": "2024-10-17T09:51:30.768Z"
   },
   {
    "duration": 8,
    "start_time": "2024-10-17T09:51:30.786Z"
   },
   {
    "duration": 8,
    "start_time": "2024-10-17T09:51:30.796Z"
   },
   {
    "duration": 41,
    "start_time": "2024-10-17T09:51:30.806Z"
   },
   {
    "duration": 10,
    "start_time": "2024-10-17T09:51:30.850Z"
   },
   {
    "duration": 9,
    "start_time": "2024-10-17T09:51:30.862Z"
   },
   {
    "duration": 9,
    "start_time": "2024-10-17T09:51:30.872Z"
   },
   {
    "duration": 114,
    "start_time": "2024-10-17T09:51:30.882Z"
   },
   {
    "duration": 1463,
    "start_time": "2024-10-17T09:51:31.000Z"
   },
   {
    "duration": 317,
    "start_time": "2024-10-17T09:51:32.464Z"
   },
   {
    "duration": 4,
    "start_time": "2024-10-17T09:51:32.783Z"
   },
   {
    "duration": 98,
    "start_time": "2024-10-17T09:51:32.789Z"
   },
   {
    "duration": 5,
    "start_time": "2024-10-17T09:51:32.889Z"
   },
   {
    "duration": 8,
    "start_time": "2024-10-17T09:51:32.895Z"
   },
   {
    "duration": 106,
    "start_time": "2024-10-17T09:51:32.905Z"
   },
   {
    "duration": 4,
    "start_time": "2024-10-17T09:51:33.013Z"
   },
   {
    "duration": 8,
    "start_time": "2024-10-17T09:51:33.019Z"
   },
   {
    "duration": 79,
    "start_time": "2024-10-17T09:51:33.042Z"
   },
   {
    "duration": 728,
    "start_time": "2024-10-17T09:51:33.122Z"
   },
   {
    "duration": 2322,
    "start_time": "2024-10-17T09:51:33.852Z"
   },
   {
    "duration": 4,
    "start_time": "2024-10-17T09:51:36.176Z"
   },
   {
    "duration": 3,
    "start_time": "2024-10-17T09:51:36.182Z"
   },
   {
    "duration": 78396,
    "start_time": "2024-10-17T09:51:36.187Z"
   },
   {
    "duration": 0,
    "start_time": "2024-10-17T09:52:54.585Z"
   },
   {
    "duration": 0,
    "start_time": "2024-10-17T09:52:54.586Z"
   },
   {
    "duration": 0,
    "start_time": "2024-10-17T09:52:54.588Z"
   },
   {
    "duration": 0,
    "start_time": "2024-10-17T09:52:54.589Z"
   },
   {
    "duration": 0,
    "start_time": "2024-10-17T09:52:54.590Z"
   },
   {
    "duration": 0,
    "start_time": "2024-10-17T09:52:54.591Z"
   },
   {
    "duration": 0,
    "start_time": "2024-10-17T09:52:54.592Z"
   },
   {
    "duration": 0,
    "start_time": "2024-10-17T09:52:54.593Z"
   },
   {
    "duration": 0,
    "start_time": "2024-10-17T09:52:54.594Z"
   },
   {
    "duration": 0,
    "start_time": "2024-10-17T09:52:54.595Z"
   },
   {
    "duration": 0,
    "start_time": "2024-10-17T09:52:54.597Z"
   },
   {
    "duration": 1043,
    "start_time": "2024-10-17T09:53:53.886Z"
   },
   {
    "duration": 25,
    "start_time": "2024-10-17T09:53:54.931Z"
   },
   {
    "duration": 10,
    "start_time": "2024-10-17T09:53:54.960Z"
   },
   {
    "duration": 10,
    "start_time": "2024-10-17T09:53:54.972Z"
   },
   {
    "duration": 7,
    "start_time": "2024-10-17T09:53:54.983Z"
   },
   {
    "duration": 5,
    "start_time": "2024-10-17T09:53:54.992Z"
   },
   {
    "duration": 4,
    "start_time": "2024-10-17T09:53:54.999Z"
   },
   {
    "duration": 155,
    "start_time": "2024-10-17T09:53:55.005Z"
   },
   {
    "duration": 12,
    "start_time": "2024-10-17T09:53:55.162Z"
   },
   {
    "duration": 14,
    "start_time": "2024-10-17T09:53:55.178Z"
   },
   {
    "duration": 144,
    "start_time": "2024-10-17T09:53:55.194Z"
   },
   {
    "duration": 10,
    "start_time": "2024-10-17T09:53:55.342Z"
   },
   {
    "duration": 10,
    "start_time": "2024-10-17T09:53:55.354Z"
   },
   {
    "duration": 15,
    "start_time": "2024-10-17T09:53:55.365Z"
   },
   {
    "duration": 5,
    "start_time": "2024-10-17T09:53:55.382Z"
   },
   {
    "duration": 3,
    "start_time": "2024-10-17T09:53:55.389Z"
   },
   {
    "duration": 3,
    "start_time": "2024-10-17T09:53:55.394Z"
   },
   {
    "duration": 47,
    "start_time": "2024-10-17T09:53:55.399Z"
   },
   {
    "duration": 8,
    "start_time": "2024-10-17T09:53:55.448Z"
   },
   {
    "duration": 17,
    "start_time": "2024-10-17T09:53:55.458Z"
   },
   {
    "duration": 10,
    "start_time": "2024-10-17T09:53:55.476Z"
   },
   {
    "duration": 9,
    "start_time": "2024-10-17T09:53:55.487Z"
   },
   {
    "duration": 8,
    "start_time": "2024-10-17T09:53:55.497Z"
   },
   {
    "duration": 9,
    "start_time": "2024-10-17T09:53:55.542Z"
   },
   {
    "duration": 9,
    "start_time": "2024-10-17T09:53:55.554Z"
   },
   {
    "duration": 8,
    "start_time": "2024-10-17T09:53:55.565Z"
   },
   {
    "duration": 113,
    "start_time": "2024-10-17T09:53:55.575Z"
   },
   {
    "duration": 1797,
    "start_time": "2024-10-17T09:53:55.692Z"
   },
   {
    "duration": 317,
    "start_time": "2024-10-17T09:53:57.491Z"
   },
   {
    "duration": 3,
    "start_time": "2024-10-17T09:53:57.811Z"
   },
   {
    "duration": 103,
    "start_time": "2024-10-17T09:53:57.817Z"
   },
   {
    "duration": 4,
    "start_time": "2024-10-17T09:53:57.922Z"
   },
   {
    "duration": 20,
    "start_time": "2024-10-17T09:53:57.928Z"
   },
   {
    "duration": 78,
    "start_time": "2024-10-17T09:53:57.950Z"
   },
   {
    "duration": 4,
    "start_time": "2024-10-17T09:53:58.042Z"
   },
   {
    "duration": 9,
    "start_time": "2024-10-17T09:53:58.047Z"
   },
   {
    "duration": 91,
    "start_time": "2024-10-17T09:53:58.057Z"
   },
   {
    "duration": 776,
    "start_time": "2024-10-17T09:53:58.150Z"
   },
   {
    "duration": 2007,
    "start_time": "2024-10-17T09:53:58.928Z"
   },
   {
    "duration": 6,
    "start_time": "2024-10-17T09:54:00.937Z"
   },
   {
    "duration": 5,
    "start_time": "2024-10-17T09:54:00.945Z"
   },
   {
    "duration": 217806,
    "start_time": "2024-10-17T09:54:00.952Z"
   },
   {
    "duration": 5833,
    "start_time": "2024-10-17T09:57:38.760Z"
   },
   {
    "duration": 3,
    "start_time": "2024-10-17T09:57:44.594Z"
   },
   {
    "duration": 151869,
    "start_time": "2024-10-17T09:57:44.599Z"
   },
   {
    "duration": 0,
    "start_time": "2024-10-17T10:00:16.471Z"
   },
   {
    "duration": 0,
    "start_time": "2024-10-17T10:00:16.472Z"
   },
   {
    "duration": 0,
    "start_time": "2024-10-17T10:00:16.473Z"
   },
   {
    "duration": 0,
    "start_time": "2024-10-17T10:00:16.474Z"
   },
   {
    "duration": 0,
    "start_time": "2024-10-17T10:00:16.476Z"
   },
   {
    "duration": 0,
    "start_time": "2024-10-17T10:00:16.477Z"
   },
   {
    "duration": 0,
    "start_time": "2024-10-17T10:00:16.478Z"
   },
   {
    "duration": 0,
    "start_time": "2024-10-17T10:00:16.479Z"
   },
   {
    "duration": 0,
    "start_time": "2024-10-17T10:00:16.480Z"
   },
   {
    "duration": 3328,
    "start_time": "2024-10-17T10:00:21.572Z"
   },
   {
    "duration": 3,
    "start_time": "2024-10-17T10:00:27.576Z"
   },
   {
    "duration": 1073,
    "start_time": "2024-10-17T10:03:29.961Z"
   },
   {
    "duration": 29,
    "start_time": "2024-10-17T10:03:31.037Z"
   },
   {
    "duration": 11,
    "start_time": "2024-10-17T10:03:31.068Z"
   },
   {
    "duration": 12,
    "start_time": "2024-10-17T10:03:31.082Z"
   },
   {
    "duration": 7,
    "start_time": "2024-10-17T10:03:31.095Z"
   },
   {
    "duration": 7,
    "start_time": "2024-10-17T10:03:31.104Z"
   },
   {
    "duration": 8,
    "start_time": "2024-10-17T10:03:31.144Z"
   },
   {
    "duration": 134,
    "start_time": "2024-10-17T10:03:31.155Z"
   },
   {
    "duration": 16,
    "start_time": "2024-10-17T10:03:31.292Z"
   },
   {
    "duration": 14,
    "start_time": "2024-10-17T10:03:31.312Z"
   },
   {
    "duration": 221,
    "start_time": "2024-10-17T10:03:31.330Z"
   },
   {
    "duration": 13,
    "start_time": "2024-10-17T10:03:31.553Z"
   },
   {
    "duration": 11,
    "start_time": "2024-10-17T10:03:31.568Z"
   },
   {
    "duration": 15,
    "start_time": "2024-10-17T10:03:31.581Z"
   },
   {
    "duration": 5,
    "start_time": "2024-10-17T10:03:31.598Z"
   },
   {
    "duration": 38,
    "start_time": "2024-10-17T10:03:31.605Z"
   },
   {
    "duration": 8,
    "start_time": "2024-10-17T10:03:31.644Z"
   },
   {
    "duration": 11,
    "start_time": "2024-10-17T10:03:31.654Z"
   },
   {
    "duration": 11,
    "start_time": "2024-10-17T10:03:31.668Z"
   },
   {
    "duration": 27,
    "start_time": "2024-10-17T10:03:31.681Z"
   },
   {
    "duration": 32,
    "start_time": "2024-10-17T10:03:31.710Z"
   },
   {
    "duration": 9,
    "start_time": "2024-10-17T10:03:31.744Z"
   },
   {
    "duration": 10,
    "start_time": "2024-10-17T10:03:31.755Z"
   },
   {
    "duration": 9,
    "start_time": "2024-10-17T10:03:31.767Z"
   },
   {
    "duration": 8,
    "start_time": "2024-10-17T10:03:31.778Z"
   },
   {
    "duration": 8,
    "start_time": "2024-10-17T10:03:31.788Z"
   },
   {
    "duration": 128,
    "start_time": "2024-10-17T10:03:31.798Z"
   },
   {
    "duration": 1582,
    "start_time": "2024-10-17T10:03:31.942Z"
   },
   {
    "duration": 291,
    "start_time": "2024-10-17T10:03:33.525Z"
   },
   {
    "duration": 4,
    "start_time": "2024-10-17T10:03:33.818Z"
   },
   {
    "duration": 102,
    "start_time": "2024-10-17T10:03:33.823Z"
   },
   {
    "duration": 16,
    "start_time": "2024-10-17T10:03:33.927Z"
   },
   {
    "duration": 10,
    "start_time": "2024-10-17T10:03:33.945Z"
   },
   {
    "duration": 224,
    "start_time": "2024-10-17T10:03:33.958Z"
   },
   {
    "duration": 59,
    "start_time": "2024-10-17T10:03:34.184Z"
   },
   {
    "duration": 10,
    "start_time": "2024-10-17T10:03:34.245Z"
   },
   {
    "duration": 227,
    "start_time": "2024-10-17T10:03:34.257Z"
   },
   {
    "duration": 931,
    "start_time": "2024-10-17T10:03:34.486Z"
   },
   {
    "duration": 2015,
    "start_time": "2024-10-17T10:03:35.419Z"
   },
   {
    "duration": 7,
    "start_time": "2024-10-17T10:03:37.436Z"
   },
   {
    "duration": 3,
    "start_time": "2024-10-17T10:03:37.445Z"
   },
   {
    "duration": 218319,
    "start_time": "2024-10-17T10:03:37.450Z"
   },
   {
    "duration": 3371,
    "start_time": "2024-10-17T10:07:15.772Z"
   },
   {
    "duration": 3,
    "start_time": "2024-10-17T10:07:19.145Z"
   },
   {
    "duration": 1003388,
    "start_time": "2024-10-17T10:07:19.150Z"
   },
   {
    "duration": 20070,
    "start_time": "2024-10-17T10:24:02.542Z"
   },
   {
    "duration": 2,
    "start_time": "2024-10-17T10:24:22.615Z"
   },
   {
    "duration": 46292,
    "start_time": "2024-10-17T10:24:22.620Z"
   },
   {
    "duration": 509,
    "start_time": "2024-10-17T10:25:08.914Z"
   },
   {
    "duration": 4,
    "start_time": "2024-10-17T10:25:09.424Z"
   },
   {
    "duration": 165885,
    "start_time": "2024-10-17T10:25:09.430Z"
   },
   {
    "duration": 5977,
    "start_time": "2024-10-17T10:27:55.316Z"
   },
   {
    "duration": 3,
    "start_time": "2024-10-17T10:28:01.295Z"
   },
   {
    "duration": 6,
    "start_time": "2024-10-17T15:26:21.133Z"
   },
   {
    "duration": 154,
    "start_time": "2024-10-17T15:26:22.097Z"
   },
   {
    "duration": 2670,
    "start_time": "2024-10-17T15:26:39.427Z"
   },
   {
    "duration": 29,
    "start_time": "2024-10-17T15:26:42.099Z"
   },
   {
    "duration": 11,
    "start_time": "2024-10-17T15:26:42.130Z"
   },
   {
    "duration": 8,
    "start_time": "2024-10-17T15:26:42.143Z"
   },
   {
    "duration": 21,
    "start_time": "2024-10-17T15:26:42.152Z"
   },
   {
    "duration": 6,
    "start_time": "2024-10-17T15:26:42.176Z"
   },
   {
    "duration": 4,
    "start_time": "2024-10-17T15:26:42.183Z"
   },
   {
    "duration": 143,
    "start_time": "2024-10-17T15:26:42.190Z"
   },
   {
    "duration": 11,
    "start_time": "2024-10-17T15:26:42.335Z"
   },
   {
    "duration": 25,
    "start_time": "2024-10-17T15:26:42.349Z"
   },
   {
    "duration": 120,
    "start_time": "2024-10-17T15:26:42.376Z"
   },
   {
    "duration": 10,
    "start_time": "2024-10-17T15:26:42.498Z"
   },
   {
    "duration": 9,
    "start_time": "2024-10-17T15:26:42.510Z"
   },
   {
    "duration": 13,
    "start_time": "2024-10-17T15:26:42.521Z"
   },
   {
    "duration": 34,
    "start_time": "2024-10-17T15:26:42.536Z"
   },
   {
    "duration": 4,
    "start_time": "2024-10-17T15:26:42.572Z"
   },
   {
    "duration": 4,
    "start_time": "2024-10-17T15:26:42.577Z"
   },
   {
    "duration": 9,
    "start_time": "2024-10-17T15:26:42.583Z"
   },
   {
    "duration": 82,
    "start_time": "2024-10-17T15:26:42.594Z"
   },
   {
    "duration": 17,
    "start_time": "2024-10-17T15:26:42.677Z"
   },
   {
    "duration": 9,
    "start_time": "2024-10-17T15:26:42.695Z"
   },
   {
    "duration": 8,
    "start_time": "2024-10-17T15:26:42.707Z"
   },
   {
    "duration": 8,
    "start_time": "2024-10-17T15:26:42.717Z"
   },
   {
    "duration": 45,
    "start_time": "2024-10-17T15:26:42.726Z"
   },
   {
    "duration": 8,
    "start_time": "2024-10-17T15:26:42.773Z"
   },
   {
    "duration": 9,
    "start_time": "2024-10-17T15:26:42.784Z"
   },
   {
    "duration": 104,
    "start_time": "2024-10-17T15:26:42.795Z"
   },
   {
    "duration": 1503,
    "start_time": "2024-10-17T15:26:42.904Z"
   },
   {
    "duration": 322,
    "start_time": "2024-10-17T15:26:44.409Z"
   },
   {
    "duration": 3,
    "start_time": "2024-10-17T15:26:44.733Z"
   },
   {
    "duration": 101,
    "start_time": "2024-10-17T15:26:44.739Z"
   },
   {
    "duration": 4,
    "start_time": "2024-10-17T15:26:44.841Z"
   },
   {
    "duration": 8,
    "start_time": "2024-10-17T15:26:44.847Z"
   },
   {
    "duration": 89,
    "start_time": "2024-10-17T15:26:44.857Z"
   },
   {
    "duration": 4,
    "start_time": "2024-10-17T15:26:44.948Z"
   },
   {
    "duration": 9,
    "start_time": "2024-10-17T15:26:44.969Z"
   },
   {
    "duration": 93,
    "start_time": "2024-10-17T15:26:44.979Z"
   },
   {
    "duration": 787,
    "start_time": "2024-10-17T15:26:45.074Z"
   },
   {
    "duration": 2024,
    "start_time": "2024-10-17T15:26:45.863Z"
   },
   {
    "duration": 5,
    "start_time": "2024-10-17T15:26:47.888Z"
   },
   {
    "duration": 3,
    "start_time": "2024-10-17T15:26:47.895Z"
   },
   {
    "duration": 4635,
    "start_time": "2024-10-17T15:26:47.899Z"
   },
   {
    "duration": 0,
    "start_time": "2024-10-17T15:26:52.536Z"
   },
   {
    "duration": 0,
    "start_time": "2024-10-17T15:26:52.538Z"
   },
   {
    "duration": 0,
    "start_time": "2024-10-17T15:26:52.539Z"
   },
   {
    "duration": 0,
    "start_time": "2024-10-17T15:26:52.541Z"
   },
   {
    "duration": 0,
    "start_time": "2024-10-17T15:26:52.542Z"
   },
   {
    "duration": 0,
    "start_time": "2024-10-17T15:26:52.543Z"
   },
   {
    "duration": 0,
    "start_time": "2024-10-17T15:26:52.545Z"
   },
   {
    "duration": 0,
    "start_time": "2024-10-17T15:26:52.547Z"
   },
   {
    "duration": 0,
    "start_time": "2024-10-17T15:26:52.548Z"
   },
   {
    "duration": 0,
    "start_time": "2024-10-17T15:26:52.549Z"
   },
   {
    "duration": 0,
    "start_time": "2024-10-17T15:26:52.550Z"
   },
   {
    "duration": 4,
    "start_time": "2024-10-17T15:27:08.336Z"
   },
   {
    "duration": 3,
    "start_time": "2024-10-17T15:27:09.042Z"
   },
   {
    "duration": 5,
    "start_time": "2024-10-17T15:27:16.779Z"
   },
   {
    "duration": 3,
    "start_time": "2024-10-17T15:27:16.994Z"
   },
   {
    "duration": 3,
    "start_time": "2024-10-17T15:27:23.850Z"
   },
   {
    "duration": 4,
    "start_time": "2024-10-17T15:27:24.769Z"
   },
   {
    "duration": 3,
    "start_time": "2024-10-17T15:32:00.559Z"
   },
   {
    "duration": 3,
    "start_time": "2024-10-17T15:32:01.043Z"
   },
   {
    "duration": 3,
    "start_time": "2024-10-17T15:32:06.021Z"
   },
   {
    "duration": 4,
    "start_time": "2024-10-17T15:32:06.498Z"
   },
   {
    "duration": 3,
    "start_time": "2024-10-17T15:32:13.690Z"
   },
   {
    "duration": 3,
    "start_time": "2024-10-17T15:32:14.673Z"
   },
   {
    "duration": 3,
    "start_time": "2024-10-17T15:32:21.405Z"
   },
   {
    "duration": 3,
    "start_time": "2024-10-17T15:32:21.831Z"
   },
   {
    "duration": 4,
    "start_time": "2024-10-17T15:32:29.691Z"
   },
   {
    "duration": 3,
    "start_time": "2024-10-17T15:32:30.393Z"
   },
   {
    "duration": 4,
    "start_time": "2024-10-17T15:32:44.937Z"
   },
   {
    "duration": 3,
    "start_time": "2024-10-17T15:32:45.329Z"
   },
   {
    "duration": 5,
    "start_time": "2024-10-17T15:32:52.485Z"
   },
   {
    "duration": 3,
    "start_time": "2024-10-17T15:32:52.859Z"
   },
   {
    "duration": 4,
    "start_time": "2024-10-17T15:32:56.734Z"
   },
   {
    "duration": 3,
    "start_time": "2024-10-17T15:32:57.195Z"
   },
   {
    "duration": 3,
    "start_time": "2024-10-17T15:33:13.517Z"
   },
   {
    "duration": 3,
    "start_time": "2024-10-17T15:33:13.821Z"
   },
   {
    "duration": 3,
    "start_time": "2024-10-17T15:33:19.016Z"
   },
   {
    "duration": 3,
    "start_time": "2024-10-17T15:33:19.435Z"
   },
   {
    "duration": 4,
    "start_time": "2024-10-17T15:33:27.485Z"
   },
   {
    "duration": 3,
    "start_time": "2024-10-17T15:33:28.031Z"
   },
   {
    "duration": 5,
    "start_time": "2024-10-17T15:34:27.050Z"
   },
   {
    "duration": 3,
    "start_time": "2024-10-17T15:34:27.746Z"
   },
   {
    "duration": 4,
    "start_time": "2024-10-17T15:34:44.166Z"
   },
   {
    "duration": 3,
    "start_time": "2024-10-17T15:34:44.582Z"
   },
   {
    "duration": 4,
    "start_time": "2024-10-17T15:34:51.095Z"
   },
   {
    "duration": 3,
    "start_time": "2024-10-17T15:34:51.317Z"
   },
   {
    "duration": 5,
    "start_time": "2024-10-17T15:35:17.671Z"
   },
   {
    "duration": 3,
    "start_time": "2024-10-17T15:35:18.029Z"
   },
   {
    "duration": 4,
    "start_time": "2024-10-17T15:35:22.537Z"
   },
   {
    "duration": 3,
    "start_time": "2024-10-17T15:35:22.995Z"
   },
   {
    "duration": 3,
    "start_time": "2024-10-17T15:35:45.008Z"
   },
   {
    "duration": 3,
    "start_time": "2024-10-17T15:35:45.374Z"
   },
   {
    "duration": 4,
    "start_time": "2024-10-17T15:35:55.337Z"
   },
   {
    "duration": 3,
    "start_time": "2024-10-17T15:35:55.754Z"
   },
   {
    "duration": 4,
    "start_time": "2024-10-17T15:36:02.017Z"
   },
   {
    "duration": 3,
    "start_time": "2024-10-17T15:36:02.490Z"
   },
   {
    "duration": 3,
    "start_time": "2024-10-17T15:36:08.722Z"
   },
   {
    "duration": 3,
    "start_time": "2024-10-17T15:36:09.179Z"
   },
   {
    "duration": 4,
    "start_time": "2024-10-17T15:36:16.825Z"
   },
   {
    "duration": 3,
    "start_time": "2024-10-17T15:36:17.133Z"
   },
   {
    "duration": 4,
    "start_time": "2024-10-17T15:37:18.909Z"
   },
   {
    "duration": 3,
    "start_time": "2024-10-17T15:37:19.360Z"
   },
   {
    "duration": 3,
    "start_time": "2024-10-17T15:37:24.403Z"
   },
   {
    "duration": 4,
    "start_time": "2024-10-17T15:37:24.665Z"
   },
   {
    "duration": 4,
    "start_time": "2024-10-17T15:37:28.469Z"
   },
   {
    "duration": 3,
    "start_time": "2024-10-17T15:37:28.788Z"
   },
   {
    "duration": 4,
    "start_time": "2024-10-17T15:41:00.730Z"
   },
   {
    "duration": 3,
    "start_time": "2024-10-17T15:41:01.216Z"
   },
   {
    "duration": 7,
    "start_time": "2024-10-17T15:41:06.576Z"
   },
   {
    "duration": 3,
    "start_time": "2024-10-17T15:41:07.013Z"
   },
   {
    "duration": 4,
    "start_time": "2024-10-17T15:41:10.337Z"
   },
   {
    "duration": 4,
    "start_time": "2024-10-17T15:41:10.783Z"
   },
   {
    "duration": 4,
    "start_time": "2024-10-17T15:41:16.137Z"
   },
   {
    "duration": 3,
    "start_time": "2024-10-17T15:41:16.575Z"
   },
   {
    "duration": 4,
    "start_time": "2024-10-17T15:41:29.554Z"
   },
   {
    "duration": 3,
    "start_time": "2024-10-17T15:41:29.913Z"
   },
   {
    "duration": 1015,
    "start_time": "2024-10-17T15:43:54.431Z"
   },
   {
    "duration": 29,
    "start_time": "2024-10-17T15:43:55.448Z"
   },
   {
    "duration": 9,
    "start_time": "2024-10-17T15:43:55.479Z"
   },
   {
    "duration": 9,
    "start_time": "2024-10-17T15:43:55.491Z"
   },
   {
    "duration": 6,
    "start_time": "2024-10-17T15:43:55.501Z"
   },
   {
    "duration": 6,
    "start_time": "2024-10-17T15:43:55.508Z"
   },
   {
    "duration": 4,
    "start_time": "2024-10-17T15:43:55.516Z"
   },
   {
    "duration": 150,
    "start_time": "2024-10-17T15:43:55.523Z"
   },
   {
    "duration": 10,
    "start_time": "2024-10-17T15:43:55.675Z"
   },
   {
    "duration": 9,
    "start_time": "2024-10-17T15:43:55.689Z"
   },
   {
    "duration": 207,
    "start_time": "2024-10-17T15:43:55.700Z"
   },
   {
    "duration": 62,
    "start_time": "2024-10-17T15:43:55.909Z"
   },
   {
    "duration": 10,
    "start_time": "2024-10-17T15:43:55.973Z"
   },
   {
    "duration": 14,
    "start_time": "2024-10-17T15:43:55.984Z"
   },
   {
    "duration": 4,
    "start_time": "2024-10-17T15:43:56.000Z"
   },
   {
    "duration": 3,
    "start_time": "2024-10-17T15:43:56.005Z"
   },
   {
    "duration": 60,
    "start_time": "2024-10-17T15:43:56.010Z"
   },
   {
    "duration": 13,
    "start_time": "2024-10-17T15:43:56.072Z"
   },
   {
    "duration": 13,
    "start_time": "2024-10-17T15:43:56.087Z"
   },
   {
    "duration": 70,
    "start_time": "2024-10-17T15:43:56.102Z"
   },
   {
    "duration": 9,
    "start_time": "2024-10-17T15:43:56.174Z"
   },
   {
    "duration": 8,
    "start_time": "2024-10-17T15:43:56.185Z"
   },
   {
    "duration": 8,
    "start_time": "2024-10-17T15:43:56.195Z"
   },
   {
    "duration": 8,
    "start_time": "2024-10-17T15:43:56.204Z"
   },
   {
    "duration": 9,
    "start_time": "2024-10-17T15:43:56.271Z"
   },
   {
    "duration": 11,
    "start_time": "2024-10-17T15:43:56.282Z"
   },
   {
    "duration": 286,
    "start_time": "2024-10-17T15:43:56.294Z"
   },
   {
    "duration": 1506,
    "start_time": "2024-10-17T15:43:56.584Z"
   },
   {
    "duration": 307,
    "start_time": "2024-10-17T15:43:58.091Z"
   },
   {
    "duration": 3,
    "start_time": "2024-10-17T15:43:58.400Z"
   },
   {
    "duration": 102,
    "start_time": "2024-10-17T15:43:58.406Z"
   },
   {
    "duration": 3,
    "start_time": "2024-10-17T15:43:58.510Z"
   },
   {
    "duration": 8,
    "start_time": "2024-10-17T15:43:58.516Z"
   },
   {
    "duration": 102,
    "start_time": "2024-10-17T15:43:58.526Z"
   },
   {
    "duration": 3,
    "start_time": "2024-10-17T15:43:58.630Z"
   },
   {
    "duration": 8,
    "start_time": "2024-10-17T15:43:58.635Z"
   },
   {
    "duration": 96,
    "start_time": "2024-10-17T15:43:58.644Z"
   },
   {
    "duration": 764,
    "start_time": "2024-10-17T15:43:58.742Z"
   },
   {
    "duration": 2002,
    "start_time": "2024-10-17T15:43:59.508Z"
   },
   {
    "duration": 5,
    "start_time": "2024-10-17T15:44:01.511Z"
   },
   {
    "duration": 3,
    "start_time": "2024-10-17T15:44:01.517Z"
   },
   {
    "duration": 1583,
    "start_time": "2024-10-17T15:44:01.522Z"
   },
   {
    "duration": 0,
    "start_time": "2024-10-17T15:44:03.107Z"
   },
   {
    "duration": 0,
    "start_time": "2024-10-17T15:44:03.108Z"
   },
   {
    "duration": 0,
    "start_time": "2024-10-17T15:44:03.109Z"
   },
   {
    "duration": 0,
    "start_time": "2024-10-17T15:44:03.110Z"
   },
   {
    "duration": 0,
    "start_time": "2024-10-17T15:44:03.111Z"
   },
   {
    "duration": 0,
    "start_time": "2024-10-17T15:44:03.112Z"
   },
   {
    "duration": 0,
    "start_time": "2024-10-17T15:44:03.113Z"
   },
   {
    "duration": 0,
    "start_time": "2024-10-17T15:44:03.114Z"
   },
   {
    "duration": 0,
    "start_time": "2024-10-17T15:44:03.115Z"
   },
   {
    "duration": 0,
    "start_time": "2024-10-17T15:44:03.116Z"
   },
   {
    "duration": 0,
    "start_time": "2024-10-17T15:44:03.118Z"
   },
   {
    "duration": 111838,
    "start_time": "2024-10-17T15:59:47.409Z"
   },
   {
    "duration": 111950,
    "start_time": "2024-10-17T16:09:21.446Z"
   },
   {
    "duration": 112118,
    "start_time": "2024-10-17T16:16:15.832Z"
   },
   {
    "duration": 15,
    "start_time": "2024-10-17T16:19:38.198Z"
   },
   {
    "duration": 13,
    "start_time": "2024-10-17T16:20:00.921Z"
   },
   {
    "duration": 13,
    "start_time": "2024-10-17T16:20:24.579Z"
   },
   {
    "duration": 4,
    "start_time": "2024-10-17T16:20:36.836Z"
   },
   {
    "duration": 15,
    "start_time": "2024-10-17T16:20:43.272Z"
   },
   {
    "duration": 6,
    "start_time": "2024-10-17T16:21:20.722Z"
   },
   {
    "duration": 5,
    "start_time": "2024-10-17T16:21:36.073Z"
   },
   {
    "duration": 6,
    "start_time": "2024-10-17T16:21:42.555Z"
   },
   {
    "duration": 14,
    "start_time": "2024-10-17T16:21:57.463Z"
   },
   {
    "duration": 8,
    "start_time": "2024-10-17T16:24:41.788Z"
   },
   {
    "duration": 9,
    "start_time": "2024-10-17T16:24:49.027Z"
   },
   {
    "duration": 11,
    "start_time": "2024-10-17T16:26:16.685Z"
   },
   {
    "duration": 46,
    "start_time": "2024-10-17T16:33:47.026Z"
   },
   {
    "duration": 5,
    "start_time": "2024-10-17T16:33:58.241Z"
   },
   {
    "duration": 10,
    "start_time": "2024-10-17T16:34:08.013Z"
   },
   {
    "duration": 10,
    "start_time": "2024-10-17T16:34:13.042Z"
   },
   {
    "duration": 11,
    "start_time": "2024-10-17T16:34:20.883Z"
   },
   {
    "duration": 10,
    "start_time": "2024-10-17T16:34:32.234Z"
   },
   {
    "duration": 11,
    "start_time": "2024-10-17T16:34:53.609Z"
   },
   {
    "duration": 10,
    "start_time": "2024-10-17T16:34:56.503Z"
   },
   {
    "duration": 10,
    "start_time": "2024-10-17T16:35:15.602Z"
   },
   {
    "duration": 10,
    "start_time": "2024-10-17T16:35:25.987Z"
   },
   {
    "duration": 22,
    "start_time": "2024-10-17T16:35:30.869Z"
   },
   {
    "duration": 11,
    "start_time": "2024-10-17T16:35:35.687Z"
   },
   {
    "duration": 30674,
    "start_time": "2024-10-17T16:36:30.388Z"
   },
   {
    "duration": 213416,
    "start_time": "2024-10-17T16:37:17.900Z"
   },
   {
    "duration": 12,
    "start_time": "2024-10-17T16:41:28.454Z"
   },
   {
    "duration": 9,
    "start_time": "2024-10-17T16:41:39.355Z"
   },
   {
    "duration": 7,
    "start_time": "2024-10-17T16:42:33.288Z"
   },
   {
    "duration": 3,
    "start_time": "2024-10-17T16:45:30.192Z"
   },
   {
    "duration": 3362,
    "start_time": "2024-10-17T16:45:45.341Z"
   },
   {
    "duration": 3,
    "start_time": "2024-10-17T16:45:50.814Z"
   },
   {
    "duration": 11,
    "start_time": "2024-10-17T16:48:49.660Z"
   },
   {
    "duration": 10,
    "start_time": "2024-10-17T16:49:19.327Z"
   },
   {
    "duration": 2627,
    "start_time": "2024-10-17T19:08:44.277Z"
   },
   {
    "duration": 29,
    "start_time": "2024-10-17T19:08:46.907Z"
   },
   {
    "duration": 10,
    "start_time": "2024-10-17T19:08:46.937Z"
   },
   {
    "duration": 8,
    "start_time": "2024-10-17T19:08:46.949Z"
   },
   {
    "duration": 6,
    "start_time": "2024-10-17T19:08:46.959Z"
   },
   {
    "duration": 5,
    "start_time": "2024-10-17T19:08:46.967Z"
   },
   {
    "duration": 5,
    "start_time": "2024-10-17T19:08:46.973Z"
   },
   {
    "duration": 191,
    "start_time": "2024-10-17T19:08:46.979Z"
   },
   {
    "duration": 10,
    "start_time": "2024-10-17T19:08:47.172Z"
   },
   {
    "duration": 9,
    "start_time": "2024-10-17T19:08:47.186Z"
   },
   {
    "duration": 138,
    "start_time": "2024-10-17T19:08:47.197Z"
   },
   {
    "duration": 9,
    "start_time": "2024-10-17T19:08:47.338Z"
   },
   {
    "duration": 8,
    "start_time": "2024-10-17T19:08:47.350Z"
   },
   {
    "duration": 12,
    "start_time": "2024-10-17T19:08:47.360Z"
   },
   {
    "duration": 5,
    "start_time": "2024-10-17T19:08:47.374Z"
   },
   {
    "duration": 4,
    "start_time": "2024-10-17T19:08:47.380Z"
   },
   {
    "duration": 4,
    "start_time": "2024-10-17T19:08:47.385Z"
   },
   {
    "duration": 9,
    "start_time": "2024-10-17T19:08:47.425Z"
   },
   {
    "duration": 8,
    "start_time": "2024-10-17T19:08:47.435Z"
   },
   {
    "duration": 16,
    "start_time": "2024-10-17T19:08:47.445Z"
   },
   {
    "duration": 8,
    "start_time": "2024-10-17T19:08:47.463Z"
   },
   {
    "duration": 8,
    "start_time": "2024-10-17T19:08:47.472Z"
   },
   {
    "duration": 43,
    "start_time": "2024-10-17T19:08:47.482Z"
   },
   {
    "duration": 12,
    "start_time": "2024-10-17T19:08:47.532Z"
   },
   {
    "duration": 10,
    "start_time": "2024-10-17T19:08:47.546Z"
   },
   {
    "duration": 8,
    "start_time": "2024-10-17T19:08:47.558Z"
   },
   {
    "duration": 107,
    "start_time": "2024-10-17T19:08:47.567Z"
   },
   {
    "duration": 1848,
    "start_time": "2024-10-17T19:08:47.679Z"
   },
   {
    "duration": 274,
    "start_time": "2024-10-17T19:08:49.529Z"
   },
   {
    "duration": 21,
    "start_time": "2024-10-17T19:08:49.805Z"
   },
   {
    "duration": 97,
    "start_time": "2024-10-17T19:08:49.829Z"
   },
   {
    "duration": 4,
    "start_time": "2024-10-17T19:08:49.927Z"
   },
   {
    "duration": 7,
    "start_time": "2024-10-17T19:08:49.933Z"
   },
   {
    "duration": 92,
    "start_time": "2024-10-17T19:08:49.942Z"
   },
   {
    "duration": 3,
    "start_time": "2024-10-17T19:08:50.036Z"
   },
   {
    "duration": 7,
    "start_time": "2024-10-17T19:08:50.041Z"
   },
   {
    "duration": 92,
    "start_time": "2024-10-17T19:08:50.050Z"
   },
   {
    "duration": 760,
    "start_time": "2024-10-17T19:08:50.144Z"
   },
   {
    "duration": 1996,
    "start_time": "2024-10-17T19:08:50.905Z"
   },
   {
    "duration": 4,
    "start_time": "2024-10-17T19:08:52.902Z"
   },
   {
    "duration": 3,
    "start_time": "2024-10-17T19:08:52.908Z"
   },
   {
    "duration": 1561,
    "start_time": "2024-10-17T19:08:52.912Z"
   },
   {
    "duration": 0,
    "start_time": "2024-10-17T19:08:54.475Z"
   },
   {
    "duration": 0,
    "start_time": "2024-10-17T19:08:54.476Z"
   },
   {
    "duration": 0,
    "start_time": "2024-10-17T19:08:54.477Z"
   },
   {
    "duration": 0,
    "start_time": "2024-10-17T19:08:54.478Z"
   },
   {
    "duration": 0,
    "start_time": "2024-10-17T19:08:54.479Z"
   },
   {
    "duration": 0,
    "start_time": "2024-10-17T19:08:54.480Z"
   },
   {
    "duration": 0,
    "start_time": "2024-10-17T19:08:54.481Z"
   },
   {
    "duration": 0,
    "start_time": "2024-10-17T19:08:54.482Z"
   },
   {
    "duration": 0,
    "start_time": "2024-10-17T19:08:54.483Z"
   },
   {
    "duration": 0,
    "start_time": "2024-10-17T19:08:54.484Z"
   },
   {
    "duration": 0,
    "start_time": "2024-10-17T19:08:54.485Z"
   },
   {
    "duration": 0,
    "start_time": "2024-10-17T19:08:54.486Z"
   },
   {
    "duration": 0,
    "start_time": "2024-10-17T19:08:54.487Z"
   },
   {
    "duration": 0,
    "start_time": "2024-10-17T19:08:54.488Z"
   },
   {
    "duration": 0,
    "start_time": "2024-10-17T19:08:54.489Z"
   },
   {
    "duration": 0,
    "start_time": "2024-10-17T19:08:54.490Z"
   },
   {
    "duration": 0,
    "start_time": "2024-10-17T19:08:54.524Z"
   },
   {
    "duration": 0,
    "start_time": "2024-10-17T19:08:54.525Z"
   },
   {
    "duration": 0,
    "start_time": "2024-10-17T19:08:54.526Z"
   },
   {
    "duration": 217449,
    "start_time": "2024-10-17T19:16:24.116Z"
   },
   {
    "duration": 11,
    "start_time": "2024-10-17T19:20:15.719Z"
   },
   {
    "duration": 2,
    "start_time": "2024-10-17T19:20:33.635Z"
   },
   {
    "duration": 3404,
    "start_time": "2024-10-17T19:21:01.060Z"
   },
   {
    "duration": 17,
    "start_time": "2024-10-17T19:21:22.247Z"
   },
   {
    "duration": 3397,
    "start_time": "2024-10-17T19:22:35.535Z"
   },
   {
    "duration": 3921,
    "start_time": "2024-10-17T19:23:21.963Z"
   },
   {
    "duration": 7685,
    "start_time": "2024-10-17T19:24:25.128Z"
   },
   {
    "duration": 4,
    "start_time": "2024-10-17T20:19:10.043Z"
   },
   {
    "duration": 23030,
    "start_time": "2024-10-17T20:20:02.217Z"
   },
   {
    "duration": 4,
    "start_time": "2024-10-17T20:26:36.578Z"
   },
   {
    "duration": 15089,
    "start_time": "2024-10-17T20:26:37.182Z"
   },
   {
    "duration": 20442,
    "start_time": "2024-10-17T20:27:31.934Z"
   },
   {
    "duration": 14997,
    "start_time": "2024-10-17T20:28:36.808Z"
   },
   {
    "duration": 6255,
    "start_time": "2024-10-17T21:24:59.990Z"
   },
   {
    "duration": 47022,
    "start_time": "2024-10-17T21:25:37.872Z"
   },
   {
    "duration": 10,
    "start_time": "2024-10-17T21:26:36.878Z"
   },
   {
    "duration": 17,
    "start_time": "2024-10-17T21:26:43.740Z"
   },
   {
    "duration": 2,
    "start_time": "2024-10-17T21:26:46.487Z"
   },
   {
    "duration": 5,
    "start_time": "2024-10-17T21:38:46.828Z"
   },
   {
    "duration": 2962,
    "start_time": "2024-10-17T21:39:05.646Z"
   },
   {
    "duration": 667,
    "start_time": "2024-10-17T21:39:47.430Z"
   },
   {
    "duration": 3,
    "start_time": "2024-10-17T21:39:48.132Z"
   },
   {
    "duration": 7181,
    "start_time": "2024-10-17T22:08:47.845Z"
   },
   {
    "duration": 1175495,
    "start_time": "2024-10-17T22:09:09.109Z"
   },
   {
    "duration": 19,
    "start_time": "2024-10-17T22:30:12.279Z"
   },
   {
    "duration": 2,
    "start_time": "2024-10-17T22:30:17.961Z"
   },
   {
    "duration": 7,
    "start_time": "2024-10-17T22:42:45.962Z"
   },
   {
    "duration": 107875,
    "start_time": "2024-10-17T22:43:07.036Z"
   },
   {
    "duration": 30,
    "start_time": "2024-10-17T22:44:57.201Z"
   },
   {
    "duration": 31,
    "start_time": "2024-10-17T22:45:48.850Z"
   },
   {
    "duration": 199357,
    "start_time": "2024-10-17T23:00:49.950Z"
   },
   {
    "duration": 20,
    "start_time": "2024-10-17T23:04:26.067Z"
   },
   {
    "duration": 20,
    "start_time": "2024-10-17T23:04:31.293Z"
   },
   {
    "duration": 3,
    "start_time": "2024-10-17T23:04:34.583Z"
   },
   {
    "duration": 7,
    "start_time": "2024-10-17T23:07:30.011Z"
   },
   {
    "duration": 13903,
    "start_time": "2024-10-17T23:07:37.567Z"
   },
   {
    "duration": 18,
    "start_time": "2024-10-17T23:08:54.640Z"
   },
   {
    "duration": 16,
    "start_time": "2024-10-17T23:23:23.306Z"
   },
   {
    "duration": 16,
    "start_time": "2024-10-17T23:23:46.871Z"
   },
   {
    "duration": 9,
    "start_time": "2024-10-17T23:24:34.717Z"
   },
   {
    "duration": 8896,
    "start_time": "2024-10-17T23:30:55.676Z"
   },
   {
    "duration": 12412,
    "start_time": "2024-10-17T23:31:06.016Z"
   },
   {
    "duration": 8325,
    "start_time": "2024-10-17T23:32:42.901Z"
   },
   {
    "duration": 13234,
    "start_time": "2024-10-17T23:33:14.387Z"
   },
   {
    "duration": 12,
    "start_time": "2024-10-18T00:15:21.210Z"
   },
   {
    "duration": 833,
    "start_time": "2024-10-18T00:17:00.853Z"
   },
   {
    "duration": 9,
    "start_time": "2024-10-18T00:17:09.842Z"
   },
   {
    "duration": 14,
    "start_time": "2024-10-18T00:25:26.490Z"
   },
   {
    "duration": 1274,
    "start_time": "2024-10-18T00:25:43.664Z"
   },
   {
    "duration": 1389,
    "start_time": "2024-10-18T00:27:05.255Z"
   },
   {
    "duration": 1348,
    "start_time": "2024-10-18T00:29:33.033Z"
   },
   {
    "duration": 1299,
    "start_time": "2024-10-18T00:31:18.113Z"
   },
   {
    "duration": 1259,
    "start_time": "2024-10-18T00:31:38.917Z"
   },
   {
    "duration": 1368,
    "start_time": "2024-10-18T00:33:43.601Z"
   },
   {
    "duration": 1377,
    "start_time": "2024-10-18T00:35:53.047Z"
   },
   {
    "duration": 1380,
    "start_time": "2024-10-18T00:38:24.357Z"
   },
   {
    "duration": 2017,
    "start_time": "2024-10-18T00:46:25.815Z"
   },
   {
    "duration": 1837,
    "start_time": "2024-10-18T00:46:48.392Z"
   },
   {
    "duration": 2164,
    "start_time": "2024-10-18T00:48:46.245Z"
   },
   {
    "duration": 2062,
    "start_time": "2024-10-18T00:49:29.679Z"
   },
   {
    "duration": 2022,
    "start_time": "2024-10-18T00:49:42.145Z"
   },
   {
    "duration": 9,
    "start_time": "2024-10-18T00:52:29.379Z"
   },
   {
    "duration": 2136,
    "start_time": "2024-10-18T00:53:02.767Z"
   },
   {
    "duration": 2137,
    "start_time": "2024-10-18T00:53:38.746Z"
   },
   {
    "duration": 2137,
    "start_time": "2024-10-18T00:54:10.468Z"
   },
   {
    "duration": 1772,
    "start_time": "2024-10-18T00:54:32.800Z"
   },
   {
    "duration": 2018,
    "start_time": "2024-10-18T00:54:46.124Z"
   },
   {
    "duration": 2099,
    "start_time": "2024-10-18T00:55:12.145Z"
   },
   {
    "duration": 2142,
    "start_time": "2024-10-18T00:55:18.652Z"
   },
   {
    "duration": 7,
    "start_time": "2024-10-18T01:52:54.203Z"
   },
   {
    "duration": 6,
    "start_time": "2024-10-18T02:07:53.421Z"
   },
   {
    "duration": 4,
    "start_time": "2024-10-18T02:18:40.136Z"
   },
   {
    "duration": 4,
    "start_time": "2024-10-18T02:21:04.044Z"
   },
   {
    "duration": 4,
    "start_time": "2024-10-18T02:25:13.167Z"
   },
   {
    "duration": 4,
    "start_time": "2024-10-18T02:29:15.467Z"
   }
  ],
  "kernelspec": {
   "display_name": "Python 3 (ipykernel)",
   "language": "python",
   "name": "python3"
  },
  "language_info": {
   "codemirror_mode": {
    "name": "ipython",
    "version": 3
   },
   "file_extension": ".py",
   "mimetype": "text/x-python",
   "name": "python",
   "nbconvert_exporter": "python",
   "pygments_lexer": "ipython3",
   "version": "3.12.9"
  },
  "toc": {
   "base_numbering": "1",
   "nav_menu": {},
   "number_sections": true,
   "sideBar": true,
   "skip_h1_title": true,
   "title_cell": "Table of Contents",
   "title_sidebar": "CONTENIDO",
   "toc_cell": false,
   "toc_position": {
    "height": "calc(100% - 180px)",
    "left": "10px",
    "top": "150px",
    "width": "443px"
   },
   "toc_section_display": true,
   "toc_window_display": true
  }
 },
 "nbformat": 4,
 "nbformat_minor": 4
}
